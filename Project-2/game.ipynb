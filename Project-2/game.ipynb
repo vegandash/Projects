{
 "cells": [
  {
   "cell_type": "markdown",
   "metadata": {},
   "source": [
    "# Исследование рынка продаж игр "
   ]
  },
  {
   "cell_type": "markdown",
   "metadata": {},
   "source": [
    "Цель: выявить определяющие успешность игры закономерности. Это позволит сделать ставку на потенциально популярный продукт и спланировать рекламные кампании.\n"
   ]
  },
  {
   "cell_type": "markdown",
   "metadata": {},
   "source": [
    "В ходе исследования нужно проверить 2 гипотезы:\n",
    "- Средние пользовательские рейтинги платформ Xbox One и PC одинаковые;\n",
    "- Средние пользовательские рейтинги жанров Action (англ. «действие», экшен-игры) и Sports (англ. «спортивные соревнования») разные."
   ]
  },
  {
   "cell_type": "markdown",
   "metadata": {},
   "source": [
    "Описание данных:\n",
    "- Name — название игры\n",
    "- Platform — платформа\n",
    "- Year_of_Release — год выпуска\n",
    "- Genre — жанр игры\n",
    "- NA_sales — продажи в Северной Америке (миллионы проданных копий)\n",
    "- EU_sales — продажи в Европе (миллионы проданных копий)\n",
    "- JP_sales — продажи в Японии (миллионы проданных копий)\n",
    "- Other_sales — продажи в других странах (миллионы проданных копий)\n",
    "- Critic_Score — оценка критиков (максимум 100)\n",
    "- User_Score — оценка пользователей (максимум 10)\n",
    "- Rating — рейтинг от организации ESRB (англ. Entertainment Software Rating Board). Эта ассоциация определяет рейтинг компьютерных игр и присваивает им подходящую возрастную категорию."
   ]
  },
  {
   "cell_type": "markdown",
   "metadata": {},
   "source": [
    "### Открываем файл и изучаем общую информацию"
   ]
  },
  {
   "cell_type": "code",
   "execution_count": 1,
   "metadata": {},
   "outputs": [],
   "source": [
    "import pandas as pd\n",
    "import matplotlib.pyplot as plt\n",
    "%matplotlib inline\n",
    "import seaborn as sns\n",
    "import numpy as np\n",
    "from scipy import stats\n",
    "from scipy.stats import ttest_ind\n"
   ]
  },
  {
   "cell_type": "code",
   "execution_count": 2,
   "metadata": {},
   "outputs": [],
   "source": [
    "data = pd.read_csv('/datasets/games.csv', sep=',')\n",
    "pd.set_option('display.max_columns', None)"
   ]
  },
  {
   "cell_type": "code",
   "execution_count": 3,
   "metadata": {},
   "outputs": [
    {
     "data": {
      "text/html": [
       "<div>\n",
       "<style scoped>\n",
       "    .dataframe tbody tr th:only-of-type {\n",
       "        vertical-align: middle;\n",
       "    }\n",
       "\n",
       "    .dataframe tbody tr th {\n",
       "        vertical-align: top;\n",
       "    }\n",
       "\n",
       "    .dataframe thead th {\n",
       "        text-align: right;\n",
       "    }\n",
       "</style>\n",
       "<table border=\"1\" class=\"dataframe\">\n",
       "  <thead>\n",
       "    <tr style=\"text-align: right;\">\n",
       "      <th></th>\n",
       "      <th>Name</th>\n",
       "      <th>Platform</th>\n",
       "      <th>Year_of_Release</th>\n",
       "      <th>Genre</th>\n",
       "      <th>NA_sales</th>\n",
       "      <th>EU_sales</th>\n",
       "      <th>JP_sales</th>\n",
       "      <th>Other_sales</th>\n",
       "      <th>Critic_Score</th>\n",
       "      <th>User_Score</th>\n",
       "      <th>Rating</th>\n",
       "    </tr>\n",
       "  </thead>\n",
       "  <tbody>\n",
       "    <tr>\n",
       "      <th>0</th>\n",
       "      <td>Wii Sports</td>\n",
       "      <td>Wii</td>\n",
       "      <td>2006.0</td>\n",
       "      <td>Sports</td>\n",
       "      <td>41.36</td>\n",
       "      <td>28.96</td>\n",
       "      <td>3.77</td>\n",
       "      <td>8.45</td>\n",
       "      <td>76.0</td>\n",
       "      <td>8</td>\n",
       "      <td>E</td>\n",
       "    </tr>\n",
       "    <tr>\n",
       "      <th>1</th>\n",
       "      <td>Super Mario Bros.</td>\n",
       "      <td>NES</td>\n",
       "      <td>1985.0</td>\n",
       "      <td>Platform</td>\n",
       "      <td>29.08</td>\n",
       "      <td>3.58</td>\n",
       "      <td>6.81</td>\n",
       "      <td>0.77</td>\n",
       "      <td>NaN</td>\n",
       "      <td>NaN</td>\n",
       "      <td>NaN</td>\n",
       "    </tr>\n",
       "    <tr>\n",
       "      <th>2</th>\n",
       "      <td>Mario Kart Wii</td>\n",
       "      <td>Wii</td>\n",
       "      <td>2008.0</td>\n",
       "      <td>Racing</td>\n",
       "      <td>15.68</td>\n",
       "      <td>12.76</td>\n",
       "      <td>3.79</td>\n",
       "      <td>3.29</td>\n",
       "      <td>82.0</td>\n",
       "      <td>8.3</td>\n",
       "      <td>E</td>\n",
       "    </tr>\n",
       "    <tr>\n",
       "      <th>3</th>\n",
       "      <td>Wii Sports Resort</td>\n",
       "      <td>Wii</td>\n",
       "      <td>2009.0</td>\n",
       "      <td>Sports</td>\n",
       "      <td>15.61</td>\n",
       "      <td>10.93</td>\n",
       "      <td>3.28</td>\n",
       "      <td>2.95</td>\n",
       "      <td>80.0</td>\n",
       "      <td>8</td>\n",
       "      <td>E</td>\n",
       "    </tr>\n",
       "    <tr>\n",
       "      <th>4</th>\n",
       "      <td>Pokemon Red/Pokemon Blue</td>\n",
       "      <td>GB</td>\n",
       "      <td>1996.0</td>\n",
       "      <td>Role-Playing</td>\n",
       "      <td>11.27</td>\n",
       "      <td>8.89</td>\n",
       "      <td>10.22</td>\n",
       "      <td>1.00</td>\n",
       "      <td>NaN</td>\n",
       "      <td>NaN</td>\n",
       "      <td>NaN</td>\n",
       "    </tr>\n",
       "    <tr>\n",
       "      <th>...</th>\n",
       "      <td>...</td>\n",
       "      <td>...</td>\n",
       "      <td>...</td>\n",
       "      <td>...</td>\n",
       "      <td>...</td>\n",
       "      <td>...</td>\n",
       "      <td>...</td>\n",
       "      <td>...</td>\n",
       "      <td>...</td>\n",
       "      <td>...</td>\n",
       "      <td>...</td>\n",
       "    </tr>\n",
       "    <tr>\n",
       "      <th>16710</th>\n",
       "      <td>Samurai Warriors: Sanada Maru</td>\n",
       "      <td>PS3</td>\n",
       "      <td>2016.0</td>\n",
       "      <td>Action</td>\n",
       "      <td>0.00</td>\n",
       "      <td>0.00</td>\n",
       "      <td>0.01</td>\n",
       "      <td>0.00</td>\n",
       "      <td>NaN</td>\n",
       "      <td>NaN</td>\n",
       "      <td>NaN</td>\n",
       "    </tr>\n",
       "    <tr>\n",
       "      <th>16711</th>\n",
       "      <td>LMA Manager 2007</td>\n",
       "      <td>X360</td>\n",
       "      <td>2006.0</td>\n",
       "      <td>Sports</td>\n",
       "      <td>0.00</td>\n",
       "      <td>0.01</td>\n",
       "      <td>0.00</td>\n",
       "      <td>0.00</td>\n",
       "      <td>NaN</td>\n",
       "      <td>NaN</td>\n",
       "      <td>NaN</td>\n",
       "    </tr>\n",
       "    <tr>\n",
       "      <th>16712</th>\n",
       "      <td>Haitaka no Psychedelica</td>\n",
       "      <td>PSV</td>\n",
       "      <td>2016.0</td>\n",
       "      <td>Adventure</td>\n",
       "      <td>0.00</td>\n",
       "      <td>0.00</td>\n",
       "      <td>0.01</td>\n",
       "      <td>0.00</td>\n",
       "      <td>NaN</td>\n",
       "      <td>NaN</td>\n",
       "      <td>NaN</td>\n",
       "    </tr>\n",
       "    <tr>\n",
       "      <th>16713</th>\n",
       "      <td>Spirits &amp; Spells</td>\n",
       "      <td>GBA</td>\n",
       "      <td>2003.0</td>\n",
       "      <td>Platform</td>\n",
       "      <td>0.01</td>\n",
       "      <td>0.00</td>\n",
       "      <td>0.00</td>\n",
       "      <td>0.00</td>\n",
       "      <td>NaN</td>\n",
       "      <td>NaN</td>\n",
       "      <td>NaN</td>\n",
       "    </tr>\n",
       "    <tr>\n",
       "      <th>16714</th>\n",
       "      <td>Winning Post 8 2016</td>\n",
       "      <td>PSV</td>\n",
       "      <td>2016.0</td>\n",
       "      <td>Simulation</td>\n",
       "      <td>0.00</td>\n",
       "      <td>0.00</td>\n",
       "      <td>0.01</td>\n",
       "      <td>0.00</td>\n",
       "      <td>NaN</td>\n",
       "      <td>NaN</td>\n",
       "      <td>NaN</td>\n",
       "    </tr>\n",
       "  </tbody>\n",
       "</table>\n",
       "<p>16715 rows × 11 columns</p>\n",
       "</div>"
      ],
      "text/plain": [
       "                                Name Platform  Year_of_Release         Genre  \\\n",
       "0                         Wii Sports      Wii           2006.0        Sports   \n",
       "1                  Super Mario Bros.      NES           1985.0      Platform   \n",
       "2                     Mario Kart Wii      Wii           2008.0        Racing   \n",
       "3                  Wii Sports Resort      Wii           2009.0        Sports   \n",
       "4           Pokemon Red/Pokemon Blue       GB           1996.0  Role-Playing   \n",
       "...                              ...      ...              ...           ...   \n",
       "16710  Samurai Warriors: Sanada Maru      PS3           2016.0        Action   \n",
       "16711               LMA Manager 2007     X360           2006.0        Sports   \n",
       "16712        Haitaka no Psychedelica      PSV           2016.0     Adventure   \n",
       "16713               Spirits & Spells      GBA           2003.0      Platform   \n",
       "16714            Winning Post 8 2016      PSV           2016.0    Simulation   \n",
       "\n",
       "       NA_sales  EU_sales  JP_sales  Other_sales  Critic_Score User_Score  \\\n",
       "0         41.36     28.96      3.77         8.45          76.0          8   \n",
       "1         29.08      3.58      6.81         0.77           NaN        NaN   \n",
       "2         15.68     12.76      3.79         3.29          82.0        8.3   \n",
       "3         15.61     10.93      3.28         2.95          80.0          8   \n",
       "4         11.27      8.89     10.22         1.00           NaN        NaN   \n",
       "...         ...       ...       ...          ...           ...        ...   \n",
       "16710      0.00      0.00      0.01         0.00           NaN        NaN   \n",
       "16711      0.00      0.01      0.00         0.00           NaN        NaN   \n",
       "16712      0.00      0.00      0.01         0.00           NaN        NaN   \n",
       "16713      0.01      0.00      0.00         0.00           NaN        NaN   \n",
       "16714      0.00      0.00      0.01         0.00           NaN        NaN   \n",
       "\n",
       "      Rating  \n",
       "0          E  \n",
       "1        NaN  \n",
       "2          E  \n",
       "3          E  \n",
       "4        NaN  \n",
       "...      ...  \n",
       "16710    NaN  \n",
       "16711    NaN  \n",
       "16712    NaN  \n",
       "16713    NaN  \n",
       "16714    NaN  \n",
       "\n",
       "[16715 rows x 11 columns]"
      ]
     },
     "execution_count": 3,
     "metadata": {},
     "output_type": "execute_result"
    }
   ],
   "source": [
    "data"
   ]
  },
  {
   "cell_type": "code",
   "execution_count": 4,
   "metadata": {},
   "outputs": [
    {
     "name": "stdout",
     "output_type": "stream",
     "text": [
      "<class 'pandas.core.frame.DataFrame'>\n",
      "RangeIndex: 16715 entries, 0 to 16714\n",
      "Data columns (total 11 columns):\n",
      " #   Column           Non-Null Count  Dtype  \n",
      "---  ------           --------------  -----  \n",
      " 0   Name             16713 non-null  object \n",
      " 1   Platform         16715 non-null  object \n",
      " 2   Year_of_Release  16446 non-null  float64\n",
      " 3   Genre            16713 non-null  object \n",
      " 4   NA_sales         16715 non-null  float64\n",
      " 5   EU_sales         16715 non-null  float64\n",
      " 6   JP_sales         16715 non-null  float64\n",
      " 7   Other_sales      16715 non-null  float64\n",
      " 8   Critic_Score     8137 non-null   float64\n",
      " 9   User_Score       10014 non-null  object \n",
      " 10  Rating           9949 non-null   object \n",
      "dtypes: float64(6), object(5)\n",
      "memory usage: 1.4+ MB\n"
     ]
    }
   ],
   "source": [
    "data.info()"
   ]
  },
  {
   "cell_type": "code",
   "execution_count": 5,
   "metadata": {},
   "outputs": [
    {
     "data": {
      "text/html": [
       "<div>\n",
       "<style scoped>\n",
       "    .dataframe tbody tr th:only-of-type {\n",
       "        vertical-align: middle;\n",
       "    }\n",
       "\n",
       "    .dataframe tbody tr th {\n",
       "        vertical-align: top;\n",
       "    }\n",
       "\n",
       "    .dataframe thead th {\n",
       "        text-align: right;\n",
       "    }\n",
       "</style>\n",
       "<table border=\"1\" class=\"dataframe\">\n",
       "  <thead>\n",
       "    <tr style=\"text-align: right;\">\n",
       "      <th></th>\n",
       "      <th>Year_of_Release</th>\n",
       "      <th>NA_sales</th>\n",
       "      <th>EU_sales</th>\n",
       "      <th>JP_sales</th>\n",
       "      <th>Other_sales</th>\n",
       "      <th>Critic_Score</th>\n",
       "    </tr>\n",
       "  </thead>\n",
       "  <tbody>\n",
       "    <tr>\n",
       "      <th>count</th>\n",
       "      <td>16446.000000</td>\n",
       "      <td>16715.000000</td>\n",
       "      <td>16715.000000</td>\n",
       "      <td>16715.000000</td>\n",
       "      <td>16715.000000</td>\n",
       "      <td>8137.000000</td>\n",
       "    </tr>\n",
       "    <tr>\n",
       "      <th>mean</th>\n",
       "      <td>2006.484616</td>\n",
       "      <td>0.263377</td>\n",
       "      <td>0.145060</td>\n",
       "      <td>0.077617</td>\n",
       "      <td>0.047342</td>\n",
       "      <td>68.967679</td>\n",
       "    </tr>\n",
       "    <tr>\n",
       "      <th>std</th>\n",
       "      <td>5.877050</td>\n",
       "      <td>0.813604</td>\n",
       "      <td>0.503339</td>\n",
       "      <td>0.308853</td>\n",
       "      <td>0.186731</td>\n",
       "      <td>13.938165</td>\n",
       "    </tr>\n",
       "    <tr>\n",
       "      <th>min</th>\n",
       "      <td>1980.000000</td>\n",
       "      <td>0.000000</td>\n",
       "      <td>0.000000</td>\n",
       "      <td>0.000000</td>\n",
       "      <td>0.000000</td>\n",
       "      <td>13.000000</td>\n",
       "    </tr>\n",
       "    <tr>\n",
       "      <th>25%</th>\n",
       "      <td>2003.000000</td>\n",
       "      <td>0.000000</td>\n",
       "      <td>0.000000</td>\n",
       "      <td>0.000000</td>\n",
       "      <td>0.000000</td>\n",
       "      <td>60.000000</td>\n",
       "    </tr>\n",
       "    <tr>\n",
       "      <th>50%</th>\n",
       "      <td>2007.000000</td>\n",
       "      <td>0.080000</td>\n",
       "      <td>0.020000</td>\n",
       "      <td>0.000000</td>\n",
       "      <td>0.010000</td>\n",
       "      <td>71.000000</td>\n",
       "    </tr>\n",
       "    <tr>\n",
       "      <th>75%</th>\n",
       "      <td>2010.000000</td>\n",
       "      <td>0.240000</td>\n",
       "      <td>0.110000</td>\n",
       "      <td>0.040000</td>\n",
       "      <td>0.030000</td>\n",
       "      <td>79.000000</td>\n",
       "    </tr>\n",
       "    <tr>\n",
       "      <th>max</th>\n",
       "      <td>2016.000000</td>\n",
       "      <td>41.360000</td>\n",
       "      <td>28.960000</td>\n",
       "      <td>10.220000</td>\n",
       "      <td>10.570000</td>\n",
       "      <td>98.000000</td>\n",
       "    </tr>\n",
       "  </tbody>\n",
       "</table>\n",
       "</div>"
      ],
      "text/plain": [
       "       Year_of_Release      NA_sales      EU_sales      JP_sales  \\\n",
       "count     16446.000000  16715.000000  16715.000000  16715.000000   \n",
       "mean       2006.484616      0.263377      0.145060      0.077617   \n",
       "std           5.877050      0.813604      0.503339      0.308853   \n",
       "min        1980.000000      0.000000      0.000000      0.000000   \n",
       "25%        2003.000000      0.000000      0.000000      0.000000   \n",
       "50%        2007.000000      0.080000      0.020000      0.000000   \n",
       "75%        2010.000000      0.240000      0.110000      0.040000   \n",
       "max        2016.000000     41.360000     28.960000     10.220000   \n",
       "\n",
       "        Other_sales  Critic_Score  \n",
       "count  16715.000000   8137.000000  \n",
       "mean       0.047342     68.967679  \n",
       "std        0.186731     13.938165  \n",
       "min        0.000000     13.000000  \n",
       "25%        0.000000     60.000000  \n",
       "50%        0.010000     71.000000  \n",
       "75%        0.030000     79.000000  \n",
       "max       10.570000     98.000000  "
      ]
     },
     "execution_count": 5,
     "metadata": {},
     "output_type": "execute_result"
    }
   ],
   "source": [
    "data.describe()"
   ]
  },
  {
   "cell_type": "markdown",
   "metadata": {},
   "source": [
    "#### Вывод о сырых данных"
   ]
  },
  {
   "cell_type": "markdown",
   "metadata": {},
   "source": [
    "**Мы видим датафрейм из 11 колонок и 16715 строк. У всех колонок нарушен стиль наименований, нужно привести к нижнему регистру, также у колонок Year_of_Release и User_Score нужно поменять тип данных на int и float. Пропусков не очень много, но они есть, дальше будем смотреть что с ними делать. Вызвав метод describe, не видим каких-то аномалий.**"
   ]
  },
  {
   "cell_type": "markdown",
   "metadata": {},
   "source": [
    "### Предобработка данных"
   ]
  },
  {
   "cell_type": "code",
   "execution_count": 6,
   "metadata": {},
   "outputs": [
    {
     "data": {
      "text/html": [
       "<div>\n",
       "<style scoped>\n",
       "    .dataframe tbody tr th:only-of-type {\n",
       "        vertical-align: middle;\n",
       "    }\n",
       "\n",
       "    .dataframe tbody tr th {\n",
       "        vertical-align: top;\n",
       "    }\n",
       "\n",
       "    .dataframe thead th {\n",
       "        text-align: right;\n",
       "    }\n",
       "</style>\n",
       "<table border=\"1\" class=\"dataframe\">\n",
       "  <thead>\n",
       "    <tr style=\"text-align: right;\">\n",
       "      <th></th>\n",
       "      <th>name</th>\n",
       "      <th>platform</th>\n",
       "      <th>year_of_release</th>\n",
       "      <th>genre</th>\n",
       "      <th>na_sales</th>\n",
       "      <th>eu_sales</th>\n",
       "      <th>jp_sales</th>\n",
       "      <th>other_sales</th>\n",
       "      <th>critic_score</th>\n",
       "      <th>user_score</th>\n",
       "      <th>rating</th>\n",
       "    </tr>\n",
       "  </thead>\n",
       "  <tbody>\n",
       "    <tr>\n",
       "      <th>0</th>\n",
       "      <td>Wii Sports</td>\n",
       "      <td>Wii</td>\n",
       "      <td>2006.0</td>\n",
       "      <td>Sports</td>\n",
       "      <td>41.36</td>\n",
       "      <td>28.96</td>\n",
       "      <td>3.77</td>\n",
       "      <td>8.45</td>\n",
       "      <td>76.0</td>\n",
       "      <td>8</td>\n",
       "      <td>E</td>\n",
       "    </tr>\n",
       "    <tr>\n",
       "      <th>1</th>\n",
       "      <td>Super Mario Bros.</td>\n",
       "      <td>NES</td>\n",
       "      <td>1985.0</td>\n",
       "      <td>Platform</td>\n",
       "      <td>29.08</td>\n",
       "      <td>3.58</td>\n",
       "      <td>6.81</td>\n",
       "      <td>0.77</td>\n",
       "      <td>NaN</td>\n",
       "      <td>NaN</td>\n",
       "      <td>NaN</td>\n",
       "    </tr>\n",
       "    <tr>\n",
       "      <th>2</th>\n",
       "      <td>Mario Kart Wii</td>\n",
       "      <td>Wii</td>\n",
       "      <td>2008.0</td>\n",
       "      <td>Racing</td>\n",
       "      <td>15.68</td>\n",
       "      <td>12.76</td>\n",
       "      <td>3.79</td>\n",
       "      <td>3.29</td>\n",
       "      <td>82.0</td>\n",
       "      <td>8.3</td>\n",
       "      <td>E</td>\n",
       "    </tr>\n",
       "    <tr>\n",
       "      <th>3</th>\n",
       "      <td>Wii Sports Resort</td>\n",
       "      <td>Wii</td>\n",
       "      <td>2009.0</td>\n",
       "      <td>Sports</td>\n",
       "      <td>15.61</td>\n",
       "      <td>10.93</td>\n",
       "      <td>3.28</td>\n",
       "      <td>2.95</td>\n",
       "      <td>80.0</td>\n",
       "      <td>8</td>\n",
       "      <td>E</td>\n",
       "    </tr>\n",
       "    <tr>\n",
       "      <th>4</th>\n",
       "      <td>Pokemon Red/Pokemon Blue</td>\n",
       "      <td>GB</td>\n",
       "      <td>1996.0</td>\n",
       "      <td>Role-Playing</td>\n",
       "      <td>11.27</td>\n",
       "      <td>8.89</td>\n",
       "      <td>10.22</td>\n",
       "      <td>1.00</td>\n",
       "      <td>NaN</td>\n",
       "      <td>NaN</td>\n",
       "      <td>NaN</td>\n",
       "    </tr>\n",
       "    <tr>\n",
       "      <th>...</th>\n",
       "      <td>...</td>\n",
       "      <td>...</td>\n",
       "      <td>...</td>\n",
       "      <td>...</td>\n",
       "      <td>...</td>\n",
       "      <td>...</td>\n",
       "      <td>...</td>\n",
       "      <td>...</td>\n",
       "      <td>...</td>\n",
       "      <td>...</td>\n",
       "      <td>...</td>\n",
       "    </tr>\n",
       "    <tr>\n",
       "      <th>16710</th>\n",
       "      <td>Samurai Warriors: Sanada Maru</td>\n",
       "      <td>PS3</td>\n",
       "      <td>2016.0</td>\n",
       "      <td>Action</td>\n",
       "      <td>0.00</td>\n",
       "      <td>0.00</td>\n",
       "      <td>0.01</td>\n",
       "      <td>0.00</td>\n",
       "      <td>NaN</td>\n",
       "      <td>NaN</td>\n",
       "      <td>NaN</td>\n",
       "    </tr>\n",
       "    <tr>\n",
       "      <th>16711</th>\n",
       "      <td>LMA Manager 2007</td>\n",
       "      <td>X360</td>\n",
       "      <td>2006.0</td>\n",
       "      <td>Sports</td>\n",
       "      <td>0.00</td>\n",
       "      <td>0.01</td>\n",
       "      <td>0.00</td>\n",
       "      <td>0.00</td>\n",
       "      <td>NaN</td>\n",
       "      <td>NaN</td>\n",
       "      <td>NaN</td>\n",
       "    </tr>\n",
       "    <tr>\n",
       "      <th>16712</th>\n",
       "      <td>Haitaka no Psychedelica</td>\n",
       "      <td>PSV</td>\n",
       "      <td>2016.0</td>\n",
       "      <td>Adventure</td>\n",
       "      <td>0.00</td>\n",
       "      <td>0.00</td>\n",
       "      <td>0.01</td>\n",
       "      <td>0.00</td>\n",
       "      <td>NaN</td>\n",
       "      <td>NaN</td>\n",
       "      <td>NaN</td>\n",
       "    </tr>\n",
       "    <tr>\n",
       "      <th>16713</th>\n",
       "      <td>Spirits &amp; Spells</td>\n",
       "      <td>GBA</td>\n",
       "      <td>2003.0</td>\n",
       "      <td>Platform</td>\n",
       "      <td>0.01</td>\n",
       "      <td>0.00</td>\n",
       "      <td>0.00</td>\n",
       "      <td>0.00</td>\n",
       "      <td>NaN</td>\n",
       "      <td>NaN</td>\n",
       "      <td>NaN</td>\n",
       "    </tr>\n",
       "    <tr>\n",
       "      <th>16714</th>\n",
       "      <td>Winning Post 8 2016</td>\n",
       "      <td>PSV</td>\n",
       "      <td>2016.0</td>\n",
       "      <td>Simulation</td>\n",
       "      <td>0.00</td>\n",
       "      <td>0.00</td>\n",
       "      <td>0.01</td>\n",
       "      <td>0.00</td>\n",
       "      <td>NaN</td>\n",
       "      <td>NaN</td>\n",
       "      <td>NaN</td>\n",
       "    </tr>\n",
       "  </tbody>\n",
       "</table>\n",
       "<p>16715 rows × 11 columns</p>\n",
       "</div>"
      ],
      "text/plain": [
       "                                name platform  year_of_release         genre  \\\n",
       "0                         Wii Sports      Wii           2006.0        Sports   \n",
       "1                  Super Mario Bros.      NES           1985.0      Platform   \n",
       "2                     Mario Kart Wii      Wii           2008.0        Racing   \n",
       "3                  Wii Sports Resort      Wii           2009.0        Sports   \n",
       "4           Pokemon Red/Pokemon Blue       GB           1996.0  Role-Playing   \n",
       "...                              ...      ...              ...           ...   \n",
       "16710  Samurai Warriors: Sanada Maru      PS3           2016.0        Action   \n",
       "16711               LMA Manager 2007     X360           2006.0        Sports   \n",
       "16712        Haitaka no Psychedelica      PSV           2016.0     Adventure   \n",
       "16713               Spirits & Spells      GBA           2003.0      Platform   \n",
       "16714            Winning Post 8 2016      PSV           2016.0    Simulation   \n",
       "\n",
       "       na_sales  eu_sales  jp_sales  other_sales  critic_score user_score  \\\n",
       "0         41.36     28.96      3.77         8.45          76.0          8   \n",
       "1         29.08      3.58      6.81         0.77           NaN        NaN   \n",
       "2         15.68     12.76      3.79         3.29          82.0        8.3   \n",
       "3         15.61     10.93      3.28         2.95          80.0          8   \n",
       "4         11.27      8.89     10.22         1.00           NaN        NaN   \n",
       "...         ...       ...       ...          ...           ...        ...   \n",
       "16710      0.00      0.00      0.01         0.00           NaN        NaN   \n",
       "16711      0.00      0.01      0.00         0.00           NaN        NaN   \n",
       "16712      0.00      0.00      0.01         0.00           NaN        NaN   \n",
       "16713      0.01      0.00      0.00         0.00           NaN        NaN   \n",
       "16714      0.00      0.00      0.01         0.00           NaN        NaN   \n",
       "\n",
       "      rating  \n",
       "0          E  \n",
       "1        NaN  \n",
       "2          E  \n",
       "3          E  \n",
       "4        NaN  \n",
       "...      ...  \n",
       "16710    NaN  \n",
       "16711    NaN  \n",
       "16712    NaN  \n",
       "16713    NaN  \n",
       "16714    NaN  \n",
       "\n",
       "[16715 rows x 11 columns]"
      ]
     },
     "execution_count": 6,
     "metadata": {},
     "output_type": "execute_result"
    }
   ],
   "source": [
    "#Преводим названия колонок к нижнему регистру\n",
    "data.columns = data.columns.str.lower()\n",
    "data"
   ]
  },
  {
   "cell_type": "code",
   "execution_count": 7,
   "metadata": {},
   "outputs": [],
   "source": [
    "#Меняем типы данных в столбцах\n",
    "data['year_of_release'] = np.floor(pd.to_numeric(data['year_of_release'], errors='coerce')).astype('Int64')"
   ]
  },
  {
   "cell_type": "code",
   "execution_count": 8,
   "metadata": {},
   "outputs": [
    {
     "data": {
      "text/plain": [
       "array(['8', nan, '8.3', '8.5', '6.6', '8.4', '8.6', '7.7', '6.3', '7.4',\n",
       "       '8.2', '9', '7.9', '8.1', '8.7', '7.1', '3.4', '5.3', '4.8', '3.2',\n",
       "       '8.9', '6.4', '7.8', '7.5', '2.6', '7.2', '9.2', '7', '7.3', '4.3',\n",
       "       '7.6', '5.7', '5', '9.1', '6.5', 'tbd', '8.8', '6.9', '9.4', '6.8',\n",
       "       '6.1', '6.7', '5.4', '4', '4.9', '4.5', '9.3', '6.2', '4.2', '6',\n",
       "       '3.7', '4.1', '5.8', '5.6', '5.5', '4.4', '4.6', '5.9', '3.9',\n",
       "       '3.1', '2.9', '5.2', '3.3', '4.7', '5.1', '3.5', '2.5', '1.9', '3',\n",
       "       '2.7', '2.2', '2', '9.5', '2.1', '3.6', '2.8', '1.8', '3.8', '0',\n",
       "       '1.6', '9.6', '2.4', '1.7', '1.1', '0.3', '1.5', '0.7', '1.2',\n",
       "       '2.3', '0.5', '1.3', '0.2', '0.6', '1.4', '0.9', '1', '9.7'],\n",
       "      dtype=object)"
      ]
     },
     "execution_count": 8,
     "metadata": {},
     "output_type": "execute_result"
    }
   ],
   "source": [
    "data['user_score'].unique()"
   ]
  },
  {
   "cell_type": "markdown",
   "metadata": {},
   "source": [
    "В столбце со зрительским рейтингом, помимо чисел мы видим аббревиатуру tbd.\n",
    "TBD - аббревиатура от английского To Be Determined (будет определено) или To Be Decided (будет решено). Используется, если какая-то информация еще не определена или решение по вопросу не принято. Акроним служит для отметки неясностей или пропусков, которые надо заполнить, в информации требований."
   ]
  },
  {
   "cell_type": "code",
   "execution_count": 9,
   "metadata": {},
   "outputs": [
    {
     "data": {
      "text/html": [
       "<div>\n",
       "<style scoped>\n",
       "    .dataframe tbody tr th:only-of-type {\n",
       "        vertical-align: middle;\n",
       "    }\n",
       "\n",
       "    .dataframe tbody tr th {\n",
       "        vertical-align: top;\n",
       "    }\n",
       "\n",
       "    .dataframe thead th {\n",
       "        text-align: right;\n",
       "    }\n",
       "</style>\n",
       "<table border=\"1\" class=\"dataframe\">\n",
       "  <thead>\n",
       "    <tr style=\"text-align: right;\">\n",
       "      <th></th>\n",
       "      <th>year_of_release</th>\n",
       "      <th>user_score</th>\n",
       "    </tr>\n",
       "  </thead>\n",
       "  <tbody>\n",
       "    <tr>\n",
       "      <th>119</th>\n",
       "      <td>2010</td>\n",
       "      <td>tbd</td>\n",
       "    </tr>\n",
       "    <tr>\n",
       "      <th>301</th>\n",
       "      <td>2005</td>\n",
       "      <td>tbd</td>\n",
       "    </tr>\n",
       "    <tr>\n",
       "      <th>520</th>\n",
       "      <td>2011</td>\n",
       "      <td>tbd</td>\n",
       "    </tr>\n",
       "    <tr>\n",
       "      <th>645</th>\n",
       "      <td>2010</td>\n",
       "      <td>tbd</td>\n",
       "    </tr>\n",
       "    <tr>\n",
       "      <th>657</th>\n",
       "      <td>&lt;NA&gt;</td>\n",
       "      <td>tbd</td>\n",
       "    </tr>\n",
       "    <tr>\n",
       "      <th>...</th>\n",
       "      <td>...</td>\n",
       "      <td>...</td>\n",
       "    </tr>\n",
       "    <tr>\n",
       "      <th>16695</th>\n",
       "      <td>2001</td>\n",
       "      <td>tbd</td>\n",
       "    </tr>\n",
       "    <tr>\n",
       "      <th>16697</th>\n",
       "      <td>2003</td>\n",
       "      <td>tbd</td>\n",
       "    </tr>\n",
       "    <tr>\n",
       "      <th>16698</th>\n",
       "      <td>2008</td>\n",
       "      <td>tbd</td>\n",
       "    </tr>\n",
       "    <tr>\n",
       "      <th>16704</th>\n",
       "      <td>2008</td>\n",
       "      <td>tbd</td>\n",
       "    </tr>\n",
       "    <tr>\n",
       "      <th>16706</th>\n",
       "      <td>2003</td>\n",
       "      <td>tbd</td>\n",
       "    </tr>\n",
       "  </tbody>\n",
       "</table>\n",
       "<p>2424 rows × 2 columns</p>\n",
       "</div>"
      ],
      "text/plain": [
       "       year_of_release user_score\n",
       "119               2010        tbd\n",
       "301               2005        tbd\n",
       "520               2011        tbd\n",
       "645               2010        tbd\n",
       "657               <NA>        tbd\n",
       "...                ...        ...\n",
       "16695             2001        tbd\n",
       "16697             2003        tbd\n",
       "16698             2008        tbd\n",
       "16704             2008        tbd\n",
       "16706             2003        tbd\n",
       "\n",
       "[2424 rows x 2 columns]"
      ]
     },
     "execution_count": 9,
     "metadata": {},
     "output_type": "execute_result"
    }
   ],
   "source": [
    "tbd = data.loc[data['user_score'] == 'tbd', ['year_of_release', 'user_score']]\n",
    "tbd"
   ]
  },
  {
   "cell_type": "markdown",
   "metadata": {},
   "source": [
    "Мы видим что фильмы 2000-х годов еще \"ожидают оценки\", поэтому мы просто заменим тип данных в этом столбце и заменим пропуски заглушкой."
   ]
  },
  {
   "cell_type": "code",
   "execution_count": 10,
   "metadata": {},
   "outputs": [],
   "source": [
    "data['user_score'] = data['user_score'].replace('tbd', 'N/A')\n",
    "data['user_score'].fillna('N/A', inplace=True)\n",
    "\n",
    "# Преобразование столбцов в числовой тип данных\n",
    "data['user_score'] = pd.to_numeric(data['user_score'], errors='coerce')"
   ]
  },
  {
   "cell_type": "code",
   "execution_count": 11,
   "metadata": {},
   "outputs": [
    {
     "data": {
      "text/plain": [
       "name                  2\n",
       "platform              0\n",
       "year_of_release     269\n",
       "genre                 2\n",
       "na_sales              0\n",
       "eu_sales              0\n",
       "jp_sales              0\n",
       "other_sales           0\n",
       "critic_score       8578\n",
       "user_score         9125\n",
       "rating             6766\n",
       "dtype: int64"
      ]
     },
     "execution_count": 11,
     "metadata": {},
     "output_type": "execute_result"
    }
   ],
   "source": [
    "data.isna().sum()"
   ]
  },
  {
   "cell_type": "code",
   "execution_count": 12,
   "metadata": {},
   "outputs": [
    {
     "data": {
      "text/plain": [
       "<IntegerArray>\n",
       "[2006, 1985, 2008, 2009, 1996, 1989, 1984, 2005, 1999, 2007, 2010, 2013, 2004,\n",
       " 1990, 1988, 2002, 2001, 2011, 1998, 2015, 2012, 2014, 1992, 1997, 1993, 1994,\n",
       " 1982, 2016, 2003, 1986, 2000, <NA>, 1995, 1991, 1981, 1987, 1980, 1983]\n",
       "Length: 38, dtype: Int64"
      ]
     },
     "metadata": {},
     "output_type": "display_data"
    },
    {
     "data": {
      "text/plain": [
       "array(['Sports', 'Platform', 'Racing', 'Role-Playing', 'Puzzle', 'Misc',\n",
       "       'Shooter', 'Simulation', 'Action', 'Fighting', 'Adventure',\n",
       "       'Strategy', nan], dtype=object)"
      ]
     },
     "metadata": {},
     "output_type": "display_data"
    },
    {
     "data": {
      "text/plain": [
       "array([76., nan, 82., 80., 89., 58., 87., 91., 61., 97., 95., 77., 88.,\n",
       "       83., 94., 93., 85., 86., 98., 96., 90., 84., 73., 74., 78., 92.,\n",
       "       71., 72., 68., 62., 49., 67., 81., 66., 56., 79., 70., 59., 64.,\n",
       "       75., 60., 63., 69., 50., 25., 42., 44., 55., 48., 57., 29., 47.,\n",
       "       65., 54., 20., 53., 37., 38., 33., 52., 30., 32., 43., 45., 51.,\n",
       "       40., 46., 39., 34., 35., 41., 36., 28., 31., 27., 26., 19., 23.,\n",
       "       24., 21., 17., 22., 13.])"
      ]
     },
     "metadata": {},
     "output_type": "display_data"
    },
    {
     "data": {
      "text/plain": [
       "array([8. , nan, 8.3, 8.5, 6.6, 8.4, 8.6, 7.7, 6.3, 7.4, 8.2, 9. , 7.9,\n",
       "       8.1, 8.7, 7.1, 3.4, 5.3, 4.8, 3.2, 8.9, 6.4, 7.8, 7.5, 2.6, 7.2,\n",
       "       9.2, 7. , 7.3, 4.3, 7.6, 5.7, 5. , 9.1, 6.5, 8.8, 6.9, 9.4, 6.8,\n",
       "       6.1, 6.7, 5.4, 4. , 4.9, 4.5, 9.3, 6.2, 4.2, 6. , 3.7, 4.1, 5.8,\n",
       "       5.6, 5.5, 4.4, 4.6, 5.9, 3.9, 3.1, 2.9, 5.2, 3.3, 4.7, 5.1, 3.5,\n",
       "       2.5, 1.9, 3. , 2.7, 2.2, 2. , 9.5, 2.1, 3.6, 2.8, 1.8, 3.8, 0. ,\n",
       "       1.6, 9.6, 2.4, 1.7, 1.1, 0.3, 1.5, 0.7, 1.2, 2.3, 0.5, 1.3, 0.2,\n",
       "       0.6, 1.4, 0.9, 1. , 9.7])"
      ]
     },
     "metadata": {},
     "output_type": "display_data"
    },
    {
     "data": {
      "text/plain": [
       "array(['E', nan, 'M', 'T', 'E10+', 'K-A', 'AO', 'EC', 'RP'], dtype=object)"
      ]
     },
     "metadata": {},
     "output_type": "display_data"
    }
   ],
   "source": [
    "display(data['year_of_release'].unique())\n",
    "display(data['genre'].unique())\n",
    "display(data['critic_score'].unique())\n",
    "display(data['user_score'].unique())\n",
    "display(data['rating'].unique())"
   ]
  },
  {
   "cell_type": "markdown",
   "metadata": {},
   "source": [
    "Посмотрм на обозначения рейтинга:\n",
    "- 'E' Подходит для всех возрастных категорий.\n",
    "- 'M' Подходит для лиц старше 17 лет.\n",
    "- 'T' Подходит для лиц старше 13 лет. \n",
    "- 'E10+' Подходит для лиц старше 10 лет.\n",
    "- 'K-A' Для всех от 10 лет и старше\n",
    "- 'AO' Подходит для взрослых старше 18 лет.\n",
    "- 'EC' Для детей младшего возраста. Подходит для детей от 3 лет\n",
    "- 'RP' Категория ещё не присвоена.\n",
    "\n",
    "Мы видим, что 'E10+', 'K-A' имеют одинковые значения, значит можем объединить их."
   ]
  },
  {
   "cell_type": "code",
   "execution_count": 13,
   "metadata": {},
   "outputs": [],
   "source": [
    "data['rating'] = data['rating'].replace('K-A', 'E10+')"
   ]
  },
  {
   "cell_type": "markdown",
   "metadata": {},
   "source": [
    "**ПРОПУСКИ В ДАННЫХ**\n",
    "\n",
    "- Столбец 'name' это название игры, заменить пропуски нечем, **удаляем**. Нам не нужны данные об игре без названия.\n",
    "\n",
    "- Я думаю будет разумно, заменить пропуски в столбцах 'critic_score', 'user_score' **заглушками**. \n",
    "\n",
    "- В столбце 'year_of_release' нечем заменить пропуски, мы их **пропускаем**.\n",
    "\n",
    "- Столбец 'genre' это жанр игры, заменить пропуски нечем, **удаляем**. Пропуска всего 2, они ни на что не повлияют.\n",
    "\n",
    "- В столбце 'rating' пропуски заменим **заглушками**"
   ]
  },
  {
   "cell_type": "code",
   "execution_count": 14,
   "metadata": {},
   "outputs": [],
   "source": [
    "data.dropna(subset=['name', 'genre'], inplace=True)"
   ]
  },
  {
   "cell_type": "code",
   "execution_count": 15,
   "metadata": {},
   "outputs": [],
   "source": [
    "data['critic_score'].fillna('N/A', inplace=True)\n",
    "data['rating'].fillna('N/A', inplace=True)\n",
    "# Преобразование столбцов в числовой тип данных\n",
    "data['critic_score'] = pd.to_numeric(data['critic_score'], errors='coerce')"
   ]
  },
  {
   "cell_type": "markdown",
   "metadata": {},
   "source": [
    "Пропуски в столбцах с годом выпуска, оценками критиков, оценками зрителей и возрастным рейтингом могут возникнуть по разным причинам, включая:\n",
    "\n",
    "- В исходных источниках данных могут отсутствовать значения для этих столбцов. Например, если данные собирались из различных источников или были внесены вручную, то не всегда есть полная информация о годе выпуска фильма, оценках критиков и зрителей, или возрастном рейтинге.\n",
    "\n",
    "- В процессе сбора данных могли возникнуть ошибки или пропуски, особенно если использовался автоматический сбор данных или обработка большого объема информации.\n"
   ]
  },
  {
   "cell_type": "markdown",
   "metadata": {},
   "source": [
    "**Посчитаем суммарные продажи во всех регионах и запишим их в отдельный столбец.**"
   ]
  },
  {
   "cell_type": "code",
   "execution_count": 16,
   "metadata": {},
   "outputs": [],
   "source": [
    "data['all_sales'] = data[['na_sales', 'eu_sales', 'jp_sales', 'other_sales']].sum(axis=1)"
   ]
  },
  {
   "cell_type": "code",
   "execution_count": 17,
   "metadata": {
    "scrolled": false
   },
   "outputs": [
    {
     "data": {
      "text/html": [
       "<div>\n",
       "<style scoped>\n",
       "    .dataframe tbody tr th:only-of-type {\n",
       "        vertical-align: middle;\n",
       "    }\n",
       "\n",
       "    .dataframe tbody tr th {\n",
       "        vertical-align: top;\n",
       "    }\n",
       "\n",
       "    .dataframe thead th {\n",
       "        text-align: right;\n",
       "    }\n",
       "</style>\n",
       "<table border=\"1\" class=\"dataframe\">\n",
       "  <thead>\n",
       "    <tr style=\"text-align: right;\">\n",
       "      <th></th>\n",
       "      <th>name</th>\n",
       "      <th>platform</th>\n",
       "      <th>year_of_release</th>\n",
       "      <th>genre</th>\n",
       "      <th>na_sales</th>\n",
       "      <th>eu_sales</th>\n",
       "      <th>jp_sales</th>\n",
       "      <th>other_sales</th>\n",
       "      <th>critic_score</th>\n",
       "      <th>user_score</th>\n",
       "      <th>rating</th>\n",
       "      <th>all_sales</th>\n",
       "    </tr>\n",
       "  </thead>\n",
       "  <tbody>\n",
       "    <tr>\n",
       "      <th>0</th>\n",
       "      <td>Wii Sports</td>\n",
       "      <td>Wii</td>\n",
       "      <td>2006</td>\n",
       "      <td>Sports</td>\n",
       "      <td>41.36</td>\n",
       "      <td>28.96</td>\n",
       "      <td>3.77</td>\n",
       "      <td>8.45</td>\n",
       "      <td>76.0</td>\n",
       "      <td>8.0</td>\n",
       "      <td>E</td>\n",
       "      <td>82.54</td>\n",
       "    </tr>\n",
       "    <tr>\n",
       "      <th>1</th>\n",
       "      <td>Super Mario Bros.</td>\n",
       "      <td>NES</td>\n",
       "      <td>1985</td>\n",
       "      <td>Platform</td>\n",
       "      <td>29.08</td>\n",
       "      <td>3.58</td>\n",
       "      <td>6.81</td>\n",
       "      <td>0.77</td>\n",
       "      <td>NaN</td>\n",
       "      <td>NaN</td>\n",
       "      <td>N/A</td>\n",
       "      <td>40.24</td>\n",
       "    </tr>\n",
       "    <tr>\n",
       "      <th>2</th>\n",
       "      <td>Mario Kart Wii</td>\n",
       "      <td>Wii</td>\n",
       "      <td>2008</td>\n",
       "      <td>Racing</td>\n",
       "      <td>15.68</td>\n",
       "      <td>12.76</td>\n",
       "      <td>3.79</td>\n",
       "      <td>3.29</td>\n",
       "      <td>82.0</td>\n",
       "      <td>8.3</td>\n",
       "      <td>E</td>\n",
       "      <td>35.52</td>\n",
       "    </tr>\n",
       "    <tr>\n",
       "      <th>3</th>\n",
       "      <td>Wii Sports Resort</td>\n",
       "      <td>Wii</td>\n",
       "      <td>2009</td>\n",
       "      <td>Sports</td>\n",
       "      <td>15.61</td>\n",
       "      <td>10.93</td>\n",
       "      <td>3.28</td>\n",
       "      <td>2.95</td>\n",
       "      <td>80.0</td>\n",
       "      <td>8.0</td>\n",
       "      <td>E</td>\n",
       "      <td>32.77</td>\n",
       "    </tr>\n",
       "    <tr>\n",
       "      <th>4</th>\n",
       "      <td>Pokemon Red/Pokemon Blue</td>\n",
       "      <td>GB</td>\n",
       "      <td>1996</td>\n",
       "      <td>Role-Playing</td>\n",
       "      <td>11.27</td>\n",
       "      <td>8.89</td>\n",
       "      <td>10.22</td>\n",
       "      <td>1.00</td>\n",
       "      <td>NaN</td>\n",
       "      <td>NaN</td>\n",
       "      <td>N/A</td>\n",
       "      <td>31.38</td>\n",
       "    </tr>\n",
       "    <tr>\n",
       "      <th>5</th>\n",
       "      <td>Tetris</td>\n",
       "      <td>GB</td>\n",
       "      <td>1989</td>\n",
       "      <td>Puzzle</td>\n",
       "      <td>23.20</td>\n",
       "      <td>2.26</td>\n",
       "      <td>4.22</td>\n",
       "      <td>0.58</td>\n",
       "      <td>NaN</td>\n",
       "      <td>NaN</td>\n",
       "      <td>N/A</td>\n",
       "      <td>30.26</td>\n",
       "    </tr>\n",
       "    <tr>\n",
       "      <th>6</th>\n",
       "      <td>New Super Mario Bros.</td>\n",
       "      <td>DS</td>\n",
       "      <td>2006</td>\n",
       "      <td>Platform</td>\n",
       "      <td>11.28</td>\n",
       "      <td>9.14</td>\n",
       "      <td>6.50</td>\n",
       "      <td>2.88</td>\n",
       "      <td>89.0</td>\n",
       "      <td>8.5</td>\n",
       "      <td>E</td>\n",
       "      <td>29.80</td>\n",
       "    </tr>\n",
       "    <tr>\n",
       "      <th>7</th>\n",
       "      <td>Wii Play</td>\n",
       "      <td>Wii</td>\n",
       "      <td>2006</td>\n",
       "      <td>Misc</td>\n",
       "      <td>13.96</td>\n",
       "      <td>9.18</td>\n",
       "      <td>2.93</td>\n",
       "      <td>2.84</td>\n",
       "      <td>58.0</td>\n",
       "      <td>6.6</td>\n",
       "      <td>E</td>\n",
       "      <td>28.91</td>\n",
       "    </tr>\n",
       "    <tr>\n",
       "      <th>8</th>\n",
       "      <td>New Super Mario Bros. Wii</td>\n",
       "      <td>Wii</td>\n",
       "      <td>2009</td>\n",
       "      <td>Platform</td>\n",
       "      <td>14.44</td>\n",
       "      <td>6.94</td>\n",
       "      <td>4.70</td>\n",
       "      <td>2.24</td>\n",
       "      <td>87.0</td>\n",
       "      <td>8.4</td>\n",
       "      <td>E</td>\n",
       "      <td>28.32</td>\n",
       "    </tr>\n",
       "    <tr>\n",
       "      <th>9</th>\n",
       "      <td>Duck Hunt</td>\n",
       "      <td>NES</td>\n",
       "      <td>1984</td>\n",
       "      <td>Shooter</td>\n",
       "      <td>26.93</td>\n",
       "      <td>0.63</td>\n",
       "      <td>0.28</td>\n",
       "      <td>0.47</td>\n",
       "      <td>NaN</td>\n",
       "      <td>NaN</td>\n",
       "      <td>N/A</td>\n",
       "      <td>28.31</td>\n",
       "    </tr>\n",
       "  </tbody>\n",
       "</table>\n",
       "</div>"
      ],
      "text/plain": [
       "                        name platform  year_of_release         genre  \\\n",
       "0                 Wii Sports      Wii             2006        Sports   \n",
       "1          Super Mario Bros.      NES             1985      Platform   \n",
       "2             Mario Kart Wii      Wii             2008        Racing   \n",
       "3          Wii Sports Resort      Wii             2009        Sports   \n",
       "4   Pokemon Red/Pokemon Blue       GB             1996  Role-Playing   \n",
       "5                     Tetris       GB             1989        Puzzle   \n",
       "6      New Super Mario Bros.       DS             2006      Platform   \n",
       "7                   Wii Play      Wii             2006          Misc   \n",
       "8  New Super Mario Bros. Wii      Wii             2009      Platform   \n",
       "9                  Duck Hunt      NES             1984       Shooter   \n",
       "\n",
       "   na_sales  eu_sales  jp_sales  other_sales  critic_score  user_score rating  \\\n",
       "0     41.36     28.96      3.77         8.45          76.0         8.0      E   \n",
       "1     29.08      3.58      6.81         0.77           NaN         NaN    N/A   \n",
       "2     15.68     12.76      3.79         3.29          82.0         8.3      E   \n",
       "3     15.61     10.93      3.28         2.95          80.0         8.0      E   \n",
       "4     11.27      8.89     10.22         1.00           NaN         NaN    N/A   \n",
       "5     23.20      2.26      4.22         0.58           NaN         NaN    N/A   \n",
       "6     11.28      9.14      6.50         2.88          89.0         8.5      E   \n",
       "7     13.96      9.18      2.93         2.84          58.0         6.6      E   \n",
       "8     14.44      6.94      4.70         2.24          87.0         8.4      E   \n",
       "9     26.93      0.63      0.28         0.47           NaN         NaN    N/A   \n",
       "\n",
       "   all_sales  \n",
       "0      82.54  \n",
       "1      40.24  \n",
       "2      35.52  \n",
       "3      32.77  \n",
       "4      31.38  \n",
       "5      30.26  \n",
       "6      29.80  \n",
       "7      28.91  \n",
       "8      28.32  \n",
       "9      28.31  "
      ]
     },
     "execution_count": 17,
     "metadata": {},
     "output_type": "execute_result"
    }
   ],
   "source": [
    "data.head(10)"
   ]
  },
  {
   "cell_type": "code",
   "execution_count": 18,
   "metadata": {},
   "outputs": [
    {
     "data": {
      "text/plain": [
       "0"
      ]
     },
     "execution_count": 18,
     "metadata": {},
     "output_type": "execute_result"
    }
   ],
   "source": [
    "data.duplicated().sum()"
   ]
  },
  {
   "cell_type": "markdown",
   "metadata": {},
   "source": [
    "#### Вывод\n",
    "В части по предобработке данных мы:\n",
    "- Привели называния колонок к нижнему регистру\n",
    "- Изменили тип данных у колонки year_of_release с float на int, поскольку год это целое число и у колонки user_score с object на float, поскольку рейтинг это число, а не строка и может быть не целым.\n",
    "- В некоторых столбцах оставили пропуски, где-то удалили, а где-то заменили заглушками. \n",
    "- Добавили новый столбец all_sales с данными обо всех продажах. \n",
    "- Проверили датафрейм на дубликаты - их не оказалось.\n",
    "_____________\n",
    "С предобработкой данных мы закончили, можем приступать к анализу."
   ]
  },
  {
   "cell_type": "markdown",
   "metadata": {},
   "source": [
    "### Исследовательский анализ данных"
   ]
  },
  {
   "cell_type": "markdown",
   "metadata": {},
   "source": [
    "**В этом разделе мы посмотрим на продажи по платформам**"
   ]
  },
  {
   "cell_type": "markdown",
   "metadata": {
    "scrolled": false
   },
   "source": [
    "#### Посмотрим сколько игр выпускалось в разные годы"
   ]
  },
  {
   "cell_type": "code",
   "execution_count": 19,
   "metadata": {},
   "outputs": [],
   "source": [
    "games_years = data.pivot_table(index = 'year_of_release', values = 'name', aggfunc = \"count\")\n",
    "games_years = games_years.sort_values('name', ascending = False)"
   ]
  },
  {
   "cell_type": "code",
   "execution_count": 20,
   "metadata": {},
   "outputs": [
    {
     "data": {
      "image/png": "[encoded data removed]",
      "text/plain": [
       "<Figure size 864x432 with 1 Axes>"
      ]
     },
     "metadata": {
      "needs_background": "light"
     },
     "output_type": "display_data"
    }
   ],
   "source": [
    "plt.figure(figsize=(12,6));\n",
    "plt.bar(games_years.index, games_years['name'], width=0.5)\n",
    "plt.title('Количество игр по годам')\n",
    "plt.xlabel('Год выпуска')\n",
    "plt.ylabel('Количество игр')\n",
    "plt.show()"
   ]
  },
  {
   "cell_type": "markdown",
   "metadata": {},
   "source": [
    "**По диаграмме мы видим, что больше всего игр выпускалось на период с 2005 по 2010 годы**"
   ]
  },
  {
   "cell_type": "code",
   "execution_count": 21,
   "metadata": {},
   "outputs": [
    {
     "data": {
      "text/html": [
       "<div>\n",
       "<style scoped>\n",
       "    .dataframe tbody tr th:only-of-type {\n",
       "        vertical-align: middle;\n",
       "    }\n",
       "\n",
       "    .dataframe tbody tr th {\n",
       "        vertical-align: top;\n",
       "    }\n",
       "\n",
       "    .dataframe thead th {\n",
       "        text-align: right;\n",
       "    }\n",
       "</style>\n",
       "<table border=\"1\" class=\"dataframe\">\n",
       "  <thead>\n",
       "    <tr style=\"text-align: right;\">\n",
       "      <th></th>\n",
       "      <th>year_of_release</th>\n",
       "      <th>name</th>\n",
       "    </tr>\n",
       "  </thead>\n",
       "  <tbody>\n",
       "    <tr>\n",
       "      <th>0</th>\n",
       "      <td>2008</td>\n",
       "      <td>1427</td>\n",
       "    </tr>\n",
       "    <tr>\n",
       "      <th>1</th>\n",
       "      <td>2009</td>\n",
       "      <td>1426</td>\n",
       "    </tr>\n",
       "    <tr>\n",
       "      <th>2</th>\n",
       "      <td>2010</td>\n",
       "      <td>1255</td>\n",
       "    </tr>\n",
       "    <tr>\n",
       "      <th>3</th>\n",
       "      <td>2007</td>\n",
       "      <td>1197</td>\n",
       "    </tr>\n",
       "    <tr>\n",
       "      <th>4</th>\n",
       "      <td>2011</td>\n",
       "      <td>1136</td>\n",
       "    </tr>\n",
       "  </tbody>\n",
       "</table>\n",
       "</div>"
      ],
      "text/plain": [
       "   year_of_release  name\n",
       "0             2008  1427\n",
       "1             2009  1426\n",
       "2             2010  1255\n",
       "3             2007  1197\n",
       "4             2011  1136"
      ]
     },
     "execution_count": 21,
     "metadata": {},
     "output_type": "execute_result"
    }
   ],
   "source": [
    "games_years.head(5).reset_index()"
   ]
  },
  {
   "cell_type": "markdown",
   "metadata": {},
   "source": [
    "##### Вывод\n",
    "**Если расммотреть детальнее, получаем 5 годов в которые вышло больше всего игр:**\n",
    "1. \t2008 - 1427 игр\n",
    "2.\t2009 - 1426 игр\n",
    "3.\t2010 - 1255 игр\n",
    "4.\t2007 - 1197 игр\n",
    "5.\t2011 - 1136 игр"
   ]
  },
  {
   "cell_type": "markdown",
   "metadata": {},
   "source": [
    "#### Посмотрим как менялись продажи по платформам. "
   ]
  },
  {
   "cell_type": "markdown",
   "metadata": {},
   "source": [
    "Выберем платформы с наибольшими суммарными продажами и построим распределение по годам. \n",
    "За какой характерный срок появляются новые и исчезают старые платформы?"
   ]
  },
  {
   "cell_type": "code",
   "execution_count": 22,
   "metadata": {
    "scrolled": true
   },
   "outputs": [],
   "source": [
    "sales_platform = data.pivot_table(index = 'platform' , values = 'all_sales', aggfunc = \"sum\")\\\n",
    ".reset_index()\\\n",
    ".sort_values(by='all_sales',ascending = False)"
   ]
  },
  {
   "cell_type": "code",
   "execution_count": 23,
   "metadata": {},
   "outputs": [
    {
     "data": {
      "image/png": "[encoded data removed]",
      "text/plain": [
       "<Figure size 720x576 with 1 Axes>"
      ]
     },
     "metadata": {
      "needs_background": "light"
     },
     "output_type": "display_data"
    }
   ],
   "source": [
    "fig,ax = plt.subplots(figsize=(10,8))\n",
    "plt.xticks(fontsize= 8)\n",
    "sns.barplot(x=sales_platform['all_sales'], y=sales_platform['platform'], orient='h');"
   ]
  },
  {
   "cell_type": "markdown",
   "metadata": {},
   "source": [
    "На графике наглядно показано как распределяются продажи по платформам, для дальнейшей работы выберем только 5 лучших."
   ]
  },
  {
   "cell_type": "code",
   "execution_count": 24,
   "metadata": {
    "scrolled": false
   },
   "outputs": [
    {
     "data": {
      "text/html": [
       "<div>\n",
       "<style scoped>\n",
       "    .dataframe tbody tr th:only-of-type {\n",
       "        vertical-align: middle;\n",
       "    }\n",
       "\n",
       "    .dataframe tbody tr th {\n",
       "        vertical-align: top;\n",
       "    }\n",
       "\n",
       "    .dataframe thead th {\n",
       "        text-align: right;\n",
       "    }\n",
       "</style>\n",
       "<table border=\"1\" class=\"dataframe\">\n",
       "  <thead>\n",
       "    <tr style=\"text-align: right;\">\n",
       "      <th></th>\n",
       "      <th>platform</th>\n",
       "      <th>all_sales</th>\n",
       "    </tr>\n",
       "  </thead>\n",
       "  <tbody>\n",
       "    <tr>\n",
       "      <th>16</th>\n",
       "      <td>PS2</td>\n",
       "      <td>1255.77</td>\n",
       "    </tr>\n",
       "    <tr>\n",
       "      <th>28</th>\n",
       "      <td>X360</td>\n",
       "      <td>971.42</td>\n",
       "    </tr>\n",
       "    <tr>\n",
       "      <th>17</th>\n",
       "      <td>PS3</td>\n",
       "      <td>939.65</td>\n",
       "    </tr>\n",
       "    <tr>\n",
       "      <th>26</th>\n",
       "      <td>Wii</td>\n",
       "      <td>907.51</td>\n",
       "    </tr>\n",
       "    <tr>\n",
       "      <th>4</th>\n",
       "      <td>DS</td>\n",
       "      <td>806.12</td>\n",
       "    </tr>\n",
       "  </tbody>\n",
       "</table>\n",
       "</div>"
      ],
      "text/plain": [
       "   platform  all_sales\n",
       "16      PS2    1255.77\n",
       "28     X360     971.42\n",
       "17      PS3     939.65\n",
       "26      Wii     907.51\n",
       "4        DS     806.12"
      ]
     },
     "execution_count": 24,
     "metadata": {},
     "output_type": "execute_result"
    }
   ],
   "source": [
    "top_platform = sales_platform.head(5)\n",
    "top_platform"
   ]
  },
  {
   "cell_type": "code",
   "execution_count": 25,
   "metadata": {
    "scrolled": false
   },
   "outputs": [
    {
     "data": {
      "image/png": "[encoded data removed]",
      "text/plain": [
       "<Figure size 576x288 with 1 Axes>"
      ]
     },
     "metadata": {
      "needs_background": "light"
     },
     "output_type": "display_data"
    },
    {
     "data": {
      "image/png": "[encoded data removed]",
      "text/plain": [
       "<Figure size 576x288 with 1 Axes>"
      ]
     },
     "metadata": {
      "needs_background": "light"
     },
     "output_type": "display_data"
    },
    {
     "data": {
      "image/png": "[encoded data removed]",
      "text/plain": [
       "<Figure size 576x288 with 1 Axes>"
      ]
     },
     "metadata": {
      "needs_background": "light"
     },
     "output_type": "display_data"
    },
    {
     "data": {
      "image/png": "[encoded data removed]",
      "text/plain": [
       "<Figure size 576x288 with 1 Axes>"
      ]
     },
     "metadata": {
      "needs_background": "light"
     },
     "output_type": "display_data"
    },
    {
     "data": {
      "image/png": "[encoded data removed]",
      "text/plain": [
       "<Figure size 576x288 with 1 Axes>"
      ]
     },
     "metadata": {
      "needs_background": "light"
     },
     "output_type": "display_data"
    }
   ],
   "source": [
    "for platform in top_platform['platform']:\n",
    "    # Фильтруем данные по текущей платформе\n",
    "    platform_data = data[data['platform'] == platform]\n",
    "    # Считаем суммарные продажи по годам\n",
    "    sales_by_year = platform_data.groupby('year_of_release')['all_sales'].sum()\n",
    "    # Построение столбчатой диаграммы распределения по годам\n",
    "    plt.figure(figsize=(8, 4))\n",
    "    plt.bar(sales_by_year.index, sales_by_year.values)\n",
    "    plt.title(f'Распределение продаж по годам для платформы {platform}')\n",
    "    plt.xlabel('Год')\n",
    "    plt.ylabel('Суммарные продажи, млн копий')\n",
    "    plt.show()"
   ]
  },
  {
   "cell_type": "markdown",
   "metadata": {},
   "source": [
    "Что мы видим на графиках:\n",
    "1. Больше всего игр для платформы PS2 продавалось в период с 2001 по 2005 год\n",
    "2. Больше всего игр для платформы Х360 продавалось в период с 2007 по 2013 год\n",
    "3. Больше всего игр для платформы PS3 продавалось в период с 2007 по 2013 год\n",
    "4. Больше всего игр для платформы Wii продавалось в период с 2006 по 2011 год\n",
    "5. Больше всего игр для платформы DS продавалось в период с 2005 по 2010 год"
   ]
  },
  {
   "cell_type": "markdown",
   "metadata": {},
   "source": [
    "##### Вывод\n",
    "Самые популярные по прадажам платформы это:\n",
    "- PS2(PlayStation2) - 1255.77 млн копий продано, \n",
    "- X360(XBOX 360) - 971.42 млн копий продано, \n",
    "- PS3(PlayStation3) - 939.65 млн копий продано, \n",
    "- Wii(Nintendo Wii) - 907.51 млн копий продано, \n",
    "- DS(Nintendo DS) - 806.12 млн копий продано.\n",
    "_______________\n",
    "Также мы видим, что срок период \"живучести\" платформы приблизительно 5 лет."
   ]
  },
  {
   "cell_type": "markdown",
   "metadata": {},
   "source": [
    "#### Какие платформы лидируют по продажам, растут или падают? Выберите несколько потенциально прибыльных платформ."
   ]
  },
  {
   "cell_type": "markdown",
   "metadata": {},
   "source": [
    "Думаю логично будет взять период в 5 лет. с 2011 по 2016 год."
   ]
  },
  {
   "cell_type": "code",
   "execution_count": 26,
   "metadata": {
    "scrolled": true
   },
   "outputs": [],
   "source": [
    "#создаем датафрейм, в котором будут только те игры, что вышли после 2011 года\n",
    "period_filter = data['year_of_release'] >= 2011\n",
    "sort_years = data[period_filter]"
   ]
  },
  {
   "cell_type": "code",
   "execution_count": 27,
   "metadata": {},
   "outputs": [],
   "source": [
    "#вычисляем суммарные продажи по платформам\n",
    "platform_sales = sort_years.groupby('platform')['all_sales'].sum()\n",
    "platform_sales = platform_sales.sort_values(ascending=False).head(5)"
   ]
  },
  {
   "cell_type": "code",
   "execution_count": 28,
   "metadata": {},
   "outputs": [],
   "source": [
    "#вычисляем средние продажи по платформам\n",
    "platform_sales_mean = sort_years.groupby('platform')['all_sales'].mean()\n",
    "platform_sales_mean = platform_sales_mean.sort_values(ascending=False).head(5)"
   ]
  },
  {
   "cell_type": "code",
   "execution_count": 29,
   "metadata": {},
   "outputs": [],
   "source": [
    "#вычисляем общее количество выпущенных игр\n",
    "platform_sales_count = sort_years.groupby('platform')['name'].count()\n",
    "platform_sales_count = platform_sales_count.sort_values(ascending=False).head(5)"
   ]
  },
  {
   "cell_type": "code",
   "execution_count": 30,
   "metadata": {},
   "outputs": [
    {
     "data": {
      "image/png": "[encoded data removed]",
      "text/plain": [
       "<Figure size 576x864 with 3 Axes>"
      ]
     },
     "metadata": {
      "needs_background": "light"
     },
     "output_type": "display_data"
    }
   ],
   "source": [
    "# Визуализируем результаты\n",
    "fig, axes = plt.subplots(nrows=3, ncols=1, figsize=(8, 12))\n",
    "platform_sales.plot(kind='bar', ax=axes[0])\n",
    "axes[0].set_title('Суммарные продажи по платформам (2011-2016)')\n",
    "axes[0].set_ylabel('Продажи, млн копий')\n",
    "\n",
    "platform_sales_mean.plot(kind='bar', ax=axes[1])\n",
    "axes[1].set_title('Среднегодовые продажи по платформам (2011-2016)')\n",
    "axes[1].set_ylabel('Продажи, млн копий')\n",
    "\n",
    "platform_sales_count.plot(kind='bar', ax=axes[2])\n",
    "axes[2].set_title('Количество выпущенных игр по платформам (2011-2016)')\n",
    "axes[2].set_ylabel('Количество игр')\n",
    "plt.tight_layout()\n",
    "plt.show()"
   ]
  },
  {
   "cell_type": "markdown",
   "metadata": {},
   "source": [
    "##### Вывод\n",
    "Из анализа данных о топ-5 платформ по количеству выпущенных игр (PS3, 3DS, X360, PSV, PS4) можно сделать следующие выводы:\n",
    "\n",
    "- PS3 и X360 находятся в топ-5 платформ и по количеству выпущенных игр, и по суммарным продажам, что может указывать на их популярность и коммерческий успех на рынке игровых платформ.\n",
    "- 3DS (Nintendo 3DS) также находится в топ-5 платформ по количеству выпущенных игр, но отсутствует в топ-5 по суммарным продажам, что может указывать на то, что игры на этой платформе выпускались в большом количестве, но имели относительно низкие продажи.\n",
    "- PSV (PlayStation Vita) находится в топ-5 платформ по количеству выпущенных игр, но отсутствует в топ-5 по суммарным продажам, что может указывать на низкую коммерческую успешность этой платформы в отношении продаж игр.\n",
    "- PS4 находится в топ-5 платформ и по количеству выпущенных игр, и по суммарным продажам, что может указывать на ее популярность и коммерческий успех на рынке игровых платформ.\n",
    "_________\n",
    "**Потенциально прибыльные платформы: PS3,X360,PS4**"
   ]
  },
  {
   "cell_type": "markdown",
   "metadata": {},
   "source": [
    "#### Построим график «ящик с усами» по глобальным продажам игр в разбивке по платформам"
   ]
  },
  {
   "cell_type": "code",
   "execution_count": 31,
   "metadata": {},
   "outputs": [],
   "source": [
    "selected_platforms = ['PS3', 'PS4', 'X360']\n",
    "selected_data = sort_years[sort_years['platform'].isin(selected_platforms)]\n",
    "#sort_years - датафрейм отсортированный по годам, с 2011 по 2016"
   ]
  },
  {
   "cell_type": "code",
   "execution_count": 32,
   "metadata": {},
   "outputs": [
    {
     "data": {
      "image/png": "[encoded data removed]",
      "text/plain": [
       "<Figure size 1152x720 with 1 Axes>"
      ]
     },
     "metadata": {
      "needs_background": "light"
     },
     "output_type": "display_data"
    }
   ],
   "source": [
    "plt.figure(figsize=(16, 10))\n",
    "sns.boxplot(x='platform', y='all_sales', data=selected_data, palette='rainbow_r')\n",
    "plt.title('Распределение продаж по платформам PS3, PS4, X360')\n",
    "plt.xlabel('Платформа')\n",
    "plt.ylabel('Суммарные продажи, млн копий')\n",
    "plt.ylim(0,3)\n",
    "plt.show()"
   ]
  },
  {
   "cell_type": "markdown",
   "metadata": {},
   "source": [
    "##### Вывод\n",
    "По графикам мы видим, что и медиана, и сам ящик, и \"ус\" у палтформы Х360 выше, чем у других платформ. Это может указывать на то, что игры на платформе Х360 были популярнее среди покупателей, и продажи на этой платформе были выше, чем на платформах РS4 и PS3.\n",
    "___________\n",
    "У РS4 и PS3 графики примерно одинаковые\n",
    "________________________________\n",
    "Выбросы есть у всех платформ"
   ]
  },
  {
   "cell_type": "markdown",
   "metadata": {},
   "source": [
    "#### Влияние отзывов пользователей и критиков на продажи Х360"
   ]
  },
  {
   "cell_type": "markdown",
   "metadata": {},
   "source": [
    "Надо построить диаграмму рассеяния и посчитать корреляцию между отзывами и продажами"
   ]
  },
  {
   "cell_type": "code",
   "execution_count": 33,
   "metadata": {},
   "outputs": [],
   "source": [
    "top_platform = ['X360']\n",
    "top_platf_data = sort_years[sort_years['platform'].isin(top_platform)]\n",
    "#sort_years - датафрейм отсортированный по годам, с 2011 по 2016"
   ]
  },
  {
   "cell_type": "code",
   "execution_count": 34,
   "metadata": {},
   "outputs": [
    {
     "data": {
      "text/html": [
       "<div>\n",
       "<style scoped>\n",
       "    .dataframe tbody tr th:only-of-type {\n",
       "        vertical-align: middle;\n",
       "    }\n",
       "\n",
       "    .dataframe tbody tr th {\n",
       "        vertical-align: top;\n",
       "    }\n",
       "\n",
       "    .dataframe thead th {\n",
       "        text-align: right;\n",
       "    }\n",
       "</style>\n",
       "<table border=\"1\" class=\"dataframe\">\n",
       "  <thead>\n",
       "    <tr style=\"text-align: right;\">\n",
       "      <th></th>\n",
       "      <th>name</th>\n",
       "      <th>platform</th>\n",
       "      <th>year_of_release</th>\n",
       "      <th>genre</th>\n",
       "      <th>na_sales</th>\n",
       "      <th>eu_sales</th>\n",
       "      <th>jp_sales</th>\n",
       "      <th>other_sales</th>\n",
       "      <th>critic_score</th>\n",
       "      <th>user_score</th>\n",
       "      <th>rating</th>\n",
       "      <th>all_sales</th>\n",
       "    </tr>\n",
       "  </thead>\n",
       "  <tbody>\n",
       "    <tr>\n",
       "      <th>23</th>\n",
       "      <td>Grand Theft Auto V</td>\n",
       "      <td>X360</td>\n",
       "      <td>2013</td>\n",
       "      <td>Action</td>\n",
       "      <td>9.66</td>\n",
       "      <td>5.14</td>\n",
       "      <td>0.06</td>\n",
       "      <td>1.41</td>\n",
       "      <td>97.0</td>\n",
       "      <td>8.1</td>\n",
       "      <td>M</td>\n",
       "      <td>16.27</td>\n",
       "    </tr>\n",
       "    <tr>\n",
       "      <th>29</th>\n",
       "      <td>Call of Duty: Modern Warfare 3</td>\n",
       "      <td>X360</td>\n",
       "      <td>2011</td>\n",
       "      <td>Shooter</td>\n",
       "      <td>9.04</td>\n",
       "      <td>4.24</td>\n",
       "      <td>0.13</td>\n",
       "      <td>1.32</td>\n",
       "      <td>88.0</td>\n",
       "      <td>3.4</td>\n",
       "      <td>M</td>\n",
       "      <td>14.73</td>\n",
       "    </tr>\n",
       "    <tr>\n",
       "      <th>35</th>\n",
       "      <td>Call of Duty: Black Ops II</td>\n",
       "      <td>X360</td>\n",
       "      <td>2012</td>\n",
       "      <td>Shooter</td>\n",
       "      <td>8.25</td>\n",
       "      <td>4.24</td>\n",
       "      <td>0.07</td>\n",
       "      <td>1.12</td>\n",
       "      <td>83.0</td>\n",
       "      <td>4.8</td>\n",
       "      <td>M</td>\n",
       "      <td>13.68</td>\n",
       "    </tr>\n",
       "    <tr>\n",
       "      <th>60</th>\n",
       "      <td>Call of Duty: Ghosts</td>\n",
       "      <td>X360</td>\n",
       "      <td>2013</td>\n",
       "      <td>Shooter</td>\n",
       "      <td>6.73</td>\n",
       "      <td>2.56</td>\n",
       "      <td>0.04</td>\n",
       "      <td>0.91</td>\n",
       "      <td>73.0</td>\n",
       "      <td>2.6</td>\n",
       "      <td>M</td>\n",
       "      <td>10.24</td>\n",
       "    </tr>\n",
       "    <tr>\n",
       "      <th>66</th>\n",
       "      <td>Halo 4</td>\n",
       "      <td>X360</td>\n",
       "      <td>2012</td>\n",
       "      <td>Shooter</td>\n",
       "      <td>6.65</td>\n",
       "      <td>2.28</td>\n",
       "      <td>0.04</td>\n",
       "      <td>0.74</td>\n",
       "      <td>87.0</td>\n",
       "      <td>7.0</td>\n",
       "      <td>M</td>\n",
       "      <td>9.71</td>\n",
       "    </tr>\n",
       "    <tr>\n",
       "      <th>...</th>\n",
       "      <td>...</td>\n",
       "      <td>...</td>\n",
       "      <td>...</td>\n",
       "      <td>...</td>\n",
       "      <td>...</td>\n",
       "      <td>...</td>\n",
       "      <td>...</td>\n",
       "      <td>...</td>\n",
       "      <td>...</td>\n",
       "      <td>...</td>\n",
       "      <td>...</td>\n",
       "      <td>...</td>\n",
       "    </tr>\n",
       "    <tr>\n",
       "      <th>16540</th>\n",
       "      <td>Bullet Soul: Tama Tamashii</td>\n",
       "      <td>X360</td>\n",
       "      <td>2011</td>\n",
       "      <td>Shooter</td>\n",
       "      <td>0.00</td>\n",
       "      <td>0.00</td>\n",
       "      <td>0.01</td>\n",
       "      <td>0.00</td>\n",
       "      <td>NaN</td>\n",
       "      <td>NaN</td>\n",
       "      <td>N/A</td>\n",
       "      <td>0.01</td>\n",
       "    </tr>\n",
       "    <tr>\n",
       "      <th>16576</th>\n",
       "      <td>DoDonPachi Daifukkatsu: Black Label</td>\n",
       "      <td>X360</td>\n",
       "      <td>2011</td>\n",
       "      <td>Shooter</td>\n",
       "      <td>0.00</td>\n",
       "      <td>0.00</td>\n",
       "      <td>0.01</td>\n",
       "      <td>0.00</td>\n",
       "      <td>NaN</td>\n",
       "      <td>NaN</td>\n",
       "      <td>N/A</td>\n",
       "      <td>0.01</td>\n",
       "    </tr>\n",
       "    <tr>\n",
       "      <th>16613</th>\n",
       "      <td>Dragon Ball Z for Kinect</td>\n",
       "      <td>X360</td>\n",
       "      <td>2012</td>\n",
       "      <td>Fighting</td>\n",
       "      <td>0.01</td>\n",
       "      <td>0.00</td>\n",
       "      <td>0.00</td>\n",
       "      <td>0.00</td>\n",
       "      <td>49.0</td>\n",
       "      <td>2.1</td>\n",
       "      <td>T</td>\n",
       "      <td>0.01</td>\n",
       "    </tr>\n",
       "    <tr>\n",
       "      <th>16647</th>\n",
       "      <td>Metal Gear Solid HD Edition</td>\n",
       "      <td>X360</td>\n",
       "      <td>2011</td>\n",
       "      <td>Action</td>\n",
       "      <td>0.00</td>\n",
       "      <td>0.00</td>\n",
       "      <td>0.01</td>\n",
       "      <td>0.00</td>\n",
       "      <td>NaN</td>\n",
       "      <td>NaN</td>\n",
       "      <td>M</td>\n",
       "      <td>0.01</td>\n",
       "    </tr>\n",
       "    <tr>\n",
       "      <th>16654</th>\n",
       "      <td>Ben 10 Omniverse 2</td>\n",
       "      <td>X360</td>\n",
       "      <td>2013</td>\n",
       "      <td>Action</td>\n",
       "      <td>0.00</td>\n",
       "      <td>0.01</td>\n",
       "      <td>0.00</td>\n",
       "      <td>0.00</td>\n",
       "      <td>NaN</td>\n",
       "      <td>5.1</td>\n",
       "      <td>E10+</td>\n",
       "      <td>0.01</td>\n",
       "    </tr>\n",
       "  </tbody>\n",
       "</table>\n",
       "<p>498 rows × 12 columns</p>\n",
       "</div>"
      ],
      "text/plain": [
       "                                      name platform  year_of_release  \\\n",
       "23                      Grand Theft Auto V     X360             2013   \n",
       "29          Call of Duty: Modern Warfare 3     X360             2011   \n",
       "35              Call of Duty: Black Ops II     X360             2012   \n",
       "60                    Call of Duty: Ghosts     X360             2013   \n",
       "66                                  Halo 4     X360             2012   \n",
       "...                                    ...      ...              ...   \n",
       "16540           Bullet Soul: Tama Tamashii     X360             2011   \n",
       "16576  DoDonPachi Daifukkatsu: Black Label     X360             2011   \n",
       "16613             Dragon Ball Z for Kinect     X360             2012   \n",
       "16647          Metal Gear Solid HD Edition     X360             2011   \n",
       "16654                   Ben 10 Omniverse 2     X360             2013   \n",
       "\n",
       "          genre  na_sales  eu_sales  jp_sales  other_sales  critic_score  \\\n",
       "23       Action      9.66      5.14      0.06         1.41          97.0   \n",
       "29      Shooter      9.04      4.24      0.13         1.32          88.0   \n",
       "35      Shooter      8.25      4.24      0.07         1.12          83.0   \n",
       "60      Shooter      6.73      2.56      0.04         0.91          73.0   \n",
       "66      Shooter      6.65      2.28      0.04         0.74          87.0   \n",
       "...         ...       ...       ...       ...          ...           ...   \n",
       "16540   Shooter      0.00      0.00      0.01         0.00           NaN   \n",
       "16576   Shooter      0.00      0.00      0.01         0.00           NaN   \n",
       "16613  Fighting      0.01      0.00      0.00         0.00          49.0   \n",
       "16647    Action      0.00      0.00      0.01         0.00           NaN   \n",
       "16654    Action      0.00      0.01      0.00         0.00           NaN   \n",
       "\n",
       "       user_score rating  all_sales  \n",
       "23            8.1      M      16.27  \n",
       "29            3.4      M      14.73  \n",
       "35            4.8      M      13.68  \n",
       "60            2.6      M      10.24  \n",
       "66            7.0      M       9.71  \n",
       "...           ...    ...        ...  \n",
       "16540         NaN    N/A       0.01  \n",
       "16576         NaN    N/A       0.01  \n",
       "16613         2.1      T       0.01  \n",
       "16647         NaN      M       0.01  \n",
       "16654         5.1   E10+       0.01  \n",
       "\n",
       "[498 rows x 12 columns]"
      ]
     },
     "execution_count": 34,
     "metadata": {},
     "output_type": "execute_result"
    }
   ],
   "source": [
    "top_platf_data"
   ]
  },
  {
   "cell_type": "code",
   "execution_count": 35,
   "metadata": {},
   "outputs": [
    {
     "data": {
      "text/html": [
       "<div>\n",
       "<style scoped>\n",
       "    .dataframe tbody tr th:only-of-type {\n",
       "        vertical-align: middle;\n",
       "    }\n",
       "\n",
       "    .dataframe tbody tr th {\n",
       "        vertical-align: top;\n",
       "    }\n",
       "\n",
       "    .dataframe thead th {\n",
       "        text-align: right;\n",
       "    }\n",
       "</style>\n",
       "<table border=\"1\" class=\"dataframe\">\n",
       "  <thead>\n",
       "    <tr style=\"text-align: right;\">\n",
       "      <th></th>\n",
       "      <th>year_of_release</th>\n",
       "      <th>na_sales</th>\n",
       "      <th>eu_sales</th>\n",
       "      <th>jp_sales</th>\n",
       "      <th>other_sales</th>\n",
       "      <th>critic_score</th>\n",
       "      <th>user_score</th>\n",
       "      <th>all_sales</th>\n",
       "    </tr>\n",
       "  </thead>\n",
       "  <tbody>\n",
       "    <tr>\n",
       "      <th>year_of_release</th>\n",
       "      <td>1.000000</td>\n",
       "      <td>-0.052439</td>\n",
       "      <td>-0.040666</td>\n",
       "      <td>-0.210748</td>\n",
       "      <td>-0.049263</td>\n",
       "      <td>-0.006722</td>\n",
       "      <td>-0.213459</td>\n",
       "      <td>-0.051671</td>\n",
       "    </tr>\n",
       "    <tr>\n",
       "      <th>na_sales</th>\n",
       "      <td>-0.052439</td>\n",
       "      <td>1.000000</td>\n",
       "      <td>0.850696</td>\n",
       "      <td>0.569768</td>\n",
       "      <td>0.959724</td>\n",
       "      <td>0.374919</td>\n",
       "      <td>0.030382</td>\n",
       "      <td>0.980468</td>\n",
       "    </tr>\n",
       "    <tr>\n",
       "      <th>eu_sales</th>\n",
       "      <td>-0.040666</td>\n",
       "      <td>0.850696</td>\n",
       "      <td>1.000000</td>\n",
       "      <td>0.573675</td>\n",
       "      <td>0.954631</td>\n",
       "      <td>0.385802</td>\n",
       "      <td>0.048640</td>\n",
       "      <td>0.937267</td>\n",
       "    </tr>\n",
       "    <tr>\n",
       "      <th>jp_sales</th>\n",
       "      <td>-0.210748</td>\n",
       "      <td>0.569768</td>\n",
       "      <td>0.573675</td>\n",
       "      <td>1.000000</td>\n",
       "      <td>0.603274</td>\n",
       "      <td>0.326751</td>\n",
       "      <td>0.122042</td>\n",
       "      <td>0.598776</td>\n",
       "    </tr>\n",
       "    <tr>\n",
       "      <th>other_sales</th>\n",
       "      <td>-0.049263</td>\n",
       "      <td>0.959724</td>\n",
       "      <td>0.954631</td>\n",
       "      <td>0.603274</td>\n",
       "      <td>1.000000</td>\n",
       "      <td>0.390670</td>\n",
       "      <td>0.039601</td>\n",
       "      <td>0.993561</td>\n",
       "    </tr>\n",
       "    <tr>\n",
       "      <th>critic_score</th>\n",
       "      <td>-0.006722</td>\n",
       "      <td>0.374919</td>\n",
       "      <td>0.385802</td>\n",
       "      <td>0.326751</td>\n",
       "      <td>0.390670</td>\n",
       "      <td>1.000000</td>\n",
       "      <td>0.568386</td>\n",
       "      <td>0.391253</td>\n",
       "    </tr>\n",
       "    <tr>\n",
       "      <th>user_score</th>\n",
       "      <td>-0.213459</td>\n",
       "      <td>0.030382</td>\n",
       "      <td>0.048640</td>\n",
       "      <td>0.122042</td>\n",
       "      <td>0.039601</td>\n",
       "      <td>0.568386</td>\n",
       "      <td>1.000000</td>\n",
       "      <td>0.038918</td>\n",
       "    </tr>\n",
       "    <tr>\n",
       "      <th>all_sales</th>\n",
       "      <td>-0.051671</td>\n",
       "      <td>0.980468</td>\n",
       "      <td>0.937267</td>\n",
       "      <td>0.598776</td>\n",
       "      <td>0.993561</td>\n",
       "      <td>0.391253</td>\n",
       "      <td>0.038918</td>\n",
       "      <td>1.000000</td>\n",
       "    </tr>\n",
       "  </tbody>\n",
       "</table>\n",
       "</div>"
      ],
      "text/plain": [
       "                 year_of_release  na_sales  eu_sales  jp_sales  other_sales  \\\n",
       "year_of_release         1.000000 -0.052439 -0.040666 -0.210748    -0.049263   \n",
       "na_sales               -0.052439  1.000000  0.850696  0.569768     0.959724   \n",
       "eu_sales               -0.040666  0.850696  1.000000  0.573675     0.954631   \n",
       "jp_sales               -0.210748  0.569768  0.573675  1.000000     0.603274   \n",
       "other_sales            -0.049263  0.959724  0.954631  0.603274     1.000000   \n",
       "critic_score           -0.006722  0.374919  0.385802  0.326751     0.390670   \n",
       "user_score             -0.213459  0.030382  0.048640  0.122042     0.039601   \n",
       "all_sales              -0.051671  0.980468  0.937267  0.598776     0.993561   \n",
       "\n",
       "                 critic_score  user_score  all_sales  \n",
       "year_of_release     -0.006722   -0.213459  -0.051671  \n",
       "na_sales             0.374919    0.030382   0.980468  \n",
       "eu_sales             0.385802    0.048640   0.937267  \n",
       "jp_sales             0.326751    0.122042   0.598776  \n",
       "other_sales          0.390670    0.039601   0.993561  \n",
       "critic_score         1.000000    0.568386   0.391253  \n",
       "user_score           0.568386    1.000000   0.038918  \n",
       "all_sales            0.391253    0.038918   1.000000  "
      ]
     },
     "execution_count": 35,
     "metadata": {},
     "output_type": "execute_result"
    }
   ],
   "source": [
    "top_platf_data.corr()"
   ]
  },
  {
   "cell_type": "code",
   "execution_count": 36,
   "metadata": {},
   "outputs": [
    {
     "name": "stdout",
     "output_type": "stream",
     "text": [
      "Корреляция: 0.39\n"
     ]
    },
    {
     "data": {
      "image/png": "[encoded data removed]",
      "text/plain": [
       "<Figure size 432x288 with 1 Axes>"
      ]
     },
     "metadata": {
      "needs_background": "light"
     },
     "output_type": "display_data"
    }
   ],
   "source": [
    "sns.scatterplot(x=top_platf_data['critic_score'], y=top_platf_data['all_sales']);\n",
    "critic_corr = top_platf_data['critic_score'].corr(top_platf_data['all_sales'])\n",
    "plt.title('График корреляции между оценками критиков и продажами игр на Х360')\n",
    "plt.xlabel('Оценки критиков')\n",
    "plt.ylabel('Общие продажи игр')\n",
    "print(f'Корреляция: {critic_corr:.2f}')"
   ]
  },
  {
   "cell_type": "code",
   "execution_count": 37,
   "metadata": {},
   "outputs": [
    {
     "name": "stdout",
     "output_type": "stream",
     "text": [
      "Корреляция: 0.04\n"
     ]
    },
    {
     "data": {
      "image/png": "[encoded data removed]",
      "text/plain": [
       "<Figure size 432x288 with 1 Axes>"
      ]
     },
     "metadata": {
      "needs_background": "light"
     },
     "output_type": "display_data"
    }
   ],
   "source": [
    "sns.scatterplot(x=top_platf_data['user_score'], y=top_platf_data['all_sales']);\n",
    "user_corr = top_platf_data['user_score'].corr(top_platf_data['all_sales'])\n",
    "plt.title('График корреляции между оценками пользователей и продажами игр на Х360')\n",
    "plt.xlabel('Оценки игроков')\n",
    "plt.ylabel('Общие продажи игр')\n",
    "print(f'Корреляция: {user_corr:.2f}')"
   ]
  },
  {
   "cell_type": "markdown",
   "metadata": {},
   "source": [
    "**ВЫВОД**\n",
    "__________________\n",
    "Корреляция между оценкми критиков и продажами игр на Х360: 0.35, это может указывать на наличие некоторой положительной связи между оценками критиков и объемом продаж игр. Но коэффициент корреляции 0.35 не очень сильный, следовательно, связь не очень сильная.\n",
    "_______________________________________________\n",
    "Корреляция между оценками пользователей и продажами игр на Х360:-0.03, указывает на отсутствует явной связи между оценками пользователей и объем продаж игр."
   ]
  },
  {
   "cell_type": "code",
   "execution_count": 38,
   "metadata": {},
   "outputs": [
    {
     "name": "stdout",
     "output_type": "stream",
     "text": [
      "Корреляция: 0.33\n"
     ]
    },
    {
     "data": {
      "image/png": "[encoded data removed]",
      "text/plain": [
       "<Figure size 432x288 with 1 Axes>"
      ]
     },
     "metadata": {
      "needs_background": "light"
     },
     "output_type": "display_data"
    }
   ],
   "source": [
    "sns.scatterplot(x=sort_years['critic_score'], y=sort_years['all_sales']);\n",
    "critic_all_corr = sort_years['critic_score'].corr(sort_years['all_sales'])\n",
    "plt.title('График корреляции между оценками критиков и продажами игр')\n",
    "plt.xlabel('Оценки критиков')\n",
    "plt.ylabel('Общие продажи игр')\n",
    "print(f'Корреляция: {critic_all_corr:.2f}')"
   ]
  },
  {
   "cell_type": "code",
   "execution_count": 39,
   "metadata": {},
   "outputs": [
    {
     "name": "stdout",
     "output_type": "stream",
     "text": [
      "Корреляция:0.03\n"
     ]
    },
    {
     "data": {
      "image/png": "[encoded data removed]",
      "text/plain": [
       "<Figure size 432x288 with 1 Axes>"
      ]
     },
     "metadata": {
      "needs_background": "light"
     },
     "output_type": "display_data"
    }
   ],
   "source": [
    "sns.scatterplot(x=sort_years['user_score'], y=sort_years['all_sales']);\n",
    "user_all_corr = sort_years['user_score'].corr(sort_years['all_sales'])\n",
    "plt.title('График корреляции между оценками пользователей и продажами игр')\n",
    "plt.xlabel('Оценки игроков')\n",
    "plt.ylabel('Общие продажи игр')\n",
    "print(f'Корреляция:{user_all_corr:.2f}')"
   ]
  },
  {
   "cell_type": "markdown",
   "metadata": {},
   "source": [
    "##### Вывод\n",
    "Рассмотрев корреляции оценок (пользователй и критиков) на продажи игр, как на Х360, так и на другие платформы, мы видим, что отзывы пользовтаелей играют менее существенную роль, чем отзывы критиков, но и последние имеют не очень сильное влияние на продажи."
   ]
  },
  {
   "cell_type": "markdown",
   "metadata": {},
   "source": [
    "#### Посмотрим на общее распределение игр по жанрам. \n",
    "Что можно сказать о самых прибыльных жанрах? Выделяются ли жанры с высокими и низкими продажами?"
   ]
  },
  {
   "cell_type": "markdown",
   "metadata": {},
   "source": [
    "Какие жанры представлены:\n",
    "- Sports (Спортивные) - игры, связанные с различными видами спорта, такими как футбол, баскетбол, теннис и другие.\n",
    "- Platform (Платформеры) - игры, где основной геймплей связан с передвижением персонажа по платформам и преодолением препятствий.\n",
    "- Racing (Гонки) - игры, посвященные автогонкам, мотогонкам или другим видам гоночного спорта.\n",
    "- Role-Playing (Ролевые) - игры, где игрок контролирует персонажа и принимает решения, влияющие на развитие сюжета и ход игры.\n",
    "- Puzzle (Головоломки) - игры, основанные на решении различных головоломок и головоломок.\n",
    "- Misc (Разнообразные) - игры, которые не попадают в определенный жанр или имеют комбинацию различных жанров.\n",
    "- Shooter (Шутеры) - игры, где основной геймплей связан с использованием оружия для уничтожения врагов.\n",
    "- Simulation (Симуляторы) - игры, имитирующие реальные процессы или ситуации, такие как симуляторы жизни, авиасимуляторы и т. д.\n",
    "- Action (Экшн) - игры, с активным и динамичным геймплеем, включающие сражения, платформинг и другие действия.\n",
    "- Fighting (Файтинги) - игры, где игроки управляют бойцами и сражаются друг с другом в рукопашном бою.\n",
    "- Adventure (Приключения) - игры, где основной упор делается на сюжет и исследование мира, решение головоломок и выполнение заданий.\n",
    "- Strategy (Стратегии) - игры, где игроку предстоит управлять ресурсами, принимать стратегические решения и вести битвы с другими игроками или компьютерными противниками."
   ]
  },
  {
   "cell_type": "code",
   "execution_count": 40,
   "metadata": {
    "scrolled": false
   },
   "outputs": [],
   "source": [
    "genre_sales = data.groupby('genre')['all_sales'].median().sort_values(ascending=False).reset_index()"
   ]
  },
  {
   "cell_type": "code",
   "execution_count": 41,
   "metadata": {
    "scrolled": false
   },
   "outputs": [
    {
     "data": {
      "image/png": "[encoded data removed]",
      "text/plain": [
       "<Figure size 432x288 with 1 Axes>"
      ]
     },
     "metadata": {},
     "output_type": "display_data"
    }
   ],
   "source": [
    "# создаем график, на котором отображаем медианные продажи по жанрам\n",
    "sns.set(style=\"whitegrid\")\n",
    "ax = sns.barplot(x=genre_sales['genre'], y='all_sales', data=genre_sales)\n",
    "ax.set(xlabel='Жанр', ylabel='Медианная продажа', title='Распределение медианных продаж по жанрам')\n",
    "plt.xticks(rotation=90)\n",
    "plt.show()"
   ]
  },
  {
   "cell_type": "markdown",
   "metadata": {},
   "source": [
    "##### Вывод\n",
    "\n",
    "Самыми прибыльными жанрами являются: Platform, Shooter, Sports, Role-Playing и Racing.\n",
    "\n",
    "Выделяются жанры с высокими и низкими продажами. Например, жанр Action имеет медианные продажи выше среднего значения, но при этом существенно отстает от лидеров. \n",
    "\n",
    "А жанры Adventure и Puzzle имеют медианные продажи значительно ниже среднего значения.\n",
    "_________\n",
    "**При этом практически половину (43,8%) объема рынка занимают три жанра: Action 22.6%,  Shooter 11.0%, Role-Playing\t10.2%**"
   ]
  },
  {
   "cell_type": "markdown",
   "metadata": {},
   "source": [
    "#####                                                             \n",
    " \n",
    "                                               ВЫВОД ИССЛЕДОВАТЕЛЬСКОГО АНАЛИЗА\n",
    "\n",
    "**Исследовав рынок игр за 2011-2016 год, мы можем сделать некоторые выводы.**\n",
    "\n",
    "Самые успешные и потенциально прибыльные платформы это **PS3, X360, PS4**.Но в этой тройке **лучше всех себя показала Х360.**\n",
    "______________ \n",
    "5 самых популярных жанров игр это **Экшн(Action), Шутеры(Shooter), Ролевые(Role-Playing), Спортивные(Sports) и Разнообразные (Misc).При этом практически половину (49%) объема рынка занимают два жанра: Action 28.5%, Shooter 20.6%**\n",
    "_______________\n",
    "По нашим расчетам видно, что **оценки критиков имеют небольшое положительное влияние на продажи игр, а оценки пользователей не влияют.**\n",
    "                                 "
   ]
  },
  {
   "cell_type": "markdown",
   "metadata": {},
   "source": [
    "### Составлем портрет пользователя каждого региона"
   ]
  },
  {
   "cell_type": "markdown",
   "metadata": {},
   "source": [
    "NA_sales — продажи в Северной Америке (миллионы проданных копий)\n",
    "\n",
    "EU_sales — продажи в Европе (миллионы проданных копий)\n",
    "\n",
    "JP_sales — продажи в Японии (миллионы проданных копий)\n",
    "\n",
    "____________________\n",
    "Определите для пользователя каждого региона (NA, EU, JP):\n",
    " - Самые популярные платформы (топ-5). Опишите различия в долях продаж.\n",
    " - Самые популярные жанры (топ-5). Поясните разницу.\n",
    " - Влияет ли рейтинг ESRB на продажи в отдельном регионе?\n"
   ]
  },
  {
   "cell_type": "markdown",
   "metadata": {},
   "source": [
    "##### Пользователь из Северной Америки (NA)"
   ]
  },
  {
   "cell_type": "markdown",
   "metadata": {},
   "source": [
    "Для того чтобы ответить на вопросы, мы будем использовать метод groupby, группируя продажи по региону и платформам, жанрам и рейтингу."
   ]
  },
  {
   "cell_type": "code",
   "execution_count": 42,
   "metadata": {},
   "outputs": [
    {
     "data": {
      "text/plain": [
       "platform\n",
       "X360    226.80\n",
       "PS3     168.26\n",
       "PS4     108.74\n",
       "XOne     93.12\n",
       "3DS      82.65\n",
       "Name: na_sales, dtype: float64"
      ]
     },
     "execution_count": 42,
     "metadata": {},
     "output_type": "execute_result"
    }
   ],
   "source": [
    "user_na_platform = sort_years.groupby('platform')['na_sales'].sum().sort_values(ascending=False)\n",
    "user_na_platform.head(5)"
   ]
  },
  {
   "cell_type": "markdown",
   "metadata": {},
   "source": [
    "**Самые популярные платформы X360, PS3, PS4, XOne, 3DS**"
   ]
  },
  {
   "cell_type": "code",
   "execution_count": 43,
   "metadata": {},
   "outputs": [
    {
     "data": {
      "image/png": "[encoded data removed]",
      "text/plain": [
       "<Figure size 576x432 with 1 Axes>"
      ]
     },
     "metadata": {},
     "output_type": "display_data"
    }
   ],
   "source": [
    "user_na_platform = sort_years.groupby('platform')['na_sales'].sum().sort_values(ascending=False)\n",
    "na_sales_share = ((user_na_platform.head(5) / user_na_platform.head(5).sum()) * 100).round(2)\n",
    "\n",
    "plt.figure(figsize=(8, 6))\n",
    "plt.pie(na_sales_share, labels=na_sales_share.index, autopct='%1.1f%%')\n",
    "plt.title('Доля продаж в Северной Америке по платформам')\n",
    "plt.show()"
   ]
  },
  {
   "cell_type": "markdown",
   "metadata": {},
   "source": [
    "**По круговой диаграмме мы видим, что больше половины продаж в Северной Америке приходится на Х360 и PS3.\n",
    "Остальную половину делят PS4, XOne, 3DS**"
   ]
  },
  {
   "cell_type": "code",
   "execution_count": 44,
   "metadata": {
    "scrolled": true
   },
   "outputs": [
    {
     "data": {
      "text/plain": [
       "genre\n",
       "Action          230.92\n",
       "Shooter         194.43\n",
       "Sports          108.70\n",
       "Role-Playing     83.78\n",
       "Misc             69.69\n",
       "Name: na_sales, dtype: float64"
      ]
     },
     "execution_count": 44,
     "metadata": {},
     "output_type": "execute_result"
    }
   ],
   "source": [
    "user_na_genre = sort_years.groupby('genre')['na_sales'].sum().sort_values(ascending=False)\n",
    "top_na_genre = user_na_genre.head(5)\n",
    "top_na_genre"
   ]
  },
  {
   "cell_type": "code",
   "execution_count": 45,
   "metadata": {},
   "outputs": [
    {
     "data": {
      "image/png": "[encoded data removed]",
      "text/plain": [
       "<Figure size 432x288 with 1 Axes>"
      ]
     },
     "metadata": {},
     "output_type": "display_data"
    }
   ],
   "source": [
    "colors = ['orange', 'green', 'red', 'grey', 'pink']\n",
    "plt.bar(top_na_genre.index, top_na_genre.values, color=colors)\n",
    "plt.xlabel('Жанр')\n",
    "plt.ylabel('Продажи (миллионы копий)')\n",
    "plt.title('Топ-5 жанров по продажам в Северной Америке')\n",
    "plt.show()"
   ]
  },
  {
   "cell_type": "markdown",
   "metadata": {},
   "source": [
    "**Топ 5 продаваемых жанров это Action, Shooter, Sports, Role-Playing, Misc** \n",
    "Разница между этими жанрами заключается в объеме продаж в регионе NA. Жанры \"Action\" и \"Shooter\" являются самыми популярными и приносят наибольшие продажи, за ними следуют \"Sports\", \"Role-Playing\" и \"Misc\"."
   ]
  },
  {
   "cell_type": "code",
   "execution_count": 46,
   "metadata": {},
   "outputs": [
    {
     "data": {
      "image/png": "[encoded data removed]",
      "text/plain": [
       "<Figure size 432x288 with 1 Axes>"
      ]
     },
     "metadata": {},
     "output_type": "display_data"
    }
   ],
   "source": [
    "user_na_rating = sort_years.pivot_table(index='rating', values='na_sales', aggfunc='sum')\n",
    "user_na_rating.plot(kind='bar', y='na_sales', legend=False)\n",
    "plt.title('Продажи в регионе NA по рейтингу ESRB')\n",
    "plt.xlabel('Рейтинг ESRB')\n",
    "plt.ylabel('Продажи (миллионы копий)')\n",
    "plt.show()"
   ]
  },
  {
   "cell_type": "markdown",
   "metadata": {},
   "source": [
    "Вспомним обозначения рейтинга:\n",
    "\n",
    "- 'E' Подходит для всех возрастных категорий.\n",
    "- 'M' Подходит для лиц старше 17 лет.\n",
    "- 'T' Подходит для лиц старше 13 лет.\n",
    "- 'E10+' Подходит для лиц старше 10 лет.\n",
    "- 'AO' Подходит для взрослых старше 18 лет.\n",
    "- 'EC' Для детей младшего возраста. Подходит для детей от 3 лет\n",
    "- 'RP' Категория ещё не присвоена."
   ]
  },
  {
   "cell_type": "markdown",
   "metadata": {},
   "source": [
    "**Для жителей Северной Америки характерно покупать игры категорий: 'M' Подходит для лиц старше 17 лет, 'E' Подходит для всех возрастных категорий, 'E10+' Подходит для лиц старше 10 лет** "
   ]
  },
  {
   "cell_type": "markdown",
   "metadata": {},
   "source": [
    "##### Портрет пользователя из Северной Америки (NA):\n",
    "\n",
    "- Возраст: Скорее всего старше 17 лет, так как предпочитает игры с рейтингом \"M\" (для лиц старше 17 лет) или \"E10+\" (для лиц старше 10 лет).\n",
    "- Интересы: Предпочтение жанров \"Action\", \"Shooter\"\n",
    "- Платформы: Играет на платформах Xbox 360 (X360), PlayStation 3 (PS3)"
   ]
  },
  {
   "cell_type": "markdown",
   "metadata": {},
   "source": [
    "##### Пользователь из Европы (EU)"
   ]
  },
  {
   "cell_type": "code",
   "execution_count": 47,
   "metadata": {},
   "outputs": [
    {
     "data": {
      "text/plain": [
       "platform\n",
       "PS3     163.10\n",
       "PS4     141.09\n",
       "X360    117.10\n",
       "3DS      61.27\n",
       "PC       56.70\n",
       "Name: eu_sales, dtype: float64"
      ]
     },
     "execution_count": 47,
     "metadata": {},
     "output_type": "execute_result"
    }
   ],
   "source": [
    "user_eu_platform = sort_years.groupby('platform')['eu_sales'].sum().sort_values(ascending=False)\n",
    "user_eu_platform.head(5)"
   ]
  },
  {
   "cell_type": "markdown",
   "metadata": {},
   "source": [
    "**Самые популярные платформы PS3, PS4, X360, 3DS и РС**"
   ]
  },
  {
   "cell_type": "code",
   "execution_count": 48,
   "metadata": {},
   "outputs": [
    {
     "data": {
      "image/png": "[encoded data removed]",
      "text/plain": [
       "<Figure size 576x432 with 1 Axes>"
      ]
     },
     "metadata": {},
     "output_type": "display_data"
    }
   ],
   "source": [
    "# Рассчет долей продаж для каждой платформы в процентах от суммы продаж в Европе\n",
    "user_eu_platform = sort_years.groupby('platform')['eu_sales'].sum().sort_values(ascending=False)\n",
    "eu_sales_share = ((user_eu_platform.head(5) / user_eu_platform.head(5).sum()) * 100).round(2)\n",
    "\n",
    "plt.figure(figsize=(8, 6))\n",
    "plt.pie(eu_sales_share, labels=eu_sales_share.index, autopct='%1.1f%%')\n",
    "plt.title('Доля продаж в Европе по платформам')\n",
    "plt.show()"
   ]
  },
  {
   "cell_type": "markdown",
   "metadata": {},
   "source": [
    "**По круговой диаграмме мы видим, что больше половины продаж в Европе приходится на PS4 и PS3. Остальную половину делят X360, 3DS и PC**"
   ]
  },
  {
   "cell_type": "code",
   "execution_count": 49,
   "metadata": {},
   "outputs": [
    {
     "data": {
      "image/png": "[encoded data removed]",
      "text/plain": [
       "<Figure size 432x288 with 1 Axes>"
      ]
     },
     "metadata": {},
     "output_type": "display_data"
    }
   ],
   "source": [
    "user_eu_genre = sort_years.groupby('genre')['eu_sales'].sum().sort_values(ascending=False)\n",
    "top_eu_genre = user_eu_genre.head(5)\n",
    "colors = ['orange', 'green', 'red', 'grey', 'pink']\n",
    "plt.bar(top_eu_genre.index, top_eu_genre.values, color=colors)\n",
    "plt.xlabel('Жанр')\n",
    "plt.ylabel('Продажи (миллионы копий)')\n",
    "plt.title('Топ-5 жанров по продажам в Европе')\n",
    "plt.show()"
   ]
  },
  {
   "cell_type": "markdown",
   "metadata": {},
   "source": [
    "**Топ 5 продаваемых жанров это Action, Shooter, Sports, Role-Playing, Racing** \n",
    "Разница между этими жанрами заключается в объеме продаж. Жанры \"Action\" и \"Shooter\" являются самыми популярными и приносят наибольшие продажи, за ними следуют \"Sports\", \"Role-Playing\" и \"Racing\"."
   ]
  },
  {
   "cell_type": "code",
   "execution_count": 50,
   "metadata": {},
   "outputs": [
    {
     "data": {
      "image/png": "[encoded data removed]",
      "text/plain": [
       "<Figure size 432x288 with 1 Axes>"
      ]
     },
     "metadata": {},
     "output_type": "display_data"
    }
   ],
   "source": [
    "user_eu_rating = sort_years.pivot_table(index='rating', values='eu_sales', aggfunc='sum')\n",
    "user_eu_rating.plot(kind='bar', y='eu_sales', legend=False)\n",
    "plt.title('Продажи в регионе EU по рейтингу ESRB')\n",
    "plt.xlabel('Рейтинг ESRB')\n",
    "plt.ylabel('Продажи (миллионы копий)')\n",
    "plt.show()"
   ]
  },
  {
   "cell_type": "markdown",
   "metadata": {},
   "source": [
    "**Для жителей Европы характерно покупать игры категорий: 'M' Подходит для лиц старше 17 лет, 'E' Подходит для всех возрастных категорий** "
   ]
  },
  {
   "cell_type": "markdown",
   "metadata": {},
   "source": [
    "##### Портрет пользователя из Европы (EU):\n",
    "\n",
    "- Возраст: Скорее всего старше 17 лет, так как предпочитает игры с рейтингом \"M\" (для лиц старше 17 лет) или \"E10+\" (для лиц старше 10 лет).\n",
    "- Интересы: Предпочтение жанров \"Action\", \"Shooter\"\n",
    "- Платформы: Играет на платформах  PlayStation 3 (PS3), PlayStation 4 (PS4)"
   ]
  },
  {
   "cell_type": "markdown",
   "metadata": {},
   "source": [
    "##### Пользователь из Японии (JP)"
   ]
  },
  {
   "cell_type": "code",
   "execution_count": 51,
   "metadata": {},
   "outputs": [
    {
     "data": {
      "text/plain": [
       "platform\n",
       "3DS    100.62\n",
       "PS3     49.39\n",
       "PSP     24.04\n",
       "PSV     21.84\n",
       "PS4     15.96\n",
       "Name: jp_sales, dtype: float64"
      ]
     },
     "execution_count": 51,
     "metadata": {},
     "output_type": "execute_result"
    }
   ],
   "source": [
    "user_jp_platform = sort_years.groupby('platform')['jp_sales'].sum().sort_values(ascending=False)\n",
    "user_jp_platform.head(5)"
   ]
  },
  {
   "cell_type": "markdown",
   "metadata": {},
   "source": [
    "**Самые популярные платформы 3DS, PS3, PSP, PSV и РS4**"
   ]
  },
  {
   "cell_type": "code",
   "execution_count": 52,
   "metadata": {},
   "outputs": [
    {
     "data": {
      "image/png": "[encoded data removed]",
      "text/plain": [
       "<Figure size 576x432 with 1 Axes>"
      ]
     },
     "metadata": {},
     "output_type": "display_data"
    }
   ],
   "source": [
    "jp_sales_share = ((user_jp_platform.head(5) / user_jp_platform.head(5).sum()) * 100).round(2)\n",
    "\n",
    "plt.figure(figsize=(8, 6))\n",
    "plt.pie(jp_sales_share, labels=jp_sales_share.index, autopct='%1.1f%%')\n",
    "plt.title('Доля продаж в Японии по платформам')\n",
    "plt.show()"
   ]
  },
  {
   "cell_type": "markdown",
   "metadata": {},
   "source": [
    "**По круговой диаграмме мы видим, что практически половину рынка занимает 3DS (Nintendo), остальная часть приходится на PS3,   \n",
    "PSP, PSV, PS4**   "
   ]
  },
  {
   "cell_type": "code",
   "execution_count": 53,
   "metadata": {},
   "outputs": [
    {
     "data": {
      "image/png": "[encoded data removed]",
      "text/plain": [
       "<Figure size 432x288 with 1 Axes>"
      ]
     },
     "metadata": {},
     "output_type": "display_data"
    }
   ],
   "source": [
    "user_jp_genre = sort_years.groupby('genre')['jp_sales'].sum().sort_values(ascending=False)\n",
    "top_jp_genre = user_jp_genre.head(5)\n",
    "colors = ['orange', 'green', 'red', 'grey', 'pink']\n",
    "plt.bar(top_jp_genre.index, top_jp_genre.values, color=colors)\n",
    "plt.xlabel('Жанр')\n",
    "plt.ylabel('Продажи (миллионы копий)')\n",
    "plt.title('Топ-5 жанров по продажам в Японии')\n",
    "plt.show()"
   ]
  },
  {
   "cell_type": "markdown",
   "metadata": {},
   "source": [
    "**Топ 5 продаваемых жанров это Role-Playing, Action, Misc, Fighting, Platform** "
   ]
  },
  {
   "cell_type": "code",
   "execution_count": 54,
   "metadata": {},
   "outputs": [
    {
     "data": {
      "image/png": "[encoded data removed]",
      "text/plain": [
       "<Figure size 432x288 with 1 Axes>"
      ]
     },
     "metadata": {},
     "output_type": "display_data"
    }
   ],
   "source": [
    "user_jp_rating = sort_years.pivot_table(index='rating', values='jp_sales', aggfunc='sum')\n",
    "user_jp_rating.plot(kind='bar', y='jp_sales', legend=False)\n",
    "plt.title('Продажи в регионе jp по рейтингу ESRB')\n",
    "plt.xlabel('Рейтинг ESRB')\n",
    "plt.ylabel('Продажи (миллионы копий)')\n",
    "plt.show()"
   ]
  },
  {
   "cell_type": "markdown",
   "metadata": {},
   "source": [
    "**Для жителей Японии характерно покупать игры категорий: 'E' Подходит для всех возрастных категорий и \n",
    "'T' Подходит для лиц старше 13 лет.**"
   ]
  },
  {
   "cell_type": "markdown",
   "metadata": {},
   "source": [
    "##### Портрет пользователя из Японии (JP):\n",
    "- Возраст: Скорее всего играют пользователи всех возрастов\n",
    "- Интересы: Предпочтение жанров  \"Role-Playing\", \"Action\"\n",
    "- Платформы: Играет на платформах Nintendo(3DS) и PlayStation 3 (PS3)"
   ]
  },
  {
   "cell_type": "markdown",
   "metadata": {},
   "source": [
    "##### Вывод\n",
    "\n",
    "**Ожидаемо, пользователи Евпропы и Северной Америки очень похожи между собой и сильно отличаются от пользователей из Японии.**\n",
    "**Скорее всего это связано с тем, что между Японией и другими регионами большие различия в культуре и экономике.\n",
    "Японский рынок игр ориентирован на местные игры и платформы**\n"
   ]
  },
  {
   "cell_type": "markdown",
   "metadata": {},
   "source": [
    "### Проверяем гипотезы"
   ]
  },
  {
   "cell_type": "markdown",
   "metadata": {},
   "source": [
    "Средние пользовательские рейтинги платформ Xbox One и PC одинаковые;\n",
    "___________\n",
    "\n",
    "Средние пользовательские рейтинги жанров Action (англ. «действие», экшен-игры) и Sports (англ. «спортивные соревнования») разные."
   ]
  },
  {
   "cell_type": "markdown",
   "metadata": {},
   "source": [
    "#### Гипотеза 1"
   ]
  },
  {
   "cell_type": "markdown",
   "metadata": {},
   "source": [
    "1) Н0(нулевая гипотеза): Средние пользовательские рейтинги платформ Xbox One и PC одинаковые.\n",
    "\n",
    "2) Н1(альтернативная гипотеза): Средние пользовательские рейтинги платформ Xbox One и PC разные."
   ]
  },
  {
   "cell_type": "markdown",
   "metadata": {},
   "source": [
    "Для проверки этой гипотезы мы можем использовать t-тест для независимых выборок. Пользовательские рейтинги этих платформ являются независимыми выборками, так как оценки пользователей одной платформы не влияют на другую платформу."
   ]
  },
  {
   "cell_type": "code",
   "execution_count": 55,
   "metadata": {},
   "outputs": [],
   "source": [
    "# создадим выборки\n",
    "xone = sort_years[sort_years['platform'] == 'XOne']\n",
    "pc = sort_years[sort_years['platform'] == 'PC']\n",
    "\n",
    "# Удаление строк с пропусками в данных\n",
    "xone = xone.loc[~xone['user_score'].isna()]\n",
    "pc = pc.loc[~pc['user_score'].isna()]"
   ]
  },
  {
   "cell_type": "code",
   "execution_count": 56,
   "metadata": {},
   "outputs": [
    {
     "name": "stdout",
     "output_type": "stream",
     "text": [
      "Значение t-статистики: 0.48660071309601444\n",
      "Значение p-значения: 0.6267602271422398\n",
      "Не отвергаем нулевую гипотезу: средние значения одинаковые.\n"
     ]
    }
   ],
   "source": [
    "# Уровень значимости (alpha)\n",
    "alpha = 0.05\n",
    "\n",
    "# Проведение t-теста для гипотезы 1\n",
    "t_stat, p_value = stats.ttest_ind(xone['user_score'], pc['user_score']) \n",
    "print(\"Значение t-статистики:\", t_stat)\n",
    "print(\"Значение p-значения:\", p_value)\n",
    "\n",
    "# Сравнение p-значения с уровнем значимости alpha\n",
    "if p_value < alpha:\n",
    "    print(\"Отвергаем нулевую гипотезу: средние значения различаются.\")\n",
    "else:\n",
    "    print(\"Не отвергаем нулевую гипотезу: средние значения одинаковые.\")"
   ]
  },
  {
   "cell_type": "markdown",
   "metadata": {},
   "source": [
    "##### Вывод\n",
    "**Нет статистически значимых доказательств, что средние пользовательские рейтинги платформы Xbox One (XOne) и персонального компьютера (PC) различаются. Мы не можем сделать вывод о том, что одна из платформ имеет значительно отличающиеся пользовательские оценки относительно другой.**"
   ]
  },
  {
   "cell_type": "markdown",
   "metadata": {},
   "source": [
    "#### Гипотеза 2"
   ]
  },
  {
   "cell_type": "markdown",
   "metadata": {},
   "source": [
    "1) H0 (нулевая гипотеза): Средние пользовательские рейтинги жанров Action и Sports одинаковые.\n",
    "\n",
    "2) H1 (альтернативная гипотеза): Средние пользовательские рейтинги жанров Action и Sports различаются.\n",
    "\n",
    "Для проверки этой гипотезы также можем использовать t-тест для независимых выборок, так как сравниваемые выборки (пользовательские рейтинги жанров Action и Sports) являются независимыми."
   ]
  },
  {
   "cell_type": "code",
   "execution_count": 57,
   "metadata": {},
   "outputs": [],
   "source": [
    "# создадим выборки\n",
    "action = sort_years[sort_years['genre'] == 'Action']\n",
    "sports = sort_years[sort_years['genre'] == 'Sports']\n",
    "\n",
    "# Удаление строк с пропусками в данных\n",
    "action = action.loc[~action['user_score'].isna()]\n",
    "sports = sports.loc[~sports['user_score'].isna()]"
   ]
  },
  {
   "cell_type": "code",
   "execution_count": 58,
   "metadata": {
    "scrolled": true
   },
   "outputs": [
    {
     "name": "stdout",
     "output_type": "stream",
     "text": [
      "Значение t-статистики: 10.399926387716395\n",
      "Значение p-значения: 5.1974550252152054e-24\n",
      "Отвергаем нулевую гипотезу: средние значения различаются.\n"
     ]
    }
   ],
   "source": [
    "# Уровень значимости (alpha)\n",
    "alpha = 0.05\n",
    "\n",
    "# Проведение t-теста для гипотезы 2\n",
    "t_stat, p_value = stats.ttest_ind(action['user_score'], sports['user_score']) \n",
    "print(\"Значение t-статистики:\", t_stat)\n",
    "print(\"Значение p-значения:\", p_value)\n",
    "\n",
    "# Сравнение p-значения с уровнем значимости alpha\n",
    "if p_value < alpha:\n",
    "    print(\"Отвергаем нулевую гипотезу: средние значения различаются.\")\n",
    "else:\n",
    "    print(\"Не отвергаем нулевую гипотезу: средние значения одинаковые.\")"
   ]
  },
  {
   "cell_type": "markdown",
   "metadata": {},
   "source": [
    "##### Вывод\n",
    "**Мы можем отвергнуть нулевую гипотезу о их равенстве на выбранном уровне значимости. Это может указывать на то, что данные жанры имеют разные уровни популярности среди пользователей, и есть статистически значимые различия между их средними рейтингами.**"
   ]
  },
  {
   "cell_type": "markdown",
   "metadata": {},
   "source": [
    "#### \n",
    "Средние пользовательские рейтинги платформ Xbox One и PC одинаковые;\n",
    "\n",
    "**Да, рейтинги платформ Xbox One и PC одинаковые.**\n",
    "_________________________\n",
    "Средние пользовательские рейтинги жанров Action (англ. «действие», экшен-игры) и Sports (англ. «спортивные соревнования») разные.\n",
    "\n",
    "**Да, рейтинги жанров Action и Sports разные.**"
   ]
  },
  {
   "cell_type": "markdown",
   "metadata": {},
   "source": [
    "### ОБЩИЙ ВЫВОД РАБОТЫ"
   ]
  },
  {
   "cell_type": "markdown",
   "metadata": {},
   "source": [
    "В ходе работы были проведены изменения типов данных, предобработка данных (включая приведение названий колонок к нижнему регистру, изменение типа данных колонок \"year_of_release\" и \"user_score\", обработку пропущенных значений и создание нового столбца \"all_sales\"). Эти изменения были осуществлены для облегчения анализа и исправления ошибок в исходных данных.\n",
    "\n",
    "Рекомендации по сбору и хранению информации для заказчиков:\n",
    "\n",
    "- Обеспечить точность и полноту данных при их сборе из надежных источников, чтобы избегать искажений в результате анализа.\n",
    "\n",
    "- Регулярно проводить предобработку данных, включая приведение к единому формату, проверку на наличие пропущенных значений и их обработку, а также коррекцию типов данных, чтобы гарантировать корректность анализа.\n",
    "\n",
    "- Хранить данные в структурированном виде, таком как база данных или таблицы, с четкими именами колонок и удобными форматами данных, чтобы облегчить дальнейший анализ."
   ]
  },
  {
   "cell_type": "markdown",
   "metadata": {},
   "source": [
    "**Исследование рынка игр в Северной Америке, Европе и Японии за период 2011-2016 годов позволило выявить определенные закономерности успешности игр.**\n",
    "\n",
    " - Во всех трех регионах наиболее популярные платформы игр - это **Xbox 360 (X360) и PlayStation 3 (PS3)**. \n",
    "В Северной Америке и Европе PlayStation 4 (PS4) также является успешной платформой, в то время как в Японии предпочтение отдается Nintendo 3DS и PlayStation 3 (PS3).\n",
    "\n",
    "- Самые популярные жанры игр во всех трех регионах - это **Action (Экшн) и Shooter (Шутер)**. В Северной Америке и Европе также популярны Sports (Спортивные) и Misc (Разнообразные) игры, а в Японии особенно популярны Role-Playing (Ролевые) игры.\n",
    "\n",
    "Оценки критиков имеют небольшое положительное влияние на продажи игр, в то время как оценки пользователей не оказывают значительного влияния на успешность игры.\n",
    "\n",
    "**Таким образом, при планировании рекламных кампаний и разработке игр стоит обратить внимание на популярные платформы и жанры в соответствующих регионах, а также учесть мнение критиков, чтобы создать потенциально успешный продукт на рынке игр.**"
   ]
  }
 ],
 "metadata": {
  "ExecuteTimeLog": [
   {
    "duration": 3,
    "start_time": "2023-04-17T13:22:19.041Z"
   },
   {
    "duration": 792,
    "start_time": "2023-04-17T13:25:50.854Z"
   },
   {
    "duration": 150,
    "start_time": "2023-04-17T13:26:14.721Z"
   },
   {
    "duration": 38,
    "start_time": "2023-04-17T13:26:51.342Z"
   },
   {
    "duration": 413,
    "start_time": "2023-04-17T13:26:56.106Z"
   },
   {
    "duration": 10,
    "start_time": "2023-04-17T13:26:56.521Z"
   },
   {
    "duration": 53,
    "start_time": "2023-04-17T13:27:06.838Z"
   },
   {
    "duration": 22,
    "start_time": "2023-04-17T13:27:08.510Z"
   },
   {
    "duration": 15,
    "start_time": "2023-04-17T13:27:18.361Z"
   },
   {
    "duration": 14,
    "start_time": "2023-04-17T13:27:29.921Z"
   },
   {
    "duration": 30,
    "start_time": "2023-04-17T13:27:39.752Z"
   },
   {
    "duration": 107,
    "start_time": "2023-04-17T14:23:37.889Z"
   },
   {
    "duration": 12,
    "start_time": "2023-04-17T14:31:09.533Z"
   },
   {
    "duration": 29,
    "start_time": "2023-04-17T14:34:38.472Z"
   },
   {
    "duration": 962,
    "start_time": "2023-04-17T14:43:27.056Z"
   },
   {
    "duration": 19,
    "start_time": "2023-04-17T14:48:09.981Z"
   },
   {
    "duration": 3,
    "start_time": "2023-04-17T15:26:48.802Z"
   },
   {
    "duration": 23,
    "start_time": "2023-04-17T15:26:52.417Z"
   },
   {
    "duration": 8,
    "start_time": "2023-04-17T15:30:07.713Z"
   },
   {
    "duration": 6,
    "start_time": "2023-04-17T15:30:24.248Z"
   },
   {
    "duration": 13,
    "start_time": "2023-04-17T15:30:50.415Z"
   },
   {
    "duration": 5,
    "start_time": "2023-04-17T15:33:42.892Z"
   },
   {
    "duration": 6,
    "start_time": "2023-04-17T15:46:54.096Z"
   },
   {
    "duration": 6,
    "start_time": "2023-04-17T15:47:08.388Z"
   },
   {
    "duration": 5,
    "start_time": "2023-04-17T15:47:18.158Z"
   },
   {
    "duration": 20,
    "start_time": "2023-04-17T15:47:28.759Z"
   },
   {
    "duration": 3,
    "start_time": "2023-04-17T15:47:36.856Z"
   },
   {
    "duration": 51,
    "start_time": "2023-04-17T15:47:37.279Z"
   },
   {
    "duration": 21,
    "start_time": "2023-04-17T15:47:37.717Z"
   },
   {
    "duration": 16,
    "start_time": "2023-04-17T15:47:38.022Z"
   },
   {
    "duration": 30,
    "start_time": "2023-04-17T15:47:38.400Z"
   },
   {
    "duration": 11,
    "start_time": "2023-04-17T15:47:38.794Z"
   },
   {
    "duration": 23,
    "start_time": "2023-04-17T15:47:40.625Z"
   },
   {
    "duration": 5,
    "start_time": "2023-04-17T15:47:41.223Z"
   },
   {
    "duration": 5,
    "start_time": "2023-04-17T15:47:42.511Z"
   },
   {
    "duration": 12,
    "start_time": "2023-04-17T16:34:05.243Z"
   },
   {
    "duration": 5,
    "start_time": "2023-04-17T16:34:16.177Z"
   },
   {
    "duration": 42,
    "start_time": "2023-04-18T10:20:13.930Z"
   },
   {
    "duration": 758,
    "start_time": "2023-04-18T10:20:21.829Z"
   },
   {
    "duration": 178,
    "start_time": "2023-04-18T10:20:22.589Z"
   },
   {
    "duration": 21,
    "start_time": "2023-04-18T10:20:22.768Z"
   },
   {
    "duration": 12,
    "start_time": "2023-04-18T10:20:22.791Z"
   },
   {
    "duration": 23,
    "start_time": "2023-04-18T10:20:22.805Z"
   },
   {
    "duration": 8,
    "start_time": "2023-04-18T10:20:22.830Z"
   },
   {
    "duration": 21,
    "start_time": "2023-04-18T10:20:22.839Z"
   },
   {
    "duration": 18,
    "start_time": "2023-04-18T10:20:22.861Z"
   },
   {
    "duration": 11,
    "start_time": "2023-04-18T10:20:22.881Z"
   },
   {
    "duration": 47,
    "start_time": "2023-04-18T10:20:22.893Z"
   },
   {
    "duration": 7,
    "start_time": "2023-04-18T10:21:22.574Z"
   },
   {
    "duration": 64,
    "start_time": "2023-04-18T10:21:41.425Z"
   },
   {
    "duration": 8,
    "start_time": "2023-04-18T10:21:46.424Z"
   },
   {
    "duration": 7,
    "start_time": "2023-04-18T10:22:25.625Z"
   },
   {
    "duration": 6,
    "start_time": "2023-04-18T10:24:02.582Z"
   },
   {
    "duration": 51,
    "start_time": "2023-04-18T10:24:14.732Z"
   },
   {
    "duration": 6,
    "start_time": "2023-04-18T10:24:18.513Z"
   },
   {
    "duration": 9,
    "start_time": "2023-04-18T10:24:35.286Z"
   },
   {
    "duration": 13,
    "start_time": "2023-04-18T10:29:31.260Z"
   },
   {
    "duration": 11,
    "start_time": "2023-04-18T10:38:13.582Z"
   },
   {
    "duration": 8,
    "start_time": "2023-04-18T10:38:46.928Z"
   },
   {
    "duration": 7,
    "start_time": "2023-04-18T10:39:02.768Z"
   },
   {
    "duration": 731,
    "start_time": "2023-04-18T18:17:30.246Z"
   },
   {
    "duration": 429,
    "start_time": "2023-04-18T18:17:30.979Z"
   },
   {
    "duration": 21,
    "start_time": "2023-04-18T18:17:31.410Z"
   },
   {
    "duration": 43,
    "start_time": "2023-04-18T18:17:31.433Z"
   },
   {
    "duration": 42,
    "start_time": "2023-04-18T18:17:31.478Z"
   },
   {
    "duration": 14,
    "start_time": "2023-04-18T18:17:31.521Z"
   },
   {
    "duration": 49,
    "start_time": "2023-04-18T18:17:31.537Z"
   },
   {
    "duration": 25,
    "start_time": "2023-04-18T18:17:31.588Z"
   },
   {
    "duration": 22,
    "start_time": "2023-04-18T18:17:31.614Z"
   },
   {
    "duration": 20,
    "start_time": "2023-04-18T18:17:31.637Z"
   },
   {
    "duration": 42,
    "start_time": "2023-04-18T18:17:31.658Z"
   },
   {
    "duration": 5,
    "start_time": "2023-04-18T18:19:25.218Z"
   },
   {
    "duration": 4,
    "start_time": "2023-04-18T18:19:38.912Z"
   },
   {
    "duration": 62,
    "start_time": "2023-04-18T18:22:46.005Z"
   },
   {
    "duration": 17,
    "start_time": "2023-04-18T18:22:52.020Z"
   },
   {
    "duration": 13,
    "start_time": "2023-04-18T18:25:36.426Z"
   },
   {
    "duration": 11,
    "start_time": "2023-04-18T18:26:06.808Z"
   },
   {
    "duration": 13,
    "start_time": "2023-04-18T18:33:31.659Z"
   },
   {
    "duration": 7,
    "start_time": "2023-04-18T18:36:12.120Z"
   },
   {
    "duration": 21,
    "start_time": "2023-04-18T18:42:03.545Z"
   },
   {
    "duration": 8,
    "start_time": "2023-04-18T18:43:31.284Z"
   },
   {
    "duration": 7,
    "start_time": "2023-04-18T18:44:03.450Z"
   },
   {
    "duration": 14,
    "start_time": "2023-04-18T18:44:14.320Z"
   },
   {
    "duration": 4,
    "start_time": "2023-04-18T18:57:30.175Z"
   },
   {
    "duration": 5,
    "start_time": "2023-04-18T18:57:38.507Z"
   },
   {
    "duration": 4,
    "start_time": "2023-04-18T18:58:04.910Z"
   },
   {
    "duration": 5,
    "start_time": "2023-04-18T18:58:05.517Z"
   },
   {
    "duration": 7,
    "start_time": "2023-04-18T19:14:40.603Z"
   },
   {
    "duration": 16,
    "start_time": "2023-04-18T19:15:03.200Z"
   },
   {
    "duration": 8,
    "start_time": "2023-04-18T19:16:51.918Z"
   },
   {
    "duration": 11,
    "start_time": "2023-04-18T19:16:59.008Z"
   },
   {
    "duration": 8,
    "start_time": "2023-04-18T19:19:11.515Z"
   },
   {
    "duration": 12,
    "start_time": "2023-04-18T19:19:30.101Z"
   },
   {
    "duration": 582,
    "start_time": "2023-04-18T19:28:36.143Z"
   },
   {
    "duration": 49,
    "start_time": "2023-04-18T19:28:36.727Z"
   },
   {
    "duration": 23,
    "start_time": "2023-04-18T19:28:36.777Z"
   },
   {
    "duration": 12,
    "start_time": "2023-04-18T19:28:36.801Z"
   },
   {
    "duration": 29,
    "start_time": "2023-04-18T19:28:36.815Z"
   },
   {
    "duration": 8,
    "start_time": "2023-04-18T19:28:36.846Z"
   },
   {
    "duration": 20,
    "start_time": "2023-04-18T19:28:36.855Z"
   },
   {
    "duration": 9,
    "start_time": "2023-04-18T19:28:36.876Z"
   },
   {
    "duration": 5,
    "start_time": "2023-04-18T19:28:36.887Z"
   },
   {
    "duration": 11,
    "start_time": "2023-04-18T19:28:36.893Z"
   },
   {
    "duration": 33,
    "start_time": "2023-04-18T19:28:36.906Z"
   },
   {
    "duration": 9,
    "start_time": "2023-04-18T19:28:36.941Z"
   },
   {
    "duration": 16,
    "start_time": "2023-04-18T19:28:36.952Z"
   },
   {
    "duration": 4,
    "start_time": "2023-04-18T19:28:36.971Z"
   },
   {
    "duration": 21,
    "start_time": "2023-04-18T19:28:36.976Z"
   },
   {
    "duration": 7,
    "start_time": "2023-04-18T19:28:36.999Z"
   },
   {
    "duration": 33,
    "start_time": "2023-04-18T19:28:37.007Z"
   },
   {
    "duration": 22,
    "start_time": "2023-04-18T19:28:37.041Z"
   },
   {
    "duration": 616,
    "start_time": "2023-04-18T19:28:37.065Z"
   },
   {
    "duration": 591,
    "start_time": "2023-04-18T19:29:03.833Z"
   },
   {
    "duration": 48,
    "start_time": "2023-04-18T19:29:04.426Z"
   },
   {
    "duration": 21,
    "start_time": "2023-04-18T19:29:04.476Z"
   },
   {
    "duration": 11,
    "start_time": "2023-04-18T19:29:04.498Z"
   },
   {
    "duration": 37,
    "start_time": "2023-04-18T19:29:04.511Z"
   },
   {
    "duration": 7,
    "start_time": "2023-04-18T19:29:04.550Z"
   },
   {
    "duration": 44,
    "start_time": "2023-04-18T19:29:04.558Z"
   },
   {
    "duration": 19,
    "start_time": "2023-04-18T19:29:04.603Z"
   },
   {
    "duration": 27,
    "start_time": "2023-04-18T19:29:04.624Z"
   },
   {
    "duration": 18,
    "start_time": "2023-04-18T19:29:04.652Z"
   },
   {
    "duration": 15,
    "start_time": "2023-04-18T19:29:04.671Z"
   },
   {
    "duration": 9,
    "start_time": "2023-04-18T19:29:04.687Z"
   },
   {
    "duration": 12,
    "start_time": "2023-04-18T19:29:04.697Z"
   },
   {
    "duration": 3,
    "start_time": "2023-04-18T19:29:04.711Z"
   },
   {
    "duration": 22,
    "start_time": "2023-04-18T19:29:04.715Z"
   },
   {
    "duration": 15,
    "start_time": "2023-04-18T19:29:04.739Z"
   },
   {
    "duration": 12,
    "start_time": "2023-04-18T19:29:04.755Z"
   },
   {
    "duration": 7,
    "start_time": "2023-04-18T19:29:04.768Z"
   },
   {
    "duration": 616,
    "start_time": "2023-04-18T19:29:04.776Z"
   },
   {
    "duration": 4,
    "start_time": "2023-04-18T19:30:50.046Z"
   },
   {
    "duration": 510,
    "start_time": "2023-04-18T19:31:01.728Z"
   },
   {
    "duration": 4,
    "start_time": "2023-04-18T19:31:09.204Z"
   },
   {
    "duration": 5,
    "start_time": "2023-04-18T19:31:43.511Z"
   },
   {
    "duration": 544,
    "start_time": "2023-04-18T19:31:49.562Z"
   },
   {
    "duration": 2,
    "start_time": "2023-04-18T19:32:44.010Z"
   },
   {
    "duration": 494,
    "start_time": "2023-04-18T19:32:46.534Z"
   },
   {
    "duration": 580,
    "start_time": "2023-04-18T19:33:01.357Z"
   },
   {
    "duration": 51,
    "start_time": "2023-04-18T19:33:01.939Z"
   },
   {
    "duration": 22,
    "start_time": "2023-04-18T19:33:01.991Z"
   },
   {
    "duration": 26,
    "start_time": "2023-04-18T19:33:02.016Z"
   },
   {
    "duration": 58,
    "start_time": "2023-04-18T19:33:02.044Z"
   },
   {
    "duration": 14,
    "start_time": "2023-04-18T19:33:02.103Z"
   },
   {
    "duration": 53,
    "start_time": "2023-04-18T19:33:02.118Z"
   },
   {
    "duration": 23,
    "start_time": "2023-04-18T19:33:02.173Z"
   },
   {
    "duration": 46,
    "start_time": "2023-04-18T19:33:02.198Z"
   },
   {
    "duration": 28,
    "start_time": "2023-04-18T19:33:02.246Z"
   },
   {
    "duration": 28,
    "start_time": "2023-04-18T19:33:02.275Z"
   },
   {
    "duration": 34,
    "start_time": "2023-04-18T19:33:02.305Z"
   },
   {
    "duration": 14,
    "start_time": "2023-04-18T19:33:02.340Z"
   },
   {
    "duration": 7,
    "start_time": "2023-04-18T19:33:02.356Z"
   },
   {
    "duration": 38,
    "start_time": "2023-04-18T19:33:02.365Z"
   },
   {
    "duration": 20,
    "start_time": "2023-04-18T19:33:02.405Z"
   },
   {
    "duration": 13,
    "start_time": "2023-04-18T19:33:02.427Z"
   },
   {
    "duration": 7,
    "start_time": "2023-04-18T19:33:02.442Z"
   },
   {
    "duration": 651,
    "start_time": "2023-04-18T19:33:06.509Z"
   },
   {
    "duration": 10,
    "start_time": "2023-04-18T19:33:48.201Z"
   },
   {
    "duration": 6,
    "start_time": "2023-04-18T19:33:55.609Z"
   },
   {
    "duration": 5,
    "start_time": "2023-04-18T19:34:06.409Z"
   },
   {
    "duration": 8,
    "start_time": "2023-04-18T19:34:10.608Z"
   },
   {
    "duration": 212,
    "start_time": "2023-04-18T19:34:17.909Z"
   },
   {
    "duration": 584,
    "start_time": "2023-04-18T19:34:29.327Z"
   },
   {
    "duration": 47,
    "start_time": "2023-04-18T19:34:29.913Z"
   },
   {
    "duration": 21,
    "start_time": "2023-04-18T19:34:29.961Z"
   },
   {
    "duration": 43,
    "start_time": "2023-04-18T19:34:29.983Z"
   },
   {
    "duration": 45,
    "start_time": "2023-04-18T19:34:30.028Z"
   },
   {
    "duration": 7,
    "start_time": "2023-04-18T19:34:30.074Z"
   },
   {
    "duration": 53,
    "start_time": "2023-04-18T19:34:30.083Z"
   },
   {
    "duration": 43,
    "start_time": "2023-04-18T19:34:30.137Z"
   },
   {
    "duration": 43,
    "start_time": "2023-04-18T19:34:30.181Z"
   },
   {
    "duration": 37,
    "start_time": "2023-04-18T19:34:30.226Z"
   },
   {
    "duration": 41,
    "start_time": "2023-04-18T19:34:30.265Z"
   },
   {
    "duration": 27,
    "start_time": "2023-04-18T19:34:30.308Z"
   },
   {
    "duration": 65,
    "start_time": "2023-04-18T19:34:30.336Z"
   },
   {
    "duration": 33,
    "start_time": "2023-04-18T19:34:30.403Z"
   },
   {
    "duration": 30,
    "start_time": "2023-04-18T19:34:30.438Z"
   },
   {
    "duration": 32,
    "start_time": "2023-04-18T19:34:30.470Z"
   },
   {
    "duration": 36,
    "start_time": "2023-04-18T19:34:30.503Z"
   },
   {
    "duration": 40,
    "start_time": "2023-04-18T19:34:30.541Z"
   },
   {
    "duration": 652,
    "start_time": "2023-04-18T19:35:04.811Z"
   },
   {
    "duration": 7,
    "start_time": "2023-04-18T19:36:36.240Z"
   },
   {
    "duration": 14,
    "start_time": "2023-04-18T19:36:42.110Z"
   },
   {
    "duration": 10,
    "start_time": "2023-04-18T19:36:58.467Z"
   },
   {
    "duration": 12,
    "start_time": "2023-04-18T19:37:02.012Z"
   },
   {
    "duration": 12,
    "start_time": "2023-04-18T19:37:10.849Z"
   },
   {
    "duration": 14,
    "start_time": "2023-04-18T19:39:30.412Z"
   },
   {
    "duration": 4,
    "start_time": "2023-04-18T19:42:52.748Z"
   },
   {
    "duration": 590,
    "start_time": "2023-04-18T19:43:00.907Z"
   },
   {
    "duration": 48,
    "start_time": "2023-04-18T19:43:01.499Z"
   },
   {
    "duration": 21,
    "start_time": "2023-04-18T19:43:01.549Z"
   },
   {
    "duration": 17,
    "start_time": "2023-04-18T19:43:01.571Z"
   },
   {
    "duration": 49,
    "start_time": "2023-04-18T19:43:01.590Z"
   },
   {
    "duration": 14,
    "start_time": "2023-04-18T19:43:01.640Z"
   },
   {
    "duration": 40,
    "start_time": "2023-04-18T19:43:01.656Z"
   },
   {
    "duration": 34,
    "start_time": "2023-04-18T19:43:01.698Z"
   },
   {
    "duration": 31,
    "start_time": "2023-04-18T19:43:01.734Z"
   },
   {
    "duration": 46,
    "start_time": "2023-04-18T19:43:01.766Z"
   },
   {
    "duration": 16,
    "start_time": "2023-04-18T19:43:01.813Z"
   },
   {
    "duration": 34,
    "start_time": "2023-04-18T19:43:01.830Z"
   },
   {
    "duration": 31,
    "start_time": "2023-04-18T19:43:01.865Z"
   },
   {
    "duration": 35,
    "start_time": "2023-04-18T19:43:01.898Z"
   },
   {
    "duration": 37,
    "start_time": "2023-04-18T19:43:01.935Z"
   },
   {
    "duration": 53,
    "start_time": "2023-04-18T19:43:01.974Z"
   },
   {
    "duration": 37,
    "start_time": "2023-04-18T19:43:02.029Z"
   },
   {
    "duration": 29,
    "start_time": "2023-04-18T19:43:02.068Z"
   },
   {
    "duration": 20,
    "start_time": "2023-04-18T19:43:02.099Z"
   },
   {
    "duration": 41,
    "start_time": "2023-04-18T19:43:02.121Z"
   },
   {
    "duration": 6,
    "start_time": "2023-04-18T19:43:12.964Z"
   },
   {
    "duration": 23,
    "start_time": "2023-04-18T19:43:13.511Z"
   },
   {
    "duration": 16,
    "start_time": "2023-04-18T19:43:23.630Z"
   },
   {
    "duration": 855,
    "start_time": "2023-04-19T12:27:47.074Z"
   },
   {
    "duration": 479,
    "start_time": "2023-04-19T12:27:47.931Z"
   },
   {
    "duration": 33,
    "start_time": "2023-04-19T12:27:48.412Z"
   },
   {
    "duration": 20,
    "start_time": "2023-04-19T12:27:48.447Z"
   },
   {
    "duration": 45,
    "start_time": "2023-04-19T12:27:48.470Z"
   },
   {
    "duration": 9,
    "start_time": "2023-04-19T12:27:48.517Z"
   },
   {
    "duration": 23,
    "start_time": "2023-04-19T12:27:48.528Z"
   },
   {
    "duration": 35,
    "start_time": "2023-04-19T12:27:48.552Z"
   },
   {
    "duration": 9,
    "start_time": "2023-04-19T12:27:48.589Z"
   },
   {
    "duration": 31,
    "start_time": "2023-04-19T12:27:48.601Z"
   },
   {
    "duration": 5,
    "start_time": "2023-04-19T12:27:48.633Z"
   },
   {
    "duration": 33,
    "start_time": "2023-04-19T12:27:48.639Z"
   },
   {
    "duration": 16,
    "start_time": "2023-04-19T12:27:48.674Z"
   },
   {
    "duration": 21,
    "start_time": "2023-04-19T12:27:48.698Z"
   },
   {
    "duration": 4,
    "start_time": "2023-04-19T12:27:48.721Z"
   },
   {
    "duration": 12,
    "start_time": "2023-04-19T12:27:48.727Z"
   },
   {
    "duration": 7,
    "start_time": "2023-04-19T12:27:48.741Z"
   },
   {
    "duration": 38,
    "start_time": "2023-04-19T12:27:48.750Z"
   },
   {
    "duration": 10,
    "start_time": "2023-04-19T12:27:48.793Z"
   },
   {
    "duration": 18,
    "start_time": "2023-04-19T12:27:48.805Z"
   },
   {
    "duration": 87,
    "start_time": "2023-04-19T12:35:58.371Z"
   },
   {
    "duration": 10,
    "start_time": "2023-04-19T12:36:04.970Z"
   },
   {
    "duration": 8,
    "start_time": "2023-04-19T12:36:14.704Z"
   },
   {
    "duration": 7,
    "start_time": "2023-04-19T12:37:01.025Z"
   },
   {
    "duration": 12,
    "start_time": "2023-04-19T12:37:16.481Z"
   },
   {
    "duration": 9,
    "start_time": "2023-04-19T12:37:33.720Z"
   },
   {
    "duration": 9,
    "start_time": "2023-04-19T12:37:38.905Z"
   },
   {
    "duration": 4,
    "start_time": "2023-04-19T12:38:01.454Z"
   },
   {
    "duration": 4,
    "start_time": "2023-04-19T12:38:05.002Z"
   },
   {
    "duration": 9,
    "start_time": "2023-04-19T12:38:10.701Z"
   },
   {
    "duration": 8,
    "start_time": "2023-04-19T12:38:39.125Z"
   },
   {
    "duration": 39,
    "start_time": "2023-04-19T12:47:50.185Z"
   },
   {
    "duration": 240,
    "start_time": "2023-04-19T12:49:15.038Z"
   },
   {
    "duration": 191,
    "start_time": "2023-04-19T12:49:32.777Z"
   },
   {
    "duration": 290,
    "start_time": "2023-04-19T12:52:57.636Z"
   },
   {
    "duration": 10,
    "start_time": "2023-04-19T12:59:50.134Z"
   },
   {
    "duration": 144,
    "start_time": "2023-04-19T13:03:36.678Z"
   },
   {
    "duration": 297,
    "start_time": "2023-04-19T13:04:07.510Z"
   },
   {
    "duration": 238,
    "start_time": "2023-04-19T13:05:13.924Z"
   },
   {
    "duration": 224,
    "start_time": "2023-04-19T13:05:59.236Z"
   },
   {
    "duration": 11,
    "start_time": "2023-04-19T13:15:53.039Z"
   },
   {
    "duration": 9,
    "start_time": "2023-04-19T13:16:26.835Z"
   },
   {
    "duration": 9,
    "start_time": "2023-04-19T13:16:35.673Z"
   },
   {
    "duration": 10,
    "start_time": "2023-04-19T13:50:42.132Z"
   },
   {
    "duration": 8,
    "start_time": "2023-04-19T13:50:47.071Z"
   },
   {
    "duration": 12,
    "start_time": "2023-04-19T13:51:05.041Z"
   },
   {
    "duration": 9,
    "start_time": "2023-04-19T13:51:08.156Z"
   },
   {
    "duration": 10,
    "start_time": "2023-04-19T13:51:39.581Z"
   },
   {
    "duration": 14,
    "start_time": "2023-04-19T13:51:55.182Z"
   },
   {
    "duration": 9,
    "start_time": "2023-04-19T13:54:05.123Z"
   },
   {
    "duration": 7,
    "start_time": "2023-04-19T13:54:05.611Z"
   },
   {
    "duration": 87,
    "start_time": "2023-04-19T14:04:13.611Z"
   },
   {
    "duration": 23,
    "start_time": "2023-04-19T14:04:19.046Z"
   },
   {
    "duration": 651,
    "start_time": "2023-04-19T14:08:09.640Z"
   },
   {
    "duration": 61,
    "start_time": "2023-04-19T14:08:10.293Z"
   },
   {
    "duration": 25,
    "start_time": "2023-04-19T14:08:10.356Z"
   },
   {
    "duration": 31,
    "start_time": "2023-04-19T14:08:10.383Z"
   },
   {
    "duration": 44,
    "start_time": "2023-04-19T14:08:10.416Z"
   },
   {
    "duration": 10,
    "start_time": "2023-04-19T14:08:10.461Z"
   },
   {
    "duration": 57,
    "start_time": "2023-04-19T14:08:10.473Z"
   },
   {
    "duration": 9,
    "start_time": "2023-04-19T14:08:10.533Z"
   },
   {
    "duration": 10,
    "start_time": "2023-04-19T14:08:10.544Z"
   },
   {
    "duration": 22,
    "start_time": "2023-04-19T14:08:10.557Z"
   },
   {
    "duration": 16,
    "start_time": "2023-04-19T14:08:10.581Z"
   },
   {
    "duration": 15,
    "start_time": "2023-04-19T14:08:10.603Z"
   },
   {
    "duration": 15,
    "start_time": "2023-04-19T14:08:10.620Z"
   },
   {
    "duration": 15,
    "start_time": "2023-04-19T14:08:10.637Z"
   },
   {
    "duration": 5,
    "start_time": "2023-04-19T14:08:10.653Z"
   },
   {
    "duration": 39,
    "start_time": "2023-04-19T14:08:10.660Z"
   },
   {
    "duration": 9,
    "start_time": "2023-04-19T14:08:10.710Z"
   },
   {
    "duration": 11,
    "start_time": "2023-04-19T14:08:10.720Z"
   },
   {
    "duration": 8,
    "start_time": "2023-04-19T14:08:10.733Z"
   },
   {
    "duration": 20,
    "start_time": "2023-04-19T14:08:10.742Z"
   },
   {
    "duration": 31,
    "start_time": "2023-04-19T14:08:10.764Z"
   },
   {
    "duration": 240,
    "start_time": "2023-04-19T14:08:10.797Z"
   },
   {
    "duration": 8,
    "start_time": "2023-04-19T14:08:11.039Z"
   },
   {
    "duration": 132,
    "start_time": "2023-04-19T14:08:11.049Z"
   },
   {
    "duration": 0,
    "start_time": "2023-04-19T14:08:11.182Z"
   },
   {
    "duration": 5,
    "start_time": "2023-04-19T14:08:26.305Z"
   },
   {
    "duration": 82,
    "start_time": "2023-04-19T14:09:43.642Z"
   },
   {
    "duration": 86,
    "start_time": "2023-04-19T14:10:29.650Z"
   },
   {
    "duration": 14074,
    "start_time": "2023-04-19T14:14:51.823Z"
   },
   {
    "duration": 12,
    "start_time": "2023-04-19T14:15:05.900Z"
   },
   {
    "duration": 15265,
    "start_time": "2023-04-19T15:29:07.136Z"
   },
   {
    "duration": 17,
    "start_time": "2023-04-19T15:30:54.959Z"
   },
   {
    "duration": 13,
    "start_time": "2023-04-19T15:41:59.766Z"
   },
   {
    "duration": 11,
    "start_time": "2023-04-19T15:42:03.151Z"
   },
   {
    "duration": 17,
    "start_time": "2023-04-19T15:46:09.508Z"
   },
   {
    "duration": 10,
    "start_time": "2023-04-19T15:46:10.655Z"
   },
   {
    "duration": 16,
    "start_time": "2023-04-19T15:46:23.212Z"
   },
   {
    "duration": 10,
    "start_time": "2023-04-19T15:46:26.535Z"
   },
   {
    "duration": 88,
    "start_time": "2023-04-19T15:50:11.468Z"
   },
   {
    "duration": 78,
    "start_time": "2023-04-19T15:50:16.008Z"
   },
   {
    "duration": 28,
    "start_time": "2023-04-19T15:50:44.549Z"
   },
   {
    "duration": 80,
    "start_time": "2023-04-19T15:50:49.332Z"
   },
   {
    "duration": 139,
    "start_time": "2023-04-19T15:50:58.062Z"
   },
   {
    "duration": 103,
    "start_time": "2023-04-19T15:51:12.034Z"
   },
   {
    "duration": 57,
    "start_time": "2023-04-19T15:51:22.714Z"
   },
   {
    "duration": 293,
    "start_time": "2023-04-19T15:51:40.230Z"
   },
   {
    "duration": 3385,
    "start_time": "2023-04-19T15:54:07.080Z"
   },
   {
    "duration": 3627,
    "start_time": "2023-04-19T15:54:35.010Z"
   },
   {
    "duration": 47,
    "start_time": "2023-04-19T15:54:58.725Z"
   },
   {
    "duration": 3532,
    "start_time": "2023-04-19T15:55:08.237Z"
   },
   {
    "duration": 247,
    "start_time": "2023-04-19T16:07:01.408Z"
   },
   {
    "duration": 53,
    "start_time": "2023-04-19T16:09:10.804Z"
   },
   {
    "duration": 2971,
    "start_time": "2023-04-19T16:09:20.056Z"
   },
   {
    "duration": 414,
    "start_time": "2023-04-19T16:09:50.417Z"
   },
   {
    "duration": 38,
    "start_time": "2023-04-19T16:10:18.614Z"
   },
   {
    "duration": 3030,
    "start_time": "2023-04-19T16:10:21.441Z"
   },
   {
    "duration": 494,
    "start_time": "2023-04-19T16:13:09.856Z"
   },
   {
    "duration": 314,
    "start_time": "2023-04-19T16:15:03.453Z"
   },
   {
    "duration": 3,
    "start_time": "2023-04-19T16:16:39.651Z"
   },
   {
    "duration": 46,
    "start_time": "2023-04-19T18:28:17.919Z"
   },
   {
    "duration": 778,
    "start_time": "2023-04-19T18:28:32.701Z"
   },
   {
    "duration": 93,
    "start_time": "2023-04-19T18:28:33.484Z"
   },
   {
    "duration": 25,
    "start_time": "2023-04-19T18:28:33.579Z"
   },
   {
    "duration": 36,
    "start_time": "2023-04-19T18:28:33.607Z"
   },
   {
    "duration": 36,
    "start_time": "2023-04-19T18:28:33.645Z"
   },
   {
    "duration": 9,
    "start_time": "2023-04-19T18:28:33.682Z"
   },
   {
    "duration": 31,
    "start_time": "2023-04-19T18:28:33.694Z"
   },
   {
    "duration": 20,
    "start_time": "2023-04-19T18:28:33.727Z"
   },
   {
    "duration": 8,
    "start_time": "2023-04-19T18:28:33.748Z"
   },
   {
    "duration": 33,
    "start_time": "2023-04-19T18:28:33.757Z"
   },
   {
    "duration": 4,
    "start_time": "2023-04-19T18:28:33.792Z"
   },
   {
    "duration": 15,
    "start_time": "2023-04-19T18:28:33.798Z"
   },
   {
    "duration": 18,
    "start_time": "2023-04-19T18:28:33.814Z"
   },
   {
    "duration": 33,
    "start_time": "2023-04-19T18:28:33.834Z"
   },
   {
    "duration": 8,
    "start_time": "2023-04-19T18:28:33.869Z"
   },
   {
    "duration": 17,
    "start_time": "2023-04-19T18:28:33.879Z"
   },
   {
    "duration": 7,
    "start_time": "2023-04-19T18:28:33.898Z"
   },
   {
    "duration": 40,
    "start_time": "2023-04-19T18:28:33.907Z"
   },
   {
    "duration": 21,
    "start_time": "2023-04-19T18:28:33.949Z"
   },
   {
    "duration": 22,
    "start_time": "2023-04-19T18:28:33.972Z"
   },
   {
    "duration": 12,
    "start_time": "2023-04-19T18:28:33.996Z"
   },
   {
    "duration": 219,
    "start_time": "2023-04-19T18:28:34.009Z"
   },
   {
    "duration": 7,
    "start_time": "2023-04-19T18:28:34.230Z"
   },
   {
    "duration": 15,
    "start_time": "2023-04-19T18:28:34.238Z"
   },
   {
    "duration": 151,
    "start_time": "2023-04-19T18:28:34.255Z"
   },
   {
    "duration": 15,
    "start_time": "2023-04-19T18:28:45.401Z"
   },
   {
    "duration": 18,
    "start_time": "2023-04-19T18:29:38.515Z"
   },
   {
    "duration": 16,
    "start_time": "2023-04-19T18:29:56.691Z"
   },
   {
    "duration": 14,
    "start_time": "2023-04-19T18:30:05.874Z"
   },
   {
    "duration": 11,
    "start_time": "2023-04-19T18:32:32.910Z"
   },
   {
    "duration": 15,
    "start_time": "2023-04-19T18:32:41.897Z"
   },
   {
    "duration": 1271,
    "start_time": "2023-04-19T18:33:16.247Z"
   },
   {
    "duration": 20,
    "start_time": "2023-04-19T18:33:36.751Z"
   },
   {
    "duration": 86,
    "start_time": "2023-04-19T18:35:21.395Z"
   },
   {
    "duration": 173,
    "start_time": "2023-04-19T18:35:30.795Z"
   },
   {
    "duration": 11,
    "start_time": "2023-04-19T18:39:45.348Z"
   },
   {
    "duration": 1193,
    "start_time": "2023-04-19T18:40:17.096Z"
   },
   {
    "duration": 54,
    "start_time": "2023-04-19T18:40:18.292Z"
   },
   {
    "duration": 24,
    "start_time": "2023-04-19T18:40:18.348Z"
   },
   {
    "duration": 26,
    "start_time": "2023-04-19T18:40:18.373Z"
   },
   {
    "duration": 47,
    "start_time": "2023-04-19T18:40:18.402Z"
   },
   {
    "duration": 12,
    "start_time": "2023-04-19T18:40:18.451Z"
   },
   {
    "duration": 55,
    "start_time": "2023-04-19T18:40:18.464Z"
   },
   {
    "duration": 31,
    "start_time": "2023-04-19T18:40:18.520Z"
   },
   {
    "duration": 27,
    "start_time": "2023-04-19T18:40:18.553Z"
   },
   {
    "duration": 33,
    "start_time": "2023-04-19T18:40:18.582Z"
   },
   {
    "duration": 8,
    "start_time": "2023-04-19T18:40:18.617Z"
   },
   {
    "duration": 26,
    "start_time": "2023-04-19T18:40:18.627Z"
   },
   {
    "duration": 36,
    "start_time": "2023-04-19T18:40:18.655Z"
   },
   {
    "duration": 19,
    "start_time": "2023-04-19T18:40:18.694Z"
   },
   {
    "duration": 9,
    "start_time": "2023-04-19T18:40:18.715Z"
   },
   {
    "duration": 19,
    "start_time": "2023-04-19T18:40:18.725Z"
   },
   {
    "duration": 11,
    "start_time": "2023-04-19T18:40:18.746Z"
   },
   {
    "duration": 16,
    "start_time": "2023-04-19T18:40:18.759Z"
   },
   {
    "duration": 9,
    "start_time": "2023-04-19T18:40:18.776Z"
   },
   {
    "duration": 27,
    "start_time": "2023-04-19T18:40:18.787Z"
   },
   {
    "duration": 15,
    "start_time": "2023-04-19T18:40:18.816Z"
   },
   {
    "duration": 226,
    "start_time": "2023-04-19T18:40:18.832Z"
   },
   {
    "duration": 8,
    "start_time": "2023-04-19T18:40:19.060Z"
   },
   {
    "duration": 29,
    "start_time": "2023-04-19T18:40:19.070Z"
   },
   {
    "duration": 165,
    "start_time": "2023-04-19T18:40:19.101Z"
   },
   {
    "duration": 110,
    "start_time": "2023-04-19T18:42:57.392Z"
   },
   {
    "duration": 799,
    "start_time": "2023-04-19T18:47:14.834Z"
   },
   {
    "duration": 773,
    "start_time": "2023-04-19T18:47:33.106Z"
   },
   {
    "duration": 733,
    "start_time": "2023-04-19T18:47:55.239Z"
   },
   {
    "duration": 756,
    "start_time": "2023-04-19T18:49:36.943Z"
   },
   {
    "duration": 736,
    "start_time": "2023-04-19T18:49:46.087Z"
   },
   {
    "duration": 805,
    "start_time": "2023-04-19T18:49:57.688Z"
   },
   {
    "duration": 719,
    "start_time": "2023-04-19T18:51:42.485Z"
   },
   {
    "duration": 851,
    "start_time": "2023-04-19T18:52:09.457Z"
   },
   {
    "duration": 38,
    "start_time": "2023-04-19T18:53:13.038Z"
   },
   {
    "duration": 9863,
    "start_time": "2023-04-19T18:53:13.839Z"
   },
   {
    "duration": 38,
    "start_time": "2023-04-19T18:53:39.991Z"
   },
   {
    "duration": 10,
    "start_time": "2023-04-19T18:53:58.658Z"
   },
   {
    "duration": 247,
    "start_time": "2023-04-19T18:53:58.670Z"
   },
   {
    "duration": 758,
    "start_time": "2023-04-19T18:54:14.378Z"
   },
   {
    "duration": 911,
    "start_time": "2023-04-19T18:54:21.084Z"
   },
   {
    "duration": 159,
    "start_time": "2023-04-19T18:56:55.226Z"
   },
   {
    "duration": 152,
    "start_time": "2023-04-19T18:57:02.881Z"
   },
   {
    "duration": 146,
    "start_time": "2023-04-19T18:57:07.583Z"
   },
   {
    "duration": 1263,
    "start_time": "2023-04-20T06:45:47.693Z"
   },
   {
    "duration": 102,
    "start_time": "2023-04-20T06:45:48.958Z"
   },
   {
    "duration": 23,
    "start_time": "2023-04-20T06:45:49.062Z"
   },
   {
    "duration": 13,
    "start_time": "2023-04-20T06:45:49.087Z"
   },
   {
    "duration": 24,
    "start_time": "2023-04-20T06:45:49.102Z"
   },
   {
    "duration": 8,
    "start_time": "2023-04-20T06:45:49.127Z"
   },
   {
    "duration": 19,
    "start_time": "2023-04-20T06:45:49.149Z"
   },
   {
    "duration": 7,
    "start_time": "2023-04-20T06:45:49.169Z"
   },
   {
    "duration": 11,
    "start_time": "2023-04-20T06:45:49.177Z"
   },
   {
    "duration": 11,
    "start_time": "2023-04-20T06:45:49.190Z"
   },
   {
    "duration": 3,
    "start_time": "2023-04-20T06:45:49.202Z"
   },
   {
    "duration": 14,
    "start_time": "2023-04-20T06:45:49.206Z"
   },
   {
    "duration": 28,
    "start_time": "2023-04-20T06:45:49.221Z"
   },
   {
    "duration": 13,
    "start_time": "2023-04-20T06:45:49.251Z"
   },
   {
    "duration": 6,
    "start_time": "2023-04-20T06:45:49.265Z"
   },
   {
    "duration": 13,
    "start_time": "2023-04-20T06:45:49.272Z"
   },
   {
    "duration": 13,
    "start_time": "2023-04-20T06:45:49.286Z"
   },
   {
    "duration": 7,
    "start_time": "2023-04-20T06:45:49.300Z"
   },
   {
    "duration": 6,
    "start_time": "2023-04-20T06:45:49.308Z"
   },
   {
    "duration": 35,
    "start_time": "2023-04-20T06:45:49.315Z"
   },
   {
    "duration": 16,
    "start_time": "2023-04-20T06:45:49.352Z"
   },
   {
    "duration": 190,
    "start_time": "2023-04-20T06:45:49.370Z"
   },
   {
    "duration": 7,
    "start_time": "2023-04-20T06:45:49.562Z"
   },
   {
    "duration": 27,
    "start_time": "2023-04-20T06:45:49.571Z"
   },
   {
    "duration": 717,
    "start_time": "2023-04-20T06:45:49.599Z"
   },
   {
    "duration": 225,
    "start_time": "2023-04-20T06:47:52.264Z"
   },
   {
    "duration": 179,
    "start_time": "2023-04-20T06:48:09.675Z"
   },
   {
    "duration": 647,
    "start_time": "2023-04-20T06:49:03.453Z"
   },
   {
    "duration": 23,
    "start_time": "2023-04-20T07:15:51.744Z"
   },
   {
    "duration": 295,
    "start_time": "2023-04-20T07:15:55.584Z"
   },
   {
    "duration": 15,
    "start_time": "2023-04-20T07:16:00.268Z"
   },
   {
    "duration": 182,
    "start_time": "2023-04-20T07:16:02.387Z"
   },
   {
    "duration": 13,
    "start_time": "2023-04-20T07:16:16.522Z"
   },
   {
    "duration": 69,
    "start_time": "2023-04-20T07:16:21.563Z"
   },
   {
    "duration": 967,
    "start_time": "2023-04-20T07:16:48.498Z"
   },
   {
    "duration": 796,
    "start_time": "2023-04-20T07:18:34.463Z"
   },
   {
    "duration": 1004,
    "start_time": "2023-04-20T07:21:21.774Z"
   },
   {
    "duration": 2127,
    "start_time": "2023-04-20T07:22:54.547Z"
   },
   {
    "duration": 23,
    "start_time": "2023-04-20T07:23:22.155Z"
   },
   {
    "duration": 2234,
    "start_time": "2023-04-20T07:23:22.883Z"
   },
   {
    "duration": 12,
    "start_time": "2023-04-20T07:23:34.228Z"
   },
   {
    "duration": 65,
    "start_time": "2023-04-20T07:23:40.417Z"
   },
   {
    "duration": 10,
    "start_time": "2023-04-20T07:30:33.230Z"
   },
   {
    "duration": 7,
    "start_time": "2023-04-20T07:30:37.080Z"
   },
   {
    "duration": 14,
    "start_time": "2023-04-20T07:34:53.439Z"
   },
   {
    "duration": 3,
    "start_time": "2023-04-20T07:35:22.378Z"
   },
   {
    "duration": 3,
    "start_time": "2023-04-20T07:35:26.293Z"
   },
   {
    "duration": 10,
    "start_time": "2023-04-20T07:35:35.010Z"
   },
   {
    "duration": 16,
    "start_time": "2023-04-20T07:35:38.197Z"
   },
   {
    "duration": 1596,
    "start_time": "2023-04-20T08:19:36.927Z"
   },
   {
    "duration": 4,
    "start_time": "2023-04-20T08:20:17.473Z"
   },
   {
    "duration": 5,
    "start_time": "2023-04-20T08:20:23.408Z"
   },
   {
    "duration": 3,
    "start_time": "2023-04-20T08:21:05.698Z"
   },
   {
    "duration": 4,
    "start_time": "2023-04-20T08:21:26.555Z"
   },
   {
    "duration": 25,
    "start_time": "2023-04-20T08:21:33.492Z"
   },
   {
    "duration": 5,
    "start_time": "2023-04-20T08:22:51.132Z"
   },
   {
    "duration": 6,
    "start_time": "2023-04-20T08:22:57.118Z"
   },
   {
    "duration": 9,
    "start_time": "2023-04-20T08:23:35.449Z"
   },
   {
    "duration": 6,
    "start_time": "2023-04-20T09:03:31.398Z"
   },
   {
    "duration": 6,
    "start_time": "2023-04-20T09:04:07.689Z"
   },
   {
    "duration": 8,
    "start_time": "2023-04-20T09:04:08.366Z"
   },
   {
    "duration": 4,
    "start_time": "2023-04-20T09:04:45.553Z"
   },
   {
    "duration": 13,
    "start_time": "2023-04-20T09:04:46.009Z"
   },
   {
    "duration": 6,
    "start_time": "2023-04-20T09:04:46.633Z"
   },
   {
    "duration": 6,
    "start_time": "2023-04-20T09:10:19.826Z"
   },
   {
    "duration": 5,
    "start_time": "2023-04-20T09:10:20.815Z"
   },
   {
    "duration": 6,
    "start_time": "2023-04-20T09:10:23.159Z"
   },
   {
    "duration": 9,
    "start_time": "2023-04-20T09:12:17.165Z"
   },
   {
    "duration": 7,
    "start_time": "2023-04-20T09:13:08.895Z"
   },
   {
    "duration": 5,
    "start_time": "2023-04-20T09:15:46.091Z"
   },
   {
    "duration": 7,
    "start_time": "2023-04-20T09:15:55.139Z"
   },
   {
    "duration": 5,
    "start_time": "2023-04-20T09:16:46.725Z"
   },
   {
    "duration": 5,
    "start_time": "2023-04-20T09:16:47.909Z"
   },
   {
    "duration": 5,
    "start_time": "2023-04-20T09:16:48.373Z"
   },
   {
    "duration": 4,
    "start_time": "2023-04-20T09:16:52.375Z"
   },
   {
    "duration": 5,
    "start_time": "2023-04-20T09:16:54.948Z"
   },
   {
    "duration": 376,
    "start_time": "2023-04-20T09:17:12.207Z"
   },
   {
    "duration": 748,
    "start_time": "2023-04-20T09:17:40.883Z"
   },
   {
    "duration": 4,
    "start_time": "2023-04-20T09:18:07.537Z"
   },
   {
    "duration": 5,
    "start_time": "2023-04-20T09:18:30.430Z"
   },
   {
    "duration": 5,
    "start_time": "2023-04-20T09:18:34.546Z"
   },
   {
    "duration": 5,
    "start_time": "2023-04-20T09:18:34.812Z"
   },
   {
    "duration": 4,
    "start_time": "2023-04-20T09:18:34.992Z"
   },
   {
    "duration": 5,
    "start_time": "2023-04-20T09:18:35.171Z"
   },
   {
    "duration": 538,
    "start_time": "2023-04-20T09:18:35.351Z"
   },
   {
    "duration": 821,
    "start_time": "2023-04-20T09:31:14.077Z"
   },
   {
    "duration": 1127,
    "start_time": "2023-04-20T09:36:40.433Z"
   },
   {
    "duration": 131,
    "start_time": "2023-04-20T09:37:03.529Z"
   },
   {
    "duration": 1342,
    "start_time": "2023-04-20T09:37:30.832Z"
   },
   {
    "duration": 1245,
    "start_time": "2023-04-20T09:37:59.161Z"
   },
   {
    "duration": 1399,
    "start_time": "2023-04-20T09:38:14.281Z"
   },
   {
    "duration": 1298,
    "start_time": "2023-04-20T09:38:22.378Z"
   },
   {
    "duration": 1173,
    "start_time": "2023-04-20T09:38:44.204Z"
   },
   {
    "duration": 2,
    "start_time": "2023-04-20T09:47:54.408Z"
   },
   {
    "duration": 11,
    "start_time": "2023-04-20T10:24:56.593Z"
   },
   {
    "duration": 5,
    "start_time": "2023-04-20T10:25:02.136Z"
   },
   {
    "duration": 134,
    "start_time": "2023-04-20T10:25:02.808Z"
   },
   {
    "duration": 186,
    "start_time": "2023-04-20T10:31:08.672Z"
   },
   {
    "duration": 21,
    "start_time": "2023-04-20T10:31:25.600Z"
   },
   {
    "duration": 5,
    "start_time": "2023-04-20T10:33:05.869Z"
   },
   {
    "duration": 188,
    "start_time": "2023-04-20T10:33:06.755Z"
   },
   {
    "duration": 21,
    "start_time": "2023-04-20T10:33:13.305Z"
   },
   {
    "duration": 28,
    "start_time": "2023-04-20T10:35:02.988Z"
   },
   {
    "duration": 189,
    "start_time": "2023-04-20T10:35:52.027Z"
   },
   {
    "duration": 149,
    "start_time": "2023-04-20T10:47:39.349Z"
   },
   {
    "duration": 188,
    "start_time": "2023-04-20T10:48:10.415Z"
   },
   {
    "duration": 186,
    "start_time": "2023-04-20T10:48:14.832Z"
   },
   {
    "duration": 188,
    "start_time": "2023-04-20T10:48:17.363Z"
   },
   {
    "duration": 27,
    "start_time": "2023-04-20T10:49:52.750Z"
   },
   {
    "duration": 268,
    "start_time": "2023-04-20T10:50:07.594Z"
   },
   {
    "duration": 1276,
    "start_time": "2023-04-21T12:54:14.566Z"
   },
   {
    "duration": 87,
    "start_time": "2023-04-21T12:54:15.845Z"
   },
   {
    "duration": 20,
    "start_time": "2023-04-21T12:54:15.934Z"
   },
   {
    "duration": 12,
    "start_time": "2023-04-21T12:54:15.956Z"
   },
   {
    "duration": 27,
    "start_time": "2023-04-21T12:54:15.970Z"
   },
   {
    "duration": 9,
    "start_time": "2023-04-21T12:54:15.998Z"
   },
   {
    "duration": 26,
    "start_time": "2023-04-21T12:54:16.009Z"
   },
   {
    "duration": 18,
    "start_time": "2023-04-21T12:54:16.037Z"
   },
   {
    "duration": 18,
    "start_time": "2023-04-21T12:54:16.057Z"
   },
   {
    "duration": 17,
    "start_time": "2023-04-21T12:54:16.078Z"
   },
   {
    "duration": 5,
    "start_time": "2023-04-21T12:54:16.097Z"
   },
   {
    "duration": 12,
    "start_time": "2023-04-21T12:54:16.104Z"
   },
   {
    "duration": 19,
    "start_time": "2023-04-21T12:54:16.118Z"
   },
   {
    "duration": 35,
    "start_time": "2023-04-21T12:54:16.139Z"
   },
   {
    "duration": 43,
    "start_time": "2023-04-21T12:54:16.175Z"
   },
   {
    "duration": 17,
    "start_time": "2023-04-21T12:54:16.220Z"
   },
   {
    "duration": 11,
    "start_time": "2023-04-21T12:54:16.239Z"
   },
   {
    "duration": 9,
    "start_time": "2023-04-21T12:54:16.251Z"
   },
   {
    "duration": 4,
    "start_time": "2023-04-21T12:54:16.262Z"
   },
   {
    "duration": 21,
    "start_time": "2023-04-21T12:54:16.267Z"
   },
   {
    "duration": 17,
    "start_time": "2023-04-21T12:54:16.290Z"
   },
   {
    "duration": 195,
    "start_time": "2023-04-21T12:54:16.309Z"
   },
   {
    "duration": 8,
    "start_time": "2023-04-21T12:54:16.506Z"
   },
   {
    "duration": 20,
    "start_time": "2023-04-21T12:54:16.516Z"
   },
   {
    "duration": 705,
    "start_time": "2023-04-21T12:54:16.538Z"
   },
   {
    "duration": 4,
    "start_time": "2023-04-21T12:54:17.245Z"
   },
   {
    "duration": 6,
    "start_time": "2023-04-21T12:54:17.250Z"
   },
   {
    "duration": 4,
    "start_time": "2023-04-21T12:54:17.271Z"
   },
   {
    "duration": 8,
    "start_time": "2023-04-21T12:54:17.276Z"
   },
   {
    "duration": 560,
    "start_time": "2023-04-21T12:54:17.285Z"
   },
   {
    "duration": 4,
    "start_time": "2023-04-21T12:54:17.846Z"
   },
   {
    "duration": 440,
    "start_time": "2023-04-21T12:54:17.852Z"
   },
   {
    "duration": 184,
    "start_time": "2023-04-21T12:57:25.040Z"
   },
   {
    "duration": 25,
    "start_time": "2023-04-21T12:59:52.128Z"
   },
   {
    "duration": 18,
    "start_time": "2023-04-21T13:00:58.460Z"
   },
   {
    "duration": 24,
    "start_time": "2023-04-21T13:01:52.501Z"
   },
   {
    "duration": 4,
    "start_time": "2023-04-21T13:40:00.840Z"
   },
   {
    "duration": 107,
    "start_time": "2023-04-21T13:40:12.931Z"
   },
   {
    "duration": 5,
    "start_time": "2023-04-21T13:40:17.109Z"
   },
   {
    "duration": 30,
    "start_time": "2023-04-21T13:40:19.331Z"
   },
   {
    "duration": 11,
    "start_time": "2023-04-21T13:42:13.393Z"
   },
   {
    "duration": 137,
    "start_time": "2023-04-21T13:56:43.939Z"
   },
   {
    "duration": 138,
    "start_time": "2023-04-21T13:56:47.635Z"
   },
   {
    "duration": 120,
    "start_time": "2023-04-21T13:59:14.366Z"
   },
   {
    "duration": 124,
    "start_time": "2023-04-21T13:59:55.737Z"
   },
   {
    "duration": 182,
    "start_time": "2023-04-21T14:00:27.168Z"
   },
   {
    "duration": 127,
    "start_time": "2023-04-21T14:02:12.061Z"
   },
   {
    "duration": 142,
    "start_time": "2023-04-21T14:02:52.745Z"
   },
   {
    "duration": 128,
    "start_time": "2023-04-21T14:06:01.072Z"
   },
   {
    "duration": 121,
    "start_time": "2023-04-21T14:06:29.146Z"
   },
   {
    "duration": 5,
    "start_time": "2023-04-21T14:07:22.377Z"
   },
   {
    "duration": 18,
    "start_time": "2023-04-21T14:11:02.284Z"
   },
   {
    "duration": 3,
    "start_time": "2023-04-21T14:11:10.309Z"
   },
   {
    "duration": 3,
    "start_time": "2023-04-21T14:11:16.322Z"
   },
   {
    "duration": 3,
    "start_time": "2023-04-21T14:11:25.180Z"
   },
   {
    "duration": 4,
    "start_time": "2023-04-21T14:11:27.683Z"
   },
   {
    "duration": 5,
    "start_time": "2023-04-21T14:17:41.408Z"
   },
   {
    "duration": 140,
    "start_time": "2023-04-21T14:18:05.855Z"
   },
   {
    "duration": 121,
    "start_time": "2023-04-21T14:18:10.137Z"
   },
   {
    "duration": 134,
    "start_time": "2023-04-21T14:18:38.252Z"
   },
   {
    "duration": 116,
    "start_time": "2023-04-21T14:18:44.647Z"
   },
   {
    "duration": 125,
    "start_time": "2023-04-21T14:18:48.984Z"
   },
   {
    "duration": 120,
    "start_time": "2023-04-21T14:19:01.762Z"
   },
   {
    "duration": 4,
    "start_time": "2023-04-21T14:19:16.147Z"
   },
   {
    "duration": 123,
    "start_time": "2023-04-21T14:19:26.794Z"
   },
   {
    "duration": 175,
    "start_time": "2023-04-21T14:20:00.876Z"
   },
   {
    "duration": 3,
    "start_time": "2023-04-21T14:20:12.732Z"
   },
   {
    "duration": 123,
    "start_time": "2023-04-21T14:26:23.241Z"
   },
   {
    "duration": 127,
    "start_time": "2023-04-21T14:27:12.338Z"
   },
   {
    "duration": 123,
    "start_time": "2023-04-21T14:27:32.652Z"
   },
   {
    "duration": 125,
    "start_time": "2023-04-21T14:27:47.088Z"
   },
   {
    "duration": 126,
    "start_time": "2023-04-21T14:27:47.462Z"
   },
   {
    "duration": 132,
    "start_time": "2023-04-21T14:27:53.660Z"
   },
   {
    "duration": 130,
    "start_time": "2023-04-21T14:27:57.157Z"
   },
   {
    "duration": 24,
    "start_time": "2023-04-21T14:28:06.119Z"
   },
   {
    "duration": 123,
    "start_time": "2023-04-21T14:59:57.986Z"
   },
   {
    "duration": 132,
    "start_time": "2023-04-21T14:59:58.546Z"
   },
   {
    "duration": 1122,
    "start_time": "2023-04-21T15:14:24.129Z"
   },
   {
    "duration": 79,
    "start_time": "2023-04-21T15:14:25.253Z"
   },
   {
    "duration": 19,
    "start_time": "2023-04-21T15:14:25.334Z"
   },
   {
    "duration": 11,
    "start_time": "2023-04-21T15:14:25.355Z"
   },
   {
    "duration": 30,
    "start_time": "2023-04-21T15:14:25.368Z"
   },
   {
    "duration": 7,
    "start_time": "2023-04-21T15:14:25.400Z"
   },
   {
    "duration": 19,
    "start_time": "2023-04-21T15:14:25.409Z"
   },
   {
    "duration": 9,
    "start_time": "2023-04-21T15:14:25.429Z"
   },
   {
    "duration": 11,
    "start_time": "2023-04-21T15:14:25.439Z"
   },
   {
    "duration": 27,
    "start_time": "2023-04-21T15:14:25.453Z"
   },
   {
    "duration": 5,
    "start_time": "2023-04-21T15:14:25.482Z"
   },
   {
    "duration": 13,
    "start_time": "2023-04-21T15:14:25.490Z"
   },
   {
    "duration": 13,
    "start_time": "2023-04-21T15:14:25.504Z"
   },
   {
    "duration": 12,
    "start_time": "2023-04-21T15:14:25.519Z"
   },
   {
    "duration": 8,
    "start_time": "2023-04-21T15:14:25.533Z"
   },
   {
    "duration": 27,
    "start_time": "2023-04-21T15:14:25.542Z"
   },
   {
    "duration": 23,
    "start_time": "2023-04-21T15:14:25.570Z"
   },
   {
    "duration": 10,
    "start_time": "2023-04-21T15:14:25.596Z"
   },
   {
    "duration": 4,
    "start_time": "2023-04-21T15:14:25.608Z"
   },
   {
    "duration": 15,
    "start_time": "2023-04-21T15:14:25.614Z"
   },
   {
    "duration": 9,
    "start_time": "2023-04-21T15:14:25.630Z"
   },
   {
    "duration": 209,
    "start_time": "2023-04-21T15:14:25.641Z"
   },
   {
    "duration": 6,
    "start_time": "2023-04-21T15:14:25.852Z"
   },
   {
    "duration": 29,
    "start_time": "2023-04-21T15:14:25.860Z"
   },
   {
    "duration": 729,
    "start_time": "2023-04-21T15:14:25.891Z"
   },
   {
    "duration": 4,
    "start_time": "2023-04-21T15:14:26.621Z"
   },
   {
    "duration": 15,
    "start_time": "2023-04-21T15:14:26.626Z"
   },
   {
    "duration": 8,
    "start_time": "2023-04-21T15:14:26.643Z"
   },
   {
    "duration": 11,
    "start_time": "2023-04-21T15:14:26.653Z"
   },
   {
    "duration": 541,
    "start_time": "2023-04-21T15:14:26.666Z"
   },
   {
    "duration": 5,
    "start_time": "2023-04-21T15:14:27.208Z"
   },
   {
    "duration": 186,
    "start_time": "2023-04-21T15:14:27.215Z"
   },
   {
    "duration": 3,
    "start_time": "2023-04-21T15:14:27.403Z"
   },
   {
    "duration": 30,
    "start_time": "2023-04-21T15:14:27.408Z"
   },
   {
    "duration": 15,
    "start_time": "2023-04-21T15:14:27.440Z"
   },
   {
    "duration": 143,
    "start_time": "2023-04-21T15:14:27.456Z"
   },
   {
    "duration": 136,
    "start_time": "2023-04-21T15:14:27.601Z"
   },
   {
    "duration": 138,
    "start_time": "2023-04-21T15:14:27.738Z"
   },
   {
    "duration": 130,
    "start_time": "2023-04-21T15:14:27.879Z"
   },
   {
    "duration": 113,
    "start_time": "2023-04-21T15:16:53.140Z"
   },
   {
    "duration": 119,
    "start_time": "2023-04-21T15:16:55.564Z"
   },
   {
    "duration": 21,
    "start_time": "2023-04-21T15:17:06.107Z"
   },
   {
    "duration": 14,
    "start_time": "2023-04-21T15:17:24.054Z"
   },
   {
    "duration": 16,
    "start_time": "2023-04-21T15:17:39.137Z"
   },
   {
    "duration": 6,
    "start_time": "2023-04-21T15:20:09.275Z"
   },
   {
    "duration": 4,
    "start_time": "2023-04-21T15:20:09.954Z"
   },
   {
    "duration": 5,
    "start_time": "2023-04-21T15:20:10.466Z"
   },
   {
    "duration": 5,
    "start_time": "2023-04-21T15:20:10.995Z"
   },
   {
    "duration": 459,
    "start_time": "2023-04-21T15:20:13.427Z"
   },
   {
    "duration": 5,
    "start_time": "2023-04-21T15:20:36.981Z"
   },
   {
    "duration": 205,
    "start_time": "2023-04-21T15:20:37.524Z"
   },
   {
    "duration": 8,
    "start_time": "2023-04-21T15:20:48.829Z"
   },
   {
    "duration": 28,
    "start_time": "2023-04-21T15:20:49.584Z"
   },
   {
    "duration": 225,
    "start_time": "2023-04-21T15:20:55.995Z"
   },
   {
    "duration": 132,
    "start_time": "2023-04-21T15:20:57.981Z"
   },
   {
    "duration": 121,
    "start_time": "2023-04-21T15:21:02.396Z"
   },
   {
    "duration": 125,
    "start_time": "2023-04-21T15:21:17.429Z"
   },
   {
    "duration": 14,
    "start_time": "2023-04-21T15:33:07.616Z"
   },
   {
    "duration": 246,
    "start_time": "2023-04-21T15:34:56.651Z"
   },
   {
    "duration": 106,
    "start_time": "2023-04-21T15:35:15.888Z"
   },
   {
    "duration": 123,
    "start_time": "2023-04-21T15:35:47.162Z"
   },
   {
    "duration": 124,
    "start_time": "2023-04-21T15:36:22.282Z"
   },
   {
    "duration": 73,
    "start_time": "2023-04-21T15:40:36.488Z"
   },
   {
    "duration": 17,
    "start_time": "2023-04-21T15:41:30.845Z"
   },
   {
    "duration": 10,
    "start_time": "2023-04-21T15:41:41.707Z"
   },
   {
    "duration": 134,
    "start_time": "2023-04-21T15:41:46.906Z"
   },
   {
    "duration": 13,
    "start_time": "2023-04-21T15:41:57.650Z"
   },
   {
    "duration": 112,
    "start_time": "2023-04-21T15:41:58.217Z"
   },
   {
    "duration": 139,
    "start_time": "2023-04-21T15:42:50.612Z"
   },
   {
    "duration": 131,
    "start_time": "2023-04-21T15:42:58.124Z"
   },
   {
    "duration": 7,
    "start_time": "2023-04-21T15:45:37.806Z"
   },
   {
    "duration": 4,
    "start_time": "2023-04-21T15:53:04.926Z"
   },
   {
    "duration": 4,
    "start_time": "2023-04-21T15:54:56.952Z"
   },
   {
    "duration": 18,
    "start_time": "2023-04-21T15:54:58.446Z"
   },
   {
    "duration": 192,
    "start_time": "2023-04-21T15:55:19.513Z"
   },
   {
    "duration": 118,
    "start_time": "2023-04-21T15:55:22.817Z"
   },
   {
    "duration": 13,
    "start_time": "2023-04-21T15:55:34.491Z"
   },
   {
    "duration": 147,
    "start_time": "2023-04-21T15:55:39.599Z"
   },
   {
    "duration": 4,
    "start_time": "2023-04-21T15:56:35.398Z"
   },
   {
    "duration": 7,
    "start_time": "2023-04-21T15:58:01.288Z"
   },
   {
    "duration": 5,
    "start_time": "2023-04-21T15:58:08.577Z"
   },
   {
    "duration": 1593,
    "start_time": "2023-04-24T14:10:06.942Z"
   },
   {
    "duration": 96,
    "start_time": "2023-04-24T14:10:08.537Z"
   },
   {
    "duration": 26,
    "start_time": "2023-04-24T14:10:08.635Z"
   },
   {
    "duration": 20,
    "start_time": "2023-04-24T14:10:08.663Z"
   },
   {
    "duration": 32,
    "start_time": "2023-04-24T14:10:08.685Z"
   },
   {
    "duration": 9,
    "start_time": "2023-04-24T14:10:08.719Z"
   },
   {
    "duration": 27,
    "start_time": "2023-04-24T14:10:08.730Z"
   },
   {
    "duration": 9,
    "start_time": "2023-04-24T14:10:08.758Z"
   },
   {
    "duration": 9,
    "start_time": "2023-04-24T14:10:08.786Z"
   },
   {
    "duration": 29,
    "start_time": "2023-04-24T14:10:08.799Z"
   },
   {
    "duration": 7,
    "start_time": "2023-04-24T14:10:08.830Z"
   },
   {
    "duration": 13,
    "start_time": "2023-04-24T14:10:08.838Z"
   },
   {
    "duration": 21,
    "start_time": "2023-04-24T14:10:08.853Z"
   },
   {
    "duration": 23,
    "start_time": "2023-04-24T14:10:08.876Z"
   },
   {
    "duration": 4,
    "start_time": "2023-04-24T14:10:08.901Z"
   },
   {
    "duration": 16,
    "start_time": "2023-04-24T14:10:08.906Z"
   },
   {
    "duration": 9,
    "start_time": "2023-04-24T14:10:08.923Z"
   },
   {
    "duration": 12,
    "start_time": "2023-04-24T14:10:08.934Z"
   },
   {
    "duration": 26,
    "start_time": "2023-04-24T14:10:08.947Z"
   },
   {
    "duration": 26,
    "start_time": "2023-04-24T14:10:08.975Z"
   },
   {
    "duration": 11,
    "start_time": "2023-04-24T14:10:09.003Z"
   },
   {
    "duration": 238,
    "start_time": "2023-04-24T14:10:09.015Z"
   },
   {
    "duration": 8,
    "start_time": "2023-04-24T14:10:09.255Z"
   },
   {
    "duration": 33,
    "start_time": "2023-04-24T14:10:09.265Z"
   },
   {
    "duration": 784,
    "start_time": "2023-04-24T14:10:09.300Z"
   },
   {
    "duration": 5,
    "start_time": "2023-04-24T14:10:10.088Z"
   },
   {
    "duration": 16,
    "start_time": "2023-04-24T14:10:10.094Z"
   },
   {
    "duration": 32,
    "start_time": "2023-04-24T14:10:10.113Z"
   },
   {
    "duration": 25,
    "start_time": "2023-04-24T14:10:10.146Z"
   },
   {
    "duration": 741,
    "start_time": "2023-04-24T14:10:10.173Z"
   },
   {
    "duration": 111,
    "start_time": "2023-04-24T14:10:10.916Z"
   },
   {
    "duration": 0,
    "start_time": "2023-04-24T14:10:11.028Z"
   },
   {
    "duration": 0,
    "start_time": "2023-04-24T14:10:11.030Z"
   },
   {
    "duration": 0,
    "start_time": "2023-04-24T14:10:11.031Z"
   },
   {
    "duration": 0,
    "start_time": "2023-04-24T14:10:11.032Z"
   },
   {
    "duration": 0,
    "start_time": "2023-04-24T14:10:11.033Z"
   },
   {
    "duration": 0,
    "start_time": "2023-04-24T14:10:11.034Z"
   },
   {
    "duration": 0,
    "start_time": "2023-04-24T14:10:11.035Z"
   },
   {
    "duration": 1,
    "start_time": "2023-04-24T14:10:11.036Z"
   },
   {
    "duration": 0,
    "start_time": "2023-04-24T14:10:11.038Z"
   },
   {
    "duration": 0,
    "start_time": "2023-04-24T14:10:11.039Z"
   },
   {
    "duration": 5,
    "start_time": "2023-04-24T14:10:54.604Z"
   },
   {
    "duration": 193,
    "start_time": "2023-04-24T14:10:59.917Z"
   },
   {
    "duration": 18,
    "start_time": "2023-04-24T14:16:15.087Z"
   },
   {
    "duration": 4,
    "start_time": "2023-04-24T14:16:46.145Z"
   },
   {
    "duration": 8,
    "start_time": "2023-04-24T14:16:52.618Z"
   },
   {
    "duration": 8,
    "start_time": "2023-04-24T14:17:14.387Z"
   },
   {
    "duration": 5,
    "start_time": "2023-04-24T14:17:17.021Z"
   },
   {
    "duration": 23,
    "start_time": "2023-04-24T14:17:17.691Z"
   },
   {
    "duration": 24,
    "start_time": "2023-04-24T14:20:16.432Z"
   },
   {
    "duration": 18,
    "start_time": "2023-04-24T14:20:40.060Z"
   },
   {
    "duration": 6,
    "start_time": "2023-04-24T14:21:08.797Z"
   },
   {
    "duration": 10,
    "start_time": "2023-04-24T14:23:49.302Z"
   },
   {
    "duration": 7,
    "start_time": "2023-04-24T14:24:05.198Z"
   },
   {
    "duration": 8,
    "start_time": "2023-04-24T14:24:27.411Z"
   },
   {
    "duration": 13,
    "start_time": "2023-04-24T14:27:14.252Z"
   },
   {
    "duration": 12,
    "start_time": "2023-04-24T14:27:19.523Z"
   },
   {
    "duration": 8,
    "start_time": "2023-04-24T14:27:27.246Z"
   },
   {
    "duration": 8,
    "start_time": "2023-04-24T14:27:58.899Z"
   },
   {
    "duration": 7,
    "start_time": "2023-04-24T14:30:12.323Z"
   },
   {
    "duration": 6,
    "start_time": "2023-04-24T14:32:52.441Z"
   },
   {
    "duration": 5,
    "start_time": "2023-04-24T14:33:04.753Z"
   },
   {
    "duration": 9,
    "start_time": "2023-04-24T14:33:12.145Z"
   },
   {
    "duration": 6,
    "start_time": "2023-04-24T14:39:19.327Z"
   },
   {
    "duration": 12,
    "start_time": "2023-04-24T14:39:32.457Z"
   },
   {
    "duration": 6,
    "start_time": "2023-04-24T14:39:37.994Z"
   },
   {
    "duration": 13,
    "start_time": "2023-04-24T14:39:44.542Z"
   },
   {
    "duration": 6,
    "start_time": "2023-04-24T14:39:47.822Z"
   },
   {
    "duration": 14,
    "start_time": "2023-04-24T14:39:47.855Z"
   },
   {
    "duration": 111,
    "start_time": "2023-04-24T14:39:54.626Z"
   },
   {
    "duration": 104,
    "start_time": "2023-04-24T14:40:29.907Z"
   },
   {
    "duration": 8,
    "start_time": "2023-04-24T14:41:28.309Z"
   },
   {
    "duration": 5,
    "start_time": "2023-04-24T14:43:40.043Z"
   },
   {
    "duration": 148,
    "start_time": "2023-04-24T14:43:40.550Z"
   },
   {
    "duration": 123,
    "start_time": "2023-04-24T14:43:46.341Z"
   },
   {
    "duration": 126,
    "start_time": "2023-04-24T14:45:40.881Z"
   },
   {
    "duration": 97,
    "start_time": "2023-04-24T14:46:31.017Z"
   },
   {
    "duration": 98,
    "start_time": "2023-04-24T14:46:37.717Z"
   },
   {
    "duration": 121,
    "start_time": "2023-04-24T14:47:04.029Z"
   },
   {
    "duration": 118,
    "start_time": "2023-04-24T14:47:12.614Z"
   },
   {
    "duration": 125,
    "start_time": "2023-04-24T14:47:23.189Z"
   },
   {
    "duration": 210,
    "start_time": "2023-04-24T14:47:44.992Z"
   },
   {
    "duration": 115,
    "start_time": "2023-04-24T14:48:18.151Z"
   },
   {
    "duration": 6,
    "start_time": "2023-04-24T14:48:25.617Z"
   },
   {
    "duration": 7,
    "start_time": "2023-04-24T14:48:32.190Z"
   },
   {
    "duration": 10,
    "start_time": "2023-04-24T14:54:19.355Z"
   },
   {
    "duration": 14,
    "start_time": "2023-04-24T14:54:27.144Z"
   },
   {
    "duration": 12,
    "start_time": "2023-04-24T14:54:38.501Z"
   },
   {
    "duration": 15,
    "start_time": "2023-04-24T14:54:44.489Z"
   },
   {
    "duration": 130,
    "start_time": "2023-04-24T14:55:40.218Z"
   },
   {
    "duration": 44,
    "start_time": "2023-04-24T16:56:57.898Z"
   },
   {
    "duration": 1186,
    "start_time": "2023-04-24T16:57:04.091Z"
   },
   {
    "duration": 99,
    "start_time": "2023-04-24T16:57:05.279Z"
   },
   {
    "duration": 27,
    "start_time": "2023-04-24T16:57:05.379Z"
   },
   {
    "duration": 16,
    "start_time": "2023-04-24T16:57:05.407Z"
   },
   {
    "duration": 28,
    "start_time": "2023-04-24T16:57:05.425Z"
   },
   {
    "duration": 9,
    "start_time": "2023-04-24T16:57:05.455Z"
   },
   {
    "duration": 28,
    "start_time": "2023-04-24T16:57:05.465Z"
   },
   {
    "duration": 11,
    "start_time": "2023-04-24T16:57:05.495Z"
   },
   {
    "duration": 7,
    "start_time": "2023-04-24T16:57:05.508Z"
   },
   {
    "duration": 17,
    "start_time": "2023-04-24T16:57:05.517Z"
   },
   {
    "duration": 4,
    "start_time": "2023-04-24T16:57:05.536Z"
   },
   {
    "duration": 8,
    "start_time": "2023-04-24T16:57:05.542Z"
   },
   {
    "duration": 16,
    "start_time": "2023-04-24T16:57:05.551Z"
   },
   {
    "duration": 13,
    "start_time": "2023-04-24T16:57:05.570Z"
   },
   {
    "duration": 7,
    "start_time": "2023-04-24T16:57:05.584Z"
   },
   {
    "duration": 12,
    "start_time": "2023-04-24T16:57:05.593Z"
   },
   {
    "duration": 27,
    "start_time": "2023-04-24T16:57:05.607Z"
   },
   {
    "duration": 8,
    "start_time": "2023-04-24T16:57:05.636Z"
   },
   {
    "duration": 5,
    "start_time": "2023-04-24T16:57:05.645Z"
   },
   {
    "duration": 19,
    "start_time": "2023-04-24T16:57:05.651Z"
   },
   {
    "duration": 18,
    "start_time": "2023-04-24T16:57:05.671Z"
   },
   {
    "duration": 193,
    "start_time": "2023-04-24T16:57:05.690Z"
   },
   {
    "duration": 6,
    "start_time": "2023-04-24T16:57:05.885Z"
   },
   {
    "duration": 18,
    "start_time": "2023-04-24T16:57:05.893Z"
   },
   {
    "duration": 17,
    "start_time": "2023-04-24T16:57:05.912Z"
   },
   {
    "duration": 674,
    "start_time": "2023-04-24T16:57:05.931Z"
   },
   {
    "duration": 4,
    "start_time": "2023-04-24T16:57:06.607Z"
   },
   {
    "duration": 14,
    "start_time": "2023-04-24T16:57:06.612Z"
   },
   {
    "duration": 27,
    "start_time": "2023-04-24T16:57:06.628Z"
   },
   {
    "duration": 7,
    "start_time": "2023-04-24T16:57:06.657Z"
   },
   {
    "duration": 598,
    "start_time": "2023-04-24T16:57:06.665Z"
   },
   {
    "duration": 5,
    "start_time": "2023-04-24T16:57:07.264Z"
   },
   {
    "duration": 169,
    "start_time": "2023-04-24T16:57:07.270Z"
   },
   {
    "duration": 4,
    "start_time": "2023-04-24T16:57:07.441Z"
   },
   {
    "duration": 27,
    "start_time": "2023-04-24T16:57:07.446Z"
   },
   {
    "duration": 21,
    "start_time": "2023-04-24T16:57:07.474Z"
   },
   {
    "duration": 130,
    "start_time": "2023-04-24T16:57:07.496Z"
   },
   {
    "duration": 127,
    "start_time": "2023-04-24T16:57:07.632Z"
   },
   {
    "duration": 120,
    "start_time": "2023-04-24T16:57:07.761Z"
   },
   {
    "duration": 142,
    "start_time": "2023-04-24T16:57:07.883Z"
   },
   {
    "duration": 16,
    "start_time": "2023-04-24T16:57:08.034Z"
   },
   {
    "duration": 160,
    "start_time": "2023-04-24T16:57:08.052Z"
   },
   {
    "duration": 6,
    "start_time": "2023-04-24T16:57:08.214Z"
   },
   {
    "duration": 95,
    "start_time": "2023-04-24T16:57:08.221Z"
   },
   {
    "duration": 17,
    "start_time": "2023-04-24T16:57:08.317Z"
   },
   {
    "duration": 110,
    "start_time": "2023-04-24T16:57:08.335Z"
   },
   {
    "duration": 13,
    "start_time": "2023-04-24T16:57:08.447Z"
   },
   {
    "duration": 119,
    "start_time": "2023-04-24T16:57:08.461Z"
   },
   {
    "duration": 332,
    "start_time": "2023-04-24T17:04:39.618Z"
   },
   {
    "duration": 76,
    "start_time": "2023-04-24T17:05:32.950Z"
   },
   {
    "duration": 294,
    "start_time": "2023-04-24T17:05:40.002Z"
   },
   {
    "duration": 71,
    "start_time": "2023-04-24T17:06:08.102Z"
   },
   {
    "duration": 10,
    "start_time": "2023-04-24T17:06:15.427Z"
   },
   {
    "duration": 257,
    "start_time": "2023-04-24T17:06:22.539Z"
   },
   {
    "duration": 251,
    "start_time": "2023-04-24T17:06:35.497Z"
   },
   {
    "duration": 75,
    "start_time": "2023-04-24T17:06:53.191Z"
   },
   {
    "duration": 257,
    "start_time": "2023-04-24T17:07:02.713Z"
   },
   {
    "duration": 273,
    "start_time": "2023-04-24T17:07:13.198Z"
   },
   {
    "duration": 350,
    "start_time": "2023-04-24T17:07:20.252Z"
   },
   {
    "duration": 304,
    "start_time": "2023-04-24T17:07:25.869Z"
   },
   {
    "duration": 253,
    "start_time": "2023-04-24T17:07:30.098Z"
   },
   {
    "duration": 350,
    "start_time": "2023-04-24T17:07:51.699Z"
   },
   {
    "duration": 148,
    "start_time": "2023-04-24T17:17:33.221Z"
   },
   {
    "duration": 87,
    "start_time": "2023-04-24T17:38:32.811Z"
   },
   {
    "duration": 124,
    "start_time": "2023-04-24T17:39:03.692Z"
   },
   {
    "duration": 5,
    "start_time": "2023-04-24T17:47:10.132Z"
   },
   {
    "duration": 3,
    "start_time": "2023-04-24T17:47:12.819Z"
   },
   {
    "duration": 7,
    "start_time": "2023-04-24T17:53:37.972Z"
   },
   {
    "duration": 107,
    "start_time": "2023-04-24T17:54:50.023Z"
   },
   {
    "duration": 8,
    "start_time": "2023-04-24T17:55:58.510Z"
   },
   {
    "duration": 209,
    "start_time": "2023-04-24T17:57:09.805Z"
   },
   {
    "duration": 8,
    "start_time": "2023-04-24T17:57:13.718Z"
   },
   {
    "duration": 115,
    "start_time": "2023-04-24T17:57:37.869Z"
   },
   {
    "duration": 146,
    "start_time": "2023-04-24T17:58:24.911Z"
   },
   {
    "duration": 1413,
    "start_time": "2023-04-24T17:59:14.004Z"
   },
   {
    "duration": 131,
    "start_time": "2023-04-24T17:59:22.539Z"
   },
   {
    "duration": 96,
    "start_time": "2023-04-24T18:01:08.218Z"
   },
   {
    "duration": 198,
    "start_time": "2023-04-24T18:01:56.292Z"
   },
   {
    "duration": 228,
    "start_time": "2023-04-24T18:07:53.364Z"
   },
   {
    "duration": 195,
    "start_time": "2023-04-24T18:08:16.885Z"
   },
   {
    "duration": 316,
    "start_time": "2023-04-24T18:08:28.651Z"
   },
   {
    "duration": 298,
    "start_time": "2023-04-24T18:08:45.108Z"
   },
   {
    "duration": 282,
    "start_time": "2023-04-24T18:09:04.946Z"
   },
   {
    "duration": 286,
    "start_time": "2023-04-24T18:09:35.017Z"
   },
   {
    "duration": 349,
    "start_time": "2023-04-24T18:10:33.129Z"
   },
   {
    "duration": 340,
    "start_time": "2023-04-24T18:11:32.813Z"
   },
   {
    "duration": 526,
    "start_time": "2023-04-24T18:12:30.784Z"
   },
   {
    "duration": 109,
    "start_time": "2023-04-24T18:14:24.987Z"
   },
   {
    "duration": 256,
    "start_time": "2023-04-24T18:14:47.503Z"
   },
   {
    "duration": 101,
    "start_time": "2023-04-24T18:24:22.510Z"
   },
   {
    "duration": 135,
    "start_time": "2023-04-24T18:24:49.726Z"
   },
   {
    "duration": 101,
    "start_time": "2023-04-24T18:24:52.547Z"
   },
   {
    "duration": 12,
    "start_time": "2023-04-24T18:24:55.730Z"
   },
   {
    "duration": 13,
    "start_time": "2023-04-24T18:25:29.442Z"
   },
   {
    "duration": 125,
    "start_time": "2023-04-24T18:28:27.557Z"
   },
   {
    "duration": 137,
    "start_time": "2023-04-24T18:29:27.792Z"
   },
   {
    "duration": 66,
    "start_time": "2023-04-25T15:59:21.476Z"
   },
   {
    "duration": 1512,
    "start_time": "2023-04-25T15:59:29.184Z"
   },
   {
    "duration": 266,
    "start_time": "2023-04-25T15:59:30.698Z"
   },
   {
    "duration": 36,
    "start_time": "2023-04-25T15:59:30.965Z"
   },
   {
    "duration": 24,
    "start_time": "2023-04-25T15:59:31.003Z"
   },
   {
    "duration": 51,
    "start_time": "2023-04-25T15:59:31.029Z"
   },
   {
    "duration": 21,
    "start_time": "2023-04-25T15:59:31.082Z"
   },
   {
    "duration": 41,
    "start_time": "2023-04-25T15:59:31.105Z"
   },
   {
    "duration": 46,
    "start_time": "2023-04-25T15:59:31.148Z"
   },
   {
    "duration": 48,
    "start_time": "2023-04-25T15:59:31.196Z"
   },
   {
    "duration": 41,
    "start_time": "2023-04-25T15:59:31.246Z"
   },
   {
    "duration": 26,
    "start_time": "2023-04-25T15:59:31.289Z"
   },
   {
    "duration": 37,
    "start_time": "2023-04-25T15:59:31.317Z"
   },
   {
    "duration": 58,
    "start_time": "2023-04-25T15:59:31.356Z"
   },
   {
    "duration": 53,
    "start_time": "2023-04-25T15:59:31.417Z"
   },
   {
    "duration": 17,
    "start_time": "2023-04-25T15:59:31.471Z"
   },
   {
    "duration": 39,
    "start_time": "2023-04-25T15:59:31.490Z"
   },
   {
    "duration": 24,
    "start_time": "2023-04-25T15:59:31.531Z"
   },
   {
    "duration": 23,
    "start_time": "2023-04-25T15:59:31.557Z"
   },
   {
    "duration": 34,
    "start_time": "2023-04-25T15:59:31.582Z"
   },
   {
    "duration": 43,
    "start_time": "2023-04-25T15:59:31.619Z"
   },
   {
    "duration": 45,
    "start_time": "2023-04-25T15:59:31.664Z"
   },
   {
    "duration": 306,
    "start_time": "2023-04-25T15:59:31.711Z"
   },
   {
    "duration": 12,
    "start_time": "2023-04-25T15:59:32.019Z"
   },
   {
    "duration": 36,
    "start_time": "2023-04-25T15:59:32.034Z"
   },
   {
    "duration": 388,
    "start_time": "2023-04-25T15:59:32.072Z"
   },
   {
    "duration": 12,
    "start_time": "2023-04-25T15:59:32.462Z"
   },
   {
    "duration": 912,
    "start_time": "2023-04-25T15:59:32.476Z"
   },
   {
    "duration": 7,
    "start_time": "2023-04-25T15:59:33.393Z"
   },
   {
    "duration": 9,
    "start_time": "2023-04-25T15:59:33.402Z"
   },
   {
    "duration": 6,
    "start_time": "2023-04-25T15:59:33.414Z"
   },
   {
    "duration": 5,
    "start_time": "2023-04-25T15:59:33.422Z"
   },
   {
    "duration": 626,
    "start_time": "2023-04-25T15:59:33.429Z"
   },
   {
    "duration": 5,
    "start_time": "2023-04-25T15:59:34.057Z"
   },
   {
    "duration": 220,
    "start_time": "2023-04-25T15:59:34.063Z"
   },
   {
    "duration": 10,
    "start_time": "2023-04-25T15:59:34.285Z"
   },
   {
    "duration": 30,
    "start_time": "2023-04-25T15:59:34.297Z"
   },
   {
    "duration": 13,
    "start_time": "2023-04-25T15:59:34.329Z"
   },
   {
    "duration": 197,
    "start_time": "2023-04-25T15:59:34.345Z"
   },
   {
    "duration": 191,
    "start_time": "2023-04-25T15:59:34.543Z"
   },
   {
    "duration": 159,
    "start_time": "2023-04-25T15:59:34.736Z"
   },
   {
    "duration": 151,
    "start_time": "2023-04-25T15:59:34.900Z"
   },
   {
    "duration": 22,
    "start_time": "2023-04-25T15:59:35.053Z"
   },
   {
    "duration": 252,
    "start_time": "2023-04-25T15:59:35.077Z"
   },
   {
    "duration": 9,
    "start_time": "2023-04-25T15:59:35.331Z"
   },
   {
    "duration": 123,
    "start_time": "2023-04-25T15:59:35.342Z"
   },
   {
    "duration": 9,
    "start_time": "2023-04-25T15:59:35.466Z"
   },
   {
    "duration": 153,
    "start_time": "2023-04-25T15:59:35.477Z"
   },
   {
    "duration": 246,
    "start_time": "2023-04-25T15:59:35.631Z"
   },
   {
    "duration": 21,
    "start_time": "2023-04-25T15:59:35.879Z"
   },
   {
    "duration": 121,
    "start_time": "2023-04-25T15:59:35.902Z"
   },
   {
    "duration": 158,
    "start_time": "2023-04-25T15:59:36.026Z"
   },
   {
    "duration": 200,
    "start_time": "2023-04-25T15:59:36.186Z"
   },
   {
    "duration": 11,
    "start_time": "2023-04-25T15:59:36.388Z"
   },
   {
    "duration": 117,
    "start_time": "2023-04-25T15:59:36.401Z"
   },
   {
    "duration": 151,
    "start_time": "2023-04-25T15:59:36.520Z"
   },
   {
    "duration": 188,
    "start_time": "2023-04-25T15:59:36.674Z"
   },
   {
    "duration": 59,
    "start_time": "2023-04-25T15:59:36.865Z"
   },
   {
    "duration": 0,
    "start_time": "2023-04-25T15:59:36.926Z"
   },
   {
    "duration": 23,
    "start_time": "2023-04-25T15:59:41.387Z"
   },
   {
    "duration": 52,
    "start_time": "2023-04-25T19:08:23.273Z"
   },
   {
    "duration": 1173,
    "start_time": "2023-04-25T19:08:32.291Z"
   },
   {
    "duration": 99,
    "start_time": "2023-04-25T19:08:33.466Z"
   },
   {
    "duration": 22,
    "start_time": "2023-04-25T19:08:33.566Z"
   },
   {
    "duration": 11,
    "start_time": "2023-04-25T19:08:33.589Z"
   },
   {
    "duration": 32,
    "start_time": "2023-04-25T19:08:33.602Z"
   },
   {
    "duration": 7,
    "start_time": "2023-04-25T19:08:33.636Z"
   },
   {
    "duration": 34,
    "start_time": "2023-04-25T19:08:33.645Z"
   },
   {
    "duration": 4,
    "start_time": "2023-04-25T19:08:33.681Z"
   },
   {
    "duration": 6,
    "start_time": "2023-04-25T19:08:33.686Z"
   },
   {
    "duration": 12,
    "start_time": "2023-04-25T19:08:33.693Z"
   },
   {
    "duration": 3,
    "start_time": "2023-04-25T19:08:33.707Z"
   },
   {
    "duration": 11,
    "start_time": "2023-04-25T19:08:33.711Z"
   },
   {
    "duration": 9,
    "start_time": "2023-04-25T19:08:33.723Z"
   },
   {
    "duration": 14,
    "start_time": "2023-04-25T19:08:33.734Z"
   },
   {
    "duration": 3,
    "start_time": "2023-04-25T19:08:33.771Z"
   },
   {
    "duration": 9,
    "start_time": "2023-04-25T19:08:33.776Z"
   },
   {
    "duration": 5,
    "start_time": "2023-04-25T19:08:33.786Z"
   },
   {
    "duration": 8,
    "start_time": "2023-04-25T19:08:33.792Z"
   },
   {
    "duration": 4,
    "start_time": "2023-04-25T19:08:33.801Z"
   },
   {
    "duration": 16,
    "start_time": "2023-04-25T19:08:33.806Z"
   },
   {
    "duration": 15,
    "start_time": "2023-04-25T19:08:33.823Z"
   },
   {
    "duration": 187,
    "start_time": "2023-04-25T19:08:33.840Z"
   },
   {
    "duration": 6,
    "start_time": "2023-04-25T19:08:34.029Z"
   },
   {
    "duration": 9,
    "start_time": "2023-04-25T19:08:34.036Z"
   },
   {
    "duration": 262,
    "start_time": "2023-04-25T19:08:34.046Z"
   },
   {
    "duration": 6,
    "start_time": "2023-04-25T19:08:34.309Z"
   },
   {
    "duration": 674,
    "start_time": "2023-04-25T19:08:34.317Z"
   },
   {
    "duration": 4,
    "start_time": "2023-04-25T19:08:34.992Z"
   },
   {
    "duration": 6,
    "start_time": "2023-04-25T19:08:34.997Z"
   },
   {
    "duration": 5,
    "start_time": "2023-04-25T19:08:35.004Z"
   },
   {
    "duration": 11,
    "start_time": "2023-04-25T19:08:35.011Z"
   },
   {
    "duration": 484,
    "start_time": "2023-04-25T19:08:35.023Z"
   },
   {
    "duration": 4,
    "start_time": "2023-04-25T19:08:35.508Z"
   },
   {
    "duration": 173,
    "start_time": "2023-04-25T19:08:35.514Z"
   },
   {
    "duration": 4,
    "start_time": "2023-04-25T19:08:35.689Z"
   },
   {
    "duration": 22,
    "start_time": "2023-04-25T19:08:35.695Z"
   },
   {
    "duration": 16,
    "start_time": "2023-04-25T19:08:35.718Z"
   },
   {
    "duration": 143,
    "start_time": "2023-04-25T19:08:35.736Z"
   },
   {
    "duration": 152,
    "start_time": "2023-04-25T19:08:35.881Z"
   },
   {
    "duration": 152,
    "start_time": "2023-04-25T19:08:36.035Z"
   },
   {
    "duration": 120,
    "start_time": "2023-04-25T19:08:36.191Z"
   },
   {
    "duration": 14,
    "start_time": "2023-04-25T19:08:36.312Z"
   },
   {
    "duration": 160,
    "start_time": "2023-04-25T19:08:36.327Z"
   },
   {
    "duration": 7,
    "start_time": "2023-04-25T19:08:36.488Z"
   },
   {
    "duration": 92,
    "start_time": "2023-04-25T19:08:36.496Z"
   },
   {
    "duration": 6,
    "start_time": "2023-04-25T19:08:36.590Z"
   },
   {
    "duration": 107,
    "start_time": "2023-04-25T19:08:36.598Z"
   },
   {
    "duration": 172,
    "start_time": "2023-04-25T19:08:36.707Z"
   },
   {
    "duration": 6,
    "start_time": "2023-04-25T19:08:36.881Z"
   },
   {
    "duration": 97,
    "start_time": "2023-04-25T19:08:36.888Z"
   },
   {
    "duration": 118,
    "start_time": "2023-04-25T19:08:36.986Z"
   },
   {
    "duration": 111,
    "start_time": "2023-04-25T19:08:37.105Z"
   },
   {
    "duration": 6,
    "start_time": "2023-04-25T19:08:37.218Z"
   },
   {
    "duration": 90,
    "start_time": "2023-04-25T19:08:37.226Z"
   },
   {
    "duration": 115,
    "start_time": "2023-04-25T19:08:37.317Z"
   },
   {
    "duration": 115,
    "start_time": "2023-04-25T19:08:37.433Z"
   },
   {
    "duration": 96,
    "start_time": "2023-04-25T19:08:37.549Z"
   },
   {
    "duration": 0,
    "start_time": "2023-04-25T19:08:37.646Z"
   },
   {
    "duration": 0,
    "start_time": "2023-04-25T19:08:37.647Z"
   },
   {
    "duration": 0,
    "start_time": "2023-04-25T19:08:37.648Z"
   },
   {
    "duration": 9,
    "start_time": "2023-04-25T19:08:57.828Z"
   },
   {
    "duration": 8,
    "start_time": "2023-04-25T19:14:12.928Z"
   },
   {
    "duration": 10,
    "start_time": "2023-04-25T19:17:05.687Z"
   },
   {
    "duration": 8,
    "start_time": "2023-04-25T19:17:22.335Z"
   },
   {
    "duration": 13,
    "start_time": "2023-04-25T19:22:40.531Z"
   },
   {
    "duration": 7,
    "start_time": "2023-04-25T19:22:51.048Z"
   },
   {
    "duration": 8,
    "start_time": "2023-04-25T19:24:35.760Z"
   },
   {
    "duration": 8,
    "start_time": "2023-04-25T19:24:50.738Z"
   },
   {
    "duration": 4,
    "start_time": "2023-04-25T19:26:38.329Z"
   },
   {
    "duration": 1111,
    "start_time": "2023-04-25T19:26:46.438Z"
   },
   {
    "duration": 50,
    "start_time": "2023-04-25T19:26:47.551Z"
   },
   {
    "duration": 21,
    "start_time": "2023-04-25T19:26:47.602Z"
   },
   {
    "duration": 12,
    "start_time": "2023-04-25T19:26:47.625Z"
   },
   {
    "duration": 34,
    "start_time": "2023-04-25T19:26:47.638Z"
   },
   {
    "duration": 7,
    "start_time": "2023-04-25T19:26:47.674Z"
   },
   {
    "duration": 21,
    "start_time": "2023-04-25T19:26:47.682Z"
   },
   {
    "duration": 6,
    "start_time": "2023-04-25T19:26:47.705Z"
   },
   {
    "duration": 6,
    "start_time": "2023-04-25T19:26:47.712Z"
   },
   {
    "duration": 19,
    "start_time": "2023-04-25T19:26:47.720Z"
   },
   {
    "duration": 4,
    "start_time": "2023-04-25T19:26:47.740Z"
   },
   {
    "duration": 11,
    "start_time": "2023-04-25T19:26:47.745Z"
   },
   {
    "duration": 26,
    "start_time": "2023-04-25T19:26:47.757Z"
   },
   {
    "duration": 13,
    "start_time": "2023-04-25T19:26:47.784Z"
   },
   {
    "duration": 3,
    "start_time": "2023-04-25T19:26:47.798Z"
   },
   {
    "duration": 8,
    "start_time": "2023-04-25T19:26:47.802Z"
   },
   {
    "duration": 5,
    "start_time": "2023-04-25T19:26:47.812Z"
   },
   {
    "duration": 7,
    "start_time": "2023-04-25T19:26:47.818Z"
   },
   {
    "duration": 3,
    "start_time": "2023-04-25T19:26:47.826Z"
   },
   {
    "duration": 43,
    "start_time": "2023-04-25T19:26:47.830Z"
   },
   {
    "duration": 11,
    "start_time": "2023-04-25T19:26:47.874Z"
   },
   {
    "duration": 174,
    "start_time": "2023-04-25T19:26:47.886Z"
   },
   {
    "duration": 12,
    "start_time": "2023-04-25T19:26:48.062Z"
   },
   {
    "duration": 19,
    "start_time": "2023-04-25T19:26:48.076Z"
   },
   {
    "duration": 265,
    "start_time": "2023-04-25T19:26:48.096Z"
   },
   {
    "duration": 13,
    "start_time": "2023-04-25T19:26:48.362Z"
   },
   {
    "duration": 735,
    "start_time": "2023-04-25T19:26:48.377Z"
   },
   {
    "duration": 4,
    "start_time": "2023-04-25T19:26:49.115Z"
   },
   {
    "duration": 6,
    "start_time": "2023-04-25T19:26:49.120Z"
   },
   {
    "duration": 5,
    "start_time": "2023-04-25T19:26:49.127Z"
   },
   {
    "duration": 7,
    "start_time": "2023-04-25T19:26:49.133Z"
   },
   {
    "duration": 482,
    "start_time": "2023-04-25T19:26:49.141Z"
   },
   {
    "duration": 4,
    "start_time": "2023-04-25T19:26:49.625Z"
   },
   {
    "duration": 168,
    "start_time": "2023-04-25T19:26:49.631Z"
   },
   {
    "duration": 4,
    "start_time": "2023-04-25T19:26:49.801Z"
   },
   {
    "duration": 20,
    "start_time": "2023-04-25T19:26:49.806Z"
   },
   {
    "duration": 12,
    "start_time": "2023-04-25T19:26:49.827Z"
   },
   {
    "duration": 143,
    "start_time": "2023-04-25T19:26:49.840Z"
   },
   {
    "duration": 138,
    "start_time": "2023-04-25T19:26:49.985Z"
   },
   {
    "duration": 116,
    "start_time": "2023-04-25T19:26:50.125Z"
   },
   {
    "duration": 115,
    "start_time": "2023-04-25T19:26:50.243Z"
   },
   {
    "duration": 73,
    "start_time": "2023-04-25T19:26:50.360Z"
   },
   {
    "duration": 0,
    "start_time": "2023-04-25T19:26:50.434Z"
   },
   {
    "duration": 0,
    "start_time": "2023-04-25T19:26:50.435Z"
   },
   {
    "duration": 0,
    "start_time": "2023-04-25T19:26:50.436Z"
   },
   {
    "duration": 0,
    "start_time": "2023-04-25T19:26:50.437Z"
   },
   {
    "duration": 0,
    "start_time": "2023-04-25T19:26:50.438Z"
   },
   {
    "duration": 0,
    "start_time": "2023-04-25T19:26:50.439Z"
   },
   {
    "duration": 0,
    "start_time": "2023-04-25T19:26:50.440Z"
   },
   {
    "duration": 0,
    "start_time": "2023-04-25T19:26:50.440Z"
   },
   {
    "duration": 0,
    "start_time": "2023-04-25T19:26:50.441Z"
   },
   {
    "duration": 0,
    "start_time": "2023-04-25T19:26:50.442Z"
   },
   {
    "duration": 0,
    "start_time": "2023-04-25T19:26:50.444Z"
   },
   {
    "duration": 0,
    "start_time": "2023-04-25T19:26:50.445Z"
   },
   {
    "duration": 0,
    "start_time": "2023-04-25T19:26:50.446Z"
   },
   {
    "duration": 0,
    "start_time": "2023-04-25T19:26:50.448Z"
   },
   {
    "duration": 0,
    "start_time": "2023-04-25T19:26:50.448Z"
   },
   {
    "duration": 0,
    "start_time": "2023-04-25T19:26:50.450Z"
   },
   {
    "duration": 0,
    "start_time": "2023-04-25T19:26:50.451Z"
   },
   {
    "duration": 0,
    "start_time": "2023-04-25T19:26:50.452Z"
   },
   {
    "duration": 6,
    "start_time": "2023-04-25T19:27:08.065Z"
   },
   {
    "duration": 99,
    "start_time": "2023-04-25T19:27:08.100Z"
   },
   {
    "duration": 4,
    "start_time": "2023-04-25T19:32:54.110Z"
   },
   {
    "duration": 1054,
    "start_time": "2023-04-25T19:33:01.377Z"
   },
   {
    "duration": 49,
    "start_time": "2023-04-25T19:33:02.433Z"
   },
   {
    "duration": 20,
    "start_time": "2023-04-25T19:33:02.483Z"
   },
   {
    "duration": 11,
    "start_time": "2023-04-25T19:33:02.505Z"
   },
   {
    "duration": 23,
    "start_time": "2023-04-25T19:33:02.517Z"
   },
   {
    "duration": 7,
    "start_time": "2023-04-25T19:33:02.541Z"
   },
   {
    "duration": 17,
    "start_time": "2023-04-25T19:33:02.572Z"
   },
   {
    "duration": 14,
    "start_time": "2023-04-25T19:33:02.590Z"
   },
   {
    "duration": 10,
    "start_time": "2023-04-25T19:33:02.605Z"
   },
   {
    "duration": 11,
    "start_time": "2023-04-25T19:33:02.618Z"
   },
   {
    "duration": 3,
    "start_time": "2023-04-25T19:33:02.631Z"
   },
   {
    "duration": 10,
    "start_time": "2023-04-25T19:33:02.636Z"
   },
   {
    "duration": 24,
    "start_time": "2023-04-25T19:33:02.648Z"
   },
   {
    "duration": 12,
    "start_time": "2023-04-25T19:33:02.674Z"
   },
   {
    "duration": 7,
    "start_time": "2023-04-25T19:33:02.688Z"
   },
   {
    "duration": 9,
    "start_time": "2023-04-25T19:33:02.696Z"
   },
   {
    "duration": 5,
    "start_time": "2023-04-25T19:33:02.707Z"
   },
   {
    "duration": 7,
    "start_time": "2023-04-25T19:33:02.713Z"
   },
   {
    "duration": 23,
    "start_time": "2023-04-25T19:33:02.721Z"
   },
   {
    "duration": 29,
    "start_time": "2023-04-25T19:33:02.745Z"
   },
   {
    "duration": 22,
    "start_time": "2023-04-25T19:33:02.776Z"
   },
   {
    "duration": 181,
    "start_time": "2023-04-25T19:33:02.800Z"
   },
   {
    "duration": 6,
    "start_time": "2023-04-25T19:33:02.983Z"
   },
   {
    "duration": 19,
    "start_time": "2023-04-25T19:33:02.990Z"
   },
   {
    "duration": 282,
    "start_time": "2023-04-25T19:33:03.010Z"
   },
   {
    "duration": 7,
    "start_time": "2023-04-25T19:33:03.293Z"
   },
   {
    "duration": 699,
    "start_time": "2023-04-25T19:33:03.301Z"
   },
   {
    "duration": 4,
    "start_time": "2023-04-25T19:33:04.005Z"
   },
   {
    "duration": 8,
    "start_time": "2023-04-25T19:33:04.011Z"
   },
   {
    "duration": 6,
    "start_time": "2023-04-25T19:33:04.021Z"
   },
   {
    "duration": 10,
    "start_time": "2023-04-25T19:33:04.028Z"
   },
   {
    "duration": 502,
    "start_time": "2023-04-25T19:33:04.039Z"
   },
   {
    "duration": 4,
    "start_time": "2023-04-25T19:33:04.542Z"
   },
   {
    "duration": 171,
    "start_time": "2023-04-25T19:33:04.547Z"
   },
   {
    "duration": 4,
    "start_time": "2023-04-25T19:33:04.719Z"
   },
   {
    "duration": 19,
    "start_time": "2023-04-25T19:33:04.725Z"
   },
   {
    "duration": 28,
    "start_time": "2023-04-25T19:33:04.745Z"
   },
   {
    "duration": 134,
    "start_time": "2023-04-25T19:33:04.774Z"
   },
   {
    "duration": 132,
    "start_time": "2023-04-25T19:33:04.910Z"
   },
   {
    "duration": 122,
    "start_time": "2023-04-25T19:33:05.044Z"
   },
   {
    "duration": 115,
    "start_time": "2023-04-25T19:33:05.168Z"
   },
   {
    "duration": 71,
    "start_time": "2023-04-25T19:33:05.284Z"
   },
   {
    "duration": 0,
    "start_time": "2023-04-25T19:33:05.356Z"
   },
   {
    "duration": 0,
    "start_time": "2023-04-25T19:33:05.358Z"
   },
   {
    "duration": 0,
    "start_time": "2023-04-25T19:33:05.359Z"
   },
   {
    "duration": 0,
    "start_time": "2023-04-25T19:33:05.359Z"
   },
   {
    "duration": 0,
    "start_time": "2023-04-25T19:33:05.360Z"
   },
   {
    "duration": 0,
    "start_time": "2023-04-25T19:33:05.361Z"
   },
   {
    "duration": 0,
    "start_time": "2023-04-25T19:33:05.362Z"
   },
   {
    "duration": 0,
    "start_time": "2023-04-25T19:33:05.363Z"
   },
   {
    "duration": 0,
    "start_time": "2023-04-25T19:33:05.364Z"
   },
   {
    "duration": 0,
    "start_time": "2023-04-25T19:33:05.365Z"
   },
   {
    "duration": 0,
    "start_time": "2023-04-25T19:33:05.366Z"
   },
   {
    "duration": 0,
    "start_time": "2023-04-25T19:33:05.368Z"
   },
   {
    "duration": 0,
    "start_time": "2023-04-25T19:33:05.369Z"
   },
   {
    "duration": 0,
    "start_time": "2023-04-25T19:33:05.370Z"
   },
   {
    "duration": 0,
    "start_time": "2023-04-25T19:33:05.371Z"
   },
   {
    "duration": 0,
    "start_time": "2023-04-25T19:33:05.373Z"
   },
   {
    "duration": 0,
    "start_time": "2023-04-25T19:33:05.374Z"
   },
   {
    "duration": 0,
    "start_time": "2023-04-25T19:33:05.376Z"
   },
   {
    "duration": 6,
    "start_time": "2023-04-25T19:33:18.522Z"
   },
   {
    "duration": 6,
    "start_time": "2023-04-25T19:33:18.987Z"
   },
   {
    "duration": 6,
    "start_time": "2023-04-25T19:34:25.851Z"
   },
   {
    "duration": 5,
    "start_time": "2023-04-25T19:34:45.307Z"
   },
   {
    "duration": 131,
    "start_time": "2023-04-25T19:34:45.659Z"
   },
   {
    "duration": 6,
    "start_time": "2023-04-25T19:36:50.679Z"
   },
   {
    "duration": 2,
    "start_time": "2023-04-25T19:39:40.478Z"
   },
   {
    "duration": 15,
    "start_time": "2023-04-25T19:45:06.077Z"
   },
   {
    "duration": 6,
    "start_time": "2023-04-25T19:45:24.120Z"
   },
   {
    "duration": 7,
    "start_time": "2023-04-25T19:45:40.996Z"
   },
   {
    "duration": 1025,
    "start_time": "2023-04-25T20:30:09.838Z"
   },
   {
    "duration": 49,
    "start_time": "2023-04-25T20:30:10.865Z"
   },
   {
    "duration": 20,
    "start_time": "2023-04-25T20:30:10.915Z"
   },
   {
    "duration": 10,
    "start_time": "2023-04-25T20:30:10.937Z"
   },
   {
    "duration": 23,
    "start_time": "2023-04-25T20:30:10.948Z"
   },
   {
    "duration": 7,
    "start_time": "2023-04-25T20:30:10.972Z"
   },
   {
    "duration": 18,
    "start_time": "2023-04-25T20:30:10.980Z"
   },
   {
    "duration": 6,
    "start_time": "2023-04-25T20:30:10.999Z"
   },
   {
    "duration": 5,
    "start_time": "2023-04-25T20:30:11.006Z"
   },
   {
    "duration": 11,
    "start_time": "2023-04-25T20:30:11.013Z"
   },
   {
    "duration": 4,
    "start_time": "2023-04-25T20:30:11.025Z"
   },
   {
    "duration": 10,
    "start_time": "2023-04-25T20:30:11.030Z"
   },
   {
    "duration": 9,
    "start_time": "2023-04-25T20:30:11.041Z"
   },
   {
    "duration": 11,
    "start_time": "2023-04-25T20:30:11.051Z"
   },
   {
    "duration": 11,
    "start_time": "2023-04-25T20:30:11.063Z"
   },
   {
    "duration": 14,
    "start_time": "2023-04-25T20:30:11.075Z"
   },
   {
    "duration": 6,
    "start_time": "2023-04-25T20:30:11.457Z"
   },
   {
    "duration": 8,
    "start_time": "2023-04-25T20:30:11.464Z"
   },
   {
    "duration": 7,
    "start_time": "2023-04-25T20:30:11.474Z"
   },
   {
    "duration": 17,
    "start_time": "2023-04-25T20:30:11.482Z"
   },
   {
    "duration": 23,
    "start_time": "2023-04-25T20:30:11.500Z"
   },
   {
    "duration": 205,
    "start_time": "2023-04-25T20:30:11.524Z"
   },
   {
    "duration": 6,
    "start_time": "2023-04-25T20:30:11.731Z"
   },
   {
    "duration": 10,
    "start_time": "2023-04-25T20:30:11.739Z"
   },
   {
    "duration": 266,
    "start_time": "2023-04-25T20:30:11.750Z"
   },
   {
    "duration": 7,
    "start_time": "2023-04-25T20:30:12.018Z"
   },
   {
    "duration": 705,
    "start_time": "2023-04-25T20:30:12.026Z"
   },
   {
    "duration": 5,
    "start_time": "2023-04-25T20:30:12.733Z"
   },
   {
    "duration": 9,
    "start_time": "2023-04-25T20:30:12.740Z"
   },
   {
    "duration": 16,
    "start_time": "2023-04-25T20:30:12.750Z"
   },
   {
    "duration": 6,
    "start_time": "2023-04-25T20:30:12.775Z"
   },
   {
    "duration": 485,
    "start_time": "2023-04-25T20:30:12.782Z"
   },
   {
    "duration": 4,
    "start_time": "2023-04-25T20:30:13.271Z"
   },
   {
    "duration": 176,
    "start_time": "2023-04-25T20:30:13.277Z"
   },
   {
    "duration": 4,
    "start_time": "2023-04-25T20:30:13.455Z"
   },
   {
    "duration": 36,
    "start_time": "2023-04-25T20:30:13.461Z"
   },
   {
    "duration": 11,
    "start_time": "2023-04-25T20:30:13.499Z"
   },
   {
    "duration": 137,
    "start_time": "2023-04-25T20:30:13.511Z"
   },
   {
    "duration": 135,
    "start_time": "2023-04-25T20:30:13.650Z"
   },
   {
    "duration": 117,
    "start_time": "2023-04-25T20:30:13.786Z"
   },
   {
    "duration": 121,
    "start_time": "2023-04-25T20:30:13.904Z"
   },
   {
    "duration": 15,
    "start_time": "2023-04-25T20:30:14.026Z"
   },
   {
    "duration": 166,
    "start_time": "2023-04-25T20:30:14.043Z"
   },
   {
    "duration": 6,
    "start_time": "2023-04-25T20:30:14.212Z"
   },
   {
    "duration": 109,
    "start_time": "2023-04-25T20:30:14.219Z"
   },
   {
    "duration": 7,
    "start_time": "2023-04-25T20:30:14.329Z"
   },
   {
    "duration": 113,
    "start_time": "2023-04-25T20:30:14.338Z"
   },
   {
    "duration": 187,
    "start_time": "2023-04-25T20:30:14.452Z"
   },
   {
    "duration": 7,
    "start_time": "2023-04-25T20:30:14.640Z"
   },
   {
    "duration": 100,
    "start_time": "2023-04-25T20:30:14.649Z"
   },
   {
    "duration": 113,
    "start_time": "2023-04-25T20:30:14.751Z"
   },
   {
    "duration": 117,
    "start_time": "2023-04-25T20:30:14.865Z"
   },
   {
    "duration": 6,
    "start_time": "2023-04-25T20:30:14.984Z"
   },
   {
    "duration": 101,
    "start_time": "2023-04-25T20:30:14.992Z"
   },
   {
    "duration": 114,
    "start_time": "2023-04-25T20:30:15.094Z"
   },
   {
    "duration": 124,
    "start_time": "2023-04-25T20:30:15.209Z"
   },
   {
    "duration": 5,
    "start_time": "2023-04-25T20:30:15.334Z"
   },
   {
    "duration": 9,
    "start_time": "2023-04-25T20:30:15.341Z"
   },
   {
    "duration": 21,
    "start_time": "2023-04-25T20:30:15.351Z"
   },
   {
    "duration": 6,
    "start_time": "2023-04-25T20:30:15.374Z"
   },
   {
    "duration": 136,
    "start_time": "2023-04-26T16:11:31.953Z"
   },
   {
    "duration": 1700,
    "start_time": "2023-04-26T16:11:38.256Z"
   },
   {
    "duration": 97,
    "start_time": "2023-04-26T16:12:00.900Z"
   },
   {
    "duration": 14,
    "start_time": "2023-04-26T16:15:34.565Z"
   },
   {
    "duration": 5,
    "start_time": "2023-04-26T16:16:07.640Z"
   },
   {
    "duration": 1379,
    "start_time": "2023-04-26T16:16:13.865Z"
   },
   {
    "duration": 112,
    "start_time": "2023-04-26T16:16:15.247Z"
   },
   {
    "duration": 31,
    "start_time": "2023-04-26T16:16:15.362Z"
   },
   {
    "duration": 18,
    "start_time": "2023-04-26T16:16:15.395Z"
   },
   {
    "duration": 54,
    "start_time": "2023-04-26T16:16:15.416Z"
   },
   {
    "duration": 12,
    "start_time": "2023-04-26T16:16:15.472Z"
   },
   {
    "duration": 29,
    "start_time": "2023-04-26T16:16:15.486Z"
   },
   {
    "duration": 29,
    "start_time": "2023-04-26T16:16:15.517Z"
   },
   {
    "duration": 11,
    "start_time": "2023-04-26T16:16:15.548Z"
   },
   {
    "duration": 23,
    "start_time": "2023-04-26T16:16:15.561Z"
   },
   {
    "duration": 15,
    "start_time": "2023-04-26T16:16:15.586Z"
   },
   {
    "duration": 45,
    "start_time": "2023-04-26T16:16:15.603Z"
   },
   {
    "duration": 32,
    "start_time": "2023-04-26T16:16:15.650Z"
   },
   {
    "duration": 25,
    "start_time": "2023-04-26T16:16:15.686Z"
   },
   {
    "duration": 7,
    "start_time": "2023-04-26T16:16:15.714Z"
   },
   {
    "duration": 12,
    "start_time": "2023-04-26T16:16:15.744Z"
   },
   {
    "duration": 21,
    "start_time": "2023-04-26T16:16:15.758Z"
   },
   {
    "duration": 22,
    "start_time": "2023-04-26T16:16:15.781Z"
   },
   {
    "duration": 9,
    "start_time": "2023-04-26T16:16:15.805Z"
   },
   {
    "duration": 40,
    "start_time": "2023-04-26T16:16:15.816Z"
   },
   {
    "duration": 34,
    "start_time": "2023-04-26T16:16:15.859Z"
   },
   {
    "duration": 390,
    "start_time": "2023-04-26T16:16:15.896Z"
   },
   {
    "duration": 10,
    "start_time": "2023-04-26T16:16:16.288Z"
   },
   {
    "duration": 32,
    "start_time": "2023-04-26T16:16:16.300Z"
   },
   {
    "duration": 454,
    "start_time": "2023-04-26T16:16:16.334Z"
   },
   {
    "duration": 12,
    "start_time": "2023-04-26T16:16:16.790Z"
   },
   {
    "duration": 1055,
    "start_time": "2023-04-26T16:16:16.805Z"
   },
   {
    "duration": 8,
    "start_time": "2023-04-26T16:16:17.864Z"
   },
   {
    "duration": 71,
    "start_time": "2023-04-26T16:16:17.875Z"
   },
   {
    "duration": 30,
    "start_time": "2023-04-26T16:16:17.948Z"
   },
   {
    "duration": 18,
    "start_time": "2023-04-26T16:16:17.980Z"
   },
   {
    "duration": 635,
    "start_time": "2023-04-26T16:16:18.001Z"
   },
   {
    "duration": 9,
    "start_time": "2023-04-26T16:16:18.638Z"
   },
   {
    "duration": 268,
    "start_time": "2023-04-26T16:16:18.650Z"
   },
   {
    "duration": 6,
    "start_time": "2023-04-26T16:16:18.921Z"
   },
   {
    "duration": 43,
    "start_time": "2023-04-26T16:16:18.943Z"
   },
   {
    "duration": 31,
    "start_time": "2023-04-26T16:16:18.989Z"
   },
   {
    "duration": 228,
    "start_time": "2023-04-26T16:16:19.023Z"
   },
   {
    "duration": 234,
    "start_time": "2023-04-26T16:16:19.254Z"
   },
   {
    "duration": 199,
    "start_time": "2023-04-26T16:16:19.491Z"
   },
   {
    "duration": 180,
    "start_time": "2023-04-26T16:16:19.696Z"
   },
   {
    "duration": 20,
    "start_time": "2023-04-26T16:16:19.878Z"
   },
   {
    "duration": 245,
    "start_time": "2023-04-26T16:16:19.901Z"
   },
   {
    "duration": 12,
    "start_time": "2023-04-26T16:16:20.149Z"
   },
   {
    "duration": 154,
    "start_time": "2023-04-26T16:16:20.163Z"
   },
   {
    "duration": 10,
    "start_time": "2023-04-26T16:16:20.319Z"
   },
   {
    "duration": 205,
    "start_time": "2023-04-26T16:16:20.331Z"
   },
   {
    "duration": 306,
    "start_time": "2023-04-26T16:16:20.542Z"
   },
   {
    "duration": 11,
    "start_time": "2023-04-26T16:16:20.850Z"
   },
   {
    "duration": 148,
    "start_time": "2023-04-26T16:16:20.863Z"
   },
   {
    "duration": 188,
    "start_time": "2023-04-26T16:16:21.014Z"
   },
   {
    "duration": 188,
    "start_time": "2023-04-26T16:16:21.205Z"
   },
   {
    "duration": 11,
    "start_time": "2023-04-26T16:16:21.395Z"
   },
   {
    "duration": 172,
    "start_time": "2023-04-26T16:16:21.408Z"
   },
   {
    "duration": 178,
    "start_time": "2023-04-26T16:16:21.583Z"
   },
   {
    "duration": 203,
    "start_time": "2023-04-26T16:16:21.764Z"
   },
   {
    "duration": 9,
    "start_time": "2023-04-26T16:16:21.970Z"
   },
   {
    "duration": 19,
    "start_time": "2023-04-26T16:16:21.981Z"
   },
   {
    "duration": 18,
    "start_time": "2023-04-26T16:16:22.003Z"
   },
   {
    "duration": 20,
    "start_time": "2023-04-26T16:16:22.023Z"
   },
   {
    "duration": 112,
    "start_time": "2023-04-26T16:17:09.705Z"
   },
   {
    "duration": 3360,
    "start_time": "2023-04-26T16:18:55.346Z"
   },
   {
    "duration": 2517,
    "start_time": "2023-04-26T16:19:07.850Z"
   },
   {
    "duration": 484,
    "start_time": "2023-04-26T16:19:18.810Z"
   },
   {
    "duration": 207,
    "start_time": "2023-04-26T16:19:49.203Z"
   },
   {
    "duration": 346,
    "start_time": "2023-04-26T16:20:00.011Z"
   },
   {
    "duration": 419,
    "start_time": "2023-04-26T16:20:05.105Z"
   },
   {
    "duration": 5,
    "start_time": "2023-04-26T16:20:14.893Z"
   },
   {
    "duration": 6,
    "start_time": "2023-04-26T16:20:19.614Z"
   },
   {
    "duration": 57,
    "start_time": "2023-04-26T16:20:20.107Z"
   },
   {
    "duration": 542,
    "start_time": "2023-04-26T16:20:26.884Z"
   },
   {
    "duration": 638,
    "start_time": "2023-04-26T16:20:34.789Z"
   },
   {
    "duration": 553,
    "start_time": "2023-04-26T16:22:00.490Z"
   },
   {
    "duration": 563,
    "start_time": "2023-04-26T16:22:05.788Z"
   },
   {
    "duration": 528,
    "start_time": "2023-04-26T16:22:13.808Z"
   },
   {
    "duration": 491,
    "start_time": "2023-04-26T16:22:25.552Z"
   },
   {
    "duration": 432,
    "start_time": "2023-04-26T16:23:16.002Z"
   },
   {
    "duration": 446,
    "start_time": "2023-04-26T16:24:36.078Z"
   },
   {
    "duration": 948,
    "start_time": "2023-04-26T16:25:22.080Z"
   },
   {
    "duration": 845,
    "start_time": "2023-04-26T16:25:30.840Z"
   },
   {
    "duration": 1060,
    "start_time": "2023-04-26T16:25:54.694Z"
   },
   {
    "duration": 309,
    "start_time": "2023-04-26T16:26:37.108Z"
   },
   {
    "duration": 1115,
    "start_time": "2023-04-26T16:28:24.330Z"
   },
   {
    "duration": 1131,
    "start_time": "2023-04-26T16:28:38.010Z"
   },
   {
    "duration": 1076,
    "start_time": "2023-04-26T16:28:49.672Z"
   },
   {
    "duration": 1422,
    "start_time": "2023-04-26T16:29:48.929Z"
   },
   {
    "duration": 62,
    "start_time": "2023-04-26T16:29:50.354Z"
   },
   {
    "duration": 33,
    "start_time": "2023-04-26T16:29:50.418Z"
   },
   {
    "duration": 18,
    "start_time": "2023-04-26T16:29:50.453Z"
   },
   {
    "duration": 38,
    "start_time": "2023-04-26T16:29:50.476Z"
   },
   {
    "duration": 1236,
    "start_time": "2023-04-26T16:29:50.516Z"
   },
   {
    "duration": 26,
    "start_time": "2023-04-26T16:29:51.754Z"
   },
   {
    "duration": 38,
    "start_time": "2023-04-26T16:29:51.782Z"
   },
   {
    "duration": 19,
    "start_time": "2023-04-26T16:29:51.822Z"
   },
   {
    "duration": 44,
    "start_time": "2023-04-26T16:29:51.843Z"
   },
   {
    "duration": 27,
    "start_time": "2023-04-26T16:29:51.889Z"
   },
   {
    "duration": 51,
    "start_time": "2023-04-26T16:29:51.919Z"
   },
   {
    "duration": 67,
    "start_time": "2023-04-26T16:29:51.972Z"
   },
   {
    "duration": 227,
    "start_time": "2023-04-26T16:29:52.043Z"
   },
   {
    "duration": 43,
    "start_time": "2023-04-26T16:29:52.272Z"
   },
   {
    "duration": 83,
    "start_time": "2023-04-26T16:29:52.317Z"
   },
   {
    "duration": 47,
    "start_time": "2023-04-26T16:29:52.402Z"
   },
   {
    "duration": 53,
    "start_time": "2023-04-26T16:29:52.451Z"
   },
   {
    "duration": 36,
    "start_time": "2023-04-26T16:29:52.506Z"
   },
   {
    "duration": 61,
    "start_time": "2023-04-26T16:29:52.544Z"
   },
   {
    "duration": 45,
    "start_time": "2023-04-26T16:29:52.607Z"
   },
   {
    "duration": 250,
    "start_time": "2023-04-26T16:29:52.655Z"
   },
   {
    "duration": 12,
    "start_time": "2023-04-26T16:29:52.907Z"
   },
   {
    "duration": 48,
    "start_time": "2023-04-26T16:29:52.922Z"
   },
   {
    "duration": 390,
    "start_time": "2023-04-26T16:29:52.973Z"
   },
   {
    "duration": 10,
    "start_time": "2023-04-26T16:29:53.365Z"
   },
   {
    "duration": 992,
    "start_time": "2023-04-26T16:29:53.377Z"
   },
   {
    "duration": 7,
    "start_time": "2023-04-26T16:29:54.371Z"
   },
   {
    "duration": 21,
    "start_time": "2023-04-26T16:29:54.380Z"
   },
   {
    "duration": 29,
    "start_time": "2023-04-26T16:29:54.403Z"
   },
   {
    "duration": 48,
    "start_time": "2023-04-26T16:29:54.434Z"
   },
   {
    "duration": 597,
    "start_time": "2023-04-26T16:29:54.484Z"
   },
   {
    "duration": 7,
    "start_time": "2023-04-26T16:29:55.084Z"
   },
   {
    "duration": 270,
    "start_time": "2023-04-26T16:29:55.094Z"
   },
   {
    "duration": 6,
    "start_time": "2023-04-26T16:29:55.366Z"
   },
   {
    "duration": 40,
    "start_time": "2023-04-26T16:29:55.374Z"
   },
   {
    "duration": 33,
    "start_time": "2023-04-26T16:29:55.416Z"
   },
   {
    "duration": 203,
    "start_time": "2023-04-26T16:29:55.451Z"
   },
   {
    "duration": 202,
    "start_time": "2023-04-26T16:29:55.656Z"
   },
   {
    "duration": 218,
    "start_time": "2023-04-26T16:29:55.860Z"
   },
   {
    "duration": 208,
    "start_time": "2023-04-26T16:29:56.084Z"
   },
   {
    "duration": 19,
    "start_time": "2023-04-26T16:29:56.294Z"
   },
   {
    "duration": 376,
    "start_time": "2023-04-26T16:29:56.315Z"
   },
   {
    "duration": 12,
    "start_time": "2023-04-26T16:29:56.693Z"
   },
   {
    "duration": 154,
    "start_time": "2023-04-26T16:29:56.707Z"
   },
   {
    "duration": 10,
    "start_time": "2023-04-26T16:29:56.862Z"
   },
   {
    "duration": 155,
    "start_time": "2023-04-26T16:29:56.875Z"
   },
   {
    "duration": 184,
    "start_time": "2023-04-26T16:29:57.032Z"
   },
   {
    "duration": 11,
    "start_time": "2023-04-26T16:29:57.218Z"
   },
   {
    "duration": 139,
    "start_time": "2023-04-26T16:29:57.231Z"
   },
   {
    "duration": 171,
    "start_time": "2023-04-26T16:29:57.373Z"
   },
   {
    "duration": 180,
    "start_time": "2023-04-26T16:29:57.547Z"
   },
   {
    "duration": 18,
    "start_time": "2023-04-26T16:29:57.729Z"
   },
   {
    "duration": 162,
    "start_time": "2023-04-26T16:29:57.750Z"
   },
   {
    "duration": 174,
    "start_time": "2023-04-26T16:29:57.915Z"
   },
   {
    "duration": 177,
    "start_time": "2023-04-26T16:29:58.091Z"
   },
   {
    "duration": 8,
    "start_time": "2023-04-26T16:29:58.270Z"
   },
   {
    "duration": 13,
    "start_time": "2023-04-26T16:29:58.280Z"
   },
   {
    "duration": 13,
    "start_time": "2023-04-26T16:29:58.296Z"
   },
   {
    "duration": 7,
    "start_time": "2023-04-26T16:29:58.312Z"
   },
   {
    "duration": 1252,
    "start_time": "2023-04-26T16:30:09.398Z"
   },
   {
    "duration": 1174,
    "start_time": "2023-04-26T16:30:21.167Z"
   },
   {
    "duration": 108,
    "start_time": "2023-04-26T16:30:51.363Z"
   },
   {
    "duration": 19,
    "start_time": "2023-04-26T16:31:15.471Z"
   },
   {
    "duration": 11,
    "start_time": "2023-04-26T16:31:27.428Z"
   },
   {
    "duration": 6,
    "start_time": "2023-04-26T16:31:40.945Z"
   },
   {
    "duration": 63,
    "start_time": "2023-04-26T16:31:41.470Z"
   },
   {
    "duration": 26,
    "start_time": "2023-04-26T16:31:43.797Z"
   },
   {
    "duration": 22,
    "start_time": "2023-04-26T16:31:51.199Z"
   },
   {
    "duration": 41,
    "start_time": "2023-04-26T16:31:56.629Z"
   },
   {
    "duration": 11,
    "start_time": "2023-04-26T16:32:40.634Z"
   },
   {
    "duration": 1109,
    "start_time": "2023-04-26T16:32:44.041Z"
   },
   {
    "duration": 1127,
    "start_time": "2023-04-26T16:32:57.302Z"
   },
   {
    "duration": 1151,
    "start_time": "2023-04-26T16:33:06.095Z"
   },
   {
    "duration": 522,
    "start_time": "2023-04-26T16:34:57.210Z"
   },
   {
    "duration": 614,
    "start_time": "2023-04-26T16:35:39.338Z"
   },
   {
    "duration": 1266,
    "start_time": "2023-04-26T16:36:16.481Z"
   },
   {
    "duration": 1190,
    "start_time": "2023-04-26T16:36:27.320Z"
   },
   {
    "duration": 22,
    "start_time": "2023-04-26T16:55:19.936Z"
   },
   {
    "duration": 1538,
    "start_time": "2023-04-26T16:55:27.643Z"
   },
   {
    "duration": 1409,
    "start_time": "2023-04-26T16:55:39.604Z"
   },
   {
    "duration": 69,
    "start_time": "2023-04-26T16:55:41.015Z"
   },
   {
    "duration": 33,
    "start_time": "2023-04-26T16:55:41.086Z"
   },
   {
    "duration": 40,
    "start_time": "2023-04-26T16:55:41.121Z"
   },
   {
    "duration": 68,
    "start_time": "2023-04-26T16:55:41.164Z"
   },
   {
    "duration": 1316,
    "start_time": "2023-04-26T16:55:41.235Z"
   },
   {
    "duration": 33,
    "start_time": "2023-04-26T16:55:42.559Z"
   },
   {
    "duration": 7,
    "start_time": "2023-04-26T16:55:42.595Z"
   },
   {
    "duration": 14,
    "start_time": "2023-04-26T16:55:42.604Z"
   },
   {
    "duration": 52,
    "start_time": "2023-04-26T16:55:42.620Z"
   },
   {
    "duration": 7,
    "start_time": "2023-04-26T16:55:42.674Z"
   },
   {
    "duration": 21,
    "start_time": "2023-04-26T16:55:42.683Z"
   },
   {
    "duration": 13,
    "start_time": "2023-04-26T16:55:42.706Z"
   },
   {
    "duration": 35,
    "start_time": "2023-04-26T16:55:42.723Z"
   },
   {
    "duration": 5,
    "start_time": "2023-04-26T16:55:42.760Z"
   },
   {
    "duration": 19,
    "start_time": "2023-04-26T16:55:42.767Z"
   },
   {
    "duration": 11,
    "start_time": "2023-04-26T16:55:42.789Z"
   },
   {
    "duration": 12,
    "start_time": "2023-04-26T16:55:42.802Z"
   },
   {
    "duration": 30,
    "start_time": "2023-04-26T16:55:42.817Z"
   },
   {
    "duration": 22,
    "start_time": "2023-04-26T16:55:42.849Z"
   },
   {
    "duration": 23,
    "start_time": "2023-04-26T16:55:42.874Z"
   },
   {
    "duration": 268,
    "start_time": "2023-04-26T16:55:42.900Z"
   },
   {
    "duration": 12,
    "start_time": "2023-04-26T16:55:43.171Z"
   },
   {
    "duration": 16,
    "start_time": "2023-04-26T16:55:43.185Z"
   },
   {
    "duration": 418,
    "start_time": "2023-04-26T16:55:43.204Z"
   },
   {
    "duration": 18,
    "start_time": "2023-04-26T16:55:43.624Z"
   },
   {
    "duration": 989,
    "start_time": "2023-04-26T16:55:43.649Z"
   },
   {
    "duration": 13,
    "start_time": "2023-04-26T16:55:44.641Z"
   },
   {
    "duration": 14,
    "start_time": "2023-04-26T16:55:44.659Z"
   },
   {
    "duration": 29,
    "start_time": "2023-04-26T16:55:44.675Z"
   },
   {
    "duration": 13,
    "start_time": "2023-04-26T16:55:44.707Z"
   },
   {
    "duration": 609,
    "start_time": "2023-04-26T16:55:44.722Z"
   },
   {
    "duration": 18,
    "start_time": "2023-04-26T16:55:45.332Z"
   },
   {
    "duration": 230,
    "start_time": "2023-04-26T16:55:45.354Z"
   },
   {
    "duration": 5,
    "start_time": "2023-04-26T16:55:45.586Z"
   },
   {
    "duration": 33,
    "start_time": "2023-04-26T16:55:45.593Z"
   },
   {
    "duration": 44,
    "start_time": "2023-04-26T16:55:45.629Z"
   },
   {
    "duration": 288,
    "start_time": "2023-04-26T16:55:45.675Z"
   },
   {
    "duration": 0,
    "start_time": "2023-04-26T16:55:45.967Z"
   },
   {
    "duration": 0,
    "start_time": "2023-04-26T16:55:45.968Z"
   },
   {
    "duration": 0,
    "start_time": "2023-04-26T16:55:45.971Z"
   },
   {
    "duration": 0,
    "start_time": "2023-04-26T16:55:45.973Z"
   },
   {
    "duration": 0,
    "start_time": "2023-04-26T16:55:45.974Z"
   },
   {
    "duration": 0,
    "start_time": "2023-04-26T16:55:45.976Z"
   },
   {
    "duration": 0,
    "start_time": "2023-04-26T16:55:45.978Z"
   },
   {
    "duration": 0,
    "start_time": "2023-04-26T16:55:45.980Z"
   },
   {
    "duration": 0,
    "start_time": "2023-04-26T16:55:45.982Z"
   },
   {
    "duration": 0,
    "start_time": "2023-04-26T16:55:45.984Z"
   },
   {
    "duration": 0,
    "start_time": "2023-04-26T16:55:45.985Z"
   },
   {
    "duration": 0,
    "start_time": "2023-04-26T16:55:45.987Z"
   },
   {
    "duration": 0,
    "start_time": "2023-04-26T16:55:45.990Z"
   },
   {
    "duration": 0,
    "start_time": "2023-04-26T16:55:45.991Z"
   },
   {
    "duration": 1,
    "start_time": "2023-04-26T16:55:45.992Z"
   },
   {
    "duration": 0,
    "start_time": "2023-04-26T16:55:45.994Z"
   },
   {
    "duration": 0,
    "start_time": "2023-04-26T16:55:45.996Z"
   },
   {
    "duration": 0,
    "start_time": "2023-04-26T16:55:45.997Z"
   },
   {
    "duration": 0,
    "start_time": "2023-04-26T16:55:45.999Z"
   },
   {
    "duration": 0,
    "start_time": "2023-04-26T16:55:46.001Z"
   },
   {
    "duration": 0,
    "start_time": "2023-04-26T16:55:46.040Z"
   },
   {
    "duration": 0,
    "start_time": "2023-04-26T16:55:46.049Z"
   },
   {
    "duration": 1340,
    "start_time": "2023-04-26T17:00:43.826Z"
   },
   {
    "duration": 1380,
    "start_time": "2023-04-26T17:00:57.975Z"
   },
   {
    "duration": 1432,
    "start_time": "2023-04-26T17:01:17.525Z"
   },
   {
    "duration": 62,
    "start_time": "2023-04-26T17:01:18.960Z"
   },
   {
    "duration": 34,
    "start_time": "2023-04-26T17:01:19.024Z"
   },
   {
    "duration": 49,
    "start_time": "2023-04-26T17:01:19.060Z"
   },
   {
    "duration": 48,
    "start_time": "2023-04-26T17:01:19.114Z"
   },
   {
    "duration": 1237,
    "start_time": "2023-04-26T17:01:19.164Z"
   },
   {
    "duration": 1200,
    "start_time": "2023-04-26T17:01:20.403Z"
   },
   {
    "duration": 41,
    "start_time": "2023-04-26T17:01:21.605Z"
   },
   {
    "duration": 51,
    "start_time": "2023-04-26T17:01:21.648Z"
   },
   {
    "duration": 28,
    "start_time": "2023-04-26T17:01:21.702Z"
   },
   {
    "duration": 53,
    "start_time": "2023-04-26T17:01:21.732Z"
   },
   {
    "duration": 28,
    "start_time": "2023-04-26T17:01:21.787Z"
   },
   {
    "duration": 50,
    "start_time": "2023-04-26T17:01:21.817Z"
   },
   {
    "duration": 32,
    "start_time": "2023-04-26T17:01:21.871Z"
   },
   {
    "duration": 52,
    "start_time": "2023-04-26T17:01:21.906Z"
   },
   {
    "duration": 11,
    "start_time": "2023-04-26T17:01:21.960Z"
   },
   {
    "duration": 23,
    "start_time": "2023-04-26T17:01:21.973Z"
   },
   {
    "duration": 21,
    "start_time": "2023-04-26T17:01:21.998Z"
   },
   {
    "duration": 42,
    "start_time": "2023-04-26T17:01:22.021Z"
   },
   {
    "duration": 36,
    "start_time": "2023-04-26T17:01:22.066Z"
   },
   {
    "duration": 47,
    "start_time": "2023-04-26T17:01:22.105Z"
   },
   {
    "duration": 44,
    "start_time": "2023-04-26T17:01:22.153Z"
   },
   {
    "duration": 258,
    "start_time": "2023-04-26T17:01:22.200Z"
   },
   {
    "duration": 10,
    "start_time": "2023-04-26T17:01:22.460Z"
   },
   {
    "duration": 56,
    "start_time": "2023-04-26T17:01:22.472Z"
   },
   {
    "duration": 488,
    "start_time": "2023-04-26T17:01:22.531Z"
   },
   {
    "duration": 9,
    "start_time": "2023-04-26T17:01:23.022Z"
   },
   {
    "duration": 948,
    "start_time": "2023-04-26T17:01:23.044Z"
   },
   {
    "duration": 7,
    "start_time": "2023-04-26T17:01:23.994Z"
   },
   {
    "duration": 26,
    "start_time": "2023-04-26T17:01:24.003Z"
   },
   {
    "duration": 34,
    "start_time": "2023-04-26T17:01:24.031Z"
   },
   {
    "duration": 19,
    "start_time": "2023-04-26T17:01:24.067Z"
   },
   {
    "duration": 643,
    "start_time": "2023-04-26T17:01:24.088Z"
   },
   {
    "duration": 23,
    "start_time": "2023-04-26T17:01:24.733Z"
   },
   {
    "duration": 226,
    "start_time": "2023-04-26T17:01:24.758Z"
   },
   {
    "duration": 5,
    "start_time": "2023-04-26T17:01:24.986Z"
   },
   {
    "duration": 62,
    "start_time": "2023-04-26T17:01:24.993Z"
   },
   {
    "duration": 45,
    "start_time": "2023-04-26T17:01:25.057Z"
   },
   {
    "duration": 273,
    "start_time": "2023-04-26T17:01:25.104Z"
   },
   {
    "duration": 0,
    "start_time": "2023-04-26T17:01:25.380Z"
   },
   {
    "duration": 0,
    "start_time": "2023-04-26T17:01:25.382Z"
   },
   {
    "duration": 0,
    "start_time": "2023-04-26T17:01:25.384Z"
   },
   {
    "duration": 0,
    "start_time": "2023-04-26T17:01:25.385Z"
   },
   {
    "duration": 0,
    "start_time": "2023-04-26T17:01:25.386Z"
   },
   {
    "duration": 0,
    "start_time": "2023-04-26T17:01:25.388Z"
   },
   {
    "duration": 0,
    "start_time": "2023-04-26T17:01:25.389Z"
   },
   {
    "duration": 0,
    "start_time": "2023-04-26T17:01:25.391Z"
   },
   {
    "duration": 0,
    "start_time": "2023-04-26T17:01:25.392Z"
   },
   {
    "duration": 0,
    "start_time": "2023-04-26T17:01:25.394Z"
   },
   {
    "duration": 0,
    "start_time": "2023-04-26T17:01:25.395Z"
   },
   {
    "duration": 0,
    "start_time": "2023-04-26T17:01:25.396Z"
   },
   {
    "duration": 0,
    "start_time": "2023-04-26T17:01:25.397Z"
   },
   {
    "duration": 0,
    "start_time": "2023-04-26T17:01:25.399Z"
   },
   {
    "duration": 0,
    "start_time": "2023-04-26T17:01:25.400Z"
   },
   {
    "duration": 0,
    "start_time": "2023-04-26T17:01:25.401Z"
   },
   {
    "duration": 0,
    "start_time": "2023-04-26T17:01:25.403Z"
   },
   {
    "duration": 0,
    "start_time": "2023-04-26T17:01:25.445Z"
   },
   {
    "duration": 0,
    "start_time": "2023-04-26T17:01:25.446Z"
   },
   {
    "duration": 0,
    "start_time": "2023-04-26T17:01:25.447Z"
   },
   {
    "duration": 0,
    "start_time": "2023-04-26T17:01:25.448Z"
   },
   {
    "duration": 0,
    "start_time": "2023-04-26T17:01:25.450Z"
   },
   {
    "duration": 1524,
    "start_time": "2023-04-26T17:02:15.636Z"
   },
   {
    "duration": 12,
    "start_time": "2023-04-26T17:03:38.925Z"
   },
   {
    "duration": 1116,
    "start_time": "2023-04-26T17:03:39.654Z"
   },
   {
    "duration": 8,
    "start_time": "2023-04-26T17:05:05.348Z"
   },
   {
    "duration": 21,
    "start_time": "2023-04-26T17:07:42.596Z"
   },
   {
    "duration": 21,
    "start_time": "2023-04-26T17:07:53.899Z"
   },
   {
    "duration": 19,
    "start_time": "2023-04-26T17:08:05.070Z"
   },
   {
    "duration": 104,
    "start_time": "2023-04-26T17:10:37.468Z"
   },
   {
    "duration": 29,
    "start_time": "2023-04-26T17:14:43.425Z"
   },
   {
    "duration": 26,
    "start_time": "2023-04-26T17:17:08.433Z"
   },
   {
    "duration": 7,
    "start_time": "2023-04-26T17:17:18.926Z"
   },
   {
    "duration": 8,
    "start_time": "2023-04-26T17:17:35.263Z"
   },
   {
    "duration": 16,
    "start_time": "2023-04-26T17:17:39.794Z"
   },
   {
    "duration": 7,
    "start_time": "2023-04-26T17:17:40.297Z"
   },
   {
    "duration": 27,
    "start_time": "2023-04-26T17:17:56.434Z"
   },
   {
    "duration": 7,
    "start_time": "2023-04-26T17:18:03.482Z"
   },
   {
    "duration": 17,
    "start_time": "2023-04-26T17:18:23.181Z"
   },
   {
    "duration": 1345,
    "start_time": "2023-04-26T17:18:38.893Z"
   },
   {
    "duration": 65,
    "start_time": "2023-04-26T17:18:40.245Z"
   },
   {
    "duration": 31,
    "start_time": "2023-04-26T17:18:40.312Z"
   },
   {
    "duration": 45,
    "start_time": "2023-04-26T17:18:40.346Z"
   },
   {
    "duration": 73,
    "start_time": "2023-04-26T17:18:40.394Z"
   },
   {
    "duration": 1206,
    "start_time": "2023-04-26T17:18:40.469Z"
   },
   {
    "duration": 31,
    "start_time": "2023-04-26T17:18:41.677Z"
   },
   {
    "duration": 19,
    "start_time": "2023-04-26T17:18:41.710Z"
   },
   {
    "duration": 14,
    "start_time": "2023-04-26T17:18:41.731Z"
   },
   {
    "duration": 64,
    "start_time": "2023-04-26T17:18:41.750Z"
   },
   {
    "duration": 17,
    "start_time": "2023-04-26T17:18:41.816Z"
   },
   {
    "duration": 35,
    "start_time": "2023-04-26T17:18:41.836Z"
   },
   {
    "duration": 24,
    "start_time": "2023-04-26T17:18:41.873Z"
   },
   {
    "duration": 5,
    "start_time": "2023-04-26T17:18:41.900Z"
   },
   {
    "duration": 22,
    "start_time": "2023-04-26T17:18:41.908Z"
   },
   {
    "duration": 39,
    "start_time": "2023-04-26T17:18:41.932Z"
   },
   {
    "duration": 1191,
    "start_time": "2023-04-26T17:18:41.973Z"
   },
   {
    "duration": 8,
    "start_time": "2023-04-26T17:18:43.169Z"
   },
   {
    "duration": 54,
    "start_time": "2023-04-26T17:18:43.179Z"
   },
   {
    "duration": 95,
    "start_time": "2023-04-26T17:18:43.235Z"
   },
   {
    "duration": 16,
    "start_time": "2023-04-26T17:18:43.332Z"
   },
   {
    "duration": 383,
    "start_time": "2023-04-26T17:18:43.350Z"
   },
   {
    "duration": 34,
    "start_time": "2023-04-26T17:18:43.735Z"
   },
   {
    "duration": 17,
    "start_time": "2023-04-26T17:18:43.772Z"
   },
   {
    "duration": 394,
    "start_time": "2023-04-26T17:18:43.791Z"
   },
   {
    "duration": 9,
    "start_time": "2023-04-26T17:18:44.187Z"
   },
   {
    "duration": 1079,
    "start_time": "2023-04-26T17:18:44.198Z"
   },
   {
    "duration": 7,
    "start_time": "2023-04-26T17:18:45.279Z"
   },
   {
    "duration": 14,
    "start_time": "2023-04-26T17:18:45.288Z"
   },
   {
    "duration": 69,
    "start_time": "2023-04-26T17:18:45.304Z"
   },
   {
    "duration": 21,
    "start_time": "2023-04-26T17:18:45.375Z"
   },
   {
    "duration": 687,
    "start_time": "2023-04-26T17:18:45.399Z"
   },
   {
    "duration": 7,
    "start_time": "2023-04-26T17:18:46.089Z"
   },
   {
    "duration": 322,
    "start_time": "2023-04-26T17:18:46.099Z"
   },
   {
    "duration": 5,
    "start_time": "2023-04-26T17:18:46.423Z"
   },
   {
    "duration": 59,
    "start_time": "2023-04-26T17:18:46.430Z"
   },
   {
    "duration": 40,
    "start_time": "2023-04-26T17:18:46.491Z"
   },
   {
    "duration": 246,
    "start_time": "2023-04-26T17:18:46.533Z"
   },
   {
    "duration": 257,
    "start_time": "2023-04-26T17:18:46.781Z"
   },
   {
    "duration": 166,
    "start_time": "2023-04-26T17:18:47.041Z"
   },
   {
    "duration": 397,
    "start_time": "2023-04-26T17:18:47.211Z"
   },
   {
    "duration": 18,
    "start_time": "2023-04-26T17:18:47.610Z"
   },
   {
    "duration": 234,
    "start_time": "2023-04-26T17:18:47.630Z"
   },
   {
    "duration": 11,
    "start_time": "2023-04-26T17:18:47.868Z"
   },
   {
    "duration": 133,
    "start_time": "2023-04-26T17:18:47.880Z"
   },
   {
    "duration": 9,
    "start_time": "2023-04-26T17:18:48.015Z"
   },
   {
    "duration": 230,
    "start_time": "2023-04-26T17:18:48.026Z"
   },
   {
    "duration": 180,
    "start_time": "2023-04-26T17:18:48.260Z"
   },
   {
    "duration": 21,
    "start_time": "2023-04-26T17:18:48.452Z"
   },
   {
    "duration": 141,
    "start_time": "2023-04-26T17:18:48.476Z"
   },
   {
    "duration": 164,
    "start_time": "2023-04-26T17:18:48.619Z"
   },
   {
    "duration": 178,
    "start_time": "2023-04-26T17:18:48.785Z"
   },
   {
    "duration": 11,
    "start_time": "2023-04-26T17:18:48.964Z"
   },
   {
    "duration": 138,
    "start_time": "2023-04-26T17:18:48.977Z"
   },
   {
    "duration": 169,
    "start_time": "2023-04-26T17:18:49.117Z"
   },
   {
    "duration": 296,
    "start_time": "2023-04-26T17:18:49.288Z"
   },
   {
    "duration": 7,
    "start_time": "2023-04-26T17:18:49.586Z"
   },
   {
    "duration": 54,
    "start_time": "2023-04-26T17:18:49.595Z"
   },
   {
    "duration": 31,
    "start_time": "2023-04-26T17:18:49.651Z"
   },
   {
    "duration": 17,
    "start_time": "2023-04-26T17:18:49.683Z"
   },
   {
    "duration": 240,
    "start_time": "2023-04-26T17:20:47.522Z"
   },
   {
    "duration": 391,
    "start_time": "2023-04-26T17:21:15.652Z"
   },
   {
    "duration": 241,
    "start_time": "2023-04-26T17:22:14.471Z"
   },
   {
    "duration": 89,
    "start_time": "2023-04-26T17:24:23.350Z"
   },
   {
    "duration": 180,
    "start_time": "2023-04-26T17:24:30.938Z"
   },
   {
    "duration": 170,
    "start_time": "2023-04-26T17:24:58.691Z"
   },
   {
    "duration": 204,
    "start_time": "2023-04-26T17:26:12.297Z"
   },
   {
    "duration": 221,
    "start_time": "2023-04-26T17:26:20.935Z"
   },
   {
    "duration": 248,
    "start_time": "2023-04-26T17:26:32.125Z"
   },
   {
    "duration": 226,
    "start_time": "2023-04-26T17:26:38.224Z"
   },
   {
    "duration": 252,
    "start_time": "2023-04-26T17:26:46.082Z"
   },
   {
    "duration": 243,
    "start_time": "2023-04-26T17:26:55.726Z"
   },
   {
    "duration": 236,
    "start_time": "2023-04-26T17:27:19.903Z"
   },
   {
    "duration": 417,
    "start_time": "2023-04-26T17:27:36.914Z"
   },
   {
    "duration": 227,
    "start_time": "2023-04-26T17:28:37.570Z"
   },
   {
    "duration": 265,
    "start_time": "2023-04-26T17:28:44.759Z"
   },
   {
    "duration": 263,
    "start_time": "2023-04-26T17:28:53.155Z"
   },
   {
    "duration": 250,
    "start_time": "2023-04-26T17:29:05.864Z"
   },
   {
    "duration": 299,
    "start_time": "2023-04-26T17:30:20.364Z"
   },
   {
    "duration": 258,
    "start_time": "2023-04-26T17:30:25.526Z"
   },
   {
    "duration": 242,
    "start_time": "2023-04-26T17:30:33.496Z"
   },
   {
    "duration": 219,
    "start_time": "2023-04-26T17:30:38.635Z"
   },
   {
    "duration": 222,
    "start_time": "2023-04-26T17:30:44.687Z"
   },
   {
    "duration": 261,
    "start_time": "2023-04-26T17:30:49.510Z"
   },
   {
    "duration": 414,
    "start_time": "2023-04-26T17:30:59.464Z"
   },
   {
    "duration": 22,
    "start_time": "2023-04-26T17:32:40.456Z"
   },
   {
    "duration": 282,
    "start_time": "2023-04-26T17:37:40.625Z"
   },
   {
    "duration": 137,
    "start_time": "2023-04-26T17:38:16.630Z"
   },
   {
    "duration": 272,
    "start_time": "2023-04-26T17:39:27.268Z"
   },
   {
    "duration": 143,
    "start_time": "2023-04-26T17:39:56.836Z"
   },
   {
    "duration": 20,
    "start_time": "2023-04-26T17:40:45.238Z"
   },
   {
    "duration": 261,
    "start_time": "2023-04-26T17:40:58.505Z"
   },
   {
    "duration": 253,
    "start_time": "2023-04-26T17:41:23.224Z"
   },
   {
    "duration": 29,
    "start_time": "2023-04-26T17:42:38.780Z"
   },
   {
    "duration": 21,
    "start_time": "2023-04-26T17:43:12.008Z"
   },
   {
    "duration": 1645,
    "start_time": "2023-04-26T17:43:29.170Z"
   },
   {
    "duration": 81,
    "start_time": "2023-04-26T17:43:30.818Z"
   },
   {
    "duration": 37,
    "start_time": "2023-04-26T17:43:30.901Z"
   },
   {
    "duration": 79,
    "start_time": "2023-04-26T17:43:30.946Z"
   },
   {
    "duration": 125,
    "start_time": "2023-04-26T17:43:31.027Z"
   },
   {
    "duration": 1323,
    "start_time": "2023-04-26T17:43:31.154Z"
   },
   {
    "duration": 26,
    "start_time": "2023-04-26T17:43:32.479Z"
   },
   {
    "duration": 43,
    "start_time": "2023-04-26T17:43:32.508Z"
   },
   {
    "duration": 30,
    "start_time": "2023-04-26T17:43:32.558Z"
   },
   {
    "duration": 19,
    "start_time": "2023-04-26T17:43:32.592Z"
   },
   {
    "duration": 17,
    "start_time": "2023-04-26T17:43:32.614Z"
   },
   {
    "duration": 25,
    "start_time": "2023-04-26T17:43:32.633Z"
   },
   {
    "duration": 46,
    "start_time": "2023-04-26T17:43:32.660Z"
   },
   {
    "duration": 7,
    "start_time": "2023-04-26T17:43:32.708Z"
   },
   {
    "duration": 24,
    "start_time": "2023-04-26T17:43:32.717Z"
   },
   {
    "duration": 26,
    "start_time": "2023-04-26T17:43:32.743Z"
   },
   {
    "duration": 1186,
    "start_time": "2023-04-26T17:43:32.773Z"
   },
   {
    "duration": 21,
    "start_time": "2023-04-26T17:43:33.964Z"
   },
   {
    "duration": 37,
    "start_time": "2023-04-26T17:43:33.987Z"
   },
   {
    "duration": 48,
    "start_time": "2023-04-26T17:43:34.027Z"
   },
   {
    "duration": 31,
    "start_time": "2023-04-26T17:43:34.077Z"
   },
   {
    "duration": 268,
    "start_time": "2023-04-26T17:43:34.111Z"
   },
   {
    "duration": 10,
    "start_time": "2023-04-26T17:43:34.382Z"
   },
   {
    "duration": 81,
    "start_time": "2023-04-26T17:43:34.394Z"
   },
   {
    "duration": 510,
    "start_time": "2023-04-26T17:43:34.477Z"
   },
   {
    "duration": 11,
    "start_time": "2023-04-26T17:43:34.989Z"
   },
   {
    "duration": 1180,
    "start_time": "2023-04-26T17:43:35.003Z"
   },
   {
    "duration": 7,
    "start_time": "2023-04-26T17:43:36.189Z"
   },
   {
    "duration": 18,
    "start_time": "2023-04-26T17:43:36.199Z"
   },
   {
    "duration": 76,
    "start_time": "2023-04-26T17:43:36.219Z"
   },
   {
    "duration": 90,
    "start_time": "2023-04-26T17:43:36.298Z"
   },
   {
    "duration": 714,
    "start_time": "2023-04-26T17:43:36.391Z"
   },
   {
    "duration": 6,
    "start_time": "2023-04-26T17:43:37.107Z"
   },
   {
    "duration": 300,
    "start_time": "2023-04-26T17:43:37.115Z"
   },
   {
    "duration": 5,
    "start_time": "2023-04-26T17:43:37.417Z"
   },
   {
    "duration": 181,
    "start_time": "2023-04-26T17:43:37.425Z"
   },
   {
    "duration": 80,
    "start_time": "2023-04-26T17:43:37.608Z"
   },
   {
    "duration": 315,
    "start_time": "2023-04-26T17:43:37.691Z"
   },
   {
    "duration": 203,
    "start_time": "2023-04-26T17:43:38.008Z"
   },
   {
    "duration": 192,
    "start_time": "2023-04-26T17:43:38.213Z"
   },
   {
    "duration": 367,
    "start_time": "2023-04-26T17:43:38.407Z"
   },
   {
    "duration": 26,
    "start_time": "2023-04-26T17:43:38.777Z"
   },
   {
    "duration": 286,
    "start_time": "2023-04-26T17:43:38.805Z"
   },
   {
    "duration": 9,
    "start_time": "2023-04-26T17:43:39.093Z"
   },
   {
    "duration": 179,
    "start_time": "2023-04-26T17:43:39.104Z"
   },
   {
    "duration": 13,
    "start_time": "2023-04-26T17:43:39.285Z"
   },
   {
    "duration": 172,
    "start_time": "2023-04-26T17:43:39.300Z"
   },
   {
    "duration": 187,
    "start_time": "2023-04-26T17:43:39.474Z"
   },
   {
    "duration": 9,
    "start_time": "2023-04-26T17:43:39.663Z"
   },
   {
    "duration": 144,
    "start_time": "2023-04-26T17:43:39.674Z"
   },
   {
    "duration": 177,
    "start_time": "2023-04-26T17:43:39.821Z"
   },
   {
    "duration": 200,
    "start_time": "2023-04-26T17:43:40.000Z"
   },
   {
    "duration": 11,
    "start_time": "2023-04-26T17:43:40.202Z"
   },
   {
    "duration": 166,
    "start_time": "2023-04-26T17:43:40.215Z"
   },
   {
    "duration": 192,
    "start_time": "2023-04-26T17:43:40.384Z"
   },
   {
    "duration": 219,
    "start_time": "2023-04-26T17:43:40.578Z"
   },
   {
    "duration": 7,
    "start_time": "2023-04-26T17:43:40.799Z"
   },
   {
    "duration": 18,
    "start_time": "2023-04-26T17:43:40.808Z"
   },
   {
    "duration": 41,
    "start_time": "2023-04-26T17:43:40.844Z"
   },
   {
    "duration": 28,
    "start_time": "2023-04-26T17:43:40.887Z"
   },
   {
    "duration": 252,
    "start_time": "2023-04-26T17:45:01.976Z"
   },
   {
    "duration": 164,
    "start_time": "2023-04-26T17:45:56.450Z"
   },
   {
    "duration": 24,
    "start_time": "2023-04-26T17:46:13.818Z"
   },
   {
    "duration": 264,
    "start_time": "2023-04-26T17:46:14.598Z"
   },
   {
    "duration": 28,
    "start_time": "2023-04-26T17:46:46.538Z"
   },
   {
    "duration": 41,
    "start_time": "2023-04-26T17:46:54.966Z"
   },
   {
    "duration": 18,
    "start_time": "2023-04-26T17:47:50.200Z"
   },
   {
    "duration": 186,
    "start_time": "2023-04-26T17:47:55.438Z"
   },
   {
    "duration": 420,
    "start_time": "2023-04-26T17:48:02.303Z"
   },
   {
    "duration": 304,
    "start_time": "2023-04-26T17:48:16.270Z"
   },
   {
    "duration": 249,
    "start_time": "2023-04-26T17:48:42.831Z"
   },
   {
    "duration": 226,
    "start_time": "2023-04-26T17:49:25.286Z"
   },
   {
    "duration": 20,
    "start_time": "2023-04-26T17:52:05.805Z"
   },
   {
    "duration": 22,
    "start_time": "2023-04-26T17:52:16.599Z"
   },
   {
    "duration": 11,
    "start_time": "2023-04-26T17:52:27.970Z"
   },
   {
    "duration": 15,
    "start_time": "2023-04-26T17:52:51.160Z"
   },
   {
    "duration": 10,
    "start_time": "2023-04-26T17:53:37.219Z"
   },
   {
    "duration": 24,
    "start_time": "2023-04-26T17:54:07.767Z"
   },
   {
    "duration": 20,
    "start_time": "2023-04-26T17:54:34.806Z"
   },
   {
    "duration": 157,
    "start_time": "2023-04-26T17:54:43.949Z"
   },
   {
    "duration": 21,
    "start_time": "2023-04-26T17:55:08.968Z"
   },
   {
    "duration": 9,
    "start_time": "2023-04-26T17:55:09.498Z"
   },
   {
    "duration": 20,
    "start_time": "2023-04-26T17:55:10.168Z"
   },
   {
    "duration": 157,
    "start_time": "2023-04-26T17:55:10.268Z"
   },
   {
    "duration": 236,
    "start_time": "2023-04-26T17:57:21.972Z"
   },
   {
    "duration": 298,
    "start_time": "2023-04-26T17:57:50.295Z"
   },
   {
    "duration": 3707,
    "start_time": "2023-04-26T17:58:23.767Z"
   },
   {
    "duration": 300,
    "start_time": "2023-04-26T18:00:30.071Z"
   },
   {
    "duration": 21,
    "start_time": "2023-04-26T18:00:54.364Z"
   },
   {
    "duration": 22,
    "start_time": "2023-04-26T18:01:09.998Z"
   },
   {
    "duration": 21,
    "start_time": "2023-04-26T18:01:18.206Z"
   },
   {
    "duration": 20,
    "start_time": "2023-04-26T18:01:25.419Z"
   },
   {
    "duration": 270,
    "start_time": "2023-04-26T18:01:35.136Z"
   },
   {
    "duration": 9,
    "start_time": "2023-04-26T18:04:07.593Z"
   },
   {
    "duration": 387,
    "start_time": "2023-04-26T18:04:20.304Z"
   },
   {
    "duration": 10,
    "start_time": "2023-04-26T18:04:33.769Z"
   },
   {
    "duration": 254,
    "start_time": "2023-04-26T18:04:54.675Z"
   },
   {
    "duration": 1971,
    "start_time": "2023-10-09T13:32:52.987Z"
   },
   {
    "duration": 0,
    "start_time": "2023-10-09T13:32:54.963Z"
   },
   {
    "duration": 0,
    "start_time": "2023-10-09T13:32:54.966Z"
   },
   {
    "duration": 0,
    "start_time": "2023-10-09T13:32:54.967Z"
   },
   {
    "duration": 0,
    "start_time": "2023-10-09T13:32:54.969Z"
   },
   {
    "duration": 0,
    "start_time": "2023-10-09T13:32:54.977Z"
   },
   {
    "duration": 0,
    "start_time": "2023-10-09T13:32:54.978Z"
   },
   {
    "duration": 0,
    "start_time": "2023-10-09T13:32:54.981Z"
   },
   {
    "duration": 0,
    "start_time": "2023-10-09T13:32:54.982Z"
   },
   {
    "duration": 0,
    "start_time": "2023-10-09T13:32:54.983Z"
   },
   {
    "duration": 0,
    "start_time": "2023-10-09T13:32:54.985Z"
   },
   {
    "duration": 0,
    "start_time": "2023-10-09T13:32:54.986Z"
   },
   {
    "duration": 0,
    "start_time": "2023-10-09T13:32:54.988Z"
   },
   {
    "duration": 0,
    "start_time": "2023-10-09T13:32:55.005Z"
   },
   {
    "duration": 1,
    "start_time": "2023-10-09T13:32:55.006Z"
   },
   {
    "duration": 0,
    "start_time": "2023-10-09T13:32:55.007Z"
   },
   {
    "duration": 0,
    "start_time": "2023-10-09T13:32:55.008Z"
   },
   {
    "duration": 0,
    "start_time": "2023-10-09T13:32:55.013Z"
   },
   {
    "duration": 1,
    "start_time": "2023-10-09T13:32:55.014Z"
   },
   {
    "duration": 0,
    "start_time": "2023-10-09T13:32:55.016Z"
   },
   {
    "duration": 0,
    "start_time": "2023-10-09T13:32:55.017Z"
   },
   {
    "duration": 0,
    "start_time": "2023-10-09T13:32:55.018Z"
   },
   {
    "duration": 0,
    "start_time": "2023-10-09T13:32:55.019Z"
   },
   {
    "duration": 0,
    "start_time": "2023-10-09T13:32:55.023Z"
   },
   {
    "duration": 0,
    "start_time": "2023-10-09T13:32:55.025Z"
   },
   {
    "duration": 0,
    "start_time": "2023-10-09T13:32:55.026Z"
   },
   {
    "duration": 0,
    "start_time": "2023-10-09T13:32:55.027Z"
   },
   {
    "duration": 0,
    "start_time": "2023-10-09T13:32:55.030Z"
   },
   {
    "duration": 0,
    "start_time": "2023-10-09T13:32:55.032Z"
   },
   {
    "duration": 0,
    "start_time": "2023-10-09T13:32:55.033Z"
   },
   {
    "duration": 0,
    "start_time": "2023-10-09T13:32:55.034Z"
   },
   {
    "duration": 0,
    "start_time": "2023-10-09T13:32:55.035Z"
   },
   {
    "duration": 0,
    "start_time": "2023-10-09T13:32:55.036Z"
   },
   {
    "duration": 0,
    "start_time": "2023-10-09T13:32:55.037Z"
   },
   {
    "duration": 0,
    "start_time": "2023-10-09T13:32:55.038Z"
   },
   {
    "duration": 0,
    "start_time": "2023-10-09T13:32:55.040Z"
   },
   {
    "duration": 0,
    "start_time": "2023-10-09T13:32:55.046Z"
   },
   {
    "duration": 0,
    "start_time": "2023-10-09T13:32:55.047Z"
   },
   {
    "duration": 0,
    "start_time": "2023-10-09T13:32:55.048Z"
   },
   {
    "duration": 0,
    "start_time": "2023-10-09T13:32:55.051Z"
   },
   {
    "duration": 0,
    "start_time": "2023-10-09T13:32:55.052Z"
   },
   {
    "duration": 0,
    "start_time": "2023-10-09T13:32:55.053Z"
   },
   {
    "duration": 0,
    "start_time": "2023-10-09T13:32:55.059Z"
   },
   {
    "duration": 0,
    "start_time": "2023-10-09T13:32:55.062Z"
   },
   {
    "duration": 0,
    "start_time": "2023-10-09T13:32:55.064Z"
   },
   {
    "duration": 0,
    "start_time": "2023-10-09T13:32:55.102Z"
   },
   {
    "duration": 0,
    "start_time": "2023-10-09T13:32:55.103Z"
   },
   {
    "duration": 0,
    "start_time": "2023-10-09T13:32:55.105Z"
   },
   {
    "duration": 0,
    "start_time": "2023-10-09T13:32:55.107Z"
   },
   {
    "duration": 0,
    "start_time": "2023-10-09T13:32:55.108Z"
   },
   {
    "duration": 0,
    "start_time": "2023-10-09T13:32:55.109Z"
   },
   {
    "duration": 0,
    "start_time": "2023-10-09T13:32:55.111Z"
   },
   {
    "duration": 0,
    "start_time": "2023-10-09T13:32:55.112Z"
   },
   {
    "duration": 0,
    "start_time": "2023-10-09T13:32:55.114Z"
   },
   {
    "duration": 0,
    "start_time": "2023-10-09T13:32:55.115Z"
   },
   {
    "duration": 0,
    "start_time": "2023-10-09T13:32:55.117Z"
   },
   {
    "duration": 0,
    "start_time": "2023-10-09T13:32:55.118Z"
   },
   {
    "duration": 0,
    "start_time": "2023-10-09T13:32:55.120Z"
   },
   {
    "duration": 0,
    "start_time": "2023-10-09T13:32:55.121Z"
   },
   {
    "duration": 0,
    "start_time": "2023-10-09T13:32:55.123Z"
   },
   {
    "duration": 4,
    "start_time": "2023-10-09T13:33:12.382Z"
   },
   {
    "duration": 1433,
    "start_time": "2023-10-09T13:33:19.233Z"
   },
   {
    "duration": 165,
    "start_time": "2023-10-09T13:33:20.668Z"
   },
   {
    "duration": 28,
    "start_time": "2023-10-09T13:33:20.836Z"
   },
   {
    "duration": 30,
    "start_time": "2023-10-09T13:33:20.867Z"
   },
   {
    "duration": 61,
    "start_time": "2023-10-09T13:33:20.899Z"
   },
   {
    "duration": 127,
    "start_time": "2023-10-09T13:33:20.962Z"
   },
   {
    "duration": 0,
    "start_time": "2023-10-09T13:33:21.093Z"
   },
   {
    "duration": 0,
    "start_time": "2023-10-09T13:33:21.104Z"
   },
   {
    "duration": 0,
    "start_time": "2023-10-09T13:33:21.105Z"
   },
   {
    "duration": 0,
    "start_time": "2023-10-09T13:33:21.111Z"
   },
   {
    "duration": 0,
    "start_time": "2023-10-09T13:33:21.112Z"
   },
   {
    "duration": 0,
    "start_time": "2023-10-09T13:33:21.115Z"
   },
   {
    "duration": 0,
    "start_time": "2023-10-09T13:33:21.117Z"
   },
   {
    "duration": 0,
    "start_time": "2023-10-09T13:33:21.118Z"
   },
   {
    "duration": 0,
    "start_time": "2023-10-09T13:33:21.120Z"
   },
   {
    "duration": 0,
    "start_time": "2023-10-09T13:33:21.124Z"
   },
   {
    "duration": 0,
    "start_time": "2023-10-09T13:33:21.126Z"
   },
   {
    "duration": 0,
    "start_time": "2023-10-09T13:33:21.128Z"
   },
   {
    "duration": 0,
    "start_time": "2023-10-09T13:33:21.130Z"
   },
   {
    "duration": 0,
    "start_time": "2023-10-09T13:33:21.132Z"
   },
   {
    "duration": 0,
    "start_time": "2023-10-09T13:33:21.134Z"
   },
   {
    "duration": 0,
    "start_time": "2023-10-09T13:33:21.136Z"
   },
   {
    "duration": 0,
    "start_time": "2023-10-09T13:33:21.137Z"
   },
   {
    "duration": 0,
    "start_time": "2023-10-09T13:33:21.138Z"
   },
   {
    "duration": 0,
    "start_time": "2023-10-09T13:33:21.139Z"
   },
   {
    "duration": 0,
    "start_time": "2023-10-09T13:33:21.141Z"
   },
   {
    "duration": 0,
    "start_time": "2023-10-09T13:33:21.143Z"
   },
   {
    "duration": 0,
    "start_time": "2023-10-09T13:33:21.145Z"
   },
   {
    "duration": 0,
    "start_time": "2023-10-09T13:33:21.147Z"
   },
   {
    "duration": 0,
    "start_time": "2023-10-09T13:33:21.149Z"
   },
   {
    "duration": 0,
    "start_time": "2023-10-09T13:33:21.151Z"
   },
   {
    "duration": 0,
    "start_time": "2023-10-09T13:33:21.153Z"
   },
   {
    "duration": 0,
    "start_time": "2023-10-09T13:33:21.155Z"
   },
   {
    "duration": 0,
    "start_time": "2023-10-09T13:33:21.157Z"
   },
   {
    "duration": 0,
    "start_time": "2023-10-09T13:33:21.159Z"
   },
   {
    "duration": 1,
    "start_time": "2023-10-09T13:33:21.204Z"
   },
   {
    "duration": 0,
    "start_time": "2023-10-09T13:33:21.206Z"
   },
   {
    "duration": 0,
    "start_time": "2023-10-09T13:33:21.210Z"
   },
   {
    "duration": 0,
    "start_time": "2023-10-09T13:33:21.216Z"
   },
   {
    "duration": 0,
    "start_time": "2023-10-09T13:33:21.223Z"
   },
   {
    "duration": 1,
    "start_time": "2023-10-09T13:33:21.224Z"
   },
   {
    "duration": 0,
    "start_time": "2023-10-09T13:33:21.226Z"
   },
   {
    "duration": 0,
    "start_time": "2023-10-09T13:33:21.227Z"
   },
   {
    "duration": 0,
    "start_time": "2023-10-09T13:33:21.228Z"
   },
   {
    "duration": 0,
    "start_time": "2023-10-09T13:33:21.229Z"
   },
   {
    "duration": 0,
    "start_time": "2023-10-09T13:33:21.232Z"
   },
   {
    "duration": 0,
    "start_time": "2023-10-09T13:33:21.233Z"
   },
   {
    "duration": 0,
    "start_time": "2023-10-09T13:33:21.235Z"
   },
   {
    "duration": 0,
    "start_time": "2023-10-09T13:33:21.236Z"
   },
   {
    "duration": 0,
    "start_time": "2023-10-09T13:33:21.238Z"
   },
   {
    "duration": 0,
    "start_time": "2023-10-09T13:33:21.239Z"
   },
   {
    "duration": 0,
    "start_time": "2023-10-09T13:33:21.241Z"
   },
   {
    "duration": 0,
    "start_time": "2023-10-09T13:33:21.242Z"
   },
   {
    "duration": 0,
    "start_time": "2023-10-09T13:33:21.244Z"
   },
   {
    "duration": 0,
    "start_time": "2023-10-09T13:33:21.246Z"
   },
   {
    "duration": 0,
    "start_time": "2023-10-09T13:33:21.247Z"
   },
   {
    "duration": 0,
    "start_time": "2023-10-09T13:33:21.249Z"
   },
   {
    "duration": 0,
    "start_time": "2023-10-09T13:33:21.250Z"
   },
   {
    "duration": 0,
    "start_time": "2023-10-09T13:33:21.301Z"
   },
   {
    "duration": 0,
    "start_time": "2023-10-09T13:33:21.302Z"
   },
   {
    "duration": 1467,
    "start_time": "2023-10-09T13:33:40.576Z"
   },
   {
    "duration": 95,
    "start_time": "2023-10-09T13:33:42.051Z"
   },
   {
    "duration": 27,
    "start_time": "2023-10-09T13:33:42.149Z"
   },
   {
    "duration": 66,
    "start_time": "2023-10-09T13:33:42.178Z"
   },
   {
    "duration": 35,
    "start_time": "2023-10-09T13:33:42.247Z"
   },
   {
    "duration": 63,
    "start_time": "2023-10-09T13:33:42.284Z"
   },
   {
    "duration": 32,
    "start_time": "2023-10-09T13:33:42.353Z"
   },
   {
    "duration": 8,
    "start_time": "2023-10-09T13:33:42.387Z"
   },
   {
    "duration": 48,
    "start_time": "2023-10-09T13:33:42.397Z"
   },
   {
    "duration": 17,
    "start_time": "2023-10-09T13:33:42.453Z"
   },
   {
    "duration": 13,
    "start_time": "2023-10-09T13:33:42.472Z"
   },
   {
    "duration": 44,
    "start_time": "2023-10-09T13:33:42.487Z"
   },
   {
    "duration": 9,
    "start_time": "2023-10-09T13:33:42.534Z"
   },
   {
    "duration": 36,
    "start_time": "2023-10-09T13:33:42.552Z"
   },
   {
    "duration": 39,
    "start_time": "2023-10-09T13:33:42.590Z"
   },
   {
    "duration": 135,
    "start_time": "2023-10-09T13:33:42.634Z"
   },
   {
    "duration": 0,
    "start_time": "2023-10-09T13:33:42.772Z"
   },
   {
    "duration": 0,
    "start_time": "2023-10-09T13:33:42.773Z"
   },
   {
    "duration": 0,
    "start_time": "2023-10-09T13:33:42.775Z"
   },
   {
    "duration": 0,
    "start_time": "2023-10-09T13:33:42.776Z"
   },
   {
    "duration": 0,
    "start_time": "2023-10-09T13:33:42.777Z"
   },
   {
    "duration": 0,
    "start_time": "2023-10-09T13:33:42.778Z"
   },
   {
    "duration": 0,
    "start_time": "2023-10-09T13:33:42.779Z"
   },
   {
    "duration": 0,
    "start_time": "2023-10-09T13:33:42.781Z"
   },
   {
    "duration": 0,
    "start_time": "2023-10-09T13:33:42.782Z"
   },
   {
    "duration": 0,
    "start_time": "2023-10-09T13:33:42.783Z"
   },
   {
    "duration": 0,
    "start_time": "2023-10-09T13:33:42.784Z"
   },
   {
    "duration": 0,
    "start_time": "2023-10-09T13:33:42.801Z"
   },
   {
    "duration": 0,
    "start_time": "2023-10-09T13:33:42.802Z"
   },
   {
    "duration": 0,
    "start_time": "2023-10-09T13:33:42.803Z"
   },
   {
    "duration": 0,
    "start_time": "2023-10-09T13:33:42.804Z"
   },
   {
    "duration": 0,
    "start_time": "2023-10-09T13:33:42.805Z"
   },
   {
    "duration": 0,
    "start_time": "2023-10-09T13:33:42.807Z"
   },
   {
    "duration": 0,
    "start_time": "2023-10-09T13:33:42.808Z"
   },
   {
    "duration": 0,
    "start_time": "2023-10-09T13:33:42.810Z"
   },
   {
    "duration": 0,
    "start_time": "2023-10-09T13:33:42.810Z"
   },
   {
    "duration": 0,
    "start_time": "2023-10-09T13:33:42.811Z"
   },
   {
    "duration": 0,
    "start_time": "2023-10-09T13:33:42.812Z"
   },
   {
    "duration": 0,
    "start_time": "2023-10-09T13:33:42.813Z"
   },
   {
    "duration": 0,
    "start_time": "2023-10-09T13:33:42.813Z"
   },
   {
    "duration": 0,
    "start_time": "2023-10-09T13:33:42.817Z"
   },
   {
    "duration": 0,
    "start_time": "2023-10-09T13:33:42.818Z"
   },
   {
    "duration": 0,
    "start_time": "2023-10-09T13:33:42.822Z"
   },
   {
    "duration": 0,
    "start_time": "2023-10-09T13:33:42.823Z"
   },
   {
    "duration": 0,
    "start_time": "2023-10-09T13:33:42.823Z"
   },
   {
    "duration": 0,
    "start_time": "2023-10-09T13:33:42.824Z"
   },
   {
    "duration": 0,
    "start_time": "2023-10-09T13:33:42.829Z"
   },
   {
    "duration": 0,
    "start_time": "2023-10-09T13:33:42.832Z"
   },
   {
    "duration": 0,
    "start_time": "2023-10-09T13:33:42.834Z"
   },
   {
    "duration": 0,
    "start_time": "2023-10-09T13:33:42.836Z"
   },
   {
    "duration": 0,
    "start_time": "2023-10-09T13:33:42.837Z"
   },
   {
    "duration": 0,
    "start_time": "2023-10-09T13:33:42.837Z"
   },
   {
    "duration": 0,
    "start_time": "2023-10-09T13:33:42.838Z"
   },
   {
    "duration": 0,
    "start_time": "2023-10-09T13:33:42.839Z"
   },
   {
    "duration": 0,
    "start_time": "2023-10-09T13:33:42.839Z"
   },
   {
    "duration": 0,
    "start_time": "2023-10-09T13:33:42.840Z"
   },
   {
    "duration": 0,
    "start_time": "2023-10-09T13:33:42.845Z"
   },
   {
    "duration": 0,
    "start_time": "2023-10-09T13:33:42.846Z"
   },
   {
    "duration": 0,
    "start_time": "2023-10-09T13:33:42.847Z"
   },
   {
    "duration": 1508,
    "start_time": "2023-10-09T13:34:04.315Z"
   },
   {
    "duration": 65,
    "start_time": "2023-10-09T13:34:05.830Z"
   },
   {
    "duration": 45,
    "start_time": "2023-10-09T13:34:05.897Z"
   },
   {
    "duration": 109,
    "start_time": "2023-10-09T13:34:05.950Z"
   },
   {
    "duration": 205,
    "start_time": "2023-10-09T13:34:06.061Z"
   },
   {
    "duration": 23,
    "start_time": "2023-10-09T13:34:06.268Z"
   },
   {
    "duration": 41,
    "start_time": "2023-10-09T13:34:06.293Z"
   },
   {
    "duration": 33,
    "start_time": "2023-10-09T13:34:06.340Z"
   },
   {
    "duration": 31,
    "start_time": "2023-10-09T13:34:06.375Z"
   },
   {
    "duration": 39,
    "start_time": "2023-10-09T13:34:06.412Z"
   },
   {
    "duration": 44,
    "start_time": "2023-10-09T13:34:06.453Z"
   },
   {
    "duration": 56,
    "start_time": "2023-10-09T13:34:06.499Z"
   },
   {
    "duration": 5,
    "start_time": "2023-10-09T13:34:06.557Z"
   },
   {
    "duration": 28,
    "start_time": "2023-10-09T13:34:06.564Z"
   },
   {
    "duration": 52,
    "start_time": "2023-10-09T13:34:06.594Z"
   },
   {
    "duration": 6,
    "start_time": "2023-10-09T13:34:06.650Z"
   },
   {
    "duration": 42,
    "start_time": "2023-10-09T13:34:06.658Z"
   },
   {
    "duration": 54,
    "start_time": "2023-10-09T13:34:06.706Z"
   },
   {
    "duration": 50,
    "start_time": "2023-10-09T13:34:06.762Z"
   },
   {
    "duration": 348,
    "start_time": "2023-10-09T13:34:06.827Z"
   },
   {
    "duration": 8,
    "start_time": "2023-10-09T13:34:07.177Z"
   },
   {
    "duration": 41,
    "start_time": "2023-10-09T13:34:07.187Z"
   },
   {
    "duration": 400,
    "start_time": "2023-10-09T13:34:07.230Z"
   },
   {
    "duration": 10,
    "start_time": "2023-10-09T13:34:07.632Z"
   },
   {
    "duration": 1127,
    "start_time": "2023-10-09T13:34:07.644Z"
   },
   {
    "duration": 6,
    "start_time": "2023-10-09T13:34:08.774Z"
   },
   {
    "duration": 71,
    "start_time": "2023-10-09T13:34:08.781Z"
   },
   {
    "duration": 28,
    "start_time": "2023-10-09T13:34:08.857Z"
   },
   {
    "duration": 27,
    "start_time": "2023-10-09T13:34:08.887Z"
   },
   {
    "duration": 633,
    "start_time": "2023-10-09T13:34:08.920Z"
   },
   {
    "duration": 5,
    "start_time": "2023-10-09T13:34:09.555Z"
   },
   {
    "duration": 280,
    "start_time": "2023-10-09T13:34:09.562Z"
   },
   {
    "duration": 5,
    "start_time": "2023-10-09T13:34:09.849Z"
   },
   {
    "duration": 107,
    "start_time": "2023-10-09T13:34:09.856Z"
   },
   {
    "duration": 17,
    "start_time": "2023-10-09T13:34:09.965Z"
   },
   {
    "duration": 242,
    "start_time": "2023-10-09T13:34:09.984Z"
   },
   {
    "duration": 209,
    "start_time": "2023-10-09T13:34:10.228Z"
   },
   {
    "duration": 171,
    "start_time": "2023-10-09T13:34:10.442Z"
   },
   {
    "duration": 198,
    "start_time": "2023-10-09T13:34:10.615Z"
   },
   {
    "duration": 10,
    "start_time": "2023-10-09T13:34:10.818Z"
   },
   {
    "duration": 299,
    "start_time": "2023-10-09T13:34:10.831Z"
   },
   {
    "duration": 15,
    "start_time": "2023-10-09T13:34:11.132Z"
   },
   {
    "duration": 197,
    "start_time": "2023-10-09T13:34:11.150Z"
   },
   {
    "duration": 9,
    "start_time": "2023-10-09T13:34:11.350Z"
   },
   {
    "duration": 200,
    "start_time": "2023-10-09T13:34:11.361Z"
   },
   {
    "duration": 323,
    "start_time": "2023-10-09T13:34:11.563Z"
   },
   {
    "duration": 15,
    "start_time": "2023-10-09T13:34:11.888Z"
   },
   {
    "duration": 166,
    "start_time": "2023-10-09T13:34:11.905Z"
   },
   {
    "duration": 213,
    "start_time": "2023-10-09T13:34:12.073Z"
   },
   {
    "duration": 215,
    "start_time": "2023-10-09T13:34:12.288Z"
   },
   {
    "duration": 15,
    "start_time": "2023-10-09T13:34:12.514Z"
   },
   {
    "duration": 136,
    "start_time": "2023-10-09T13:34:12.531Z"
   },
   {
    "duration": 199,
    "start_time": "2023-10-09T13:34:12.669Z"
   },
   {
    "duration": 276,
    "start_time": "2023-10-09T13:34:12.870Z"
   },
   {
    "duration": 8,
    "start_time": "2023-10-09T13:34:13.149Z"
   },
   {
    "duration": 18,
    "start_time": "2023-10-09T13:34:13.160Z"
   },
   {
    "duration": 127,
    "start_time": "2023-10-09T13:34:13.181Z"
   },
   {
    "duration": 15,
    "start_time": "2023-10-09T13:34:13.311Z"
   },
   {
    "duration": 52,
    "start_time": "2023-10-09T13:36:03.594Z"
   },
   {
    "duration": 6,
    "start_time": "2023-10-09T13:36:22.788Z"
   },
   {
    "duration": 17,
    "start_time": "2023-10-09T13:36:32.528Z"
   },
   {
    "duration": 1458,
    "start_time": "2023-10-09T13:38:02.572Z"
   },
   {
    "duration": 66,
    "start_time": "2023-10-09T13:38:04.033Z"
   },
   {
    "duration": 436,
    "start_time": "2023-10-09T13:38:04.101Z"
   },
   {
    "duration": 32,
    "start_time": "2023-10-09T13:38:04.539Z"
   },
   {
    "duration": 52,
    "start_time": "2023-10-09T13:38:04.574Z"
   },
   {
    "duration": 41,
    "start_time": "2023-10-09T13:38:04.629Z"
   },
   {
    "duration": 10,
    "start_time": "2023-10-09T13:38:04.672Z"
   },
   {
    "duration": 11,
    "start_time": "2023-10-09T13:38:04.684Z"
   },
   {
    "duration": 50,
    "start_time": "2023-10-09T13:38:04.697Z"
   },
   {
    "duration": 36,
    "start_time": "2023-10-09T13:38:04.753Z"
   },
   {
    "duration": 40,
    "start_time": "2023-10-09T13:38:04.791Z"
   },
   {
    "duration": 50,
    "start_time": "2023-10-09T13:38:04.839Z"
   },
   {
    "duration": 6,
    "start_time": "2023-10-09T13:38:04.891Z"
   },
   {
    "duration": 59,
    "start_time": "2023-10-09T13:38:04.900Z"
   },
   {
    "duration": 62,
    "start_time": "2023-10-09T13:38:04.963Z"
   },
   {
    "duration": 57,
    "start_time": "2023-10-09T13:38:05.028Z"
   },
   {
    "duration": 74,
    "start_time": "2023-10-09T13:38:05.087Z"
   },
   {
    "duration": 63,
    "start_time": "2023-10-09T13:38:05.164Z"
   },
   {
    "duration": 58,
    "start_time": "2023-10-09T13:38:05.230Z"
   },
   {
    "duration": 292,
    "start_time": "2023-10-09T13:38:05.290Z"
   },
   {
    "duration": 8,
    "start_time": "2023-10-09T13:38:05.584Z"
   },
   {
    "duration": 51,
    "start_time": "2023-10-09T13:38:05.604Z"
   },
   {
    "duration": 408,
    "start_time": "2023-10-09T13:38:05.657Z"
   },
   {
    "duration": 9,
    "start_time": "2023-10-09T13:38:06.067Z"
   },
   {
    "duration": 1167,
    "start_time": "2023-10-09T13:38:06.078Z"
   },
   {
    "duration": 6,
    "start_time": "2023-10-09T13:38:07.250Z"
   },
   {
    "duration": 29,
    "start_time": "2023-10-09T13:38:07.258Z"
   },
   {
    "duration": 18,
    "start_time": "2023-10-09T13:38:07.292Z"
   },
   {
    "duration": 13,
    "start_time": "2023-10-09T13:38:07.312Z"
   },
   {
    "duration": 620,
    "start_time": "2023-10-09T13:38:07.327Z"
   },
   {
    "duration": 6,
    "start_time": "2023-10-09T13:38:07.950Z"
   },
   {
    "duration": 306,
    "start_time": "2023-10-09T13:38:07.958Z"
   },
   {
    "duration": 5,
    "start_time": "2023-10-09T13:38:08.265Z"
   },
   {
    "duration": 63,
    "start_time": "2023-10-09T13:38:08.272Z"
   },
   {
    "duration": 22,
    "start_time": "2023-10-09T13:38:08.337Z"
   },
   {
    "duration": 294,
    "start_time": "2023-10-09T13:38:08.362Z"
   },
   {
    "duration": 215,
    "start_time": "2023-10-09T13:38:08.659Z"
   },
   {
    "duration": 194,
    "start_time": "2023-10-09T13:38:08.876Z"
   },
   {
    "duration": 196,
    "start_time": "2023-10-09T13:38:09.071Z"
   },
   {
    "duration": 6,
    "start_time": "2023-10-09T13:38:09.270Z"
   },
   {
    "duration": 303,
    "start_time": "2023-10-09T13:38:09.278Z"
   },
   {
    "duration": 9,
    "start_time": "2023-10-09T13:38:09.583Z"
   },
   {
    "duration": 153,
    "start_time": "2023-10-09T13:38:09.606Z"
   },
   {
    "duration": 9,
    "start_time": "2023-10-09T13:38:09.762Z"
   },
   {
    "duration": 197,
    "start_time": "2023-10-09T13:38:09.773Z"
   },
   {
    "duration": 326,
    "start_time": "2023-10-09T13:38:09.972Z"
   },
   {
    "duration": 15,
    "start_time": "2023-10-09T13:38:10.306Z"
   },
   {
    "duration": 148,
    "start_time": "2023-10-09T13:38:10.324Z"
   },
   {
    "duration": 197,
    "start_time": "2023-10-09T13:38:10.474Z"
   },
   {
    "duration": 210,
    "start_time": "2023-10-09T13:38:10.673Z"
   },
   {
    "duration": 20,
    "start_time": "2023-10-09T13:38:10.884Z"
   },
   {
    "duration": 149,
    "start_time": "2023-10-09T13:38:10.906Z"
   },
   {
    "duration": 197,
    "start_time": "2023-10-09T13:38:11.057Z"
   },
   {
    "duration": 228,
    "start_time": "2023-10-09T13:38:11.256Z"
   },
   {
    "duration": 6,
    "start_time": "2023-10-09T13:38:11.486Z"
   },
   {
    "duration": 38,
    "start_time": "2023-10-09T13:38:11.501Z"
   },
   {
    "duration": 30,
    "start_time": "2023-10-09T13:38:11.541Z"
   },
   {
    "duration": 26,
    "start_time": "2023-10-09T13:38:11.573Z"
   },
   {
    "duration": 25,
    "start_time": "2023-10-09T13:38:11.605Z"
   },
   {
    "duration": 19,
    "start_time": "2023-10-09T13:43:55.914Z"
   },
   {
    "duration": 9,
    "start_time": "2023-10-09T13:45:24.533Z"
   },
   {
    "duration": 7,
    "start_time": "2023-10-09T13:45:25.389Z"
   },
   {
    "duration": 7,
    "start_time": "2023-10-09T13:45:25.840Z"
   },
   {
    "duration": 1331,
    "start_time": "2023-10-09T13:46:57.274Z"
   },
   {
    "duration": 99,
    "start_time": "2023-10-09T13:46:58.607Z"
   },
   {
    "duration": 40,
    "start_time": "2023-10-09T13:46:58.708Z"
   },
   {
    "duration": 95,
    "start_time": "2023-10-09T13:46:58.753Z"
   },
   {
    "duration": 113,
    "start_time": "2023-10-09T13:46:58.850Z"
   },
   {
    "duration": 41,
    "start_time": "2023-10-09T13:46:58.966Z"
   },
   {
    "duration": 26,
    "start_time": "2023-10-09T13:46:59.013Z"
   },
   {
    "duration": 36,
    "start_time": "2023-10-09T13:46:59.041Z"
   },
   {
    "duration": 41,
    "start_time": "2023-10-09T13:46:59.079Z"
   },
   {
    "duration": 24,
    "start_time": "2023-10-09T13:46:59.126Z"
   },
   {
    "duration": 26,
    "start_time": "2023-10-09T13:46:59.152Z"
   },
   {
    "duration": 54,
    "start_time": "2023-10-09T13:46:59.180Z"
   },
   {
    "duration": 7,
    "start_time": "2023-10-09T13:46:59.236Z"
   },
   {
    "duration": 13,
    "start_time": "2023-10-09T13:46:59.245Z"
   },
   {
    "duration": 50,
    "start_time": "2023-10-09T13:46:59.260Z"
   },
   {
    "duration": 20,
    "start_time": "2023-10-09T13:46:59.313Z"
   },
   {
    "duration": 65,
    "start_time": "2023-10-09T13:46:59.337Z"
   },
   {
    "duration": 110,
    "start_time": "2023-10-09T13:46:59.405Z"
   },
   {
    "duration": 18,
    "start_time": "2023-10-09T13:46:59.519Z"
   },
   {
    "duration": 298,
    "start_time": "2023-10-09T13:46:59.542Z"
   },
   {
    "duration": 10,
    "start_time": "2023-10-09T13:46:59.842Z"
   },
   {
    "duration": 19,
    "start_time": "2023-10-09T13:46:59.854Z"
   },
   {
    "duration": 398,
    "start_time": "2023-10-09T13:46:59.875Z"
   },
   {
    "duration": 9,
    "start_time": "2023-10-09T13:47:00.275Z"
   },
   {
    "duration": 1090,
    "start_time": "2023-10-09T13:47:00.301Z"
   },
   {
    "duration": 19,
    "start_time": "2023-10-09T13:47:01.393Z"
   },
   {
    "duration": 175,
    "start_time": "2023-10-09T13:47:01.413Z"
   },
   {
    "duration": 46,
    "start_time": "2023-10-09T13:47:01.592Z"
   },
   {
    "duration": 191,
    "start_time": "2023-10-09T13:47:01.639Z"
   },
   {
    "duration": 789,
    "start_time": "2023-10-09T13:47:01.834Z"
   },
   {
    "duration": 18,
    "start_time": "2023-10-09T13:47:02.625Z"
   },
   {
    "duration": 529,
    "start_time": "2023-10-09T13:47:02.645Z"
   },
   {
    "duration": 5,
    "start_time": "2023-10-09T13:47:03.176Z"
   },
   {
    "duration": 58,
    "start_time": "2023-10-09T13:47:03.183Z"
   },
   {
    "duration": 13,
    "start_time": "2023-10-09T13:47:03.244Z"
   },
   {
    "duration": 200,
    "start_time": "2023-10-09T13:47:03.259Z"
   },
   {
    "duration": 218,
    "start_time": "2023-10-09T13:47:03.461Z"
   },
   {
    "duration": 186,
    "start_time": "2023-10-09T13:47:03.682Z"
   },
   {
    "duration": 187,
    "start_time": "2023-10-09T13:47:03.871Z"
   },
   {
    "duration": 232,
    "start_time": "2023-10-09T13:47:04.060Z"
   },
   {
    "duration": 360,
    "start_time": "2023-10-09T13:47:04.295Z"
   },
   {
    "duration": 11,
    "start_time": "2023-10-09T13:47:04.662Z"
   },
   {
    "duration": 179,
    "start_time": "2023-10-09T13:47:04.675Z"
   },
   {
    "duration": 10,
    "start_time": "2023-10-09T13:47:04.857Z"
   },
   {
    "duration": 245,
    "start_time": "2023-10-09T13:47:04.870Z"
   },
   {
    "duration": 348,
    "start_time": "2023-10-09T13:47:05.117Z"
   },
   {
    "duration": 10,
    "start_time": "2023-10-09T13:47:05.467Z"
   },
   {
    "duration": 164,
    "start_time": "2023-10-09T13:47:05.478Z"
   },
   {
    "duration": 192,
    "start_time": "2023-10-09T13:47:05.644Z"
   },
   {
    "duration": 230,
    "start_time": "2023-10-09T13:47:05.841Z"
   },
   {
    "duration": 105,
    "start_time": "2023-10-09T13:47:06.073Z"
   },
   {
    "duration": 180,
    "start_time": "2023-10-09T13:47:06.180Z"
   },
   {
    "duration": 195,
    "start_time": "2023-10-09T13:47:06.362Z"
   },
   {
    "duration": 261,
    "start_time": "2023-10-09T13:47:06.561Z"
   },
   {
    "duration": 18,
    "start_time": "2023-10-09T13:47:06.824Z"
   },
   {
    "duration": 38,
    "start_time": "2023-10-09T13:47:06.844Z"
   },
   {
    "duration": 159,
    "start_time": "2023-10-09T13:47:06.884Z"
   },
   {
    "duration": 0,
    "start_time": "2023-10-09T13:47:07.045Z"
   },
   {
    "duration": 0,
    "start_time": "2023-10-09T13:47:07.047Z"
   },
   {
    "duration": 0,
    "start_time": "2023-10-09T13:47:07.048Z"
   },
   {
    "duration": 9,
    "start_time": "2023-10-09T13:47:30.267Z"
   },
   {
    "duration": 7,
    "start_time": "2023-10-09T13:47:30.659Z"
   },
   {
    "duration": 1574,
    "start_time": "2023-10-09T13:47:51.851Z"
   },
   {
    "duration": 86,
    "start_time": "2023-10-09T13:47:53.427Z"
   },
   {
    "duration": 34,
    "start_time": "2023-10-09T13:47:53.515Z"
   },
   {
    "duration": 16,
    "start_time": "2023-10-09T13:47:53.551Z"
   },
   {
    "duration": 75,
    "start_time": "2023-10-09T13:47:53.570Z"
   },
   {
    "duration": 22,
    "start_time": "2023-10-09T13:47:53.647Z"
   },
   {
    "duration": 47,
    "start_time": "2023-10-09T13:47:53.671Z"
   },
   {
    "duration": 18,
    "start_time": "2023-10-09T13:47:53.722Z"
   },
   {
    "duration": 34,
    "start_time": "2023-10-09T13:47:53.742Z"
   },
   {
    "duration": 17,
    "start_time": "2023-10-09T13:47:53.778Z"
   },
   {
    "duration": 42,
    "start_time": "2023-10-09T13:47:53.797Z"
   },
   {
    "duration": 26,
    "start_time": "2023-10-09T13:47:53.841Z"
   },
   {
    "duration": 9,
    "start_time": "2023-10-09T13:47:53.869Z"
   },
   {
    "duration": 33,
    "start_time": "2023-10-09T13:47:53.881Z"
   },
   {
    "duration": 24,
    "start_time": "2023-10-09T13:47:53.915Z"
   },
   {
    "duration": 6,
    "start_time": "2023-10-09T13:47:53.942Z"
   },
   {
    "duration": 31,
    "start_time": "2023-10-09T13:47:53.950Z"
   },
   {
    "duration": 43,
    "start_time": "2023-10-09T13:47:53.983Z"
   },
   {
    "duration": 15,
    "start_time": "2023-10-09T13:47:54.029Z"
   },
   {
    "duration": 280,
    "start_time": "2023-10-09T13:47:54.046Z"
   },
   {
    "duration": 13,
    "start_time": "2023-10-09T13:47:54.337Z"
   },
   {
    "duration": 47,
    "start_time": "2023-10-09T13:47:54.352Z"
   },
   {
    "duration": 509,
    "start_time": "2023-10-09T13:47:54.401Z"
   },
   {
    "duration": 24,
    "start_time": "2023-10-09T13:47:54.920Z"
   },
   {
    "duration": 1026,
    "start_time": "2023-10-09T13:47:54.947Z"
   },
   {
    "duration": 7,
    "start_time": "2023-10-09T13:47:55.976Z"
   },
   {
    "duration": 35,
    "start_time": "2023-10-09T13:47:55.984Z"
   },
   {
    "duration": 81,
    "start_time": "2023-10-09T13:47:56.021Z"
   },
   {
    "duration": 21,
    "start_time": "2023-10-09T13:47:56.109Z"
   },
   {
    "duration": 623,
    "start_time": "2023-10-09T13:47:56.135Z"
   },
   {
    "duration": 5,
    "start_time": "2023-10-09T13:47:56.759Z"
   },
   {
    "duration": 246,
    "start_time": "2023-10-09T13:47:56.766Z"
   },
   {
    "duration": 5,
    "start_time": "2023-10-09T13:47:57.014Z"
   },
   {
    "duration": 57,
    "start_time": "2023-10-09T13:47:57.022Z"
   },
   {
    "duration": 32,
    "start_time": "2023-10-09T13:47:57.081Z"
   },
   {
    "duration": 224,
    "start_time": "2023-10-09T13:47:57.120Z"
   },
   {
    "duration": 194,
    "start_time": "2023-10-09T13:47:57.346Z"
   },
   {
    "duration": 207,
    "start_time": "2023-10-09T13:47:57.544Z"
   },
   {
    "duration": 201,
    "start_time": "2023-10-09T13:47:57.753Z"
   },
   {
    "duration": 6,
    "start_time": "2023-10-09T13:47:57.956Z"
   },
   {
    "duration": 278,
    "start_time": "2023-10-09T13:47:57.966Z"
   },
   {
    "duration": 9,
    "start_time": "2023-10-09T13:47:58.246Z"
   },
   {
    "duration": 182,
    "start_time": "2023-10-09T13:47:58.257Z"
   },
   {
    "duration": 11,
    "start_time": "2023-10-09T13:47:58.450Z"
   },
   {
    "duration": 195,
    "start_time": "2023-10-09T13:47:58.463Z"
   },
   {
    "duration": 350,
    "start_time": "2023-10-09T13:47:58.660Z"
   },
   {
    "duration": 12,
    "start_time": "2023-10-09T13:47:59.019Z"
   },
   {
    "duration": 149,
    "start_time": "2023-10-09T13:47:59.034Z"
   },
   {
    "duration": 202,
    "start_time": "2023-10-09T13:47:59.186Z"
   },
   {
    "duration": 207,
    "start_time": "2023-10-09T13:47:59.390Z"
   },
   {
    "duration": 13,
    "start_time": "2023-10-09T13:47:59.599Z"
   },
   {
    "duration": 138,
    "start_time": "2023-10-09T13:47:59.618Z"
   },
   {
    "duration": 235,
    "start_time": "2023-10-09T13:47:59.758Z"
   },
   {
    "duration": 214,
    "start_time": "2023-10-09T13:47:59.995Z"
   },
   {
    "duration": 23,
    "start_time": "2023-10-09T13:48:00.216Z"
   },
   {
    "duration": 143,
    "start_time": "2023-10-09T13:48:00.242Z"
   },
   {
    "duration": 1130,
    "start_time": "2023-10-09T13:48:00.387Z"
   },
   {
    "duration": 119,
    "start_time": "2023-10-09T13:48:01.519Z"
   }
  ],
  "kernelspec": {
   "display_name": "Python 3 (ipykernel)",
   "language": "python",
   "name": "python3"
  },
  "language_info": {
   "codemirror_mode": {
    "name": "ipython",
    "version": 3
   },
   "file_extension": ".py",
   "mimetype": "text/x-python",
   "name": "python",
   "nbconvert_exporter": "python",
   "pygments_lexer": "ipython3",
   "version": "3.9.5"
  },
  "toc": {
   "base_numbering": 1,
   "nav_menu": {
    "height": "416px",
    "width": "476px"
   },
   "number_sections": true,
   "sideBar": true,
   "skip_h1_title": true,
   "title_cell": "Table of Contents",
   "title_sidebar": "Contents",
   "toc_cell": false,
   "toc_position": {},
   "toc_section_display": true,
   "toc_window_display": false
  }
 },
 "nbformat": 4,
 "nbformat_minor": 2
}
