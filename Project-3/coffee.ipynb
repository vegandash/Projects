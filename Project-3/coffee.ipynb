{
 "cells": [
  {
   "cell_type": "markdown",
   "metadata": {},
   "source": [
    "# Исследование рынка заведений общественного питания Москвы"
   ]
  },

  {
   "cell_type": "markdown",
   "metadata": {},
   "source": [
    "# Оглавление:\n",
    "\n",
    "1. [Загрузим данные и изучим информацию](#load_and_explore_data)\n",
    "2. [Выполним предобработку данных](#data_preprocessing)\\\n",
    "   2.1 [Исследуем пропуски](#explore_missing_values)\\\n",
    "   2.2 [Разберемся со столбцом 'seats'](#explore_seats_column)\\\n",
    "   2.3 [Построим график распределения количества мест](#plot_seats_distribution)\\\n",
    "   2.4 [Добавим столбец с наименованием улицы](#add_street_column)\\\n",
    "   2.5 [Добавим столбец с обозначением круглосуточных заведений](#add_24_7_column)\\\n",
    "   2.6 [Вывод по предобработке данных](#preprocessing_summary)\n",
    "3. [Анализ данных](#data_analysis)\\\n",
    "   3.1 [Исследование категорий заведений](#explore_categories)\\\n",
    "   3.2 [Анализ количества посадочных мест в заведениях](#explore_seats)\\\n",
    "   3.3 [Соотношение сетевых и несетевых заведений](#explore_chain_ratio)\\\n",
    "   3.4 [Анализ категорий заведений на сетевых предприятиях](#explore_categories_chain)\\\n",
    "   3.5 [Топ-15 популярных сетей в Москве](#explore_top_chains)\\\n",
    "   3.6 [Обзор административных районов Москвы](#explore_districts)\\\n",
    "   3.7 [Распределение средних рейтингов по категориям заведений](#explore_rating_distribution)\\\n",
    "   3.8 [Фоновая картограмма среднего рейтинга заведений](#explore_rating_map)\\\n",
    "   3.9 [Отображение всех заведений на карте с помощью кластеров](#explore_map_clusters)\\\n",
    "   3.10 [Топ-15 улиц по количеству заведений](#explore_top_streets)\\\n",
    "   3.11 [Исследование улиц с единственным заведением](#explore_single_outlets)\\\n",
    "   3.12 [Подсчет медианы средних чеков по районам](#explore_median_prices)\\\n",
    "   3.13 [Вывод по анализу данных](#data_analysis_summary)\n",
    "4. [Детализируем исследование: открытие кофейни](#open_coffee_shop)\\\n",
    "   4.1 [Количество кофеен в датасете и особенности их распределения](#explore_coffee_shops)\\\n",
    "   4.2 [Распределение цен за чашку кофе по районам](#explore_coffee_prices)\\\n",
    "   4.3 [Круглосуточные кофейни](#explore_24_7_coffee)\\\n",
    "   4.4 [Рейтинги кофеен и их распределение по районам](#explore_coffee_ratings)\\\n",
    "   4.5 [Ориентировочная стоимость чашки капучино](#explore_coffee_prices)\\\n",
    "   4.6 [Вывод по кофейням](#summary_coffee)\\\n",
    "   4.7 [Потенциальная кофейня](#potencial_coffee)\n",
    "5. [ВЫВОД ИССЛЕДОВАНИЯ](#the_end)\n",
    "6. [Презентация](#create_presentation)"
   ]
  },

  {
   "cell_type": "markdown",
   "metadata": {},
   "source": [
    "<a id=\"load_and_explore_data\"></a>\n",
    "\n",
    "### Загрузим данные и изучим информацию \n",
    "Давайте загрузим данные о заведениях общественного питания Москвы из файла /datasets/moscow_places.csv и изучим общую информацию о них. Мы узнаем, сколько заведений представлено в этом датасете и что можно сказать о каждом столбце, какие значения они содержат и какого типа эти значения."
   ]
  },
  {
   "cell_type": "code",
   "execution_count": 1,
   "metadata": {},
   "outputs": [],
   "source": [
    "import pandas as pd\n",
    "import math\n",
    "import numpy as np\n",
    "import matplotlib.pyplot as plt\n",
    "from pandas.plotting import register_matplotlib_converters\n",
    "import warnings\n",
    "import folium\n",
    "import json\n",
    "from folium import Map, Choropleth\n",
    "from folium import Map, Marker\n",
    "from folium.plugins import MarkerCluster\n",
    "from folium.features import CustomIcon\n",
    "import seaborn as sns"
   ]
  },
  {
   "cell_type": "code",
   "execution_count": 2,
   "metadata": {},
   "outputs": [],
   "source": [
    "data = '/datasets/moscow_places.csv'"
   ]
  },
  {
   "cell_type": "code",
   "execution_count": 3,
   "metadata": {},
   "outputs": [],
   "source": [
    "places = pd.read_csv(data)"
   ]
  },
  {
   "cell_type": "code",
   "execution_count": 4,
   "metadata": {
    "scrolled": false
   },
   "outputs": [
    {
     "data": {
      "text/html": [
       "<div>\n",
       "<style scoped>\n",
       "    .dataframe tbody tr th:only-of-type {\n",
       "        vertical-align: middle;\n",
       "    }\n",
       "\n",
       "    .dataframe tbody tr th {\n",
       "        vertical-align: top;\n",
       "    }\n",
       "\n",
       "    .dataframe thead th {\n",
       "        text-align: right;\n",
       "    }\n",
       "</style>\n",
       "<table border=\"1\" class=\"dataframe\">\n",
       "  <thead>\n",
       "    <tr style=\"text-align: right;\">\n",
       "      <th></th>\n",
       "      <th>name</th>\n",
       "      <th>category</th>\n",
       "      <th>address</th>\n",
       "      <th>district</th>\n",
       "      <th>hours</th>\n",
       "      <th>lat</th>\n",
       "      <th>lng</th>\n",
       "      <th>rating</th>\n",
       "      <th>price</th>\n",
       "      <th>avg_bill</th>\n",
       "      <th>middle_avg_bill</th>\n",
       "      <th>middle_coffee_cup</th>\n",
       "      <th>chain</th>\n",
       "      <th>seats</th>\n",
       "    </tr>\n",
       "  </thead>\n",
       "  <tbody>\n",
       "    <tr>\n",
       "      <th>0</th>\n",
       "      <td>WoWфли</td>\n",
       "      <td>кафе</td>\n",
       "      <td>Москва, улица Дыбенко, 7/1</td>\n",
       "      <td>Северный административный округ</td>\n",
       "      <td>ежедневно, 10:00–22:00</td>\n",
       "      <td>55.878494</td>\n",
       "      <td>37.478860</td>\n",
       "      <td>5.0</td>\n",
       "      <td>NaN</td>\n",
       "      <td>NaN</td>\n",
       "      <td>NaN</td>\n",
       "      <td>NaN</td>\n",
       "      <td>0</td>\n",
       "      <td>NaN</td>\n",
       "    </tr>\n",
       "    <tr>\n",
       "      <th>1</th>\n",
       "      <td>Четыре комнаты</td>\n",
       "      <td>ресторан</td>\n",
       "      <td>Москва, улица Дыбенко, 36, корп. 1</td>\n",
       "      <td>Северный административный округ</td>\n",
       "      <td>ежедневно, 10:00–22:00</td>\n",
       "      <td>55.875801</td>\n",
       "      <td>37.484479</td>\n",
       "      <td>4.5</td>\n",
       "      <td>выше среднего</td>\n",
       "      <td>Средний счёт:1500–1600 ₽</td>\n",
       "      <td>1550.0</td>\n",
       "      <td>NaN</td>\n",
       "      <td>0</td>\n",
       "      <td>4.0</td>\n",
       "    </tr>\n",
       "    <tr>\n",
       "      <th>2</th>\n",
       "      <td>Хазри</td>\n",
       "      <td>кафе</td>\n",
       "      <td>Москва, Клязьминская улица, 15</td>\n",
       "      <td>Северный административный округ</td>\n",
       "      <td>пн-чт 11:00–02:00; пт,сб 11:00–05:00; вс 11:00...</td>\n",
       "      <td>55.889146</td>\n",
       "      <td>37.525901</td>\n",
       "      <td>4.6</td>\n",
       "      <td>средние</td>\n",
       "      <td>Средний счёт:от 1000 ₽</td>\n",
       "      <td>1000.0</td>\n",
       "      <td>NaN</td>\n",
       "      <td>0</td>\n",
       "      <td>45.0</td>\n",
       "    </tr>\n",
       "    <tr>\n",
       "      <th>3</th>\n",
       "      <td>Dormouse Coffee Shop</td>\n",
       "      <td>кофейня</td>\n",
       "      <td>Москва, улица Маршала Федоренко, 12</td>\n",
       "      <td>Северный административный округ</td>\n",
       "      <td>ежедневно, 09:00–22:00</td>\n",
       "      <td>55.881608</td>\n",
       "      <td>37.488860</td>\n",
       "      <td>5.0</td>\n",
       "      <td>NaN</td>\n",
       "      <td>Цена чашки капучино:155–185 ₽</td>\n",
       "      <td>NaN</td>\n",
       "      <td>170.0</td>\n",
       "      <td>0</td>\n",
       "      <td>NaN</td>\n",
       "    </tr>\n",
       "    <tr>\n",
       "      <th>4</th>\n",
       "      <td>Иль Марко</td>\n",
       "      <td>пиццерия</td>\n",
       "      <td>Москва, Правобережная улица, 1Б</td>\n",
       "      <td>Северный административный округ</td>\n",
       "      <td>ежедневно, 10:00–22:00</td>\n",
       "      <td>55.881166</td>\n",
       "      <td>37.449357</td>\n",
       "      <td>5.0</td>\n",
       "      <td>средние</td>\n",
       "      <td>Средний счёт:400–600 ₽</td>\n",
       "      <td>500.0</td>\n",
       "      <td>NaN</td>\n",
       "      <td>1</td>\n",
       "      <td>148.0</td>\n",
       "    </tr>\n",
       "    <tr>\n",
       "      <th>...</th>\n",
       "      <td>...</td>\n",
       "      <td>...</td>\n",
       "      <td>...</td>\n",
       "      <td>...</td>\n",
       "      <td>...</td>\n",
       "      <td>...</td>\n",
       "      <td>...</td>\n",
       "      <td>...</td>\n",
       "      <td>...</td>\n",
       "      <td>...</td>\n",
       "      <td>...</td>\n",
       "      <td>...</td>\n",
       "      <td>...</td>\n",
       "      <td>...</td>\n",
       "    </tr>\n",
       "    <tr>\n",
       "      <th>8401</th>\n",
       "      <td>Суши Мания</td>\n",
       "      <td>кафе</td>\n",
       "      <td>Москва, Профсоюзная улица, 56</td>\n",
       "      <td>Юго-Западный административный округ</td>\n",
       "      <td>ежедневно, 09:00–02:00</td>\n",
       "      <td>55.670021</td>\n",
       "      <td>37.552480</td>\n",
       "      <td>4.4</td>\n",
       "      <td>NaN</td>\n",
       "      <td>NaN</td>\n",
       "      <td>NaN</td>\n",
       "      <td>NaN</td>\n",
       "      <td>0</td>\n",
       "      <td>86.0</td>\n",
       "    </tr>\n",
       "    <tr>\n",
       "      <th>8402</th>\n",
       "      <td>Миславнес</td>\n",
       "      <td>кафе</td>\n",
       "      <td>Москва, Пролетарский проспект, 19, корп. 1</td>\n",
       "      <td>Южный административный округ</td>\n",
       "      <td>ежедневно, 08:00–22:00</td>\n",
       "      <td>55.640875</td>\n",
       "      <td>37.656553</td>\n",
       "      <td>4.8</td>\n",
       "      <td>NaN</td>\n",
       "      <td>NaN</td>\n",
       "      <td>NaN</td>\n",
       "      <td>NaN</td>\n",
       "      <td>0</td>\n",
       "      <td>150.0</td>\n",
       "    </tr>\n",
       "    <tr>\n",
       "      <th>8403</th>\n",
       "      <td>Самовар</td>\n",
       "      <td>кафе</td>\n",
       "      <td>Москва, Люблинская улица, 112А, стр. 1</td>\n",
       "      <td>Юго-Восточный административный округ</td>\n",
       "      <td>ежедневно, круглосуточно</td>\n",
       "      <td>55.648859</td>\n",
       "      <td>37.743219</td>\n",
       "      <td>3.9</td>\n",
       "      <td>NaN</td>\n",
       "      <td>Средний счёт:от 150 ₽</td>\n",
       "      <td>150.0</td>\n",
       "      <td>NaN</td>\n",
       "      <td>0</td>\n",
       "      <td>150.0</td>\n",
       "    </tr>\n",
       "    <tr>\n",
       "      <th>8404</th>\n",
       "      <td>Чайхана Sabr</td>\n",
       "      <td>кафе</td>\n",
       "      <td>Москва, Люблинская улица, 112А, стр. 1</td>\n",
       "      <td>Юго-Восточный административный округ</td>\n",
       "      <td>ежедневно, круглосуточно</td>\n",
       "      <td>55.648849</td>\n",
       "      <td>37.743222</td>\n",
       "      <td>4.2</td>\n",
       "      <td>NaN</td>\n",
       "      <td>NaN</td>\n",
       "      <td>NaN</td>\n",
       "      <td>NaN</td>\n",
       "      <td>1</td>\n",
       "      <td>150.0</td>\n",
       "    </tr>\n",
       "    <tr>\n",
       "      <th>8405</th>\n",
       "      <td>Kebab Time</td>\n",
       "      <td>кафе</td>\n",
       "      <td>Москва, Россошанский проезд, 6</td>\n",
       "      <td>Южный административный округ</td>\n",
       "      <td>ежедневно, круглосуточно</td>\n",
       "      <td>55.598229</td>\n",
       "      <td>37.604702</td>\n",
       "      <td>3.9</td>\n",
       "      <td>NaN</td>\n",
       "      <td>NaN</td>\n",
       "      <td>NaN</td>\n",
       "      <td>NaN</td>\n",
       "      <td>0</td>\n",
       "      <td>12.0</td>\n",
       "    </tr>\n",
       "  </tbody>\n",
       "</table>\n",
       "<p>8406 rows × 14 columns</p>\n",
       "</div>"
      ],
      "text/plain": [
       "                      name  category  \\\n",
       "0                   WoWфли      кафе   \n",
       "1           Четыре комнаты  ресторан   \n",
       "2                    Хазри      кафе   \n",
       "3     Dormouse Coffee Shop   кофейня   \n",
       "4                Иль Марко  пиццерия   \n",
       "...                    ...       ...   \n",
       "8401            Суши Мания      кафе   \n",
       "8402             Миславнес      кафе   \n",
       "8403               Самовар      кафе   \n",
       "8404          Чайхана Sabr      кафе   \n",
       "8405            Kebab Time      кафе   \n",
       "\n",
       "                                         address  \\\n",
       "0                     Москва, улица Дыбенко, 7/1   \n",
       "1             Москва, улица Дыбенко, 36, корп. 1   \n",
       "2                 Москва, Клязьминская улица, 15   \n",
       "3            Москва, улица Маршала Федоренко, 12   \n",
       "4                Москва, Правобережная улица, 1Б   \n",
       "...                                          ...   \n",
       "8401               Москва, Профсоюзная улица, 56   \n",
       "8402  Москва, Пролетарский проспект, 19, корп. 1   \n",
       "8403      Москва, Люблинская улица, 112А, стр. 1   \n",
       "8404      Москва, Люблинская улица, 112А, стр. 1   \n",
       "8405              Москва, Россошанский проезд, 6   \n",
       "\n",
       "                                  district  \\\n",
       "0          Северный административный округ   \n",
       "1          Северный административный округ   \n",
       "2          Северный административный округ   \n",
       "3          Северный административный округ   \n",
       "4          Северный административный округ   \n",
       "...                                    ...   \n",
       "8401   Юго-Западный административный округ   \n",
       "8402          Южный административный округ   \n",
       "8403  Юго-Восточный административный округ   \n",
       "8404  Юго-Восточный административный округ   \n",
       "8405          Южный административный округ   \n",
       "\n",
       "                                                  hours        lat        lng  \\\n",
       "0                                ежедневно, 10:00–22:00  55.878494  37.478860   \n",
       "1                                ежедневно, 10:00–22:00  55.875801  37.484479   \n",
       "2     пн-чт 11:00–02:00; пт,сб 11:00–05:00; вс 11:00...  55.889146  37.525901   \n",
       "3                                ежедневно, 09:00–22:00  55.881608  37.488860   \n",
       "4                                ежедневно, 10:00–22:00  55.881166  37.449357   \n",
       "...                                                 ...        ...        ...   \n",
       "8401                             ежедневно, 09:00–02:00  55.670021  37.552480   \n",
       "8402                             ежедневно, 08:00–22:00  55.640875  37.656553   \n",
       "8403                           ежедневно, круглосуточно  55.648859  37.743219   \n",
       "8404                           ежедневно, круглосуточно  55.648849  37.743222   \n",
       "8405                           ежедневно, круглосуточно  55.598229  37.604702   \n",
       "\n",
       "      rating          price                       avg_bill  middle_avg_bill  \\\n",
       "0        5.0            NaN                            NaN              NaN   \n",
       "1        4.5  выше среднего       Средний счёт:1500–1600 ₽           1550.0   \n",
       "2        4.6        средние         Средний счёт:от 1000 ₽           1000.0   \n",
       "3        5.0            NaN  Цена чашки капучино:155–185 ₽              NaN   \n",
       "4        5.0        средние         Средний счёт:400–600 ₽            500.0   \n",
       "...      ...            ...                            ...              ...   \n",
       "8401     4.4            NaN                            NaN              NaN   \n",
       "8402     4.8            NaN                            NaN              NaN   \n",
       "8403     3.9            NaN          Средний счёт:от 150 ₽            150.0   \n",
       "8404     4.2            NaN                            NaN              NaN   \n",
       "8405     3.9            NaN                            NaN              NaN   \n",
       "\n",
       "      middle_coffee_cup  chain  seats  \n",
       "0                   NaN      0    NaN  \n",
       "1                   NaN      0    4.0  \n",
       "2                   NaN      0   45.0  \n",
       "3                 170.0      0    NaN  \n",
       "4                   NaN      1  148.0  \n",
       "...                 ...    ...    ...  \n",
       "8401                NaN      0   86.0  \n",
       "8402                NaN      0  150.0  \n",
       "8403                NaN      0  150.0  \n",
       "8404                NaN      1  150.0  \n",
       "8405                NaN      0   12.0  \n",
       "\n",
       "[8406 rows x 14 columns]"
      ]
     },
     "execution_count": 4,
     "metadata": {},
     "output_type": "execute_result"
    }
   ],
   "source": [
    "places"
   ]
  },
  {
   "cell_type": "code",
   "execution_count": 5,
   "metadata": {},
   "outputs": [
    {
     "name": "stdout",
     "output_type": "stream",
     "text": [
      "<class 'pandas.core.frame.DataFrame'>\n",
      "RangeIndex: 8406 entries, 0 to 8405\n",
      "Data columns (total 14 columns):\n",
      " #   Column             Non-Null Count  Dtype  \n",
      "---  ------             --------------  -----  \n",
      " 0   name               8406 non-null   object \n",
      " 1   category           8406 non-null   object \n",
      " 2   address            8406 non-null   object \n",
      " 3   district           8406 non-null   object \n",
      " 4   hours              7870 non-null   object \n",
      " 5   lat                8406 non-null   float64\n",
      " 6   lng                8406 non-null   float64\n",
      " 7   rating             8406 non-null   float64\n",
      " 8   price              3315 non-null   object \n",
      " 9   avg_bill           3816 non-null   object \n",
      " 10  middle_avg_bill    3149 non-null   float64\n",
      " 11  middle_coffee_cup  535 non-null    float64\n",
      " 12  chain              8406 non-null   int64  \n",
      " 13  seats              4795 non-null   float64\n",
      "dtypes: float64(6), int64(1), object(7)\n",
      "memory usage: 919.5+ KB\n"
     ]
    },
    {
     "data": {
      "text/plain": [
       "None"
      ]
     },
     "metadata": {},
     "output_type": "display_data"
    },
    {
     "data": {
      "text/html": [
       "<div>\n",
       "<style scoped>\n",
       "    .dataframe tbody tr th:only-of-type {\n",
       "        vertical-align: middle;\n",
       "    }\n",
       "\n",
       "    .dataframe tbody tr th {\n",
       "        vertical-align: top;\n",
       "    }\n",
       "\n",
       "    .dataframe thead th {\n",
       "        text-align: right;\n",
       "    }\n",
       "</style>\n",
       "<table border=\"1\" class=\"dataframe\">\n",
       "  <thead>\n",
       "    <tr style=\"text-align: right;\">\n",
       "      <th></th>\n",
       "      <th>lat</th>\n",
       "      <th>lng</th>\n",
       "      <th>rating</th>\n",
       "      <th>middle_avg_bill</th>\n",
       "      <th>middle_coffee_cup</th>\n",
       "      <th>chain</th>\n",
       "      <th>seats</th>\n",
       "    </tr>\n",
       "  </thead>\n",
       "  <tbody>\n",
       "    <tr>\n",
       "      <th>count</th>\n",
       "      <td>8406.000000</td>\n",
       "      <td>8406.000000</td>\n",
       "      <td>8406.000000</td>\n",
       "      <td>3149.000000</td>\n",
       "      <td>535.000000</td>\n",
       "      <td>8406.000000</td>\n",
       "      <td>4795.000000</td>\n",
       "    </tr>\n",
       "    <tr>\n",
       "      <th>mean</th>\n",
       "      <td>55.750109</td>\n",
       "      <td>37.608570</td>\n",
       "      <td>4.229895</td>\n",
       "      <td>958.053668</td>\n",
       "      <td>174.721495</td>\n",
       "      <td>0.381275</td>\n",
       "      <td>108.421689</td>\n",
       "    </tr>\n",
       "    <tr>\n",
       "      <th>std</th>\n",
       "      <td>0.069658</td>\n",
       "      <td>0.098597</td>\n",
       "      <td>0.470348</td>\n",
       "      <td>1009.732845</td>\n",
       "      <td>88.951103</td>\n",
       "      <td>0.485729</td>\n",
       "      <td>122.833396</td>\n",
       "    </tr>\n",
       "    <tr>\n",
       "      <th>min</th>\n",
       "      <td>55.573942</td>\n",
       "      <td>37.355651</td>\n",
       "      <td>1.000000</td>\n",
       "      <td>0.000000</td>\n",
       "      <td>60.000000</td>\n",
       "      <td>0.000000</td>\n",
       "      <td>0.000000</td>\n",
       "    </tr>\n",
       "    <tr>\n",
       "      <th>25%</th>\n",
       "      <td>55.705155</td>\n",
       "      <td>37.538583</td>\n",
       "      <td>4.100000</td>\n",
       "      <td>375.000000</td>\n",
       "      <td>124.500000</td>\n",
       "      <td>0.000000</td>\n",
       "      <td>40.000000</td>\n",
       "    </tr>\n",
       "    <tr>\n",
       "      <th>50%</th>\n",
       "      <td>55.753425</td>\n",
       "      <td>37.605246</td>\n",
       "      <td>4.300000</td>\n",
       "      <td>750.000000</td>\n",
       "      <td>169.000000</td>\n",
       "      <td>0.000000</td>\n",
       "      <td>75.000000</td>\n",
       "    </tr>\n",
       "    <tr>\n",
       "      <th>75%</th>\n",
       "      <td>55.795041</td>\n",
       "      <td>37.664792</td>\n",
       "      <td>4.400000</td>\n",
       "      <td>1250.000000</td>\n",
       "      <td>225.000000</td>\n",
       "      <td>1.000000</td>\n",
       "      <td>140.000000</td>\n",
       "    </tr>\n",
       "    <tr>\n",
       "      <th>max</th>\n",
       "      <td>55.928943</td>\n",
       "      <td>37.874466</td>\n",
       "      <td>5.000000</td>\n",
       "      <td>35000.000000</td>\n",
       "      <td>1568.000000</td>\n",
       "      <td>1.000000</td>\n",
       "      <td>1288.000000</td>\n",
       "    </tr>\n",
       "  </tbody>\n",
       "</table>\n",
       "</div>"
      ],
      "text/plain": [
       "               lat          lng       rating  middle_avg_bill  \\\n",
       "count  8406.000000  8406.000000  8406.000000      3149.000000   \n",
       "mean     55.750109    37.608570     4.229895       958.053668   \n",
       "std       0.069658     0.098597     0.470348      1009.732845   \n",
       "min      55.573942    37.355651     1.000000         0.000000   \n",
       "25%      55.705155    37.538583     4.100000       375.000000   \n",
       "50%      55.753425    37.605246     4.300000       750.000000   \n",
       "75%      55.795041    37.664792     4.400000      1250.000000   \n",
       "max      55.928943    37.874466     5.000000     35000.000000   \n",
       "\n",
       "       middle_coffee_cup        chain        seats  \n",
       "count         535.000000  8406.000000  4795.000000  \n",
       "mean          174.721495     0.381275   108.421689  \n",
       "std            88.951103     0.485729   122.833396  \n",
       "min            60.000000     0.000000     0.000000  \n",
       "25%           124.500000     0.000000    40.000000  \n",
       "50%           169.000000     0.000000    75.000000  \n",
       "75%           225.000000     1.000000   140.000000  \n",
       "max          1568.000000     1.000000  1288.000000  "
      ]
     },
     "metadata": {},
     "output_type": "display_data"
    }
   ],
   "source": [
    "display(places.info(),places.describe())"
   ]
  },
  {
   "cell_type": "markdown",
   "metadata": {},
   "source": [
    "Мы видим, что в датасете у нас:\n",
    "- 8406 строки, 14 столбцов\n",
    "- максимальный рейтинг у заведений 5, минимальный 1\n",
    "- максимальный средний счет равен 35.000\n",
    "- максимальная цена за чашку кофе 1568.00\n",
    "- максимальное число посадочных мест 1288 ( выглядит странно, при медианном значение в 108, видимо вброс, разберемся с этим в разделе предобаботки)"
   ]
  },
  {
   "cell_type": "markdown",
   "metadata": {},
   "source": [
    "По типам данным все нормально, единственное нужно перевести стобец с посадочными местами в целочисленный формат, этим займемся в разделе предобработки данных."
   ]
  },
  {
   "cell_type": "code",
   "execution_count": 6,
   "metadata": {
    "scrolled": false
   },
   "outputs": [
    {
     "name": "stdout",
     "output_type": "stream",
     "text": [
      "Всего представлено 5614 заведений\n"
     ]
    }
   ],
   "source": [
    "print('Всего представлено',places['name'].nunique(),'заведений')"
   ]
  },
  {
   "cell_type": "code",
   "execution_count": 7,
   "metadata": {},
   "outputs": [
    {
     "data": {
      "text/plain": [
       "array(['кафе', 'ресторан', 'кофейня', 'пиццерия', 'бар,паб',\n",
       "       'быстрое питание', 'булочная', 'столовая'], dtype=object)"
      ]
     },
     "execution_count": 7,
     "metadata": {},
     "output_type": "execute_result"
    }
   ],
   "source": [
    "places['category'].unique()"
   ]
  },
  {
   "cell_type": "markdown",
   "metadata": {},
   "source": [
    "У нас представлены такие категории заведений как: кафе, ресторан, кофейня, пиццерия, бар,паб, быстрое питание, булочная, столовая."
   ]
  },
  {
   "cell_type": "code",
   "execution_count": 8,
   "metadata": {},
   "outputs": [
    {
     "data": {
      "image/png": "[encoded data removed]",
      "text/plain": [
       "<Figure size 720x576 with 2 Axes>"
      ]
     },
     "metadata": {
      "needs_background": "light"
     },
     "output_type": "display_data"
    }
   ],
   "source": [
    "corr_matrix = places.corr()\n",
    "plt.figure(figsize=(10,8))\n",
    "sns.heatmap(corr_matrix, annot=True, cmap='coolwarm', fmt=\".2f\")\n",
    "plt.title('Матрица корреляции')\n",
    "plt.show()"
   ]
  },
  {
   "cell_type": "markdown",
   "metadata": {},
   "source": [
    "Мы видим, что цифры очень маленькие, это говорит нам что связь между переменными слабая или нелинейная. **Однако даже маленькая корреляция может быть статистически значимой и иметь практическую значимость.**\n",
    "\n",
    "1) Рейтинг (rating) имеет небольшую положительную корреляцию с средним счетом (middle_avg_bill) и средней стоимостью чашки кофе (middle_coffee_cup). Это может указывать на то, что **более высокий рейтинг обычно соответствует заведениям с более высокими счетами и/или более высокой стоимостью кофе.**\n",
    "\n",
    "2) Средняя стоимость чашки кофе (middle_coffee_cup) имеет положительную корреляцию с средним счетом (middle_avg_bill). Это может указывать на то, что в заведениях с **более высокими счетами чашка кофе, скорее всего, также будет стоить дороже.**\n",
    "\n",
    "3) Количество посадочных мест (seats) имеет небольшую положительную корреляцию с рейтингом (rating) и средним счетом (middle_avg_bill). Это может говорить о том, что заведения с **более высоким рейтингом и/или более высоким средним счетом, как правило, предлагают больше мест для посетителей.**\n",
    "\n",
    "4) Координаты местоположения (lat, lng) заведений слабо коррелируют с другими переменными, включенными в анализ. Это может указывать на то, **что местоположение не имеет сильного влияния на рейтинг, средний счет или количество посадочных мест.**\n",
    "\n",
    "5) Сетевые заведения (chain) имеют небольшую отрицательную корреляцию с рейтингом (rating), средним счетом (middle_avg_bill) и средней стоимостью чашки кофе (middle_coffee_cup). Это может означать, **что сетевые заведения, как правило, имеют немного более низкие рейтинги и стоимость услуг по сравнению с несетевыми заведениями.**"
   ]
  },
  {
   "cell_type": "markdown",
   "metadata": {},
   "source": [
    "                        Мы изучили информацию, теперь можем приступить к предобработке"
   ]
  },
  {
   "cell_type": "markdown",
   "metadata": {},
   "source": [
    "<a id=\"data_preprocessing\"></a>\n",
    "\n",
    "###  Выполним предобработку данных\n",
    "\n",
    "Прежде чем приступать к анализу, давайте проверим, есть ли дубликаты в данных, и найдем пропуски, если они есть. Если обнаружим пропуски, мы решим, как их обработать. Затем добавим столбец \"street\" с названиями улиц из столбца с адресом и столбец \"is_24/7\", чтобы отметить заведения, которые работают круглосуточно."
   ]
  },
  {
   "cell_type": "markdown",
   "metadata": {},
   "source": [
    "<a id=\"explore_missing_values\"></a>\n",
    "\n",
    "#### Исследуем пропуски"
   ]
  },
  {
   "cell_type": "code",
   "execution_count": 9,
   "metadata": {
    "scrolled": true
   },
   "outputs": [
    {
     "name": "stdout",
     "output_type": "stream",
     "text": [
      "name                    0\n",
      "category                0\n",
      "address                 0\n",
      "district                0\n",
      "hours                 536\n",
      "lat                     0\n",
      "lng                     0\n",
      "rating                  0\n",
      "price                5091\n",
      "avg_bill             4590\n",
      "middle_avg_bill      5257\n",
      "middle_coffee_cup    7871\n",
      "chain                   0\n",
      "seats                3611\n",
      "dtype: int64\n"
     ]
    }
   ],
   "source": [
    "print(places.isnull().sum())"
   ]
  },
  {
   "cell_type": "markdown",
   "metadata": {},
   "source": [
    "Видим много пропусков в столбцах:\n",
    "- **часы работы** (видимо не получилось узнать график)\n",
    "- **категория цен** (возможно не получилось узнать ценник в заведении)\n",
    "- **средняя стоимость заказа в виде диапозона**\n",
    "- **средняя стоимость чашки кофе**\n",
    "- **средняя стоимость заказа в виде числа**\n",
    "- **число посадочных мест** (видимо не все предоставляют такую информацию)"
   ]
  },
  {
   "cell_type": "markdown",
   "metadata": {},
   "source": [
    "**У нас много пропусков, но мне кажется, что не разумно будет заполнять их медианными значениями, поскольку по матрице корреляции мы увидели, что между стобцами нет взаимосвязей, то есть мы не можем заполнить данные одних столбцов взяв при этом данные из других столбцов.\n",
    "в любых районах города могут быть как дорогие кафе, так и дешевые, поэтому объеденять по географическому положению мы тоже не можем.**\n",
    "_____________\n",
    "**Единственное, что мы можем сделать, это убрать небольшую часть пропущенных значений в столбцах middle_avg_bill\tmiddle_coffee_cup, взяв медианное значение по столбцу price, поскольку предолагается что в заведениях с высокие цены на кофе и высокий средний чек и тд.**\n",
    "\n",
    "Остальные пропуски оставим как есть"
   ]
  },
  {
   "cell_type": "code",
   "execution_count": 10,
   "metadata": {},
   "outputs": [],
   "source": [
    "medians = places.groupby('price')[['middle_avg_bill', 'middle_coffee_cup']].median()\n",
    "places['middle_avg_bill'] = places['middle_avg_bill'].fillna(places['price'].map(medians['middle_avg_bill']))\n",
    "places['middle_coffee_cup'] = places['middle_coffee_cup'].fillna(places['price'].map(medians['middle_coffee_cup']))"
   ]
  },
  {
   "cell_type": "code",
   "execution_count": 11,
   "metadata": {},
   "outputs": [
    {
     "name": "stdout",
     "output_type": "stream",
     "text": [
      "name                    0\n",
      "category                0\n",
      "address                 0\n",
      "district                0\n",
      "hours                 536\n",
      "lat                     0\n",
      "lng                     0\n",
      "rating                  0\n",
      "price                5091\n",
      "avg_bill             4590\n",
      "middle_avg_bill      4621\n",
      "middle_coffee_cup    4834\n",
      "chain                   0\n",
      "seats                3611\n",
      "dtype: int64\n"
     ]
    }
   ],
   "source": [
    "print(places.isnull().sum())"
   ]
  },
  {
   "cell_type": "markdown",
   "metadata": {},
   "source": [
    "Процент пропусков, от которых мы избавились в каждом случае:\n",
    "\n",
    "Для 'middle_avg_bill'≈ 12.09%\n",
    "\n",
    "Для 'middle_coffee_cup' ≈ 38.62%"
   ]
  },
  {
   "cell_type": "markdown",
   "metadata": {},
   "source": [
    "<a id=\"explore_seats_column\"></a>\n",
    "\n",
    "#### Теперь разберемся со столбцом 'seats', в нем есть и пропуски,и аномальные значения, и неправильный тип данных!"
   ]
  },
  {
   "cell_type": "code",
   "execution_count": 12,
   "metadata": {
    "scrolled": false
   },
   "outputs": [
    {
     "data": {
      "text/html": [
       "<div>\n",
       "<style scoped>\n",
       "    .dataframe tbody tr th:only-of-type {\n",
       "        vertical-align: middle;\n",
       "    }\n",
       "\n",
       "    .dataframe tbody tr th {\n",
       "        vertical-align: top;\n",
       "    }\n",
       "\n",
       "    .dataframe thead th {\n",
       "        text-align: right;\n",
       "    }\n",
       "</style>\n",
       "<table border=\"1\" class=\"dataframe\">\n",
       "  <thead>\n",
       "    <tr style=\"text-align: right;\">\n",
       "      <th></th>\n",
       "      <th>name</th>\n",
       "      <th>category</th>\n",
       "      <th>address</th>\n",
       "      <th>district</th>\n",
       "      <th>hours</th>\n",
       "      <th>lat</th>\n",
       "      <th>lng</th>\n",
       "      <th>rating</th>\n",
       "      <th>price</th>\n",
       "      <th>avg_bill</th>\n",
       "      <th>middle_avg_bill</th>\n",
       "      <th>middle_coffee_cup</th>\n",
       "      <th>chain</th>\n",
       "      <th>seats</th>\n",
       "    </tr>\n",
       "  </thead>\n",
       "  <tbody>\n",
       "    <tr>\n",
       "      <th>0</th>\n",
       "      <td>WoWфли</td>\n",
       "      <td>кафе</td>\n",
       "      <td>Москва, улица Дыбенко, 7/1</td>\n",
       "      <td>Северный административный округ</td>\n",
       "      <td>ежедневно, 10:00–22:00</td>\n",
       "      <td>55.878494</td>\n",
       "      <td>37.478860</td>\n",
       "      <td>5.0</td>\n",
       "      <td>NaN</td>\n",
       "      <td>NaN</td>\n",
       "      <td>NaN</td>\n",
       "      <td>NaN</td>\n",
       "      <td>0</td>\n",
       "      <td>NaN</td>\n",
       "    </tr>\n",
       "    <tr>\n",
       "      <th>3</th>\n",
       "      <td>Dormouse Coffee Shop</td>\n",
       "      <td>кофейня</td>\n",
       "      <td>Москва, улица Маршала Федоренко, 12</td>\n",
       "      <td>Северный административный округ</td>\n",
       "      <td>ежедневно, 09:00–22:00</td>\n",
       "      <td>55.881608</td>\n",
       "      <td>37.488860</td>\n",
       "      <td>5.0</td>\n",
       "      <td>NaN</td>\n",
       "      <td>Цена чашки капучино:155–185 ₽</td>\n",
       "      <td>NaN</td>\n",
       "      <td>170.0</td>\n",
       "      <td>0</td>\n",
       "      <td>NaN</td>\n",
       "    </tr>\n",
       "    <tr>\n",
       "      <th>5</th>\n",
       "      <td>Sergio Pizza</td>\n",
       "      <td>пиццерия</td>\n",
       "      <td>Москва, Ижорская улица, вл8Б</td>\n",
       "      <td>Северный административный округ</td>\n",
       "      <td>ежедневно, 10:00–23:00</td>\n",
       "      <td>55.888010</td>\n",
       "      <td>37.509573</td>\n",
       "      <td>4.6</td>\n",
       "      <td>средние</td>\n",
       "      <td>NaN</td>\n",
       "      <td>500.0</td>\n",
       "      <td>200.0</td>\n",
       "      <td>0</td>\n",
       "      <td>NaN</td>\n",
       "    </tr>\n",
       "    <tr>\n",
       "      <th>11</th>\n",
       "      <td>Шашлык Шефф</td>\n",
       "      <td>кафе</td>\n",
       "      <td>Москва, улица Маршала Федоренко, 10с1</td>\n",
       "      <td>Северный административный округ</td>\n",
       "      <td>ежедневно, 10:00–21:00</td>\n",
       "      <td>55.881770</td>\n",
       "      <td>37.492362</td>\n",
       "      <td>4.9</td>\n",
       "      <td>NaN</td>\n",
       "      <td>NaN</td>\n",
       "      <td>NaN</td>\n",
       "      <td>NaN</td>\n",
       "      <td>0</td>\n",
       "      <td>NaN</td>\n",
       "    </tr>\n",
       "    <tr>\n",
       "      <th>12</th>\n",
       "      <td>Заправка</td>\n",
       "      <td>кафе</td>\n",
       "      <td>Москва, МКАД, 80-й километр, 1</td>\n",
       "      <td>Северный административный округ</td>\n",
       "      <td>вт-сб 09:00–18:00</td>\n",
       "      <td>55.899938</td>\n",
       "      <td>37.517958</td>\n",
       "      <td>4.3</td>\n",
       "      <td>средние</td>\n",
       "      <td>Средний счёт:330 ₽</td>\n",
       "      <td>330.0</td>\n",
       "      <td>200.0</td>\n",
       "      <td>0</td>\n",
       "      <td>NaN</td>\n",
       "    </tr>\n",
       "    <tr>\n",
       "      <th>...</th>\n",
       "      <td>...</td>\n",
       "      <td>...</td>\n",
       "      <td>...</td>\n",
       "      <td>...</td>\n",
       "      <td>...</td>\n",
       "      <td>...</td>\n",
       "      <td>...</td>\n",
       "      <td>...</td>\n",
       "      <td>...</td>\n",
       "      <td>...</td>\n",
       "      <td>...</td>\n",
       "      <td>...</td>\n",
       "      <td>...</td>\n",
       "      <td>...</td>\n",
       "    </tr>\n",
       "    <tr>\n",
       "      <th>8387</th>\n",
       "      <td>Pab&amp;burg</td>\n",
       "      <td>бар,паб</td>\n",
       "      <td>Москва, улица Михайлова, 22, корп. 4</td>\n",
       "      <td>Юго-Восточный административный округ</td>\n",
       "      <td>ежедневно, 12:00–21:30</td>\n",
       "      <td>55.726303</td>\n",
       "      <td>37.769842</td>\n",
       "      <td>4.2</td>\n",
       "      <td>средние</td>\n",
       "      <td>Цена бокала пива:от 140 ₽</td>\n",
       "      <td>500.0</td>\n",
       "      <td>200.0</td>\n",
       "      <td>0</td>\n",
       "      <td>NaN</td>\n",
       "    </tr>\n",
       "    <tr>\n",
       "      <th>8389</th>\n",
       "      <td>Assa</td>\n",
       "      <td>ресторан</td>\n",
       "      <td>Москва, улица Авиаконструктора Миля, 3А</td>\n",
       "      <td>Юго-Восточный административный округ</td>\n",
       "      <td>пн-чт 09:00–22:00; пт,сб 09:00–23:00; вс 09:00...</td>\n",
       "      <td>55.686817</td>\n",
       "      <td>37.851225</td>\n",
       "      <td>4.9</td>\n",
       "      <td>NaN</td>\n",
       "      <td>NaN</td>\n",
       "      <td>NaN</td>\n",
       "      <td>NaN</td>\n",
       "      <td>0</td>\n",
       "      <td>NaN</td>\n",
       "    </tr>\n",
       "    <tr>\n",
       "      <th>8392</th>\n",
       "      <td>Касабланка</td>\n",
       "      <td>кафе</td>\n",
       "      <td>Москва, Большая Косинская улица, 27</td>\n",
       "      <td>Восточный административный округ</td>\n",
       "      <td>пн-чт 08:00–17:00; пт 08:00–16:00</td>\n",
       "      <td>55.718514</td>\n",
       "      <td>37.857576</td>\n",
       "      <td>3.3</td>\n",
       "      <td>NaN</td>\n",
       "      <td>NaN</td>\n",
       "      <td>NaN</td>\n",
       "      <td>NaN</td>\n",
       "      <td>0</td>\n",
       "      <td>NaN</td>\n",
       "    </tr>\n",
       "    <tr>\n",
       "      <th>8394</th>\n",
       "      <td>Намангале</td>\n",
       "      <td>кафе</td>\n",
       "      <td>Москва, Ферганская улица, вл17-21</td>\n",
       "      <td>Юго-Восточный административный округ</td>\n",
       "      <td>ежедневно, круглосуточно</td>\n",
       "      <td>55.705332</td>\n",
       "      <td>37.819244</td>\n",
       "      <td>4.3</td>\n",
       "      <td>NaN</td>\n",
       "      <td>NaN</td>\n",
       "      <td>NaN</td>\n",
       "      <td>NaN</td>\n",
       "      <td>0</td>\n",
       "      <td>NaN</td>\n",
       "    </tr>\n",
       "    <tr>\n",
       "      <th>8395</th>\n",
       "      <td>Истира Запрафка</td>\n",
       "      <td>кафе</td>\n",
       "      <td>Москва, Юго-Восточный административный округ, ...</td>\n",
       "      <td>Юго-Восточный административный округ</td>\n",
       "      <td>NaN</td>\n",
       "      <td>55.724686</td>\n",
       "      <td>37.710558</td>\n",
       "      <td>2.9</td>\n",
       "      <td>NaN</td>\n",
       "      <td>NaN</td>\n",
       "      <td>NaN</td>\n",
       "      <td>NaN</td>\n",
       "      <td>0</td>\n",
       "      <td>NaN</td>\n",
       "    </tr>\n",
       "  </tbody>\n",
       "</table>\n",
       "<p>3611 rows × 14 columns</p>\n",
       "</div>"
      ],
      "text/plain": [
       "                      name  category  \\\n",
       "0                   WoWфли      кафе   \n",
       "3     Dormouse Coffee Shop   кофейня   \n",
       "5             Sergio Pizza  пиццерия   \n",
       "11             Шашлык Шефф      кафе   \n",
       "12                Заправка      кафе   \n",
       "...                    ...       ...   \n",
       "8387              Pab&burg   бар,паб   \n",
       "8389                  Assa  ресторан   \n",
       "8392            Касабланка      кафе   \n",
       "8394             Намангале      кафе   \n",
       "8395       Истира Запрафка      кафе   \n",
       "\n",
       "                                                address  \\\n",
       "0                            Москва, улица Дыбенко, 7/1   \n",
       "3                   Москва, улица Маршала Федоренко, 12   \n",
       "5                          Москва, Ижорская улица, вл8Б   \n",
       "11                Москва, улица Маршала Федоренко, 10с1   \n",
       "12                       Москва, МКАД, 80-й километр, 1   \n",
       "...                                                 ...   \n",
       "8387               Москва, улица Михайлова, 22, корп. 4   \n",
       "8389            Москва, улица Авиаконструктора Миля, 3А   \n",
       "8392                Москва, Большая Косинская улица, 27   \n",
       "8394                  Москва, Ферганская улица, вл17-21   \n",
       "8395  Москва, Юго-Восточный административный округ, ...   \n",
       "\n",
       "                                  district  \\\n",
       "0          Северный административный округ   \n",
       "3          Северный административный округ   \n",
       "5          Северный административный округ   \n",
       "11         Северный административный округ   \n",
       "12         Северный административный округ   \n",
       "...                                    ...   \n",
       "8387  Юго-Восточный административный округ   \n",
       "8389  Юго-Восточный административный округ   \n",
       "8392      Восточный административный округ   \n",
       "8394  Юго-Восточный административный округ   \n",
       "8395  Юго-Восточный административный округ   \n",
       "\n",
       "                                                  hours        lat        lng  \\\n",
       "0                                ежедневно, 10:00–22:00  55.878494  37.478860   \n",
       "3                                ежедневно, 09:00–22:00  55.881608  37.488860   \n",
       "5                                ежедневно, 10:00–23:00  55.888010  37.509573   \n",
       "11                               ежедневно, 10:00–21:00  55.881770  37.492362   \n",
       "12                                    вт-сб 09:00–18:00  55.899938  37.517958   \n",
       "...                                                 ...        ...        ...   \n",
       "8387                             ежедневно, 12:00–21:30  55.726303  37.769842   \n",
       "8389  пн-чт 09:00–22:00; пт,сб 09:00–23:00; вс 09:00...  55.686817  37.851225   \n",
       "8392                  пн-чт 08:00–17:00; пт 08:00–16:00  55.718514  37.857576   \n",
       "8394                           ежедневно, круглосуточно  55.705332  37.819244   \n",
       "8395                                                NaN  55.724686  37.710558   \n",
       "\n",
       "      rating    price                       avg_bill  middle_avg_bill  \\\n",
       "0        5.0      NaN                            NaN              NaN   \n",
       "3        5.0      NaN  Цена чашки капучино:155–185 ₽              NaN   \n",
       "5        4.6  средние                            NaN            500.0   \n",
       "11       4.9      NaN                            NaN              NaN   \n",
       "12       4.3  средние             Средний счёт:330 ₽            330.0   \n",
       "...      ...      ...                            ...              ...   \n",
       "8387     4.2  средние      Цена бокала пива:от 140 ₽            500.0   \n",
       "8389     4.9      NaN                            NaN              NaN   \n",
       "8392     3.3      NaN                            NaN              NaN   \n",
       "8394     4.3      NaN                            NaN              NaN   \n",
       "8395     2.9      NaN                            NaN              NaN   \n",
       "\n",
       "      middle_coffee_cup  chain  seats  \n",
       "0                   NaN      0    NaN  \n",
       "3                 170.0      0    NaN  \n",
       "5                 200.0      0    NaN  \n",
       "11                  NaN      0    NaN  \n",
       "12                200.0      0    NaN  \n",
       "...                 ...    ...    ...  \n",
       "8387              200.0      0    NaN  \n",
       "8389                NaN      0    NaN  \n",
       "8392                NaN      0    NaN  \n",
       "8394                NaN      0    NaN  \n",
       "8395                NaN      0    NaN  \n",
       "\n",
       "[3611 rows x 14 columns]"
      ]
     },
     "execution_count": 12,
     "metadata": {},
     "output_type": "execute_result"
    }
   ],
   "source": [
    "places.loc[places['seats'].isnull()]"
   ]
  },
  {
   "cell_type": "markdown",
   "metadata": {},
   "source": [
    "В столбце seats есть пропуски как в сетевых, так и не в сетевых заведениях, в различных категориях, я думаю в этом случаем мы можем оставить пропуски, поменять тип данных на целочисленный, а также избавиться от выбросов, которые мы обнаружили в прошлой части."
   ]
  },
  {
   "cell_type": "code",
   "execution_count": 13,
   "metadata": {},
   "outputs": [],
   "source": [
    "places['seats'] = pd.to_numeric(places['seats'], errors='coerce').astype('Int64')"
   ]
  },
  {
   "cell_type": "code",
   "execution_count": 14,
   "metadata": {
    "scrolled": true
   },
   "outputs": [
    {
     "data": {
      "text/plain": [
       "1288"
      ]
     },
     "execution_count": 14,
     "metadata": {},
     "output_type": "execute_result"
    }
   ],
   "source": [
    "places['seats'].max()"
   ]
  },
  {
   "cell_type": "code",
   "execution_count": 15,
   "metadata": {},
   "outputs": [
    {
     "data": {
      "text/html": [
       "<div>\n",
       "<style scoped>\n",
       "    .dataframe tbody tr th:only-of-type {\n",
       "        vertical-align: middle;\n",
       "    }\n",
       "\n",
       "    .dataframe tbody tr th {\n",
       "        vertical-align: top;\n",
       "    }\n",
       "\n",
       "    .dataframe thead th {\n",
       "        text-align: right;\n",
       "    }\n",
       "</style>\n",
       "<table border=\"1\" class=\"dataframe\">\n",
       "  <thead>\n",
       "    <tr style=\"text-align: right;\">\n",
       "      <th></th>\n",
       "      <th>name</th>\n",
       "      <th>category</th>\n",
       "      <th>address</th>\n",
       "      <th>district</th>\n",
       "      <th>hours</th>\n",
       "      <th>lat</th>\n",
       "      <th>lng</th>\n",
       "      <th>rating</th>\n",
       "      <th>price</th>\n",
       "      <th>avg_bill</th>\n",
       "      <th>middle_avg_bill</th>\n",
       "      <th>middle_coffee_cup</th>\n",
       "      <th>chain</th>\n",
       "      <th>seats</th>\n",
       "    </tr>\n",
       "  </thead>\n",
       "  <tbody>\n",
       "    <tr>\n",
       "      <th>6518</th>\n",
       "      <td>DelonixCafe</td>\n",
       "      <td>ресторан</td>\n",
       "      <td>Москва, проспект Вернадского, 94, корп. 1</td>\n",
       "      <td>Западный административный округ</td>\n",
       "      <td>ежедневно, круглосуточно</td>\n",
       "      <td>55.652577</td>\n",
       "      <td>37.475730</td>\n",
       "      <td>4.1</td>\n",
       "      <td>высокие</td>\n",
       "      <td>Средний счёт:1500–2000 ₽</td>\n",
       "      <td>1750.0</td>\n",
       "      <td>250.0</td>\n",
       "      <td>0</td>\n",
       "      <td>1288</td>\n",
       "    </tr>\n",
       "    <tr>\n",
       "      <th>6524</th>\n",
       "      <td>Ян Примус</td>\n",
       "      <td>ресторан</td>\n",
       "      <td>Москва, проспект Вернадского, 121, корп. 1</td>\n",
       "      <td>Западный административный округ</td>\n",
       "      <td>пн-чт 12:00–00:00; пт,сб 12:00–02:00; вс 12:00...</td>\n",
       "      <td>55.657166</td>\n",
       "      <td>37.481519</td>\n",
       "      <td>4.5</td>\n",
       "      <td>выше среднего</td>\n",
       "      <td>Средний счёт:1500 ₽</td>\n",
       "      <td>1500.0</td>\n",
       "      <td>203.0</td>\n",
       "      <td>1</td>\n",
       "      <td>1288</td>\n",
       "    </tr>\n",
       "    <tr>\n",
       "      <th>6574</th>\n",
       "      <td>Мюнгер</td>\n",
       "      <td>пиццерия</td>\n",
       "      <td>Москва, проспект Вернадского, 97, корп. 1</td>\n",
       "      <td>Западный административный округ</td>\n",
       "      <td>пн-пт 08:00–21:00; сб,вс 10:00–21:00</td>\n",
       "      <td>55.667505</td>\n",
       "      <td>37.491001</td>\n",
       "      <td>4.8</td>\n",
       "      <td>NaN</td>\n",
       "      <td>NaN</td>\n",
       "      <td>NaN</td>\n",
       "      <td>NaN</td>\n",
       "      <td>1</td>\n",
       "      <td>1288</td>\n",
       "    </tr>\n",
       "    <tr>\n",
       "      <th>6641</th>\n",
       "      <td>One Price Coffee</td>\n",
       "      <td>кофейня</td>\n",
       "      <td>Москва, проспект Вернадского, 84, стр. 1</td>\n",
       "      <td>Западный административный округ</td>\n",
       "      <td>ежедневно, 08:30–20:00</td>\n",
       "      <td>55.665129</td>\n",
       "      <td>37.478635</td>\n",
       "      <td>4.3</td>\n",
       "      <td>NaN</td>\n",
       "      <td>NaN</td>\n",
       "      <td>NaN</td>\n",
       "      <td>NaN</td>\n",
       "      <td>1</td>\n",
       "      <td>1288</td>\n",
       "    </tr>\n",
       "    <tr>\n",
       "      <th>6658</th>\n",
       "      <td>ГудБар</td>\n",
       "      <td>бар,паб</td>\n",
       "      <td>Москва, проспект Вернадского, 97, корп. 1</td>\n",
       "      <td>Западный административный округ</td>\n",
       "      <td>пн-пт 11:00–23:00; сб,вс 13:00–23:00</td>\n",
       "      <td>55.667327</td>\n",
       "      <td>37.490601</td>\n",
       "      <td>4.1</td>\n",
       "      <td>средние</td>\n",
       "      <td>Средний счёт:700 ₽</td>\n",
       "      <td>700.0</td>\n",
       "      <td>200.0</td>\n",
       "      <td>0</td>\n",
       "      <td>1288</td>\n",
       "    </tr>\n",
       "    <tr>\n",
       "      <th>6684</th>\n",
       "      <td>Пивной ресторан</td>\n",
       "      <td>бар,паб</td>\n",
       "      <td>Москва, проспект Вернадского, 121, корп. 1</td>\n",
       "      <td>Западный административный округ</td>\n",
       "      <td>NaN</td>\n",
       "      <td>55.657133</td>\n",
       "      <td>37.481508</td>\n",
       "      <td>4.5</td>\n",
       "      <td>NaN</td>\n",
       "      <td>NaN</td>\n",
       "      <td>NaN</td>\n",
       "      <td>NaN</td>\n",
       "      <td>0</td>\n",
       "      <td>1288</td>\n",
       "    </tr>\n",
       "    <tr>\n",
       "      <th>6690</th>\n",
       "      <td>Японская кухня</td>\n",
       "      <td>ресторан</td>\n",
       "      <td>Москва, проспект Вернадского, 121, корп. 1</td>\n",
       "      <td>Западный административный округ</td>\n",
       "      <td>NaN</td>\n",
       "      <td>55.657255</td>\n",
       "      <td>37.481547</td>\n",
       "      <td>4.4</td>\n",
       "      <td>NaN</td>\n",
       "      <td>NaN</td>\n",
       "      <td>NaN</td>\n",
       "      <td>NaN</td>\n",
       "      <td>1</td>\n",
       "      <td>1288</td>\n",
       "    </tr>\n",
       "    <tr>\n",
       "      <th>6771</th>\n",
       "      <td>Точка</td>\n",
       "      <td>кафе</td>\n",
       "      <td>Москва, проспект Вернадского, 84, стр. 1</td>\n",
       "      <td>Западный административный округ</td>\n",
       "      <td>NaN</td>\n",
       "      <td>55.665634</td>\n",
       "      <td>37.477830</td>\n",
       "      <td>4.7</td>\n",
       "      <td>NaN</td>\n",
       "      <td>NaN</td>\n",
       "      <td>NaN</td>\n",
       "      <td>NaN</td>\n",
       "      <td>1</td>\n",
       "      <td>1288</td>\n",
       "    </tr>\n",
       "    <tr>\n",
       "      <th>6807</th>\n",
       "      <td>Loft-cafe академия</td>\n",
       "      <td>кафе</td>\n",
       "      <td>Москва, проспект Вернадского, 84, стр. 1</td>\n",
       "      <td>Западный административный округ</td>\n",
       "      <td>пн-пт 09:00–20:00; сб 09:00–16:00</td>\n",
       "      <td>55.665142</td>\n",
       "      <td>37.478603</td>\n",
       "      <td>3.6</td>\n",
       "      <td>NaN</td>\n",
       "      <td>NaN</td>\n",
       "      <td>NaN</td>\n",
       "      <td>NaN</td>\n",
       "      <td>0</td>\n",
       "      <td>1288</td>\n",
       "    </tr>\n",
       "    <tr>\n",
       "      <th>6808</th>\n",
       "      <td>Яндекс Лавка</td>\n",
       "      <td>ресторан</td>\n",
       "      <td>Москва, проспект Вернадского, 51, стр. 1</td>\n",
       "      <td>Западный административный округ</td>\n",
       "      <td>ежедневно, круглосуточно</td>\n",
       "      <td>55.672580</td>\n",
       "      <td>37.507753</td>\n",
       "      <td>4.0</td>\n",
       "      <td>NaN</td>\n",
       "      <td>NaN</td>\n",
       "      <td>NaN</td>\n",
       "      <td>NaN</td>\n",
       "      <td>1</td>\n",
       "      <td>1288</td>\n",
       "    </tr>\n",
       "    <tr>\n",
       "      <th>6838</th>\n",
       "      <td>Alternative coffee</td>\n",
       "      <td>кофейня</td>\n",
       "      <td>Москва, проспект Вернадского, 41, стр. 1</td>\n",
       "      <td>Западный административный округ</td>\n",
       "      <td>пн-пт 09:00–21:00; сб,вс 09:00–22:00</td>\n",
       "      <td>55.673128</td>\n",
       "      <td>37.502992</td>\n",
       "      <td>4.3</td>\n",
       "      <td>NaN</td>\n",
       "      <td>NaN</td>\n",
       "      <td>NaN</td>\n",
       "      <td>NaN</td>\n",
       "      <td>0</td>\n",
       "      <td>1288</td>\n",
       "    </tr>\n",
       "  </tbody>\n",
       "</table>\n",
       "</div>"
      ],
      "text/plain": [
       "                    name  category  \\\n",
       "6518         DelonixCafe  ресторан   \n",
       "6524           Ян Примус  ресторан   \n",
       "6574              Мюнгер  пиццерия   \n",
       "6641    One Price Coffee   кофейня   \n",
       "6658              ГудБар   бар,паб   \n",
       "6684     Пивной ресторан   бар,паб   \n",
       "6690      Японская кухня  ресторан   \n",
       "6771               Точка      кафе   \n",
       "6807  Loft-cafe академия      кафе   \n",
       "6808        Яндекс Лавка  ресторан   \n",
       "6838  Alternative coffee   кофейня   \n",
       "\n",
       "                                         address  \\\n",
       "6518   Москва, проспект Вернадского, 94, корп. 1   \n",
       "6524  Москва, проспект Вернадского, 121, корп. 1   \n",
       "6574   Москва, проспект Вернадского, 97, корп. 1   \n",
       "6641    Москва, проспект Вернадского, 84, стр. 1   \n",
       "6658   Москва, проспект Вернадского, 97, корп. 1   \n",
       "6684  Москва, проспект Вернадского, 121, корп. 1   \n",
       "6690  Москва, проспект Вернадского, 121, корп. 1   \n",
       "6771    Москва, проспект Вернадского, 84, стр. 1   \n",
       "6807    Москва, проспект Вернадского, 84, стр. 1   \n",
       "6808    Москва, проспект Вернадского, 51, стр. 1   \n",
       "6838    Москва, проспект Вернадского, 41, стр. 1   \n",
       "\n",
       "                             district  \\\n",
       "6518  Западный административный округ   \n",
       "6524  Западный административный округ   \n",
       "6574  Западный административный округ   \n",
       "6641  Западный административный округ   \n",
       "6658  Западный административный округ   \n",
       "6684  Западный административный округ   \n",
       "6690  Западный административный округ   \n",
       "6771  Западный административный округ   \n",
       "6807  Западный административный округ   \n",
       "6808  Западный административный округ   \n",
       "6838  Западный административный округ   \n",
       "\n",
       "                                                  hours        lat        lng  \\\n",
       "6518                           ежедневно, круглосуточно  55.652577  37.475730   \n",
       "6524  пн-чт 12:00–00:00; пт,сб 12:00–02:00; вс 12:00...  55.657166  37.481519   \n",
       "6574               пн-пт 08:00–21:00; сб,вс 10:00–21:00  55.667505  37.491001   \n",
       "6641                             ежедневно, 08:30–20:00  55.665129  37.478635   \n",
       "6658               пн-пт 11:00–23:00; сб,вс 13:00–23:00  55.667327  37.490601   \n",
       "6684                                                NaN  55.657133  37.481508   \n",
       "6690                                                NaN  55.657255  37.481547   \n",
       "6771                                                NaN  55.665634  37.477830   \n",
       "6807                  пн-пт 09:00–20:00; сб 09:00–16:00  55.665142  37.478603   \n",
       "6808                           ежедневно, круглосуточно  55.672580  37.507753   \n",
       "6838               пн-пт 09:00–21:00; сб,вс 09:00–22:00  55.673128  37.502992   \n",
       "\n",
       "      rating          price                  avg_bill  middle_avg_bill  \\\n",
       "6518     4.1        высокие  Средний счёт:1500–2000 ₽           1750.0   \n",
       "6524     4.5  выше среднего       Средний счёт:1500 ₽           1500.0   \n",
       "6574     4.8            NaN                       NaN              NaN   \n",
       "6641     4.3            NaN                       NaN              NaN   \n",
       "6658     4.1        средние        Средний счёт:700 ₽            700.0   \n",
       "6684     4.5            NaN                       NaN              NaN   \n",
       "6690     4.4            NaN                       NaN              NaN   \n",
       "6771     4.7            NaN                       NaN              NaN   \n",
       "6807     3.6            NaN                       NaN              NaN   \n",
       "6808     4.0            NaN                       NaN              NaN   \n",
       "6838     4.3            NaN                       NaN              NaN   \n",
       "\n",
       "      middle_coffee_cup  chain  seats  \n",
       "6518              250.0      0   1288  \n",
       "6524              203.0      1   1288  \n",
       "6574                NaN      1   1288  \n",
       "6641                NaN      1   1288  \n",
       "6658              200.0      0   1288  \n",
       "6684                NaN      0   1288  \n",
       "6690                NaN      1   1288  \n",
       "6771                NaN      1   1288  \n",
       "6807                NaN      0   1288  \n",
       "6808                NaN      1   1288  \n",
       "6838                NaN      0   1288  "
      ]
     },
     "execution_count": 15,
     "metadata": {},
     "output_type": "execute_result"
    }
   ],
   "source": [
    "places.loc[places['seats'] == 1288]"
   ]
  },
  {
   "cell_type": "markdown",
   "metadata": {},
   "source": [
    "Очень странно получается, все заведения с огромным числом посадочных мест находятся на одной улице и многие в одном доме.\n"
   ]
  },
  {
   "cell_type": "markdown",
   "metadata": {},
   "source": [
    "<a id=\"plot_seats_distribution\"></a>\n",
    "\n",
    "#### Построим график и посмотрим на распределение количества мест\n"
   ]
  },
  {
   "cell_type": "code",
   "execution_count": 16,
   "metadata": {
    "scrolled": false
   },
   "outputs": [
    {
     "data": {
      "image/png": "[encoded data removed]",
      "text/plain": [
       "<Figure size 576x432 with 1 Axes>"
      ]
     },
     "metadata": {
      "needs_background": "light"
     },
     "output_type": "display_data"
    }
   ],
   "source": [
    "# Исключаем пропущенные значения перед построением гистограммы\n",
    "seats_data = places['seats'].dropna()\n",
    "\n",
    "\n",
    "plt.figure(figsize=(8, 6))\n",
    "plt.hist(seats_data, bins=30, color='blue', edgecolor='black')\n",
    "plt.xlabel('Количество мест')\n",
    "plt.ylabel('Частота')\n",
    "plt.title('Распределение количества мест')\n",
    "plt.show()"
   ]
  },
  {
   "cell_type": "markdown",
   "metadata": {},
   "source": [
    "Мы видим, что больше 500 мест имеют единичные заведения и это можно считать выбросами, но считаю неправильным заменять или удалять строки, это может повлиять на дальнейший анализ. "
   ]
  },
  {
   "cell_type": "markdown",
   "metadata": {},
   "source": [
    "<a id=\"add_street_column\"></a>\n",
    "\n",
    "#### Теперь нам нужно добавить столбец с наименованием улицы"
   ]
  },
  {
   "cell_type": "code",
   "execution_count": 17,
   "metadata": {},
   "outputs": [],
   "source": [
    "places['street'] = places['address'].str.split(',').str[1]"
   ]
  },
  {
   "cell_type": "markdown",
   "metadata": {},
   "source": [
    "<a id=\"add_24_7_column\"></a>\n",
    "\n",
    "#### Добавляем столбец с  с обозначением, что заведение работает ежедневно и круглосуточно (24/7)\n",
    "логическое значение True — если заведение работает ежедневно и круглосуточно;\\\n",
    "логическое значение False — в противоположном случае."
   ]
  },
  {
   "cell_type": "code",
   "execution_count": 18,
   "metadata": {},
   "outputs": [],
   "source": [
    "places['is_24/7'] = places[places['hours'].apply(lambda x: 'ежедневно, круглосуточно' in str(x))]['hours'] == 'ежедневно, круглосуточно'\n",
    "places['is_24/7'] = places['is_24/7'].fillna(False)"
   ]
  },
  {
   "cell_type": "code",
   "execution_count": 19,
   "metadata": {
    "scrolled": true
   },
   "outputs": [
    {
     "data": {
      "text/plain": [
       "0"
      ]
     },
     "execution_count": 19,
     "metadata": {},
     "output_type": "execute_result"
    }
   ],
   "source": [
    "places.duplicated().sum()"
   ]
  },
  {
   "cell_type": "markdown",
   "metadata": {},
   "source": [
    "Явных дубликатов нет, приведем названия заведений к нижнему регистру и посмотрим на неявные дубликаты"
   ]
  },
  {
   "cell_type": "code",
   "execution_count": 20,
   "metadata": {},
   "outputs": [],
   "source": [
    "places['name'] = places['name'].str.lower()"
   ]
  },
  {
   "cell_type": "code",
   "execution_count": 21,
   "metadata": {},
   "outputs": [
    {
     "data": {
      "text/plain": [
       "3"
      ]
     },
     "execution_count": 21,
     "metadata": {},
     "output_type": "execute_result"
    }
   ],
   "source": [
    "places.duplicated(subset=['name','address','seats'], keep='first').sum()"
   ]
  },
  {
   "cell_type": "markdown",
   "metadata": {},
   "source": [
    "Мы нашли три неявных дубликата, у которых совпадает и название, и адресс, и количество мест, эти строки мы можем удалить."
   ]
  },
  {
   "cell_type": "code",
   "execution_count": 22,
   "metadata": {
    "scrolled": true
   },
   "outputs": [],
   "source": [
    "places = places.drop_duplicates(subset=['name','address','seats'], keep='first')"
   ]
  },
  {
   "cell_type": "code",
   "execution_count": 23,
   "metadata": {},
   "outputs": [
    {
     "data": {
      "text/plain": [
       "0"
      ]
     },
     "execution_count": 23,
     "metadata": {},
     "output_type": "execute_result"
    }
   ],
   "source": [
    "places.duplicated(subset=['name','address','seats'], keep='first').sum()"
   ]
  },
  {
   "cell_type": "markdown",
   "metadata": {},
   "source": [
    "Явных дубликатов нет, а от неявных дубликатов несетевых заведений мы избавились"
   ]
  },
  {
   "cell_type": "markdown",
   "metadata": {},
   "source": [
    "<a id=\"preprocessing_summary\"></a>\n",
    "\n",
    "#### ВЫВОД\n",
    "- В данных много пропусков, но заменять их нечем и незачем, поскольку это может повлиять на результаты анализа.\n",
    "Единственное, что мы можем сделать, это убрать небольшую часть пропущенных значений в столбцах middle_avg_bill middle_coffee_cup, взяв медианное значение по столбцу price, поскольку предолагается что в заведениях с высокие цены на кофе и высокий средний чек и тд.\n",
    "- Так же мы добавили 2 стобца. один с названиями улиц, второй с обозначением, что заведение работает ежедневно и круглосуточно (24/7)"
   ]
  },
  {
   "cell_type": "markdown",
   "metadata": {},
   "source": [
    "                                Предобработка выполнена, можем приступать к анализу"
   ]
  },
  {
   "cell_type": "markdown",
   "metadata": {},
   "source": [
    "<a id=\"data_analysis\"></a>\n",
    "\n",
    "### Анализ данных\n",
    "\n",
    "Теперь мы исследуем категории заведений в датасете и построим визуализации, чтобы лучше понять распределение заведений по этим категориям и количество посадочных мест в каждой из них. Также рассмотрим соотношение сетевых и несетевых заведений и выявим топ-15 популярных сетей в Москве. Мы также ответим на вопрос о том, какие категории заведений чаще являются сетевыми, и проанализируем данные на графиках."
   ]
  },
  {
   "cell_type": "markdown",
   "metadata": {},
   "source": [
    "<a id=\"explore_categories\"></a>\n",
    "\n",
    "#### Проведем исследование и анализ категорий заведений в данных чтобы определить наиболее распространенные типы заведений."
   ]
  },
  {
   "cell_type": "code",
   "execution_count": 24,
   "metadata": {},
   "outputs": [
    {
     "name": "stdout",
     "output_type": "stream",
     "text": [
      "category\n",
      "кафе               2377\n",
      "ресторан           2042\n",
      "кофейня            1413\n",
      "бар,паб             764\n",
      "пиццерия            633\n",
      "быстрое питание     603\n",
      "столовая            315\n",
      "булочная            256\n",
      "Name: name, dtype: int64\n",
      "-------------------\n",
      "Всего заведений: 8403\n"
     ]
    }
   ],
   "source": [
    "place_category = places.groupby('category')['name'].count()\n",
    "place_category = place_category.sort_values(ascending=False)\n",
    "print(place_category)\n",
    "print('-------------------')\n",
    "print('Всего заведений:',len(places))"
   ]
  },
  {
   "cell_type": "markdown",
   "metadata": {},
   "source": [
    "Мы видим что **3 самые популярные категории заведений** это: **кафе - 2378** заведений, **ресторан - 2043** заведений и **кофейня - 1413** заведений"
   ]
  },
  {
   "cell_type": "markdown",
   "metadata": {},
   "source": [
    "Построим столбчатую диаграмму"
   ]
  },
  {
   "cell_type": "code",
   "execution_count": 25,
   "metadata": {},
   "outputs": [
    {
     "data": {
      "image/png": "[encoded data removed]",
      "text/plain": [
       "<Figure size 864x432 with 1 Axes>"
      ]
     },
     "metadata": {
      "needs_background": "light"
     },
     "output_type": "display_data"
    }
   ],
   "source": [
    "category_counts = places['category'].value_counts()\n",
    "\n",
    "plt.figure(figsize=(12, 6))\n",
    "sns.barplot(x=category_counts.index, y=category_counts.values, palette='tab20')\n",
    "plt.xticks(rotation=90)\n",
    "plt.xlabel('Категория')\n",
    "plt.ylabel('Количество заведений')\n",
    "plt.title('Количество заведений по категориям')\n",
    "plt.xticks(rotation=0)\n",
    "plt.show()"
   ]
  },
  {
   "cell_type": "markdown",
   "metadata": {},
   "source": [
    "<a id=\"explore_seats\"></a>\n",
    "\n",
    "#### Анализируем количество посадочных мест в заведениях различных категорий\n"
   ]
  },
  {
   "cell_type": "code",
   "execution_count": 26,
   "metadata": {},
   "outputs": [
    {
     "name": "stdout",
     "output_type": "stream",
     "text": [
      "          category  seats\n",
      "0         ресторан   86.0\n",
      "1          бар,паб   82.0\n",
      "2          кофейня   80.0\n",
      "3         столовая   75.5\n",
      "4  быстрое питание   65.0\n",
      "5             кафе   60.0\n",
      "6         пиццерия   55.0\n",
      "7         булочная   50.0\n"
     ]
    }
   ],
   "source": [
    "seats_pivot = pd.pivot_table(places, values='seats', index='category', aggfunc='median')\n",
    "seats_pivot = seats_pivot.sort_values(by='seats', ascending=False).reset_index()\n",
    "\n",
    "print(seats_pivot)"
   ]
  },
  {
   "cell_type": "code",
   "execution_count": 27,
   "metadata": {},
   "outputs": [
    {
     "data": {
      "image/png": "[encoded data removed]",
      "text/plain": [
       "<Figure size 720x432 with 1 Axes>"
      ]
     },
     "metadata": {
      "needs_background": "light"
     },
     "output_type": "display_data"
    }
   ],
   "source": [
    "plt.figure(figsize=(10, 6))\n",
    "sns.barplot(x=seats_pivot['category'], y=seats_pivot['seats'], palette='viridis')\n",
    "plt.xlabel('Категория заведения')\n",
    "plt.ylabel('Медианное количество посадочных мест')\n",
    "plt.title('Медианное количество посадочных мест по категориям заведений')\n",
    "plt.xticks(rotation=45)\n",
    "\n",
    "plt.show()"
   ]
  },
  {
   "cell_type": "markdown",
   "metadata": {},
   "source": [
    "<a id=\"explore_chain_ratio\"></a>\n",
    "\n",
    "#### Изучим соотношение сетевых и несетевых заведений в датасете, выявим преобладающий тип заведений в Москве."
   ]
  },
  {
   "cell_type": "markdown",
   "metadata": {},
   "source": [
    "Соотношение лучше всего показывает круговая диаграмма\\\n",
    "0 — заведение не является сетевым\\\n",
    "1 — заведение является сетевым"
   ]
  },
  {
   "cell_type": "code",
   "execution_count": 28,
   "metadata": {},
   "outputs": [
    {
     "data": {
      "image/png": "[encoded data removed]",
      "text/plain": [
       "<Figure size 576x432 with 1 Axes>"
      ]
     },
     "metadata": {},
     "output_type": "display_data"
    }
   ],
   "source": [
    "chain_counts = places['chain'].value_counts()\n",
    "\n",
    "plt.figure(figsize=(8, 6))\n",
    "plt.pie(chain_counts, labels=chain_counts.index, autopct='%1.1f%%', startangle=90)\n",
    "plt.title('Соотношение сетевых и несетевых заведений')\n",
    "plt.legend(labels=['Несетевые', 'Сетевые'], loc='best')\n",
    "\n",
    "plt.show()"
   ]
  },
  {
   "cell_type": "markdown",
   "metadata": {},
   "source": [
    "Несетевых заведений больше на 23.8%"
   ]
  },
  {
   "cell_type": "markdown",
   "metadata": {},
   "source": [
    "<a id=\"explore_categories_chain\"></a>\n",
    "\n",
    "#### Проанализируем, какие категории заведений чаще всего являются сетевыми\n",
    "\n"
   ]
  },
  {
   "cell_type": "code",
   "execution_count": 29,
   "metadata": {},
   "outputs": [
    {
     "data": {
      "image/png": "[encoded data removed]",
      "text/plain": [
       "<Figure size 720x432 with 1 Axes>"
      ]
     },
     "metadata": {
      "needs_background": "light"
     },
     "output_type": "display_data"
    }
   ],
   "source": [
    "chain_restaurants = places[places['chain'] == 1]\n",
    "category_chain_counts = chain_restaurants['category'].value_counts()\n",
    "\n",
    "\n",
    "total_restaurants_by_category = places['category'].value_counts()\n",
    "percentage_chain_by_category = (category_chain_counts / total_restaurants_by_category) * 100\n",
    "\n",
    "percentage_chain_by_category = percentage_chain_by_category.sort_values(ascending=False)\n",
    "\n",
    "\n",
    "plt.figure(figsize=(10, 6))\n",
    "sns.barplot(x=percentage_chain_by_category.index, y=percentage_chain_by_category, palette='Set1')\n",
    "plt.xlabel('Категория заведения')\n",
    "plt.ylabel('Доля сетевых заведений (%)')\n",
    "plt.title('Доля сетевых заведений по категориям')\n",
    "plt.xticks(rotation=45)\n",
    "plt.show()"
   ]
  },
  {
   "cell_type": "markdown",
   "metadata": {},
   "source": [
    "Булочные, пиццерии и кофейни - чаще всего сетевые. Это вполне ожидаемый результат!"
   ]
  },
  {
   "cell_type": "markdown",
   "metadata": {},
   "source": [
    "<a id=\"explore_top_chains\"></a>\n",
    "\n",
    "#### Выделим топ-15 популярных сетей в Москве, используя группировку данных по названиям заведений, и проанализируем, к какой категории заведений они относятся и есть ли какой-то признак, объединяющий эти сети."
   ]
  },
  {
   "cell_type": "code",
   "execution_count": 30,
   "metadata": {},
   "outputs": [
    {
     "name": "stdout",
     "output_type": "stream",
     "text": [
      "name\n",
      "шоколадница                            120\n",
      "домино'с пицца                          76\n",
      "додо пицца                              74\n",
      "one price coffee                        71\n",
      "яндекс лавка                            69\n",
      "cofix                                   65\n",
      "prime                                   50\n",
      "хинкальная                              44\n",
      "кофепорт                                42\n",
      "кулинарная лавка братьев караваевых     39\n",
      "теремок                                 38\n",
      "чайхана                                 37\n",
      "cofefest                                32\n",
      "буханка                                 32\n",
      "му-му                                   27\n",
      "Name: name, dtype: int64\n"
     ]
    }
   ],
   "source": [
    "top_15_name = chain_restaurants.groupby('name')['name'].count().sort_values(ascending=False).head(15)\n",
    "print(top_15_name)"
   ]
  },
  {
   "cell_type": "code",
   "execution_count": 31,
   "metadata": {},
   "outputs": [
    {
     "data": {
      "image/png": "[encoded data removed]",
      "text/plain": [
       "<Figure size 864x576 with 1 Axes>"
      ]
     },
     "metadata": {
      "needs_background": "light"
     },
     "output_type": "display_data"
    }
   ],
   "source": [
    "plt.figure(figsize=(12, 8))\n",
    "colors = plt.cm.Paired(range(len(top_15_name)))\n",
    "top_15_name.sort_values(ascending=True).plot(kind='barh', color=colors)\n",
    "plt.xlabel('Количество заведений')\n",
    "plt.ylabel('Название сети')\n",
    "plt.title('Топ-15 популярных сетевых заведений в Москве')\n",
    "plt.tight_layout()\n",
    "plt.show()"
   ]
  },
  {
   "cell_type": "markdown",
   "metadata": {},
   "source": [
    "**Шоколадница** - самая популярная сеть среди представленных, имеет 120 заведений в Москве.\\\n",
    "**Домино'с Пицца и Додо Пицца** - пиццерии, занимающие второе и третье места соответственно по популярности с 76 и 74 заведениями.\\\n",
    "**One Price Coffee, Яндекс Лавка и Cofix**- сети кофеен, которые также пользуются популярностью среди жителей Москвы.\\\n",
    "**Prime, Хинкальная, КОФЕПОРТ, Кулинарная лавка братьев Караваевых, Теремок, Чайхана, CofeFest, Буханка и Му-Му** - представляют разнообразные категории заведений, включая рестораны, кафе и закусочные.\n",
    "\n"
   ]
  },
  {
   "cell_type": "code",
   "execution_count": 32,
   "metadata": {},
   "outputs": [
    {
     "data": {
      "text/html": [
       "<div>\n",
       "<style scoped>\n",
       "    .dataframe tbody tr th:only-of-type {\n",
       "        vertical-align: middle;\n",
       "    }\n",
       "\n",
       "    .dataframe tbody tr th {\n",
       "        vertical-align: top;\n",
       "    }\n",
       "\n",
       "    .dataframe thead th {\n",
       "        text-align: right;\n",
       "    }\n",
       "</style>\n",
       "<table border=\"1\" class=\"dataframe\">\n",
       "  <thead>\n",
       "    <tr style=\"text-align: right;\">\n",
       "      <th></th>\n",
       "      <th>name</th>\n",
       "      <th>category</th>\n",
       "      <th>address</th>\n",
       "      <th>district</th>\n",
       "      <th>hours</th>\n",
       "      <th>lat</th>\n",
       "      <th>lng</th>\n",
       "      <th>rating</th>\n",
       "      <th>price</th>\n",
       "      <th>avg_bill</th>\n",
       "      <th>middle_avg_bill</th>\n",
       "      <th>middle_coffee_cup</th>\n",
       "      <th>chain</th>\n",
       "      <th>seats</th>\n",
       "      <th>street</th>\n",
       "      <th>is_24/7</th>\n",
       "    </tr>\n",
       "  </thead>\n",
       "  <tbody>\n",
       "    <tr>\n",
       "      <th>13</th>\n",
       "      <td>буханка</td>\n",
       "      <td>булочная</td>\n",
       "      <td>Москва, Базовская улица, 15, корп. 1</td>\n",
       "      <td>Северный административный округ</td>\n",
       "      <td>ежедневно, 08:00–22:00</td>\n",
       "      <td>55.877007</td>\n",
       "      <td>37.504980</td>\n",
       "      <td>4.8</td>\n",
       "      <td>NaN</td>\n",
       "      <td>NaN</td>\n",
       "      <td>NaN</td>\n",
       "      <td>NaN</td>\n",
       "      <td>1</td>\n",
       "      <td>180</td>\n",
       "      <td>Базовская улица</td>\n",
       "      <td>False</td>\n",
       "    </tr>\n",
       "    <tr>\n",
       "      <th>23</th>\n",
       "      <td>буханка</td>\n",
       "      <td>булочная</td>\n",
       "      <td>Москва, Лобненская улица, 13к2</td>\n",
       "      <td>Северный административный округ</td>\n",
       "      <td>ежедневно, 08:00–22:00</td>\n",
       "      <td>55.888421</td>\n",
       "      <td>37.527106</td>\n",
       "      <td>4.7</td>\n",
       "      <td>NaN</td>\n",
       "      <td>NaN</td>\n",
       "      <td>NaN</td>\n",
       "      <td>NaN</td>\n",
       "      <td>1</td>\n",
       "      <td>&lt;NA&gt;</td>\n",
       "      <td>Лобненская улица</td>\n",
       "      <td>False</td>\n",
       "    </tr>\n",
       "    <tr>\n",
       "      <th>32</th>\n",
       "      <td>додо пицца</td>\n",
       "      <td>пиццерия</td>\n",
       "      <td>Москва, Коровинское шоссе, 23, корп. 1</td>\n",
       "      <td>Северный административный округ</td>\n",
       "      <td>ежедневно, 09:00–23:00</td>\n",
       "      <td>55.877388</td>\n",
       "      <td>37.523334</td>\n",
       "      <td>4.3</td>\n",
       "      <td>NaN</td>\n",
       "      <td>Средний счёт:328 ₽</td>\n",
       "      <td>328.0</td>\n",
       "      <td>NaN</td>\n",
       "      <td>1</td>\n",
       "      <td>46</td>\n",
       "      <td>Коровинское шоссе</td>\n",
       "      <td>False</td>\n",
       "    </tr>\n",
       "    <tr>\n",
       "      <th>34</th>\n",
       "      <td>домино'с пицца</td>\n",
       "      <td>пиццерия</td>\n",
       "      <td>Москва, Клязьминская улица, 11, корп. 4</td>\n",
       "      <td>Северный административный округ</td>\n",
       "      <td>ежедневно, 10:00–23:00</td>\n",
       "      <td>55.886963</td>\n",
       "      <td>37.523518</td>\n",
       "      <td>4.2</td>\n",
       "      <td>NaN</td>\n",
       "      <td>Средний счёт:от 500 ₽</td>\n",
       "      <td>500.0</td>\n",
       "      <td>NaN</td>\n",
       "      <td>1</td>\n",
       "      <td>247</td>\n",
       "      <td>Клязьминская улица</td>\n",
       "      <td>False</td>\n",
       "    </tr>\n",
       "    <tr>\n",
       "      <th>46</th>\n",
       "      <td>cofefest</td>\n",
       "      <td>кофейня</td>\n",
       "      <td>Москва, улица Маршала Федоренко, 6с1</td>\n",
       "      <td>Северный административный округ</td>\n",
       "      <td>пн-пт 09:00–19:00</td>\n",
       "      <td>55.879934</td>\n",
       "      <td>37.492522</td>\n",
       "      <td>3.6</td>\n",
       "      <td>NaN</td>\n",
       "      <td>NaN</td>\n",
       "      <td>NaN</td>\n",
       "      <td>NaN</td>\n",
       "      <td>1</td>\n",
       "      <td>&lt;NA&gt;</td>\n",
       "      <td>улица Маршала Федоренко</td>\n",
       "      <td>False</td>\n",
       "    </tr>\n",
       "    <tr>\n",
       "      <th>...</th>\n",
       "      <td>...</td>\n",
       "      <td>...</td>\n",
       "      <td>...</td>\n",
       "      <td>...</td>\n",
       "      <td>...</td>\n",
       "      <td>...</td>\n",
       "      <td>...</td>\n",
       "      <td>...</td>\n",
       "      <td>...</td>\n",
       "      <td>...</td>\n",
       "      <td>...</td>\n",
       "      <td>...</td>\n",
       "      <td>...</td>\n",
       "      <td>...</td>\n",
       "      <td>...</td>\n",
       "      <td>...</td>\n",
       "    </tr>\n",
       "    <tr>\n",
       "      <th>7973</th>\n",
       "      <td>теремок</td>\n",
       "      <td>ресторан</td>\n",
       "      <td>Москва, Ореховый бульвар, 15</td>\n",
       "      <td>Южный административный округ</td>\n",
       "      <td>ежедневно, 10:00–22:00</td>\n",
       "      <td>55.612758</td>\n",
       "      <td>37.720272</td>\n",
       "      <td>3.7</td>\n",
       "      <td>NaN</td>\n",
       "      <td>NaN</td>\n",
       "      <td>NaN</td>\n",
       "      <td>NaN</td>\n",
       "      <td>1</td>\n",
       "      <td>0</td>\n",
       "      <td>Ореховый бульвар</td>\n",
       "      <td>False</td>\n",
       "    </tr>\n",
       "    <tr>\n",
       "      <th>7974</th>\n",
       "      <td>хинкальная</td>\n",
       "      <td>ресторан</td>\n",
       "      <td>Москва, улица Генерала Белова, 23А</td>\n",
       "      <td>Южный административный округ</td>\n",
       "      <td>ежедневно, 12:00–00:00</td>\n",
       "      <td>55.616224</td>\n",
       "      <td>37.719993</td>\n",
       "      <td>3.6</td>\n",
       "      <td>NaN</td>\n",
       "      <td>NaN</td>\n",
       "      <td>NaN</td>\n",
       "      <td>NaN</td>\n",
       "      <td>1</td>\n",
       "      <td>60</td>\n",
       "      <td>улица Генерала Белова</td>\n",
       "      <td>False</td>\n",
       "    </tr>\n",
       "    <tr>\n",
       "      <th>7979</th>\n",
       "      <td>яндекс лавка</td>\n",
       "      <td>ресторан</td>\n",
       "      <td>Москва, Шипиловский проезд, 65, корп. 1</td>\n",
       "      <td>Южный административный округ</td>\n",
       "      <td>ежедневно, 07:00–00:00</td>\n",
       "      <td>55.599020</td>\n",
       "      <td>37.714239</td>\n",
       "      <td>3.5</td>\n",
       "      <td>NaN</td>\n",
       "      <td>NaN</td>\n",
       "      <td>NaN</td>\n",
       "      <td>NaN</td>\n",
       "      <td>1</td>\n",
       "      <td>75</td>\n",
       "      <td>Шипиловский проезд</td>\n",
       "      <td>False</td>\n",
       "    </tr>\n",
       "    <tr>\n",
       "      <th>7980</th>\n",
       "      <td>яндекс лавка</td>\n",
       "      <td>ресторан</td>\n",
       "      <td>Москва, улица Маршала Захарова, 2</td>\n",
       "      <td>Южный административный округ</td>\n",
       "      <td>ежедневно, 07:00–00:00</td>\n",
       "      <td>55.624112</td>\n",
       "      <td>37.707183</td>\n",
       "      <td>4.0</td>\n",
       "      <td>NaN</td>\n",
       "      <td>NaN</td>\n",
       "      <td>NaN</td>\n",
       "      <td>NaN</td>\n",
       "      <td>1</td>\n",
       "      <td>200</td>\n",
       "      <td>улица Маршала Захарова</td>\n",
       "      <td>False</td>\n",
       "    </tr>\n",
       "    <tr>\n",
       "      <th>7981</th>\n",
       "      <td>теремок</td>\n",
       "      <td>ресторан</td>\n",
       "      <td>Москва, Каширское шоссе, 61Г</td>\n",
       "      <td>Южный административный округ</td>\n",
       "      <td>ежедневно, 10:00–22:00</td>\n",
       "      <td>55.621939</td>\n",
       "      <td>37.713243</td>\n",
       "      <td>3.9</td>\n",
       "      <td>NaN</td>\n",
       "      <td>NaN</td>\n",
       "      <td>NaN</td>\n",
       "      <td>NaN</td>\n",
       "      <td>1</td>\n",
       "      <td>&lt;NA&gt;</td>\n",
       "      <td>Каширское шоссе</td>\n",
       "      <td>False</td>\n",
       "    </tr>\n",
       "  </tbody>\n",
       "</table>\n",
       "<p>818 rows × 16 columns</p>\n",
       "</div>"
      ],
      "text/plain": [
       "                name  category                                  address  \\\n",
       "13           буханка  булочная     Москва, Базовская улица, 15, корп. 1   \n",
       "23           буханка  булочная           Москва, Лобненская улица, 13к2   \n",
       "32        додо пицца  пиццерия   Москва, Коровинское шоссе, 23, корп. 1   \n",
       "34    домино'с пицца  пиццерия  Москва, Клязьминская улица, 11, корп. 4   \n",
       "46          cofefest   кофейня     Москва, улица Маршала Федоренко, 6с1   \n",
       "...              ...       ...                                      ...   \n",
       "7973         теремок  ресторан             Москва, Ореховый бульвар, 15   \n",
       "7974      хинкальная  ресторан       Москва, улица Генерала Белова, 23А   \n",
       "7979    яндекс лавка  ресторан  Москва, Шипиловский проезд, 65, корп. 1   \n",
       "7980    яндекс лавка  ресторан        Москва, улица Маршала Захарова, 2   \n",
       "7981         теремок  ресторан             Москва, Каширское шоссе, 61Г   \n",
       "\n",
       "                             district                   hours        lat  \\\n",
       "13    Северный административный округ  ежедневно, 08:00–22:00  55.877007   \n",
       "23    Северный административный округ  ежедневно, 08:00–22:00  55.888421   \n",
       "32    Северный административный округ  ежедневно, 09:00–23:00  55.877388   \n",
       "34    Северный административный округ  ежедневно, 10:00–23:00  55.886963   \n",
       "46    Северный административный округ       пн-пт 09:00–19:00  55.879934   \n",
       "...                               ...                     ...        ...   \n",
       "7973     Южный административный округ  ежедневно, 10:00–22:00  55.612758   \n",
       "7974     Южный административный округ  ежедневно, 12:00–00:00  55.616224   \n",
       "7979     Южный административный округ  ежедневно, 07:00–00:00  55.599020   \n",
       "7980     Южный административный округ  ежедневно, 07:00–00:00  55.624112   \n",
       "7981     Южный административный округ  ежедневно, 10:00–22:00  55.621939   \n",
       "\n",
       "            lng  rating price               avg_bill  middle_avg_bill  \\\n",
       "13    37.504980     4.8   NaN                    NaN              NaN   \n",
       "23    37.527106     4.7   NaN                    NaN              NaN   \n",
       "32    37.523334     4.3   NaN     Средний счёт:328 ₽            328.0   \n",
       "34    37.523518     4.2   NaN  Средний счёт:от 500 ₽            500.0   \n",
       "46    37.492522     3.6   NaN                    NaN              NaN   \n",
       "...         ...     ...   ...                    ...              ...   \n",
       "7973  37.720272     3.7   NaN                    NaN              NaN   \n",
       "7974  37.719993     3.6   NaN                    NaN              NaN   \n",
       "7979  37.714239     3.5   NaN                    NaN              NaN   \n",
       "7980  37.707183     4.0   NaN                    NaN              NaN   \n",
       "7981  37.713243     3.9   NaN                    NaN              NaN   \n",
       "\n",
       "      middle_coffee_cup  chain  seats                    street  is_24/7  \n",
       "13                  NaN      1    180           Базовская улица    False  \n",
       "23                  NaN      1   <NA>          Лобненская улица    False  \n",
       "32                  NaN      1     46         Коровинское шоссе    False  \n",
       "34                  NaN      1    247        Клязьминская улица    False  \n",
       "46                  NaN      1   <NA>   улица Маршала Федоренко    False  \n",
       "...                 ...    ...    ...                       ...      ...  \n",
       "7973                NaN      1      0          Ореховый бульвар    False  \n",
       "7974                NaN      1     60     улица Генерала Белова    False  \n",
       "7979                NaN      1     75        Шипиловский проезд    False  \n",
       "7980                NaN      1    200    улица Маршала Захарова    False  \n",
       "7981                NaN      1   <NA>           Каширское шоссе    False  \n",
       "\n",
       "[818 rows x 16 columns]"
      ]
     },
     "execution_count": 32,
     "metadata": {},
     "output_type": "execute_result"
    }
   ],
   "source": [
    "top_15_chains = top_15_name.index.tolist()\n",
    "top_15_data = places[places['name'].isin(top_15_chains)]\n",
    "top_15_data"
   ]
  },
  {
   "cell_type": "code",
   "execution_count": 33,
   "metadata": {
    "scrolled": true
   },
   "outputs": [
    {
     "name": "stdout",
     "output_type": "stream",
     "text": [
      "Количество заведений, работающих 24/7: 42\n",
      "Количество заведений, НЕ работающих 24/7: 776\n"
     ]
    }
   ],
   "source": [
    "print(\"Количество заведений, работающих 24/7:\", top_15_data[top_15_data['is_24/7'] == True].shape[0])\n",
    "print(\"Количество заведений, НЕ работающих 24/7:\", top_15_data[top_15_data['is_24/7'] == False].shape[0])"
   ]
  },
  {
   "cell_type": "markdown",
   "metadata": {},
   "source": [
    "Всего 42 заведения из ТОП-15 работают 24 часа в сутки"
   ]
  },
  {
   "cell_type": "markdown",
   "metadata": {},
   "source": [
    "**В большинсте случаев, ночью спрос на еду и кофе снижается, поэтому многие заведения не видят смысла работать в ночное время**"
   ]
  },
  {
   "cell_type": "markdown",
   "metadata": {},
   "source": [
    "<a id=\"explore_districts\"></a>\n",
    "\n",
    "#### Определим административные районы Москвы, присутствующие в датасете, и визуализируем общее количество заведений\n"
   ]
  },
  {
   "cell_type": "code",
   "execution_count": 34,
   "metadata": {},
   "outputs": [
    {
     "name": "stdout",
     "output_type": "stream",
     "text": [
      "Административные районы Москвы в датасете:\n",
      "['Северный административный округ'\n",
      " 'Северо-Восточный административный округ'\n",
      " 'Северо-Западный административный округ'\n",
      " 'Западный административный округ' 'Центральный административный округ'\n",
      " 'Восточный административный округ' 'Юго-Восточный административный округ'\n",
      " 'Южный административный округ' 'Юго-Западный административный округ']\n"
     ]
    }
   ],
   "source": [
    "unique_districts = places['district'].unique()\n",
    "\n",
    "print(\"Административные районы Москвы в датасете:\")\n",
    "print(unique_districts)\n"
   ]
  },
  {
   "cell_type": "code",
   "execution_count": 35,
   "metadata": {
    "scrolled": false
   },
   "outputs": [
    {
     "data": {
      "image/png": "[encoded data removed]",
      "text/plain": [
       "<Figure size 1440x720 with 1 Axes>"
      ]
     },
     "metadata": {
      "needs_background": "light"
     },
     "output_type": "display_data"
    }
   ],
   "source": [
    "plt.figure(figsize=(20, 10))\n",
    "sns.countplot(x='district', hue='category', data=places)\n",
    "plt.xticks(rotation=45)\n",
    "plt.xlabel('Административный район')\n",
    "plt.ylabel('Количество заведений')\n",
    "plt.title('Общее количество заведений и количество заведений каждой категории по районам Москвы')\n",
    "plt.show()"
   ]
  },
  {
   "cell_type": "markdown",
   "metadata": {},
   "source": [
    "В предоставленных данных можно сделать следующие наблюдения:\n",
    "\n",
    "- **Восточный административный округ**: В этом районе больше всего заведений категории <u>\"кафе\" (272)</u>, что может быть связано с тем, что кафе являются популярным вариантом для проведения времени с друзьями или для быстрого перекуса.\n",
    "\n",
    "- **Западный административный округ**: Здесь одним из самых популярных типов заведений являются <u>рестораны (218)</u>, что может быть связано с тем, что Западный округ включает в себя престижные районы с развитой культурной и деловой жизнью, где предпочитают посещать рестораны.\n",
    "\n",
    "- **Северный административный округ**: Этот район представлен разнообразием заведений различных категорий, и здесь нет явного лидера по количеству заведений как в Центральном округе. Однако категория <u>\"ресторан\" </u>здесь также имеет высокое количество заведений (189).\n",
    "\n",
    "- **Северо-Восточный административный округ**: В этом районе преобладают заведения категорий <u>\"кафе\" (269) и \"ресторан\" (182).</u>\n",
    "\n",
    "- **Северо-Западный административный округ**: Здесь преобладают заведения <u>быстрого питания (82) и кафе (68).</u>\n",
    "\n",
    "- **Юго-Восточный административный округ**: В этом районе часто встречаются <u>кафе (282) и заведения быстрого питания (67).</u>\n",
    "\n",
    "- **Юго-Западный административный округ**: Категория <u>\"ресторан\" (168)</u> в этом районе имеет высокое количество заведений.\n",
    "\n",
    "- **Южный административный округ**: В этом районе часто встречаются <u>кафе (264), бары/пабы (68)</u> и заведения быстрого питания (85).\n",
    "\n",
    "<u>Общая тенденция показывает, что в **Центральном административном округе**</u> и некоторых других районах Москвы, которые имеют развитую инфраструктуру и большое количество жителей, <u>присутствует больше заведений различных категорий.</u>\n",
    "\n"
   ]
  },
  {
   "cell_type": "markdown",
   "metadata": {},
   "source": [
    "<a id=\"explore_rating_distribution\"></a>\n",
    "\n",
    "#### Изучим распределение средних рейтингов по категориям заведений, выясним, есть ли существенные различия в усредненных рейтингах между разными типами общепита"
   ]
  },
  {
   "cell_type": "code",
   "execution_count": 36,
   "metadata": {
    "scrolled": false
   },
   "outputs": [
    {
     "data": {
      "image/png": "[encoded data removed]",
      "text/plain": [
       "<Figure size 720x432 with 1 Axes>"
      ]
     },
     "metadata": {
      "needs_background": "light"
     },
     "output_type": "display_data"
    }
   ],
   "source": [
    "avg_ratings = places.groupby('category')['rating'].mean().sort_values(ascending=False)\n",
    "\n",
    "plt.figure(figsize=(10, 6))\n",
    "sns.barplot(x=avg_ratings.index, y=avg_ratings.values, palette='viridis')\n",
    "plt.xticks(rotation=45, ha='right')\n",
    "plt.xlabel('Категория заведений')\n",
    "plt.ylabel('Средний рейтинг')\n",
    "plt.title('Средний рейтинг по категориям заведений')\n",
    "plt.tight_layout()\n",
    "plt.show()\n"
   ]
  },
  {
   "cell_type": "markdown",
   "metadata": {},
   "source": [
    "**Бары и пабы** имеют средний рейтинг **около 4.39, что является самым высоким среди всех категорий.**\n",
    "\n",
    "**Пиццерии и рестораны** также пользуются хорошей популярностью и имеют **высокие средние рейтинги, около 4.30 и 4.29** соответственно.\n",
    "\n",
    "**Кофейни и булочные** имеют средний рейтинг около **4.28, что также говорит о высокой оценке посетителями.**\n",
    "\n",
    "Средний рейтинг **столовых составляет около 4.21**, что также свидетельствует о положительной оценке, но немного ниже, чем у предыдущих категорий.\n",
    "\n",
    "**Кафе и заведения быстрого питания имеют средний рейтинг около 4.12 и 4.05 соответственно. Это самые низкие средние рейтинги среди всех категорий**, но они всё равно остаются на уровне выше 4, что говорит о том, что данные заведения также хорошо оцениваются посетителями.\n"
   ]
  },
  {
   "cell_type": "code",
   "execution_count": 37,
   "metadata": {},
   "outputs": [
    {
     "data": {
      "text/plain": [
       "category\n",
       "бар,паб            4.387696\n",
       "пиццерия           4.301264\n",
       "ресторан           4.290402\n",
       "кофейня            4.277282\n",
       "булочная           4.268359\n",
       "столовая           4.211429\n",
       "кафе               4.123896\n",
       "быстрое питание    4.050249\n",
       "Name: rating, dtype: float64"
      ]
     },
     "execution_count": 37,
     "metadata": {},
     "output_type": "execute_result"
    }
   ],
   "source": [
    "avg_ratings"
   ]
  },
  {
   "cell_type": "markdown",
   "metadata": {},
   "source": [
    "Я ожидала разброс побольше, давайте посмотрим на колонку рейтинг"
   ]
  },
  {
   "cell_type": "code",
   "execution_count": 38,
   "metadata": {
    "scrolled": true
   },
   "outputs": [
    {
     "data": {
      "text/plain": [
       "count    8403.000000\n",
       "mean        4.229894\n",
       "std         0.470426\n",
       "min         1.000000\n",
       "25%         4.100000\n",
       "50%         4.300000\n",
       "75%         4.400000\n",
       "max         5.000000\n",
       "Name: rating, dtype: float64"
      ]
     },
     "execution_count": 38,
     "metadata": {},
     "output_type": "execute_result"
    }
   ],
   "source": [
    "places['rating'].describe()"
   ]
  },
  {
   "cell_type": "markdown",
   "metadata": {},
   "source": [
    "**А нет, все правильно, большинство заведений имеют +- одинаковые значения в рейтинге 4.3-4.4**"
   ]
  },
  {
   "cell_type": "markdown",
   "metadata": {},
   "source": [
    "<a id=\"explore_rating_map\"></a>\n",
    "\n",
    "#### Построим фоновую картограмму среднего рейтинга заведений для каждого района Москвы"
   ]
  },
  {
   "cell_type": "code",
   "execution_count": 39,
   "metadata": {},
   "outputs": [
    {
     "data": {
      "text/html": [
       "<div>\n",
       "<style scoped>\n",
       "    .dataframe tbody tr th:only-of-type {\n",
       "        vertical-align: middle;\n",
       "    }\n",
       "\n",
       "    .dataframe tbody tr th {\n",
       "        vertical-align: top;\n",
       "    }\n",
       "\n",
       "    .dataframe thead th {\n",
       "        text-align: right;\n",
       "    }\n",
       "</style>\n",
       "<table border=\"1\" class=\"dataframe\">\n",
       "  <thead>\n",
       "    <tr style=\"text-align: right;\">\n",
       "      <th></th>\n",
       "      <th>district</th>\n",
       "      <th>rating</th>\n",
       "    </tr>\n",
       "  </thead>\n",
       "  <tbody>\n",
       "    <tr>\n",
       "      <th>0</th>\n",
       "      <td>Восточный административный округ</td>\n",
       "      <td>4.174185</td>\n",
       "    </tr>\n",
       "    <tr>\n",
       "      <th>1</th>\n",
       "      <td>Западный административный округ</td>\n",
       "      <td>4.181647</td>\n",
       "    </tr>\n",
       "    <tr>\n",
       "      <th>2</th>\n",
       "      <td>Северный административный округ</td>\n",
       "      <td>4.239822</td>\n",
       "    </tr>\n",
       "    <tr>\n",
       "      <th>3</th>\n",
       "      <td>Северо-Восточный административный округ</td>\n",
       "      <td>4.147978</td>\n",
       "    </tr>\n",
       "    <tr>\n",
       "      <th>4</th>\n",
       "      <td>Северо-Западный административный округ</td>\n",
       "      <td>4.208802</td>\n",
       "    </tr>\n",
       "    <tr>\n",
       "      <th>5</th>\n",
       "      <td>Центральный административный округ</td>\n",
       "      <td>4.377520</td>\n",
       "    </tr>\n",
       "    <tr>\n",
       "      <th>6</th>\n",
       "      <td>Юго-Восточный административный округ</td>\n",
       "      <td>4.101120</td>\n",
       "    </tr>\n",
       "    <tr>\n",
       "      <th>7</th>\n",
       "      <td>Юго-Западный административный округ</td>\n",
       "      <td>4.172920</td>\n",
       "    </tr>\n",
       "    <tr>\n",
       "      <th>8</th>\n",
       "      <td>Южный административный округ</td>\n",
       "      <td>4.184417</td>\n",
       "    </tr>\n",
       "  </tbody>\n",
       "</table>\n",
       "</div>"
      ],
      "text/plain": [
       "                                  district    rating\n",
       "0         Восточный административный округ  4.174185\n",
       "1          Западный административный округ  4.181647\n",
       "2          Северный административный округ  4.239822\n",
       "3  Северо-Восточный административный округ  4.147978\n",
       "4   Северо-Западный административный округ  4.208802\n",
       "5       Центральный административный округ  4.377520\n",
       "6     Юго-Восточный административный округ  4.101120\n",
       "7      Юго-Западный административный округ  4.172920\n",
       "8             Южный административный округ  4.184417"
      ]
     },
     "execution_count": 39,
     "metadata": {},
     "output_type": "execute_result"
    }
   ],
   "source": [
    "rating_disrtict = places.groupby('district', as_index=False)['rating'].agg('mean')\n",
    "rating_disrtict"
   ]
  },
  {
   "cell_type": "code",
   "execution_count": 40,
   "metadata": {},
   "outputs": [],
   "source": [
    "with open('/datasets/admin_level_geomap.geojson', 'r') as f:\n",
    "    geo_json = json.load(f)"
   ]
  },
  {
   "cell_type": "raw",
   "metadata": {
    "scrolled": false
   },
   "source": [
    "# загружаем JSON-файл с границами округов Москвы\n",
    "state_geo = '/datasets/admin_level_geomap.geojson'\n",
    "# moscow_lat - широта центра Москвы, moscow_lng - долгота центра Москвы\n",
    "moscow_lat, moscow_lng = 55.751244, 37.618423\n",
    "\n",
    "# создаём карту Москвы\n",
    "moscow_map = Map(location=[moscow_lat, moscow_lng], zoom_start=10)\n",
    "\n",
    "# создаём хороплет с помощью конструктора Choropleth и добавляем его на карту\n",
    "Choropleth(\n",
    "    geo_data=state_geo,\n",
    "    data=rating_disrtict,\n",
    "    columns=['district', 'rating'],\n",
    "    key_on='feature.name',\n",
    "    fill_color='YlGn',\n",
    "    fill_opacity=0.8,\n",
    "    legend_name='Средний рейтинг заведений по районам',\n",
    ").add_to(moscow_map)\n",
    "\n",
    "# выводим карту\n",
    "moscow_map"
   ]
  },
  {
   "cell_type": "markdown",
   "metadata": {},
   "source": [
    "Средний рейтинг всех заведений в Москве показывает, что центральные районы (Центральный, Северный, Северо-Западный и Западный) имеют высокое качество заведений, а Юго-Восточный район - наименьший рейтинг. Остальные округи имеют средние показатели, предлагая хороший выбор заведений с умеренным рейтингом. "
   ]
  },
  {
   "cell_type": "markdown",
   "metadata": {},
   "source": [
    "<a id=\"explore_map_clusters\"></a>\n",
    "\n",
    "#### Построим карту с заведениями на кластерной карте\n"
   ]
  },
  {
   "cell_type": "raw",
   "metadata": {
    "scrolled": true
   },
   "source": [
    "marker_cluster = MarkerCluster().add_to(moscow_map)\n",
    "\n",
    "# Определение стилей маркеров для каждой категории\n",
    "category_icons = {\n",
    "    'бар,паб': 'https://img.icons8.com/?size=512&id=12863&format=png',\n",
    "    'булочная': 'https://img.icons8.com/?size=512&id=lQGIDcQs5Nk4&format=png',\n",
    "    'быстрое питание': 'https://img.icons8.com/?size=512&id=X5P4RGXlVSbo&format=png',\n",
    "    'кафе': 'https://img.icons8.com/?size=512&id=thxCjuSZ3Q8w&format=png',\n",
    "    'кофейня': 'https://img.icons8.com/?size=512&id=13286&format=png',\n",
    "    'пиццерия': 'https://img.icons8.com/?size=512&id=97684&format=png',\n",
    "    'ресторан': 'https://img.icons8.com/?size=512&id=24686&format=png',\n",
    "    'столовая': 'https://img.icons8.com/?size=512&id=61815&format=png',\n",
    "}\n",
    "\n",
    "def create_clusters(row):\n",
    "    category = row['category']\n",
    "    icon = folium.CustomIcon(category_icons.get(category), icon_size=(30, 30))\n",
    "    \n",
    "    folium.Marker(\n",
    "        [row['lat'], row['lng']],\n",
    "        popup=f\"{row['name']} {row['rating']}\",\n",
    "        icon=icon,\n",
    "    ).add_to(marker_cluster)\n",
    "\n",
    "# Применяем функцию для создания кластеров к каждой строке датафрейма\n",
    "places.apply(create_clusters, axis=1)\n",
    "\n",
    "\n",
    "moscow_map"
   ]
  },
  {
   "cell_type": "markdown",
   "metadata": {},
   "source": [
    "<a id=\"explore_top_streets\"></a>\n",
    "\n",
    "#### Определим топ-15 улиц по количеству заведений"
   ]
  },
  {
   "cell_type": "code",
   "execution_count": 43,
   "metadata": {},
   "outputs": [
    {
     "data": {
      "text/plain": [
       "<Figure size 1440x1440 with 0 Axes>"
      ]
     },
     "metadata": {},
     "output_type": "display_data"
    },
    {
     "data": {
      "image/png": "[encoded data removed]",
      "text/plain": [
       "<Figure size 432x288 with 1 Axes>"
      ]
     },
     "metadata": {
      "needs_background": "light"
     },
     "output_type": "display_data"
    }
   ],
   "source": [
    "top_15_streets = places['street'].value_counts().nlargest(15)\n",
    "\n",
    "top_15_places = places[places['street'].isin(top_15_streets.index)]\n",
    "\n",
    "# Создаем сводную таблицу по улицам и категориям заведений\n",
    "pivot_table_top_15 = pd.pivot_table(top_15_places, index='street', columns='category', values='name', aggfunc='count', fill_value=0)\n",
    "\n",
    "\n",
    "plt.figure(figsize=(20, 20));\n",
    "pivot_table_top_15.plot(kind='bar', stacked=True)\n",
    "plt.xlabel('Улица')\n",
    "plt.ylabel('Количество заведений')\n",
    "plt.title('Распределение количества заведений и их категорий по топ-15 улицам')\n",
    "plt.xticks(rotation=45, ha='right')\n",
    "plt.legend(title='Категория', bbox_to_anchor=(1, 1))\n",
    "\n",
    "plt.show()"
   ]
  },
  {
   "cell_type": "markdown",
   "metadata": {},
   "source": [
    "На различных улицах преобладают разные категории заведений. Например, на Варшавском шоссе и Дмитровском шоссе наибольшее количество заведений относится к категориям \"ресторан\" и \"кафе\", в то время как на Ленинградском проспекте и Профсоюзной улице чаще встречаются кофейни и кафе.\n",
    "\n",
    "Некоторые улицы, такие как проспект Мира и Кутузовский проспект, предлагают разнообразие заведений различных категорий, включая кафе, рестораны, быстрое питание и другие.\n",
    "\n",
    "МКАД отличается большим количеством заведений быстрого питания и кафе.\n",
    "\n",
    "Улицы Пятницкая и Вавилова представлены преимущественно ресторанами и кафе."
   ]
  },
  {
   "cell_type": "markdown",
   "metadata": {},
   "source": [
    "<a id=\"explore_single_outlets\"></a>\n",
    "\n",
    "#### Исследуем улицы, на которых находится только один объект общепита\n",
    "\n"
   ]
  },
  {
   "cell_type": "code",
   "execution_count": 44,
   "metadata": {},
   "outputs": [
    {
     "name": "stdout",
     "output_type": "stream",
     "text": [
      "Всего 458 улиц с одним заведением\n"
     ]
    }
   ],
   "source": [
    "one_count = places['street'].value_counts()\n",
    "streets_with_one_place = one_count[one_count == 1].index\n",
    "\n",
    "print('Всего', len(streets_with_one_place), 'улиц с одним заведением')"
   ]
  },
  {
   "cell_type": "markdown",
   "metadata": {},
   "source": [
    "Может показаться что 458 улиц где находится только 1 заведение это много, но во-первых в Москве более 4000 улиц, а во-вторых двайте посмотрим на карту"
   ]
  },
  {
   "cell_type": "raw",
   "metadata": {
    "scrolled": true
   },
   "source": [
    "one_place = folium.Map(location=[55.751244, 37.618423], zoom_start=12)\n",
    "\n",
    "# Инициализируем кластеры маркеров\n",
    "marker_cluster = MarkerCluster().add_to(one_place)\n",
    "\n",
    "# Определение стилей маркеров для каждой категории\n",
    "category_icons = {\n",
    "    'бар,паб': 'https://img.icons8.com/?size=512&id=12863&format=png',\n",
    "    'булочная': 'https://img.icons8.com/?size=512&id=lQGIDcQs5Nk4&format=png',\n",
    "    'быстрое питание': 'https://img.icons8.com/?size=512&id=X5P4RGXlVSbo&format=png',\n",
    "    'кафе': 'https://img.icons8.com/?size=512&id=thxCjuSZ3Q8w&format=png',\n",
    "    'кофейня': 'https://img.icons8.com/?size=512&id=13286&format=png',\n",
    "    'пиццерия': 'https://img.icons8.com/?size=512&id=97684&format=png',\n",
    "    'ресторан': 'https://img.icons8.com/?size=512&id=24686&format=png',\n",
    "    'столовая': 'https://img.icons8.com/?size=512&id=61815&format=png',\n",
    "}\n",
    "\n",
    "# Фильтруем заведения, чтобы получить только те, которые находятся на улицах с одним заведением\n",
    "one_place_streets = places['street'].value_counts()\n",
    "streets_with_one_place = one_place_streets[one_place_streets == 1].index\n",
    "filtered_places = places[places['street'].isin(streets_with_one_place)]\n",
    "\n",
    "def create_clusters(row):\n",
    "    category = row['category']\n",
    "    icon = folium.CustomIcon(category_icons.get(category), icon_size=(30, 30))\n",
    "    \n",
    "    folium.Marker(\n",
    "        [row['lat'], row['lng']],\n",
    "        popup=f\"{row['name']} {row['rating']}\",\n",
    "        icon=icon,\n",
    "    ).add_to(marker_cluster)\n",
    "\n",
    "# Применяем функцию для создания кластеров к каждой строке датафрейма\n",
    "filtered_places.apply(create_clusters, axis=1)\n",
    "\n",
    "# Выводим карту\n",
    "one_place"
   ]
  },
  {
   "cell_type": "markdown",
   "metadata": {},
   "source": [
    "Даже если заведение одно на улицу, в нескольких метрах от него может проходить уже другая улица, поэтому все равно, заведения находятся близко друг к другу. Чем дальше от центра, тем меньше количество заведений"
   ]
  },
  {
   "cell_type": "markdown",
   "metadata": {},
   "source": [
    "<a id=\"explore_median_prices\"></a>\n",
    "\n",
    "#### Посчитаем медиану средних чеков для каждого района"
   ]
  },
  {
   "cell_type": "raw",
   "metadata": {},
   "source": [
    "median_price_by_district = places.groupby('district')['middle_avg_bill'].median().reset_index()\n",
    "\n",
    "# Создание карты Москвы\n",
    "m = folium.Map(location=[55.751244, 37.618423], zoom_start=10)\n",
    "\n",
    "# Создание хороплета с помощью конструктора Choropleth и добавление его на карту\n",
    "Choropleth(\n",
    "    geo_data=geo_json,\n",
    "    data=median_price_by_district,\n",
    "    columns=['district', 'middle_avg_bill'],\n",
    "    key_on='feature.properties.name',\n",
    "    fill_color='YlGnBu',\n",
    "    fill_opacity=0.7,\n",
    "    line_opacity=0.2,\n",
    "    legend_name='Медианная стоимость заказа (руб)',\n",
    ").add_to(m)\n",
    "\n",
    "# Вывод карты\n",
    "m\n"
   ]
  },
  {
   "cell_type": "markdown",
   "metadata": {},
   "source": [
    "Центральный административный округ имеет наивысшую среднюю стоимость заказа, составляющую 1000 рублей. Это может быть обусловлено более высокими ценами в ресторанах и кафе, а также широким выбором эксклюзивных заведений в центре города.\n",
    "\n",
    "Остальные округи (Восточный, Западный, Северный, Северо-Восточный, Северо-Западный, Юго-Восточный, Юго-Западный и Южный) имеют схожую среднюю стоимость заказа, составляющую примерно 500-525 рублей. Это может указывать на более доступные цены в заведениях этих районов."
   ]
  },
  {
   "cell_type": "markdown",
   "metadata": {},
   "source": [
    "<a id=\"data_analysis_summary\"></a>\n",
    "\n",
    "#### ВЫВОД"
   ]
  },
  {
   "cell_type": "markdown",
   "metadata": {},
   "source": [
    "Анализ данных показал, что **наиболее популярными заведениями являются кафе, рестораны и кофейни**. **Рестораны, бары и пиццерии предоставляют больше посадочных мест**, чем кафе, но это может быть связано с неполными данными. **Большинство заведений в Москве не являются сетевыми**, <u>но среди сетевых заведений наиболее популярны пиццерии и кофейни</u>, такие как \"Шоколадница\", \"Домино\" и \"Додо Пицца\". **Количество заведений возрастает в центральном округе, где также выше рейтинг и средний чек заведений**. Кроме того, ближе к центру города у людей больше потребность в кафе и ресторанах, а при наличии парка – в кофейнях. Однако, дальше от центра можно найти больше кафе и заведений быстрого питания."
   ]
  },
  {
   "cell_type": "markdown",
   "metadata": {},
   "source": [
    "<a id=\"open_coffee_shop\"></a>\n",
    "\n",
    "### Детальный анализ кофеен\n",
    "\n",
    "Перейдем к более детальному исследованию, связанному с открытием кофейни. Мы выясним, сколько всего кофеен в датасете и в каких районах их больше всего. Также узнаем, есть ли круглосуточные кофейни и какие у них рейтинги. Мы посмотрим на распределение рейтингов кофеен по районам и определимся с ценовым диапазоном для чашки капучино при открытии своего заведения.\n"
   ]
  },
  {
   "cell_type": "markdown",
   "metadata": {},
   "source": [
    "<a id=\"explore_coffee_shops\"></a>\n",
    "\n",
    "#### Сколько всего кофеен в датасете? В каких районах их больше всего, каковы особенности их расположения?\n"
   ]
  },
  {
   "cell_type": "code",
   "execution_count": 47,
   "metadata": {
    "scrolled": true
   },
   "outputs": [
    {
     "name": "stdout",
     "output_type": "stream",
     "text": [
      "Всего кофеен в датасете: 1413\n"
     ]
    }
   ],
   "source": [
    "total_coffees = len(places[places['category'] == 'кофейня'])\n",
    "\n",
    "print(\"Всего кофеен в датасете:\", total_coffees)"
   ]
  },
  {
   "cell_type": "code",
   "execution_count": 48,
   "metadata": {},
   "outputs": [
    {
     "name": "stdout",
     "output_type": "stream",
     "text": [
      "Больше всего кофеен в районе: Центральный административный округ\n",
      "Количество кофеен: 428\n"
     ]
    }
   ],
   "source": [
    "coffee_shops_by_district = places[places['category'] == 'кофейня'].groupby('district')['name'].count().sort_values()\n",
    "\n",
    "most_coffee_shops_district = coffee_shops_by_district.idxmax()\n",
    "most_coffee_shops_count = coffee_shops_by_district.max()\n",
    "\n",
    "print(\"Больше всего кофеен в районе:\", most_coffee_shops_district)\n",
    "print(\"Количество кофеен:\", most_coffee_shops_count)\n"
   ]
  },
  {
   "cell_type": "raw",
   "metadata": {
    "scrolled": true
   },
   "source": [
    "map_coffee_shops = folium.Map(location=[55.753215, 37.622504], zoom_start=11)\n",
    "\n",
    "# Создание объекта MarkerCluster\n",
    "marker_cluster = MarkerCluster().add_to(map_coffee_shops)\n",
    "\n",
    "# Добавление меток для кофеен в кластер\n",
    "for _, row in places[places['category'] == 'кофейня'].iterrows():\n",
    "    popup_text = f\"{row['name']}, Адрес: {row['address']}\"\n",
    "    folium.Marker([row['lat'], row['lng']], popup=popup_text).add_to(marker_cluster)\n",
    "\n",
    "\n",
    "map_coffee_shops"
   ]
  },
  {
   "cell_type": "code",
   "execution_count": 50,
   "metadata": {
    "scrolled": true
   },
   "outputs": [
    {
     "data": {
      "image/png": "[encoded data removed]",
      "text/plain": [
       "<Figure size 576x576 with 1 Axes>"
      ]
     },
     "metadata": {
      "needs_background": "light"
     },
     "output_type": "display_data"
    }
   ],
   "source": [
    "plt.figure(figsize=(8, 8))\n",
    "sns.barplot(y=coffee_shops_by_district.index, x=coffee_shops_by_district.values, palette='viridis')\n",
    "plt.xlabel('Количество кофеен')\n",
    "plt.ylabel('Район')\n",
    "plt.title('Количество кофеен по районам')\n",
    "plt.show()"
   ]
  },
  {
   "cell_type": "markdown",
   "metadata": {},
   "source": [
    "<a id=\"explore_coffee_prices\"></a>\n",
    "\n",
    "#### Распределение цен за чашку кофе по районам"
   ]
  },
  {
   "cell_type": "raw",
   "metadata": {},
   "source": [
    "median_price_by_district = places.groupby('district')['middle_coffee_cup'].mean().reset_index()\n",
    "\n",
    "# Создание карты Москвы\n",
    "m = folium.Map(location=[55.751244, 37.618423], zoom_start=10)\n",
    "\n",
    "# Создание хороплета с помощью конструктора Choropleth и добавление его на карту\n",
    "Choropleth(\n",
    "    geo_data=geo_json,\n",
    "    data=median_price_by_district,\n",
    "    columns=['district', 'middle_coffee_cup'],\n",
    "    key_on='feature.properties.name',\n",
    "    fill_color='YlGnBu',\n",
    "    fill_opacity=0.7,\n",
    "    line_opacity=0.2,\n",
    "    legend_name='Медианная стоимость заказа (руб)',\n",
    ").add_to(m)\n",
    "\n",
    "# Вывод карты\n",
    "m\n"
   ]
  },
  {
   "cell_type": "markdown",
   "metadata": {},
   "source": [
    "<a id=\"explore_24_7_coffee\"></a>\n",
    "\n",
    "#### Есть ли круглосуточные кофейни?\n"
   ]
  },
  {
   "cell_type": "code",
   "execution_count": 52,
   "metadata": {
    "scrolled": true
   },
   "outputs": [
    {
     "name": "stdout",
     "output_type": "stream",
     "text": [
      "Да, в датасете 59 круглосуточных кофеен.\n"
     ]
    }
   ],
   "source": [
    "# Создание переменной с кофейнями\n",
    "coffee_shops = places[places['category'] == 'кофейня']\n",
    "\n",
    "# Проверка наличия круглосуточных кофеен в переменной\n",
    "round_the_clock_coffee_shops = coffee_shops[coffee_shops['is_24/7'] == True]\n",
    "\n",
    "if len(round_the_clock_coffee_shops) > 0:\n",
    "    print(\"Да, в датасете\", len(round_the_clock_coffee_shops),\"круглосуточных кофеен.\")\n",
    "else:\n",
    "    print(\"Круглосуточных кофеен в датасете нет.\")\n"
   ]
  },
  {
   "cell_type": "code",
   "execution_count": 53,
   "metadata": {},
   "outputs": [
    {
     "data": {
      "text/plain": [
       "22"
      ]
     },
     "execution_count": 53,
     "metadata": {},
     "output_type": "execute_result"
    }
   ],
   "source": [
    "round_the_clock_coffee_shops['name'].nunique()"
   ]
  },
  {
   "cell_type": "markdown",
   "metadata": {},
   "source": [
    "22 наименования заведений, которые имеют 59 точек кофеен, работают круглосуточно!"
   ]
  },
  {
   "cell_type": "markdown",
   "metadata": {},
   "source": [
    "**Обычно, кофейням нет смысла работать по ночам, единицы пойдут пить кофе ночью, поэтому выручки не будет**"
   ]
  },
  {
   "cell_type": "markdown",
   "metadata": {},
   "source": [
    "<a id=\"explore_coffee_ratings\"></a>\n",
    "\n",
    "#### Какие у кофеен рейтинги? Как они распределяются по районам?\n"
   ]
  },
  {
   "cell_type": "code",
   "execution_count": 54,
   "metadata": {},
   "outputs": [
    {
     "name": "stdout",
     "output_type": "stream",
     "text": [
      "Усредненные рейтинги кофеен:\n",
      "name\n",
      "18 грамм             4.4\n",
      "2-й этаж             4.3\n",
      "2046                 4.8\n",
      "22 акра кофе&хлеб    4.4\n",
      "42 coffee shop       4.4\n",
      "                    ... \n",
      "это кофейня          4.4\n",
      "этокофе              4.7\n",
      "эшторил              4.2\n",
      "я кофе               3.8\n",
      "ялва                 4.5\n",
      "Name: rating, Length: 826, dtype: float64\n"
     ]
    }
   ],
   "source": [
    "average_ratings_by_name = coffee_shops.groupby('name')['rating'].median()\n",
    "\n",
    "print(\"Усредненные рейтинги кофеен:\")\n",
    "print(average_ratings_by_name)\n"
   ]
  },
  {
   "cell_type": "markdown",
   "metadata": {},
   "source": [
    "Лучше посмотрим на распределение рейтингов"
   ]
  },
  {
   "cell_type": "code",
   "execution_count": 55,
   "metadata": {
    "scrolled": true
   },
   "outputs": [
    {
     "data": {
      "text/plain": [
       "count    1413.000000\n",
       "mean        4.277282\n",
       "std         0.372250\n",
       "min         1.400000\n",
       "25%         4.100000\n",
       "50%         4.300000\n",
       "75%         4.400000\n",
       "max         5.000000\n",
       "Name: rating, dtype: float64"
      ]
     },
     "execution_count": 55,
     "metadata": {},
     "output_type": "execute_result"
    }
   ],
   "source": [
    "coffee_shops['rating'].describe()"
   ]
  },
  {
   "cell_type": "markdown",
   "metadata": {},
   "source": [
    "Интересно посмотреть каким кофейням чаще ставят 5.0 сетевым или несетевым."
   ]
  },
  {
   "cell_type": "code",
   "execution_count": 56,
   "metadata": {},
   "outputs": [],
   "source": [
    "# Кофейни с рейтингом 5 и сетевые\n",
    "coffee_shops_with_rating_5_and_chain = coffee_shops[(coffee_shops['rating'] == 5.0) & (coffee_shops['chain'] == 1)]\n",
    "# Кофейни с рейтингом 5 и несетевые\n",
    "coffee_shops_with_rating_5_and_not_chain = coffee_shops[(coffee_shops['rating'] == 5.0) & (coffee_shops['chain'] == 0)]"
   ]
  },
  {
   "cell_type": "code",
   "execution_count": 57,
   "metadata": {},
   "outputs": [
    {
     "data": {
      "image/png": "[encoded data removed]",
      "text/plain": [
       "<Figure size 576x432 with 1 Axes>"
      ]
     },
     "metadata": {
      "needs_background": "light"
     },
     "output_type": "display_data"
    }
   ],
   "source": [
    "labels = ['Сетевые', 'Несетевые']\n",
    "counts = [len(coffee_shops_with_rating_5_and_chain), len(coffee_shops_with_rating_5_and_not_chain)]\n",
    "\n",
    "plt.figure(figsize=(8, 6))\n",
    "plt.bar(labels, counts, color=['blue', 'green'])\n",
    "plt.ylabel('Количество кофеен с рейтингом 5')\n",
    "plt.title('Процентное соотношение кофеен с рейтингом 5 по кофейням')\n",
    "plt.show()"
   ]
  },
  {
   "cell_type": "markdown",
   "metadata": {},
   "source": [
    "Мы видим, что несетевые кофейни имеют рейтинг 5.0, это связано с тем, что несетевые кофейни, как правило, более индивидуальные и уникальные заведения, управляемые небольшими командами или одним владельцем"
   ]
  },
  {
   "cell_type": "markdown",
   "metadata": {},
   "source": [
    "<a id=\"explore_coffee_prices\"></a>\n",
    "\n",
    "#### На какую стоимость чашки капучино стоит ориентироваться при открытии и почему?"
   ]
  },
  {
   "cell_type": "code",
   "execution_count": 58,
   "metadata": {
    "scrolled": false
   },
   "outputs": [
    {
     "data": {
      "image/png": "[encoded data removed]",
      "text/plain": [
       "<Figure size 576x432 with 1 Axes>"
      ]
     },
     "metadata": {
      "needs_background": "light"
     },
     "output_type": "display_data"
    }
   ],
   "source": [
    "plt.figure(figsize=(8, 6))\n",
    "sns.violinplot(data=places, y='middle_coffee_cup', color='lightblue', inner='quartile')\n",
    "plt.ylabel('Стоимость чашки капучино, ₽')\n",
    "plt.title('Распределение стоимости чашки капучино')\n",
    "plt.ylim(0, 500)  # Устанавливаем ограничение по оси y\n",
    "plt.show()\n"
   ]
  },
  {
   "cell_type": "markdown",
   "metadata": {},
   "source": [
    "Медианная цена 200, а посмотрим на среднюю"
   ]
  },
  {
   "cell_type": "code",
   "execution_count": 59,
   "metadata": {},
   "outputs": [
    {
     "name": "stdout",
     "output_type": "stream",
     "text": [
      "Средняя цена чашки капучино в столице: 201.67 ₽\n"
     ]
    }
   ],
   "source": [
    "average_coffee_price = places['middle_coffee_cup'].mean()\n",
    "print(f\"Средняя цена чашки капучино в столице: {average_coffee_price:.2f} ₽\")"
   ]
  },
  {
   "cell_type": "markdown",
   "metadata": {},
   "source": [
    "Инвесторам, планирующим открыть кофейню, рекомендуется ориентироваться на цену чашки капучино, которая составляет около 200 рублей. "
   ]
  },
  {
   "cell_type": "markdown",
   "metadata": {},
   "source": [
    "<a id=\"summary_coffee\"></a>\n",
    "#### ВЫВОД по кофейням"
   ]
  },
  {
   "cell_type": "markdown",
   "metadata": {},
   "source": [
    "**В датасете представлено 1413 кофеен, и большинство из них расположено в Центральном административном округе Москвы**. \n",
    "22 наименования заведений, которые имеют 59 точек кофеен, работают круглосуточно!\n",
    "\n",
    "**Рейтинги** кофеен варьируются от 1.4 до 5.0, с **медианным значением 4.3**. Заведения с самыми высокими рейтингами распределены по различным районам Москвы. Каждый район имеет свою специфику и предпочтения в оценке заведений.\n",
    "\n",
    "**Медианная цена чашки капучино составляет 200 рублей**. Это ориентировочная стоимость, на которую можно ориентироваться при открытии новой кофейни.\n",
    "\n",
    "Также стоит отметить, **что несетевые кофейни имеют высокие рейтинги (5.0)**. Возможно, это связано с тем, что **несетевые кофейни обычно представляют собой более индивидуальные и уникальные заведения,** управляемые небольшими командами или одним владельцем, что создает особую атмосферу и привлекательность для посетителей."
   ]
  },
  {
   "cell_type": "markdown",
   "metadata": {},
   "source": [
    "<a id=\"potencial_coffee\"></a>\n",
    "#### Потенциальная кофейня"
   ]
  },
  {
   "cell_type": "markdown",
   "metadata": {},
   "source": [
    "Учитывая все вышесказанное, могу предложить отличное место для открытия кофейни"
   ]
  },
  {
   "cell_type": "raw",
   "metadata": {
    "scrolled": false
   },
   "source": [
    "mm = folium.Map(location=[55.675879, 37.484370], zoom_start=14)\n",
    "\n",
    "# Добавление маркера для указанных координат\n",
    "popup_text = \"Потенциальное место для открытия кофейни\"\n",
    "folium.Marker([55.675879, 37.484370], popup=popup_text, icon=folium.Icon(color='red')).add_to(mm)\n",
    "\n",
    "# Отображение карты\n",
    "mm"
   ]
  },
  {
   "cell_type": "markdown",
   "metadata": {},
   "source": [
    "Лучше всего открывать кофейню в месте с большим трафиком.\n",
    "Если открыть карту Москвы с отмеченными кофейнями, то мы увидим что рядом с предполагаемым местом кофейни находятся:\n",
    "- 2 крупных вуза МГИМО и МИРЭА, \n",
    "- метро Проспект Вернадского,\n",
    "- Парк Олимпийской деревни,\n",
    "- несколько жилых комплексов\n",
    "и рядом практически нет конкурентов!\n",
    "\n",
    "В Москве уже есть заведение которое имеет название \"Central Perk\" и создано как бы по образу сериала Друзья, но на самом деле, оно ничего общего не имеет с кофейней из сериала.\n",
    "Инвесчторам было бы выгодно вложиться и создать прототип кофейни из сериала, тогда бы помимо студентов,туристов и жителей района, можно было бы ожидать фанатов сериала.\n",
    "\n",
    "Анализируя данные, мы уже узнали что:\n",
    "- Западный округ включает в себя престижные районы с развитой культурной и деловой жизнью\n",
    "- Средней рейтинг по районам у Западного округа не самый низкий \n",
    "- Средняя стоимость чашки кофе достаточно высокая, от 203 рублей. "
   ]
  },
  {
   "cell_type": "markdown",
   "metadata": {},
   "source": [
    "<a id=\"the_end\"></a>\n",
    "### ВЫВОД ИССЛЕДОВАНИЯ"
   ]
  },
  {
   "cell_type": "markdown",
   "metadata": {},
   "source": [
    "Анализ данных об общественном питании в Москве позволил нам получить ценную информацию о характеристиках заведений, их распределении по районам и типам, а также оценить популярность и предпочтения посетителей.\n",
    "\n",
    "**Типы и характеристики заведений:**\n",
    "\n",
    "- Кафе, рестораны и кофейни являются наиболее распространенными типами заведений.\n",
    "- Рестораны, бары и пиццерии предоставляют больше посадочных мест по сравнению с кафе.\n",
    "- Количество посадочных мест в кафе может быть неполностью представлено в данных.\n",
    "\n",
    "\n",
    "- Большинство заведений в Москве являются несетевыми.\n",
    "- Среди сетевых заведений наиболее популярными являются пиццерии и кофейни, такие как \"Шоколадница\", \"Домино\" и \"Додо Пицца\".\n",
    "\n",
    "**Распределение заведений по районам:**\n",
    "\n",
    "- Заведения чаще располагаются в центральных районах Москвы.\n",
    "- Рейтинги и средние чеки заведений также выше в центральных районах.\n",
    "\n",
    "**Распределение рейтингов и средних цен:**\n",
    "\n",
    "- Рейтинги заведений варьируются от 1.4 до 5.0 с медианным значением 4.3.\n",
    "- Медианная цена чашки капучино составляет 200 рублей.\n",
    "\n",
    "**Кофейни:**\n",
    "\n",
    "- В датасете представлено 1413 кофеен, преимущественно расположенных в Центральном административном округе.\n",
    "- Отсутствуют круглосуточные кофейни в представленных данных.\n",
    "- Несетевые кофейни имеют высокие рейтинги (5.0), что может быть связано с их уникальностью и индивидуальностью."
   ]
  },
  {
   "cell_type": "markdown",
   "metadata": {},
   "source": [
    "<a id=\"create_presentation\"></a>\n",
    "### Презентация\n",
    "\n",
    "Собрав все данные и сделав необходимые анализы, мы подготовили презентацию для инвесторов.\n",
    "Презентация краткая, большая часть сведений проговаривается автором исследования"
   ]
  },
  {
   "cell_type": "markdown",
   "metadata": {},
   "source": [
    "Презентация: <https://disk.yandex.ru/i/Jrj0LAnz6ypmPA>"
   ]
  }
 ],
 "metadata": {
  "ExecuteTimeLog": [
   {
    "duration": 3,
    "start_time": "2023-07-18T11:12:59.115Z"
   },
   {
    "duration": 149,
    "start_time": "2023-07-18T11:14:48.411Z"
   },
   {
    "duration": 1673,
    "start_time": "2023-07-18T11:20:08.371Z"
   },
   {
    "duration": 3,
    "start_time": "2023-07-18T11:20:14.878Z"
   },
   {
    "duration": 115,
    "start_time": "2023-07-18T11:20:16.305Z"
   },
   {
    "duration": 31,
    "start_time": "2023-07-18T11:20:29.351Z"
   },
   {
    "duration": 4,
    "start_time": "2023-07-18T11:20:57.220Z"
   },
   {
    "duration": 2,
    "start_time": "2023-07-18T11:20:57.654Z"
   },
   {
    "duration": 65,
    "start_time": "2023-07-18T11:20:58.143Z"
   },
   {
    "duration": 19,
    "start_time": "2023-07-18T11:20:59.881Z"
   },
   {
    "duration": 3,
    "start_time": "2023-07-18T11:21:13.193Z"
   },
   {
    "duration": 2,
    "start_time": "2023-07-18T11:21:16.381Z"
   },
   {
    "duration": 60,
    "start_time": "2023-07-18T11:21:16.855Z"
   },
   {
    "duration": 20,
    "start_time": "2023-07-18T11:21:17.543Z"
   },
   {
    "duration": 2,
    "start_time": "2023-07-18T11:21:42.351Z"
   },
   {
    "duration": 18,
    "start_time": "2023-07-18T11:21:46.667Z"
   },
   {
    "duration": 3,
    "start_time": "2023-07-18T12:28:44.258Z"
   },
   {
    "duration": 2,
    "start_time": "2023-07-18T12:28:44.465Z"
   },
   {
    "duration": 2,
    "start_time": "2023-07-18T12:28:44.641Z"
   },
   {
    "duration": 76,
    "start_time": "2023-07-18T12:28:44.857Z"
   },
   {
    "duration": 18,
    "start_time": "2023-07-18T12:28:45.066Z"
   },
   {
    "duration": 13,
    "start_time": "2023-07-18T12:29:45.863Z"
   },
   {
    "duration": 27,
    "start_time": "2023-07-18T12:30:04.634Z"
   },
   {
    "duration": 34,
    "start_time": "2023-07-18T12:43:05.956Z"
   },
   {
    "duration": 5,
    "start_time": "2023-07-18T12:44:27.442Z"
   },
   {
    "duration": 6,
    "start_time": "2023-07-18T12:44:36.681Z"
   },
   {
    "duration": 105,
    "start_time": "2023-07-18T12:44:47.650Z"
   },
   {
    "duration": 9,
    "start_time": "2023-07-18T12:44:55.842Z"
   },
   {
    "duration": 52,
    "start_time": "2023-07-18T12:45:09.313Z"
   },
   {
    "duration": 11,
    "start_time": "2023-07-18T12:45:18.345Z"
   },
   {
    "duration": 6,
    "start_time": "2023-07-18T12:45:22.059Z"
   },
   {
    "duration": 8,
    "start_time": "2023-07-18T12:55:59.377Z"
   },
   {
    "duration": 20,
    "start_time": "2023-07-18T12:57:30.478Z"
   },
   {
    "duration": 9,
    "start_time": "2023-07-18T12:57:44.078Z"
   },
   {
    "duration": 13,
    "start_time": "2023-07-18T12:57:50.444Z"
   },
   {
    "duration": 13,
    "start_time": "2023-07-18T12:58:09.259Z"
   },
   {
    "duration": 24,
    "start_time": "2023-07-18T13:02:12.646Z"
   },
   {
    "duration": 490,
    "start_time": "2023-07-18T13:04:10.490Z"
   },
   {
    "duration": 402,
    "start_time": "2023-07-18T13:04:17.563Z"
   },
   {
    "duration": 485,
    "start_time": "2023-07-18T13:04:22.547Z"
   },
   {
    "duration": 5,
    "start_time": "2023-07-18T13:30:37.334Z"
   },
   {
    "duration": 438,
    "start_time": "2023-07-18T13:30:50.885Z"
   },
   {
    "duration": 6,
    "start_time": "2023-07-18T13:43:03.655Z"
   },
   {
    "duration": 13,
    "start_time": "2023-07-18T13:56:08.354Z"
   },
   {
    "duration": 8,
    "start_time": "2023-07-18T13:56:20.426Z"
   },
   {
    "duration": 23,
    "start_time": "2023-07-18T14:00:10.559Z"
   },
   {
    "duration": 17,
    "start_time": "2023-07-18T14:00:59.129Z"
   },
   {
    "duration": 9,
    "start_time": "2023-07-18T14:01:20.741Z"
   },
   {
    "duration": 18,
    "start_time": "2023-07-18T14:01:26.966Z"
   },
   {
    "duration": 445,
    "start_time": "2023-07-18T14:06:08.169Z"
   },
   {
    "duration": 5,
    "start_time": "2023-07-18T14:07:47.220Z"
   },
   {
    "duration": 1375,
    "start_time": "2023-07-18T14:09:12.451Z"
   },
   {
    "duration": 4,
    "start_time": "2023-07-18T14:09:13.828Z"
   },
   {
    "duration": 17,
    "start_time": "2023-07-18T14:09:13.833Z"
   },
   {
    "duration": 78,
    "start_time": "2023-07-18T14:09:13.853Z"
   },
   {
    "duration": 26,
    "start_time": "2023-07-18T14:09:13.933Z"
   },
   {
    "duration": 67,
    "start_time": "2023-07-18T14:09:13.961Z"
   },
   {
    "duration": 6,
    "start_time": "2023-07-18T14:09:14.029Z"
   },
   {
    "duration": 130,
    "start_time": "2023-07-18T14:09:14.036Z"
   },
   {
    "duration": 0,
    "start_time": "2023-07-18T14:09:14.168Z"
   },
   {
    "duration": 0,
    "start_time": "2023-07-18T14:09:14.169Z"
   },
   {
    "duration": 0,
    "start_time": "2023-07-18T14:09:14.171Z"
   },
   {
    "duration": 8,
    "start_time": "2023-07-18T14:14:21.411Z"
   },
   {
    "duration": 15,
    "start_time": "2023-07-18T14:16:16.096Z"
   },
   {
    "duration": 5,
    "start_time": "2023-07-18T14:17:00.441Z"
   },
   {
    "duration": 5,
    "start_time": "2023-07-18T14:17:25.640Z"
   },
   {
    "duration": 1441,
    "start_time": "2023-07-18T14:17:37.743Z"
   },
   {
    "duration": 3,
    "start_time": "2023-07-18T14:17:39.185Z"
   },
   {
    "duration": 15,
    "start_time": "2023-07-18T14:17:39.190Z"
   },
   {
    "duration": 74,
    "start_time": "2023-07-18T14:17:39.207Z"
   },
   {
    "duration": 26,
    "start_time": "2023-07-18T14:17:39.283Z"
   },
   {
    "duration": 44,
    "start_time": "2023-07-18T14:17:39.310Z"
   },
   {
    "duration": 6,
    "start_time": "2023-07-18T14:17:39.355Z"
   },
   {
    "duration": 6,
    "start_time": "2023-07-18T14:17:39.363Z"
   },
   {
    "duration": 8,
    "start_time": "2023-07-18T14:17:39.371Z"
   },
   {
    "duration": 10,
    "start_time": "2023-07-18T14:17:39.381Z"
   },
   {
    "duration": 46,
    "start_time": "2023-07-18T14:17:39.392Z"
   },
   {
    "duration": 23,
    "start_time": "2023-07-18T14:21:37.645Z"
   },
   {
    "duration": 107,
    "start_time": "2023-07-18T14:21:50.132Z"
   },
   {
    "duration": 24,
    "start_time": "2023-07-18T14:22:24.502Z"
   },
   {
    "duration": 23,
    "start_time": "2023-07-18T15:00:36.472Z"
   },
   {
    "duration": 14,
    "start_time": "2023-07-18T15:01:55.615Z"
   },
   {
    "duration": 28,
    "start_time": "2023-07-18T15:01:59.947Z"
   },
   {
    "duration": 29,
    "start_time": "2023-07-18T15:02:37.513Z"
   },
   {
    "duration": 13,
    "start_time": "2023-07-18T15:19:41.000Z"
   },
   {
    "duration": 27,
    "start_time": "2023-07-18T15:20:08.744Z"
   },
   {
    "duration": 25,
    "start_time": "2023-07-18T15:20:52.389Z"
   },
   {
    "duration": 27,
    "start_time": "2023-07-18T15:21:20.102Z"
   },
   {
    "duration": 9,
    "start_time": "2023-07-19T13:19:41.287Z"
   },
   {
    "duration": 1726,
    "start_time": "2023-07-19T13:19:50.168Z"
   },
   {
    "duration": 3,
    "start_time": "2023-07-19T13:19:51.896Z"
   },
   {
    "duration": 25,
    "start_time": "2023-07-19T13:19:51.900Z"
   },
   {
    "duration": 245,
    "start_time": "2023-07-19T13:19:51.927Z"
   },
   {
    "duration": 32,
    "start_time": "2023-07-19T13:19:52.175Z"
   },
   {
    "duration": 58,
    "start_time": "2023-07-19T13:19:52.208Z"
   },
   {
    "duration": 7,
    "start_time": "2023-07-19T13:19:52.269Z"
   },
   {
    "duration": 17,
    "start_time": "2023-07-19T13:19:52.278Z"
   },
   {
    "duration": 55,
    "start_time": "2023-07-19T13:19:52.297Z"
   },
   {
    "duration": 43,
    "start_time": "2023-07-19T13:19:52.354Z"
   },
   {
    "duration": 9,
    "start_time": "2023-07-19T13:19:52.399Z"
   },
   {
    "duration": 4,
    "start_time": "2023-07-19T13:20:10.513Z"
   },
   {
    "duration": 6,
    "start_time": "2023-07-19T13:20:28.172Z"
   },
   {
    "duration": 5,
    "start_time": "2023-07-19T13:20:50.601Z"
   },
   {
    "duration": 12,
    "start_time": "2023-07-19T13:24:11.059Z"
   },
   {
    "duration": 7,
    "start_time": "2023-07-19T13:24:56.826Z"
   },
   {
    "duration": 5,
    "start_time": "2023-07-19T13:25:09.670Z"
   },
   {
    "duration": 7,
    "start_time": "2023-07-19T13:25:39.797Z"
   },
   {
    "duration": 1974,
    "start_time": "2023-07-19T13:26:02.832Z"
   },
   {
    "duration": 5,
    "start_time": "2023-07-19T13:26:22.310Z"
   },
   {
    "duration": 5,
    "start_time": "2023-07-19T13:26:34.918Z"
   },
   {
    "duration": 13,
    "start_time": "2023-07-19T13:26:35.422Z"
   },
   {
    "duration": 4,
    "start_time": "2023-07-19T13:26:35.969Z"
   },
   {
    "duration": 6,
    "start_time": "2023-07-19T13:26:46.581Z"
   },
   {
    "duration": 1774,
    "start_time": "2023-07-19T13:26:47.058Z"
   },
   {
    "duration": 0,
    "start_time": "2023-07-19T13:26:48.833Z"
   },
   {
    "duration": 5,
    "start_time": "2023-07-19T13:26:52.955Z"
   },
   {
    "duration": 7,
    "start_time": "2023-07-19T13:27:01.167Z"
   },
   {
    "duration": 1825,
    "start_time": "2023-07-19T13:27:02.606Z"
   },
   {
    "duration": 0,
    "start_time": "2023-07-19T13:27:04.433Z"
   },
   {
    "duration": 5,
    "start_time": "2023-07-19T13:27:07.659Z"
   },
   {
    "duration": 6,
    "start_time": "2023-07-19T13:27:47.376Z"
   },
   {
    "duration": 11,
    "start_time": "2023-07-19T13:27:55.480Z"
   },
   {
    "duration": 1929,
    "start_time": "2023-07-19T13:28:01.365Z"
   },
   {
    "duration": 8,
    "start_time": "2023-07-19T13:28:21.206Z"
   },
   {
    "duration": 6,
    "start_time": "2023-07-19T13:28:22.681Z"
   },
   {
    "duration": 6,
    "start_time": "2023-07-19T13:28:36.677Z"
   },
   {
    "duration": 1551,
    "start_time": "2023-07-19T13:28:47.152Z"
   },
   {
    "duration": 3,
    "start_time": "2023-07-19T13:28:48.705Z"
   },
   {
    "duration": 26,
    "start_time": "2023-07-19T13:28:48.710Z"
   },
   {
    "duration": 76,
    "start_time": "2023-07-19T13:28:48.739Z"
   },
   {
    "duration": 29,
    "start_time": "2023-07-19T13:28:48.817Z"
   },
   {
    "duration": 59,
    "start_time": "2023-07-19T13:28:48.848Z"
   },
   {
    "duration": 7,
    "start_time": "2023-07-19T13:28:48.909Z"
   },
   {
    "duration": 20,
    "start_time": "2023-07-19T13:28:48.918Z"
   },
   {
    "duration": 49,
    "start_time": "2023-07-19T13:28:48.940Z"
   },
   {
    "duration": 34,
    "start_time": "2023-07-19T13:28:48.992Z"
   },
   {
    "duration": 39,
    "start_time": "2023-07-19T13:28:49.028Z"
   },
   {
    "duration": 22,
    "start_time": "2023-07-19T13:28:49.069Z"
   },
   {
    "duration": 37,
    "start_time": "2023-07-19T13:28:49.093Z"
   },
   {
    "duration": 27,
    "start_time": "2023-07-19T13:28:49.132Z"
   },
   {
    "duration": 8,
    "start_time": "2023-07-19T13:29:15.821Z"
   },
   {
    "duration": 6,
    "start_time": "2023-07-19T13:29:16.322Z"
   },
   {
    "duration": 32,
    "start_time": "2023-07-19T13:29:20.626Z"
   },
   {
    "duration": 9,
    "start_time": "2023-07-19T13:31:35.208Z"
   },
   {
    "duration": 128,
    "start_time": "2023-07-19T13:34:02.936Z"
   },
   {
    "duration": 61,
    "start_time": "2023-07-19T13:34:46.570Z"
   },
   {
    "duration": 1512,
    "start_time": "2023-07-19T13:34:55.069Z"
   },
   {
    "duration": 3,
    "start_time": "2023-07-19T13:34:56.583Z"
   },
   {
    "duration": 20,
    "start_time": "2023-07-19T13:34:56.587Z"
   },
   {
    "duration": 82,
    "start_time": "2023-07-19T13:34:56.609Z"
   },
   {
    "duration": 29,
    "start_time": "2023-07-19T13:34:56.693Z"
   },
   {
    "duration": 66,
    "start_time": "2023-07-19T13:34:56.724Z"
   },
   {
    "duration": 6,
    "start_time": "2023-07-19T13:34:56.792Z"
   },
   {
    "duration": 695,
    "start_time": "2023-07-19T13:34:56.800Z"
   },
   {
    "duration": 8,
    "start_time": "2023-07-19T13:34:57.497Z"
   },
   {
    "duration": 41,
    "start_time": "2023-07-19T13:34:57.508Z"
   },
   {
    "duration": 58,
    "start_time": "2023-07-19T13:34:57.551Z"
   },
   {
    "duration": 13,
    "start_time": "2023-07-19T13:34:57.611Z"
   },
   {
    "duration": 15,
    "start_time": "2023-07-19T13:34:57.626Z"
   },
   {
    "duration": 31,
    "start_time": "2023-07-19T13:34:57.643Z"
   },
   {
    "duration": 8,
    "start_time": "2023-07-19T13:37:15.342Z"
   },
   {
    "duration": 10,
    "start_time": "2023-07-19T13:51:36.624Z"
   },
   {
    "duration": 8,
    "start_time": "2023-07-19T13:51:46.464Z"
   },
   {
    "duration": 7,
    "start_time": "2023-07-19T13:52:32.442Z"
   },
   {
    "duration": 5,
    "start_time": "2023-07-19T13:52:38.017Z"
   },
   {
    "duration": 36,
    "start_time": "2023-07-19T13:53:02.227Z"
   },
   {
    "duration": 5,
    "start_time": "2023-07-19T13:55:28.417Z"
   },
   {
    "duration": 7,
    "start_time": "2023-07-19T13:55:45.935Z"
   },
   {
    "duration": 115,
    "start_time": "2023-07-19T13:55:56.650Z"
   },
   {
    "duration": 5,
    "start_time": "2023-07-19T13:56:01.418Z"
   },
   {
    "duration": 6,
    "start_time": "2023-07-19T13:56:04.522Z"
   },
   {
    "duration": 5,
    "start_time": "2023-07-19T13:56:12.522Z"
   },
   {
    "duration": 5,
    "start_time": "2023-07-19T13:56:15.737Z"
   },
   {
    "duration": 26,
    "start_time": "2023-07-19T13:58:11.058Z"
   },
   {
    "duration": 118,
    "start_time": "2023-07-19T14:03:40.501Z"
   },
   {
    "duration": 110,
    "start_time": "2023-07-19T14:03:44.415Z"
   },
   {
    "duration": 12,
    "start_time": "2023-07-19T14:03:44.941Z"
   },
   {
    "duration": 3,
    "start_time": "2023-07-19T14:03:52.145Z"
   },
   {
    "duration": 14,
    "start_time": "2023-07-19T14:03:53.117Z"
   },
   {
    "duration": 7,
    "start_time": "2023-07-19T14:04:04.239Z"
   },
   {
    "duration": 24,
    "start_time": "2023-07-19T14:09:04.426Z"
   },
   {
    "duration": 15,
    "start_time": "2023-07-19T14:09:21.692Z"
   },
   {
    "duration": 5,
    "start_time": "2023-07-19T14:09:33.851Z"
   },
   {
    "duration": 10,
    "start_time": "2023-07-19T14:09:45.228Z"
   },
   {
    "duration": 17,
    "start_time": "2023-07-19T14:09:58.124Z"
   },
   {
    "duration": 16,
    "start_time": "2023-07-19T14:10:04.702Z"
   },
   {
    "duration": 15,
    "start_time": "2023-07-19T14:13:27.702Z"
   },
   {
    "duration": 6,
    "start_time": "2023-07-19T14:13:30.485Z"
   },
   {
    "duration": 26,
    "start_time": "2023-07-19T14:13:43.530Z"
   },
   {
    "duration": 11,
    "start_time": "2023-07-19T14:14:11.592Z"
   },
   {
    "duration": 13,
    "start_time": "2023-07-19T14:14:18.264Z"
   },
   {
    "duration": 26,
    "start_time": "2023-07-19T14:14:39.463Z"
   },
   {
    "duration": 31,
    "start_time": "2023-07-19T14:15:30.875Z"
   },
   {
    "duration": 29,
    "start_time": "2023-07-19T14:15:41.076Z"
   },
   {
    "duration": 31,
    "start_time": "2023-07-19T14:15:54.109Z"
   },
   {
    "duration": 26,
    "start_time": "2023-07-19T14:16:59.076Z"
   },
   {
    "duration": 107,
    "start_time": "2023-07-19T14:23:25.610Z"
   },
   {
    "duration": 7,
    "start_time": "2023-07-19T14:23:28.247Z"
   },
   {
    "duration": 6,
    "start_time": "2023-07-19T14:24:34.824Z"
   },
   {
    "duration": 7,
    "start_time": "2023-07-19T14:24:41.944Z"
   },
   {
    "duration": 7,
    "start_time": "2023-07-19T14:24:51.945Z"
   },
   {
    "duration": 7,
    "start_time": "2023-07-19T14:24:54.472Z"
   },
   {
    "duration": 8,
    "start_time": "2023-07-19T14:25:04.081Z"
   },
   {
    "duration": 1619,
    "start_time": "2023-07-19T14:25:15.542Z"
   },
   {
    "duration": 4,
    "start_time": "2023-07-19T14:25:17.163Z"
   },
   {
    "duration": 22,
    "start_time": "2023-07-19T14:25:17.168Z"
   },
   {
    "duration": 69,
    "start_time": "2023-07-19T14:25:17.193Z"
   },
   {
    "duration": 29,
    "start_time": "2023-07-19T14:25:17.264Z"
   },
   {
    "duration": 45,
    "start_time": "2023-07-19T14:25:17.295Z"
   },
   {
    "duration": 31,
    "start_time": "2023-07-19T14:25:17.342Z"
   },
   {
    "duration": 24,
    "start_time": "2023-07-19T14:25:17.375Z"
   },
   {
    "duration": 674,
    "start_time": "2023-07-19T14:25:17.401Z"
   },
   {
    "duration": 9,
    "start_time": "2023-07-19T14:25:18.078Z"
   },
   {
    "duration": 23,
    "start_time": "2023-07-19T14:25:18.089Z"
   },
   {
    "duration": 28,
    "start_time": "2023-07-19T14:25:18.114Z"
   },
   {
    "duration": 23,
    "start_time": "2023-07-19T14:25:18.145Z"
   },
   {
    "duration": 123,
    "start_time": "2023-07-19T14:25:18.170Z"
   },
   {
    "duration": 7,
    "start_time": "2023-07-19T14:25:27.261Z"
   },
   {
    "duration": 6,
    "start_time": "2023-07-19T14:25:31.419Z"
   },
   {
    "duration": 5,
    "start_time": "2023-07-19T14:25:39.797Z"
   },
   {
    "duration": 6,
    "start_time": "2023-07-19T14:26:12.702Z"
   },
   {
    "duration": 10,
    "start_time": "2023-07-19T14:26:23.113Z"
   },
   {
    "duration": 5,
    "start_time": "2023-07-19T14:28:03.675Z"
   },
   {
    "duration": 7,
    "start_time": "2023-07-19T14:28:35.579Z"
   },
   {
    "duration": 115,
    "start_time": "2023-07-19T14:29:07.142Z"
   },
   {
    "duration": 23,
    "start_time": "2023-07-19T14:29:14.238Z"
   },
   {
    "duration": 5,
    "start_time": "2023-07-19T14:42:24.582Z"
   },
   {
    "duration": 6,
    "start_time": "2023-07-19T14:42:39.931Z"
   },
   {
    "duration": 6,
    "start_time": "2023-07-19T14:43:45.018Z"
   },
   {
    "duration": 6,
    "start_time": "2023-07-19T14:43:46.279Z"
   },
   {
    "duration": 4,
    "start_time": "2023-07-19T14:44:06.414Z"
   },
   {
    "duration": 419,
    "start_time": "2023-07-19T14:45:02.420Z"
   },
   {
    "duration": 5,
    "start_time": "2023-07-19T14:45:11.538Z"
   },
   {
    "duration": 33,
    "start_time": "2023-07-19T14:45:33.669Z"
   },
   {
    "duration": 4,
    "start_time": "2023-07-19T14:45:39.180Z"
   },
   {
    "duration": 36,
    "start_time": "2023-07-19T14:45:39.568Z"
   },
   {
    "duration": 1671,
    "start_time": "2023-07-19T14:45:47.454Z"
   },
   {
    "duration": 7,
    "start_time": "2023-07-19T14:45:49.127Z"
   },
   {
    "duration": 26,
    "start_time": "2023-07-19T14:45:49.135Z"
   },
   {
    "duration": 73,
    "start_time": "2023-07-19T14:45:49.164Z"
   },
   {
    "duration": 32,
    "start_time": "2023-07-19T14:45:49.239Z"
   },
   {
    "duration": 50,
    "start_time": "2023-07-19T14:45:49.274Z"
   },
   {
    "duration": 7,
    "start_time": "2023-07-19T14:45:49.325Z"
   },
   {
    "duration": 34,
    "start_time": "2023-07-19T14:45:49.334Z"
   },
   {
    "duration": 670,
    "start_time": "2023-07-19T14:45:49.370Z"
   },
   {
    "duration": 8,
    "start_time": "2023-07-19T14:45:50.042Z"
   },
   {
    "duration": 45,
    "start_time": "2023-07-19T14:45:50.052Z"
   },
   {
    "duration": 50,
    "start_time": "2023-07-19T14:45:50.100Z"
   },
   {
    "duration": 17,
    "start_time": "2023-07-19T14:45:50.152Z"
   },
   {
    "duration": 41,
    "start_time": "2023-07-19T14:45:50.171Z"
   },
   {
    "duration": 36,
    "start_time": "2023-07-19T14:45:50.214Z"
   },
   {
    "duration": 5,
    "start_time": "2023-07-19T14:45:50.252Z"
   },
   {
    "duration": 66,
    "start_time": "2023-07-19T14:45:50.259Z"
   },
   {
    "duration": 10,
    "start_time": "2023-07-19T14:46:44.264Z"
   },
   {
    "duration": 369,
    "start_time": "2023-07-19T14:49:48.761Z"
   },
   {
    "duration": 131,
    "start_time": "2023-07-19T14:50:02.749Z"
   },
   {
    "duration": 160,
    "start_time": "2023-07-19T14:50:06.533Z"
   },
   {
    "duration": 428,
    "start_time": "2023-07-19T14:50:09.469Z"
   },
   {
    "duration": 321,
    "start_time": "2023-07-19T15:00:17.718Z"
   },
   {
    "duration": 1488,
    "start_time": "2023-07-19T15:00:24.801Z"
   },
   {
    "duration": 3,
    "start_time": "2023-07-19T15:00:26.291Z"
   },
   {
    "duration": 43,
    "start_time": "2023-07-19T15:00:26.295Z"
   },
   {
    "duration": 87,
    "start_time": "2023-07-19T15:00:26.341Z"
   },
   {
    "duration": 29,
    "start_time": "2023-07-19T15:00:26.430Z"
   },
   {
    "duration": 45,
    "start_time": "2023-07-19T15:00:26.461Z"
   },
   {
    "duration": 6,
    "start_time": "2023-07-19T15:00:26.508Z"
   },
   {
    "duration": 15,
    "start_time": "2023-07-19T15:00:26.515Z"
   },
   {
    "duration": 675,
    "start_time": "2023-07-19T15:00:26.532Z"
   },
   {
    "duration": 8,
    "start_time": "2023-07-19T15:00:27.209Z"
   },
   {
    "duration": 13,
    "start_time": "2023-07-19T15:00:27.219Z"
   },
   {
    "duration": 43,
    "start_time": "2023-07-19T15:00:27.233Z"
   },
   {
    "duration": 7,
    "start_time": "2023-07-19T15:00:27.278Z"
   },
   {
    "duration": 13,
    "start_time": "2023-07-19T15:00:27.287Z"
   },
   {
    "duration": 23,
    "start_time": "2023-07-19T15:00:27.301Z"
   },
   {
    "duration": 342,
    "start_time": "2023-07-19T15:00:27.325Z"
   },
   {
    "duration": 5,
    "start_time": "2023-07-19T15:04:41.487Z"
   },
   {
    "duration": 25,
    "start_time": "2023-07-19T15:14:23.160Z"
   },
   {
    "duration": 28,
    "start_time": "2023-07-19T15:14:30.465Z"
   },
   {
    "duration": 112,
    "start_time": "2023-07-19T15:14:39.560Z"
   },
   {
    "duration": 26,
    "start_time": "2023-07-19T15:14:41.533Z"
   },
   {
    "duration": 3,
    "start_time": "2023-07-19T15:15:06.520Z"
   },
   {
    "duration": 1587,
    "start_time": "2023-07-19T15:15:13.608Z"
   },
   {
    "duration": 3,
    "start_time": "2023-07-19T15:15:15.197Z"
   },
   {
    "duration": 11,
    "start_time": "2023-07-19T15:15:15.202Z"
   },
   {
    "duration": 80,
    "start_time": "2023-07-19T15:15:15.216Z"
   },
   {
    "duration": 3254,
    "start_time": "2023-07-19T15:15:15.298Z"
   },
   {
    "duration": 113,
    "start_time": "2023-07-19T15:15:18.555Z"
   },
   {
    "duration": 7,
    "start_time": "2023-07-19T15:15:18.670Z"
   },
   {
    "duration": 35,
    "start_time": "2023-07-19T15:15:18.679Z"
   },
   {
    "duration": 851,
    "start_time": "2023-07-19T15:15:18.716Z"
   },
   {
    "duration": 9,
    "start_time": "2023-07-19T15:15:19.570Z"
   },
   {
    "duration": 28,
    "start_time": "2023-07-19T15:15:19.581Z"
   },
   {
    "duration": 1791,
    "start_time": "2023-07-20T08:52:08.002Z"
   },
   {
    "duration": 3,
    "start_time": "2023-07-20T08:52:09.795Z"
   },
   {
    "duration": 27,
    "start_time": "2023-07-20T08:52:09.800Z"
   },
   {
    "duration": 140,
    "start_time": "2023-07-20T08:52:09.829Z"
   },
   {
    "duration": 3468,
    "start_time": "2023-07-20T08:52:09.971Z"
   },
   {
    "duration": 101,
    "start_time": "2023-07-20T08:52:13.441Z"
   },
   {
    "duration": 68,
    "start_time": "2023-07-20T08:52:13.544Z"
   },
   {
    "duration": 12,
    "start_time": "2023-07-20T08:52:13.617Z"
   },
   {
    "duration": 867,
    "start_time": "2023-07-20T08:52:13.630Z"
   },
   {
    "duration": 18,
    "start_time": "2023-07-20T08:52:14.505Z"
   },
   {
    "duration": 13,
    "start_time": "2023-07-20T08:52:14.525Z"
   },
   {
    "duration": 59,
    "start_time": "2023-07-21T09:50:37.124Z"
   },
   {
    "duration": 1712,
    "start_time": "2023-07-21T09:50:44.616Z"
   },
   {
    "duration": 3,
    "start_time": "2023-07-21T09:50:46.331Z"
   },
   {
    "duration": 10,
    "start_time": "2023-07-21T09:50:46.336Z"
   },
   {
    "duration": 240,
    "start_time": "2023-07-21T09:50:46.349Z"
   },
   {
    "duration": 3145,
    "start_time": "2023-07-21T09:50:46.591Z"
   },
   {
    "duration": 130,
    "start_time": "2023-07-21T09:50:49.738Z"
   },
   {
    "duration": 8,
    "start_time": "2023-07-21T09:50:49.869Z"
   },
   {
    "duration": 33,
    "start_time": "2023-07-21T09:50:49.878Z"
   },
   {
    "duration": 832,
    "start_time": "2023-07-21T09:50:49.913Z"
   },
   {
    "duration": 7,
    "start_time": "2023-07-21T09:50:50.748Z"
   },
   {
    "duration": 38,
    "start_time": "2023-07-21T09:50:50.758Z"
   },
   {
    "duration": 1283,
    "start_time": "2023-07-21T09:50:50.798Z"
   },
   {
    "duration": 79,
    "start_time": "2023-07-21T09:50:52.083Z"
   },
   {
    "duration": 4,
    "start_time": "2023-07-21T09:50:52.164Z"
   },
   {
    "duration": 92,
    "start_time": "2023-07-21T09:50:52.169Z"
   },
   {
    "duration": 324,
    "start_time": "2023-07-21T09:50:52.263Z"
   },
   {
    "duration": 5,
    "start_time": "2023-07-21T09:50:52.589Z"
   },
   {
    "duration": 49,
    "start_time": "2023-07-21T09:50:52.595Z"
   },
   {
    "duration": 3632,
    "start_time": "2023-07-21T09:50:52.646Z"
   },
   {
    "duration": 5,
    "start_time": "2023-07-21T09:52:00.566Z"
   },
   {
    "duration": 6,
    "start_time": "2023-07-21T09:52:02.972Z"
   },
   {
    "duration": 12,
    "start_time": "2023-07-21T09:52:10.818Z"
   },
   {
    "duration": 1691,
    "start_time": "2023-07-21T09:52:22.646Z"
   },
   {
    "duration": 4,
    "start_time": "2023-07-21T09:52:24.340Z"
   },
   {
    "duration": 15,
    "start_time": "2023-07-21T09:52:24.346Z"
   },
   {
    "duration": 78,
    "start_time": "2023-07-21T09:52:24.363Z"
   },
   {
    "duration": 3176,
    "start_time": "2023-07-21T09:52:24.443Z"
   },
   {
    "duration": 67,
    "start_time": "2023-07-21T09:52:27.621Z"
   },
   {
    "duration": 6,
    "start_time": "2023-07-21T09:52:27.690Z"
   },
   {
    "duration": 64,
    "start_time": "2023-07-21T09:52:27.697Z"
   },
   {
    "duration": 797,
    "start_time": "2023-07-21T09:52:27.762Z"
   },
   {
    "duration": 8,
    "start_time": "2023-07-21T09:52:28.562Z"
   },
   {
    "duration": 13,
    "start_time": "2023-07-21T09:52:28.572Z"
   },
   {
    "duration": 1274,
    "start_time": "2023-07-21T09:52:28.586Z"
   },
   {
    "duration": 5,
    "start_time": "2023-07-21T09:52:29.862Z"
   },
   {
    "duration": 16,
    "start_time": "2023-07-21T09:52:29.869Z"
   },
   {
    "duration": 72,
    "start_time": "2023-07-21T09:52:29.887Z"
   },
   {
    "duration": 498,
    "start_time": "2023-07-21T09:52:29.961Z"
   },
   {
    "duration": 5,
    "start_time": "2023-07-21T09:52:30.461Z"
   },
   {
    "duration": 159,
    "start_time": "2023-07-21T09:52:30.468Z"
   },
   {
    "duration": 3504,
    "start_time": "2023-07-21T09:52:30.629Z"
   },
   {
    "duration": 9,
    "start_time": "2023-07-21T10:02:01.841Z"
   },
   {
    "duration": 14,
    "start_time": "2023-07-21T10:02:15.294Z"
   },
   {
    "duration": 275,
    "start_time": "2023-07-21T10:02:32.239Z"
   },
   {
    "duration": 237,
    "start_time": "2023-07-21T10:02:39.721Z"
   },
   {
    "duration": 277,
    "start_time": "2023-07-21T10:02:47.712Z"
   },
   {
    "duration": 257,
    "start_time": "2023-07-21T10:02:56.348Z"
   },
   {
    "duration": 1517,
    "start_time": "2023-07-21T10:03:44.401Z"
   },
   {
    "duration": 4,
    "start_time": "2023-07-21T10:03:45.920Z"
   },
   {
    "duration": 15,
    "start_time": "2023-07-21T10:03:45.925Z"
   },
   {
    "duration": 76,
    "start_time": "2023-07-21T10:03:45.942Z"
   },
   {
    "duration": 1956,
    "start_time": "2023-07-21T10:03:46.020Z"
   },
   {
    "duration": 90,
    "start_time": "2023-07-21T10:03:47.979Z"
   },
   {
    "duration": 6,
    "start_time": "2023-07-21T10:03:48.070Z"
   },
   {
    "duration": 16,
    "start_time": "2023-07-21T10:03:48.078Z"
   },
   {
    "duration": 779,
    "start_time": "2023-07-21T10:03:48.096Z"
   },
   {
    "duration": 8,
    "start_time": "2023-07-21T10:03:48.877Z"
   },
   {
    "duration": 13,
    "start_time": "2023-07-21T10:03:48.886Z"
   },
   {
    "duration": 845,
    "start_time": "2023-07-21T10:03:48.901Z"
   },
   {
    "duration": 13,
    "start_time": "2023-07-21T10:03:49.748Z"
   },
   {
    "duration": 14,
    "start_time": "2023-07-21T10:03:49.763Z"
   },
   {
    "duration": 32,
    "start_time": "2023-07-21T10:03:49.779Z"
   },
   {
    "duration": 498,
    "start_time": "2023-07-21T10:03:49.813Z"
   },
   {
    "duration": 4,
    "start_time": "2023-07-21T10:03:50.313Z"
   },
   {
    "duration": 126,
    "start_time": "2023-07-21T10:03:50.319Z"
   },
   {
    "duration": 2285,
    "start_time": "2023-07-21T10:03:50.447Z"
   },
   {
    "duration": 4,
    "start_time": "2023-07-21T10:06:47.253Z"
   },
   {
    "duration": 3,
    "start_time": "2023-07-21T10:06:47.739Z"
   },
   {
    "duration": 55,
    "start_time": "2023-07-21T10:06:48.202Z"
   },
   {
    "duration": 2018,
    "start_time": "2023-07-21T10:06:49.104Z"
   },
   {
    "duration": 3,
    "start_time": "2023-07-21T10:07:25.491Z"
   },
   {
    "duration": 3,
    "start_time": "2023-07-21T10:07:25.880Z"
   },
   {
    "duration": 58,
    "start_time": "2023-07-21T10:07:26.238Z"
   },
   {
    "duration": 1978,
    "start_time": "2023-07-21T10:07:28.112Z"
   },
   {
    "duration": 5,
    "start_time": "2023-07-21T10:08:09.228Z"
   },
   {
    "duration": 3,
    "start_time": "2023-07-21T10:08:15.667Z"
   },
   {
    "duration": 73,
    "start_time": "2023-07-21T10:08:15.673Z"
   },
   {
    "duration": 1974,
    "start_time": "2023-07-21T10:08:15.748Z"
   },
   {
    "duration": 66,
    "start_time": "2023-07-21T10:08:17.725Z"
   },
   {
    "duration": 1506,
    "start_time": "2023-07-21T10:08:49.230Z"
   },
   {
    "duration": 3,
    "start_time": "2023-07-21T10:08:50.738Z"
   },
   {
    "duration": 113,
    "start_time": "2023-07-21T10:08:50.742Z"
   },
   {
    "duration": 39,
    "start_time": "2023-07-21T10:08:50.858Z"
   },
   {
    "duration": 66,
    "start_time": "2023-07-21T10:08:50.900Z"
   },
   {
    "duration": 5,
    "start_time": "2023-07-21T10:08:50.969Z"
   },
   {
    "duration": 22,
    "start_time": "2023-07-21T10:08:50.976Z"
   },
   {
    "duration": 672,
    "start_time": "2023-07-21T10:08:51.000Z"
   },
   {
    "duration": 8,
    "start_time": "2023-07-21T10:08:51.674Z"
   },
   {
    "duration": 30,
    "start_time": "2023-07-21T10:08:51.685Z"
   },
   {
    "duration": 59,
    "start_time": "2023-07-21T10:08:51.717Z"
   },
   {
    "duration": 5,
    "start_time": "2023-07-21T10:08:51.777Z"
   },
   {
    "duration": 18,
    "start_time": "2023-07-21T10:08:51.784Z"
   },
   {
    "duration": 27,
    "start_time": "2023-07-21T10:08:51.804Z"
   },
   {
    "duration": 426,
    "start_time": "2023-07-21T10:08:51.833Z"
   },
   {
    "duration": 4,
    "start_time": "2023-07-21T10:08:52.260Z"
   },
   {
    "duration": 148,
    "start_time": "2023-07-21T10:08:52.266Z"
   },
   {
    "duration": 47,
    "start_time": "2023-07-21T10:08:52.415Z"
   },
   {
    "duration": 18,
    "start_time": "2023-07-21T10:09:57.539Z"
   },
   {
    "duration": 11,
    "start_time": "2023-07-21T10:15:35.502Z"
   },
   {
    "duration": 9,
    "start_time": "2023-07-21T10:15:35.918Z"
   },
   {
    "duration": 1451,
    "start_time": "2023-07-21T10:15:42.300Z"
   },
   {
    "duration": 6,
    "start_time": "2023-07-21T10:15:43.753Z"
   },
   {
    "duration": 68,
    "start_time": "2023-07-21T10:15:43.760Z"
   },
   {
    "duration": 28,
    "start_time": "2023-07-21T10:15:43.830Z"
   },
   {
    "duration": 42,
    "start_time": "2023-07-21T10:15:43.860Z"
   },
   {
    "duration": 6,
    "start_time": "2023-07-21T10:15:43.903Z"
   },
   {
    "duration": 12,
    "start_time": "2023-07-21T10:15:43.911Z"
   },
   {
    "duration": 660,
    "start_time": "2023-07-21T10:15:43.925Z"
   },
   {
    "duration": 9,
    "start_time": "2023-07-21T10:15:44.587Z"
   },
   {
    "duration": 15,
    "start_time": "2023-07-21T10:15:44.597Z"
   },
   {
    "duration": 46,
    "start_time": "2023-07-21T10:15:44.613Z"
   },
   {
    "duration": 6,
    "start_time": "2023-07-21T10:15:44.661Z"
   },
   {
    "duration": 12,
    "start_time": "2023-07-21T10:15:44.669Z"
   },
   {
    "duration": 20,
    "start_time": "2023-07-21T10:15:44.685Z"
   },
   {
    "duration": 418,
    "start_time": "2023-07-21T10:15:44.707Z"
   },
   {
    "duration": 5,
    "start_time": "2023-07-21T10:15:45.127Z"
   },
   {
    "duration": 126,
    "start_time": "2023-07-21T10:15:45.134Z"
   },
   {
    "duration": 26,
    "start_time": "2023-07-21T10:15:45.262Z"
   },
   {
    "duration": 12,
    "start_time": "2023-07-21T10:16:12.146Z"
   },
   {
    "duration": 10,
    "start_time": "2023-07-21T10:16:41.102Z"
   },
   {
    "duration": 12,
    "start_time": "2023-07-21T10:20:10.609Z"
   },
   {
    "duration": 1582,
    "start_time": "2023-07-21T10:20:16.970Z"
   },
   {
    "duration": 4,
    "start_time": "2023-07-21T10:20:18.555Z"
   },
   {
    "duration": 67,
    "start_time": "2023-07-21T10:20:18.561Z"
   },
   {
    "duration": 30,
    "start_time": "2023-07-21T10:20:18.630Z"
   },
   {
    "duration": 51,
    "start_time": "2023-07-21T10:20:18.661Z"
   },
   {
    "duration": 7,
    "start_time": "2023-07-21T10:20:18.714Z"
   },
   {
    "duration": 7,
    "start_time": "2023-07-21T10:20:18.723Z"
   },
   {
    "duration": 687,
    "start_time": "2023-07-21T10:20:18.732Z"
   },
   {
    "duration": 11,
    "start_time": "2023-07-21T10:20:19.421Z"
   },
   {
    "duration": 24,
    "start_time": "2023-07-21T10:20:19.435Z"
   },
   {
    "duration": 24,
    "start_time": "2023-07-21T10:20:19.461Z"
   },
   {
    "duration": 57,
    "start_time": "2023-07-21T10:20:19.487Z"
   },
   {
    "duration": 5,
    "start_time": "2023-07-21T10:20:19.546Z"
   },
   {
    "duration": 25,
    "start_time": "2023-07-21T10:20:19.553Z"
   },
   {
    "duration": 43,
    "start_time": "2023-07-21T10:20:19.580Z"
   },
   {
    "duration": 464,
    "start_time": "2023-07-21T10:20:19.625Z"
   },
   {
    "duration": 6,
    "start_time": "2023-07-21T10:20:20.091Z"
   },
   {
    "duration": 139,
    "start_time": "2023-07-21T10:20:20.099Z"
   },
   {
    "duration": 37,
    "start_time": "2023-07-21T10:20:20.240Z"
   },
   {
    "duration": 23,
    "start_time": "2023-07-21T10:27:16.888Z"
   },
   {
    "duration": 17,
    "start_time": "2023-07-21T10:27:22.361Z"
   },
   {
    "duration": 133,
    "start_time": "2023-07-21T10:30:37.543Z"
   },
   {
    "duration": 11,
    "start_time": "2023-07-21T10:30:47.990Z"
   },
   {
    "duration": 53,
    "start_time": "2023-07-21T10:32:05.682Z"
   },
   {
    "duration": 30,
    "start_time": "2023-07-21T10:32:24.379Z"
   },
   {
    "duration": 9,
    "start_time": "2023-07-21T10:33:17.869Z"
   },
   {
    "duration": 21,
    "start_time": "2023-07-21T10:33:27.286Z"
   },
   {
    "duration": 10,
    "start_time": "2023-07-21T10:33:31.943Z"
   },
   {
    "duration": 17,
    "start_time": "2023-07-21T10:35:01.045Z"
   },
   {
    "duration": 19,
    "start_time": "2023-07-21T10:35:56.805Z"
   },
   {
    "duration": 42,
    "start_time": "2023-07-21T10:36:19.660Z"
   },
   {
    "duration": 5,
    "start_time": "2023-07-21T10:37:24.905Z"
   },
   {
    "duration": 9,
    "start_time": "2023-07-21T10:37:36.564Z"
   },
   {
    "duration": 7,
    "start_time": "2023-07-21T10:37:42.013Z"
   },
   {
    "duration": 9,
    "start_time": "2023-07-21T10:37:45.377Z"
   },
   {
    "duration": 11,
    "start_time": "2023-07-21T10:38:04.911Z"
   },
   {
    "duration": 27,
    "start_time": "2023-07-21T10:38:09.852Z"
   },
   {
    "duration": 1412,
    "start_time": "2023-07-21T10:39:27.437Z"
   },
   {
    "duration": 3,
    "start_time": "2023-07-21T10:39:28.851Z"
   },
   {
    "duration": 67,
    "start_time": "2023-07-21T10:39:28.859Z"
   },
   {
    "duration": 28,
    "start_time": "2023-07-21T10:39:28.928Z"
   },
   {
    "duration": 53,
    "start_time": "2023-07-21T10:39:28.959Z"
   },
   {
    "duration": 6,
    "start_time": "2023-07-21T10:39:29.014Z"
   },
   {
    "duration": 9,
    "start_time": "2023-07-21T10:39:29.022Z"
   },
   {
    "duration": 616,
    "start_time": "2023-07-21T10:39:29.032Z"
   },
   {
    "duration": 11,
    "start_time": "2023-07-21T10:39:29.650Z"
   },
   {
    "duration": 10,
    "start_time": "2023-07-21T10:39:29.664Z"
   },
   {
    "duration": 6,
    "start_time": "2023-07-21T10:39:29.675Z"
   },
   {
    "duration": 25,
    "start_time": "2023-07-21T10:39:29.683Z"
   },
   {
    "duration": 4,
    "start_time": "2023-07-21T10:39:29.710Z"
   },
   {
    "duration": 5,
    "start_time": "2023-07-21T10:39:29.715Z"
   },
   {
    "duration": 47,
    "start_time": "2023-07-21T10:39:29.721Z"
   },
   {
    "duration": 384,
    "start_time": "2023-07-21T10:39:29.769Z"
   },
   {
    "duration": 8,
    "start_time": "2023-07-21T10:39:30.154Z"
   },
   {
    "duration": 129,
    "start_time": "2023-07-21T10:39:30.163Z"
   },
   {
    "duration": 41,
    "start_time": "2023-07-21T10:39:30.294Z"
   },
   {
    "duration": 47,
    "start_time": "2023-07-21T10:39:30.337Z"
   },
   {
    "duration": 32,
    "start_time": "2023-07-21T10:39:30.386Z"
   },
   {
    "duration": 30,
    "start_time": "2023-07-21T10:39:56.569Z"
   },
   {
    "duration": 30,
    "start_time": "2023-07-21T10:40:12.177Z"
   },
   {
    "duration": 29,
    "start_time": "2023-07-21T10:40:16.512Z"
   },
   {
    "duration": 35,
    "start_time": "2023-07-21T10:41:17.915Z"
   },
   {
    "duration": 1426,
    "start_time": "2023-07-21T10:42:21.314Z"
   },
   {
    "duration": 3,
    "start_time": "2023-07-21T10:42:22.742Z"
   },
   {
    "duration": 86,
    "start_time": "2023-07-21T10:42:22.746Z"
   },
   {
    "duration": 28,
    "start_time": "2023-07-21T10:42:22.834Z"
   },
   {
    "duration": 55,
    "start_time": "2023-07-21T10:42:22.864Z"
   },
   {
    "duration": 7,
    "start_time": "2023-07-21T10:42:22.921Z"
   },
   {
    "duration": 17,
    "start_time": "2023-07-21T10:42:22.929Z"
   },
   {
    "duration": 621,
    "start_time": "2023-07-21T10:42:22.948Z"
   },
   {
    "duration": 7,
    "start_time": "2023-07-21T10:42:23.571Z"
   },
   {
    "duration": 47,
    "start_time": "2023-07-21T10:42:23.580Z"
   },
   {
    "duration": 34,
    "start_time": "2023-07-21T10:42:23.629Z"
   },
   {
    "duration": 40,
    "start_time": "2023-07-21T10:42:23.665Z"
   },
   {
    "duration": 12,
    "start_time": "2023-07-21T10:42:23.707Z"
   },
   {
    "duration": 8,
    "start_time": "2023-07-21T10:42:23.721Z"
   },
   {
    "duration": 26,
    "start_time": "2023-07-21T10:42:23.730Z"
   },
   {
    "duration": 486,
    "start_time": "2023-07-21T10:42:23.758Z"
   },
   {
    "duration": 15,
    "start_time": "2023-07-21T10:42:24.246Z"
   },
   {
    "duration": 121,
    "start_time": "2023-07-21T10:42:24.263Z"
   },
   {
    "duration": 10,
    "start_time": "2023-07-21T10:42:24.386Z"
   },
   {
    "duration": 31,
    "start_time": "2023-07-21T10:42:24.398Z"
   },
   {
    "duration": 29,
    "start_time": "2023-07-21T10:42:24.431Z"
   },
   {
    "duration": 37,
    "start_time": "2023-07-21T10:43:14.159Z"
   },
   {
    "duration": 11,
    "start_time": "2023-07-21T10:45:06.203Z"
   },
   {
    "duration": 25,
    "start_time": "2023-07-21T10:46:22.116Z"
   },
   {
    "duration": 23,
    "start_time": "2023-07-21T10:46:51.199Z"
   },
   {
    "duration": 1533,
    "start_time": "2023-07-21T10:49:33.345Z"
   },
   {
    "duration": 3,
    "start_time": "2023-07-21T10:49:34.880Z"
   },
   {
    "duration": 88,
    "start_time": "2023-07-21T10:49:34.885Z"
   },
   {
    "duration": 24,
    "start_time": "2023-07-21T10:49:34.975Z"
   },
   {
    "duration": 41,
    "start_time": "2023-07-21T10:49:35.002Z"
   },
   {
    "duration": 6,
    "start_time": "2023-07-21T10:49:35.059Z"
   },
   {
    "duration": 8,
    "start_time": "2023-07-21T10:49:35.066Z"
   },
   {
    "duration": 596,
    "start_time": "2023-07-21T10:49:35.075Z"
   },
   {
    "duration": 8,
    "start_time": "2023-07-21T10:49:35.673Z"
   },
   {
    "duration": 26,
    "start_time": "2023-07-21T10:49:35.682Z"
   },
   {
    "duration": 13,
    "start_time": "2023-07-21T10:49:35.710Z"
   },
   {
    "duration": 31,
    "start_time": "2023-07-21T10:49:35.725Z"
   },
   {
    "duration": 10,
    "start_time": "2023-07-21T10:49:35.758Z"
   },
   {
    "duration": 23,
    "start_time": "2023-07-21T10:49:35.771Z"
   },
   {
    "duration": 39,
    "start_time": "2023-07-21T10:49:35.795Z"
   },
   {
    "duration": 386,
    "start_time": "2023-07-21T10:49:35.836Z"
   },
   {
    "duration": 4,
    "start_time": "2023-07-21T10:49:36.223Z"
   },
   {
    "duration": 172,
    "start_time": "2023-07-21T10:49:36.229Z"
   },
   {
    "duration": 15,
    "start_time": "2023-07-21T10:49:36.403Z"
   },
   {
    "duration": 28,
    "start_time": "2023-07-21T10:49:36.420Z"
   },
   {
    "duration": 54,
    "start_time": "2023-07-21T14:06:15.436Z"
   },
   {
    "duration": 1676,
    "start_time": "2023-07-21T14:06:22.482Z"
   },
   {
    "duration": 10,
    "start_time": "2023-07-21T14:06:24.161Z"
   },
   {
    "duration": 305,
    "start_time": "2023-07-21T14:06:24.175Z"
   },
   {
    "duration": 26,
    "start_time": "2023-07-21T14:06:24.482Z"
   },
   {
    "duration": 45,
    "start_time": "2023-07-21T14:06:24.512Z"
   },
   {
    "duration": 19,
    "start_time": "2023-07-21T14:06:24.558Z"
   },
   {
    "duration": 5,
    "start_time": "2023-07-21T14:06:24.583Z"
   },
   {
    "duration": 696,
    "start_time": "2023-07-21T14:06:24.589Z"
   },
   {
    "duration": 8,
    "start_time": "2023-07-21T14:06:25.288Z"
   },
   {
    "duration": 15,
    "start_time": "2023-07-21T14:06:25.298Z"
   },
   {
    "duration": 19,
    "start_time": "2023-07-21T14:06:25.314Z"
   },
   {
    "duration": 22,
    "start_time": "2023-07-21T14:06:25.335Z"
   },
   {
    "duration": 12,
    "start_time": "2023-07-21T14:06:25.371Z"
   },
   {
    "duration": 7,
    "start_time": "2023-07-21T14:06:25.385Z"
   },
   {
    "duration": 26,
    "start_time": "2023-07-21T14:06:25.393Z"
   },
   {
    "duration": 401,
    "start_time": "2023-07-21T14:06:25.421Z"
   },
   {
    "duration": 4,
    "start_time": "2023-07-21T14:06:25.824Z"
   },
   {
    "duration": 120,
    "start_time": "2023-07-21T14:06:25.830Z"
   },
   {
    "duration": 30,
    "start_time": "2023-07-21T14:06:25.952Z"
   },
   {
    "duration": 24,
    "start_time": "2023-07-21T14:06:25.985Z"
   },
   {
    "duration": 4,
    "start_time": "2023-07-21T14:06:26.011Z"
   },
   {
    "duration": 18,
    "start_time": "2023-07-21T14:06:39.483Z"
   },
   {
    "duration": 6,
    "start_time": "2023-07-21T14:07:03.903Z"
   },
   {
    "duration": 7,
    "start_time": "2023-07-21T14:07:33.837Z"
   },
   {
    "duration": 135,
    "start_time": "2023-07-21T14:12:54.146Z"
   },
   {
    "duration": 5,
    "start_time": "2023-07-21T14:13:04.432Z"
   },
   {
    "duration": 145,
    "start_time": "2023-07-21T14:13:14.004Z"
   },
   {
    "duration": 25204,
    "start_time": "2023-07-21T14:13:36.835Z"
   },
   {
    "duration": 169,
    "start_time": "2023-07-21T14:17:47.188Z"
   },
   {
    "duration": 12,
    "start_time": "2023-07-21T14:17:47.378Z"
   },
   {
    "duration": 197,
    "start_time": "2023-07-21T14:18:43.885Z"
   },
   {
    "duration": 136,
    "start_time": "2023-07-21T14:19:55.983Z"
   },
   {
    "duration": 157,
    "start_time": "2023-07-21T14:20:10.964Z"
   },
   {
    "duration": 134,
    "start_time": "2023-07-21T14:20:20.713Z"
   },
   {
    "duration": 194,
    "start_time": "2023-07-21T14:20:33.915Z"
   },
   {
    "duration": 146,
    "start_time": "2023-07-21T14:20:44.487Z"
   },
   {
    "duration": 6,
    "start_time": "2023-07-21T14:21:33.804Z"
   },
   {
    "duration": 156,
    "start_time": "2023-07-21T14:21:55.631Z"
   },
   {
    "duration": 7,
    "start_time": "2023-07-21T14:22:10.186Z"
   },
   {
    "duration": 181,
    "start_time": "2023-07-21T14:22:13.830Z"
   },
   {
    "duration": 7,
    "start_time": "2023-07-21T14:22:36.790Z"
   },
   {
    "duration": 153,
    "start_time": "2023-07-21T14:22:38.733Z"
   },
   {
    "duration": 7,
    "start_time": "2023-07-21T14:25:17.847Z"
   },
   {
    "duration": 8,
    "start_time": "2023-07-21T14:25:29.109Z"
   },
   {
    "duration": 145,
    "start_time": "2023-07-21T14:25:45.599Z"
   },
   {
    "duration": 7,
    "start_time": "2023-07-21T14:25:58.614Z"
   },
   {
    "duration": 10,
    "start_time": "2023-07-21T15:04:25.591Z"
   },
   {
    "duration": 16,
    "start_time": "2023-07-21T15:04:35.369Z"
   },
   {
    "duration": 4,
    "start_time": "2023-07-21T15:04:57.299Z"
   },
   {
    "duration": 6,
    "start_time": "2023-07-21T15:05:04.515Z"
   },
   {
    "duration": 6,
    "start_time": "2023-07-21T15:05:15.218Z"
   },
   {
    "duration": 244,
    "start_time": "2023-07-21T15:14:42.987Z"
   },
   {
    "duration": 210,
    "start_time": "2023-07-21T15:14:52.699Z"
   },
   {
    "duration": 197,
    "start_time": "2023-07-21T15:15:04.445Z"
   },
   {
    "duration": 6,
    "start_time": "2023-07-21T15:15:21.457Z"
   },
   {
    "duration": 187,
    "start_time": "2023-07-21T15:16:06.316Z"
   },
   {
    "duration": 6,
    "start_time": "2023-07-21T15:16:11.995Z"
   },
   {
    "duration": 167,
    "start_time": "2023-07-21T15:17:09.244Z"
   },
   {
    "duration": 199,
    "start_time": "2023-07-21T15:17:17.795Z"
   },
   {
    "duration": 16,
    "start_time": "2023-07-21T15:22:37.603Z"
   },
   {
    "duration": 1597,
    "start_time": "2023-07-21T15:38:18.239Z"
   },
   {
    "duration": 3,
    "start_time": "2023-07-21T15:38:19.838Z"
   },
   {
    "duration": 93,
    "start_time": "2023-07-21T15:38:19.843Z"
   },
   {
    "duration": 48,
    "start_time": "2023-07-21T15:38:19.939Z"
   },
   {
    "duration": 47,
    "start_time": "2023-07-21T15:38:19.995Z"
   },
   {
    "duration": 7,
    "start_time": "2023-07-21T15:38:20.043Z"
   },
   {
    "duration": 42,
    "start_time": "2023-07-21T15:38:20.053Z"
   },
   {
    "duration": 590,
    "start_time": "2023-07-21T15:38:20.105Z"
   },
   {
    "duration": 14,
    "start_time": "2023-07-21T15:38:20.696Z"
   },
   {
    "duration": 16,
    "start_time": "2023-07-21T15:38:20.713Z"
   },
   {
    "duration": 16,
    "start_time": "2023-07-21T15:38:20.730Z"
   },
   {
    "duration": 30,
    "start_time": "2023-07-21T15:38:20.748Z"
   },
   {
    "duration": 8,
    "start_time": "2023-07-21T15:38:20.780Z"
   },
   {
    "duration": 19,
    "start_time": "2023-07-21T15:38:20.790Z"
   },
   {
    "duration": 20,
    "start_time": "2023-07-21T15:38:20.811Z"
   },
   {
    "duration": 430,
    "start_time": "2023-07-21T15:38:20.833Z"
   },
   {
    "duration": 10,
    "start_time": "2023-07-21T15:38:21.264Z"
   },
   {
    "duration": 116,
    "start_time": "2023-07-21T15:38:21.277Z"
   },
   {
    "duration": 11,
    "start_time": "2023-07-21T15:38:21.399Z"
   },
   {
    "duration": 18,
    "start_time": "2023-07-21T15:38:21.412Z"
   },
   {
    "duration": 6,
    "start_time": "2023-07-21T15:38:21.432Z"
   },
   {
    "duration": 213,
    "start_time": "2023-07-21T15:38:21.440Z"
   },
   {
    "duration": 51,
    "start_time": "2023-07-21T19:24:48.181Z"
   },
   {
    "duration": 1742,
    "start_time": "2023-07-21T19:24:54.973Z"
   },
   {
    "duration": 3,
    "start_time": "2023-07-21T19:24:56.718Z"
   },
   {
    "duration": 250,
    "start_time": "2023-07-21T19:24:56.722Z"
   },
   {
    "duration": 29,
    "start_time": "2023-07-21T19:24:56.974Z"
   },
   {
    "duration": 44,
    "start_time": "2023-07-21T19:24:57.004Z"
   },
   {
    "duration": 6,
    "start_time": "2023-07-21T19:24:57.068Z"
   },
   {
    "duration": 5,
    "start_time": "2023-07-21T19:24:57.076Z"
   },
   {
    "duration": 695,
    "start_time": "2023-07-21T19:24:57.083Z"
   },
   {
    "duration": 8,
    "start_time": "2023-07-21T19:24:57.780Z"
   },
   {
    "duration": 30,
    "start_time": "2023-07-21T19:24:57.791Z"
   },
   {
    "duration": 28,
    "start_time": "2023-07-21T19:24:57.823Z"
   },
   {
    "duration": 25,
    "start_time": "2023-07-21T19:24:57.853Z"
   },
   {
    "duration": 4,
    "start_time": "2023-07-21T19:24:57.880Z"
   },
   {
    "duration": 13,
    "start_time": "2023-07-21T19:24:57.886Z"
   },
   {
    "duration": 28,
    "start_time": "2023-07-21T19:24:57.901Z"
   },
   {
    "duration": 436,
    "start_time": "2023-07-21T19:24:57.931Z"
   },
   {
    "duration": 5,
    "start_time": "2023-07-21T19:24:58.369Z"
   },
   {
    "duration": 122,
    "start_time": "2023-07-21T19:24:58.376Z"
   },
   {
    "duration": 9,
    "start_time": "2023-07-21T19:24:58.500Z"
   },
   {
    "duration": 25,
    "start_time": "2023-07-21T19:24:58.512Z"
   },
   {
    "duration": 32,
    "start_time": "2023-07-21T19:24:58.539Z"
   },
   {
    "duration": 185,
    "start_time": "2023-07-21T19:24:58.573Z"
   },
   {
    "duration": 8,
    "start_time": "2023-07-21T19:24:58.766Z"
   },
   {
    "duration": 6,
    "start_time": "2023-07-21T19:25:15.185Z"
   },
   {
    "duration": 4,
    "start_time": "2023-07-21T19:25:36.667Z"
   },
   {
    "duration": 5,
    "start_time": "2023-07-21T19:25:37.490Z"
   },
   {
    "duration": 123,
    "start_time": "2023-07-21T19:26:29.159Z"
   },
   {
    "duration": 13,
    "start_time": "2023-07-21T19:26:35.358Z"
   },
   {
    "duration": 7,
    "start_time": "2023-07-21T19:26:52.409Z"
   },
   {
    "duration": 10,
    "start_time": "2023-07-21T19:26:54.252Z"
   },
   {
    "duration": 39,
    "start_time": "2023-07-21T19:27:18.411Z"
   },
   {
    "duration": 18,
    "start_time": "2023-07-21T19:30:24.490Z"
   },
   {
    "duration": 446,
    "start_time": "2023-07-21T19:38:28.954Z"
   },
   {
    "duration": 1518,
    "start_time": "2023-07-21T19:38:50.365Z"
   },
   {
    "duration": 2,
    "start_time": "2023-07-21T19:38:51.886Z"
   },
   {
    "duration": 79,
    "start_time": "2023-07-21T19:38:51.890Z"
   },
   {
    "duration": 31,
    "start_time": "2023-07-21T19:38:51.971Z"
   },
   {
    "duration": 68,
    "start_time": "2023-07-21T19:38:52.005Z"
   },
   {
    "duration": 6,
    "start_time": "2023-07-21T19:38:52.075Z"
   },
   {
    "duration": 12,
    "start_time": "2023-07-21T19:38:52.082Z"
   },
   {
    "duration": 690,
    "start_time": "2023-07-21T19:38:52.097Z"
   },
   {
    "duration": 9,
    "start_time": "2023-07-21T19:38:52.789Z"
   },
   {
    "duration": 16,
    "start_time": "2023-07-21T19:38:52.800Z"
   },
   {
    "duration": 10,
    "start_time": "2023-07-21T19:38:52.818Z"
   },
   {
    "duration": 57,
    "start_time": "2023-07-21T19:38:52.829Z"
   },
   {
    "duration": 5,
    "start_time": "2023-07-21T19:38:52.888Z"
   },
   {
    "duration": 8,
    "start_time": "2023-07-21T19:38:52.896Z"
   },
   {
    "duration": 24,
    "start_time": "2023-07-21T19:38:52.906Z"
   },
   {
    "duration": 459,
    "start_time": "2023-07-21T19:38:52.932Z"
   },
   {
    "duration": 5,
    "start_time": "2023-07-21T19:38:53.393Z"
   },
   {
    "duration": 127,
    "start_time": "2023-07-21T19:38:53.400Z"
   },
   {
    "duration": 10,
    "start_time": "2023-07-21T19:38:53.529Z"
   },
   {
    "duration": 31,
    "start_time": "2023-07-21T19:38:53.541Z"
   },
   {
    "duration": 8,
    "start_time": "2023-07-21T19:38:53.574Z"
   },
   {
    "duration": 168,
    "start_time": "2023-07-21T19:38:53.583Z"
   },
   {
    "duration": 451,
    "start_time": "2023-07-21T19:38:53.752Z"
   },
   {
    "duration": 24,
    "start_time": "2023-07-21T19:38:54.205Z"
   },
   {
    "duration": 8,
    "start_time": "2023-07-21T19:40:01.297Z"
   },
   {
    "duration": 7,
    "start_time": "2023-07-21T19:40:17.152Z"
   },
   {
    "duration": 140,
    "start_time": "2023-07-21T19:40:32.410Z"
   },
   {
    "duration": 8,
    "start_time": "2023-07-21T19:40:54.132Z"
   },
   {
    "duration": 7,
    "start_time": "2023-07-21T19:42:53.495Z"
   },
   {
    "duration": 14,
    "start_time": "2023-07-21T19:43:59.928Z"
   },
   {
    "duration": 7,
    "start_time": "2023-07-21T19:44:07.131Z"
   },
   {
    "duration": 7,
    "start_time": "2023-07-21T19:44:14.680Z"
   },
   {
    "duration": 6,
    "start_time": "2023-07-21T19:44:20.010Z"
   },
   {
    "duration": 12,
    "start_time": "2023-07-21T19:44:25.663Z"
   },
   {
    "duration": 17,
    "start_time": "2023-07-21T19:44:33.013Z"
   },
   {
    "duration": 9,
    "start_time": "2023-07-21T19:44:41.014Z"
   },
   {
    "duration": 16,
    "start_time": "2023-07-21T19:45:35.620Z"
   },
   {
    "duration": 17,
    "start_time": "2023-07-21T19:45:49.160Z"
   },
   {
    "duration": 252,
    "start_time": "2023-07-21T19:46:33.828Z"
   },
   {
    "duration": 197,
    "start_time": "2023-07-21T19:46:57.414Z"
   },
   {
    "duration": 14,
    "start_time": "2023-07-21T19:48:44.805Z"
   },
   {
    "duration": 224,
    "start_time": "2023-07-21T19:48:46.150Z"
   },
   {
    "duration": 1602,
    "start_time": "2023-07-21T19:49:23.252Z"
   },
   {
    "duration": 3,
    "start_time": "2023-07-21T19:49:24.856Z"
   },
   {
    "duration": 87,
    "start_time": "2023-07-21T19:49:24.867Z"
   },
   {
    "duration": 38,
    "start_time": "2023-07-21T19:49:24.957Z"
   },
   {
    "duration": 82,
    "start_time": "2023-07-21T19:49:24.997Z"
   },
   {
    "duration": 8,
    "start_time": "2023-07-21T19:49:25.081Z"
   },
   {
    "duration": 36,
    "start_time": "2023-07-21T19:49:25.091Z"
   },
   {
    "duration": 697,
    "start_time": "2023-07-21T19:49:25.129Z"
   },
   {
    "duration": 9,
    "start_time": "2023-07-21T19:49:25.828Z"
   },
   {
    "duration": 12,
    "start_time": "2023-07-21T19:49:25.841Z"
   },
   {
    "duration": 25,
    "start_time": "2023-07-21T19:49:25.855Z"
   },
   {
    "duration": 32,
    "start_time": "2023-07-21T19:49:25.882Z"
   },
   {
    "duration": 6,
    "start_time": "2023-07-21T19:49:25.915Z"
   },
   {
    "duration": 6,
    "start_time": "2023-07-21T19:49:25.923Z"
   },
   {
    "duration": 48,
    "start_time": "2023-07-21T19:49:25.930Z"
   },
   {
    "duration": 464,
    "start_time": "2023-07-21T19:49:25.980Z"
   },
   {
    "duration": 3,
    "start_time": "2023-07-21T19:49:26.445Z"
   },
   {
    "duration": 134,
    "start_time": "2023-07-21T19:49:26.449Z"
   },
   {
    "duration": 14,
    "start_time": "2023-07-21T19:49:26.585Z"
   },
   {
    "duration": 21,
    "start_time": "2023-07-21T19:49:26.601Z"
   },
   {
    "duration": 11,
    "start_time": "2023-07-21T19:49:26.624Z"
   },
   {
    "duration": 175,
    "start_time": "2023-07-21T19:49:26.636Z"
   },
   {
    "duration": 16,
    "start_time": "2023-07-21T19:49:26.812Z"
   },
   {
    "duration": 230,
    "start_time": "2023-07-21T19:49:26.830Z"
   },
   {
    "duration": 39,
    "start_time": "2023-07-21T19:49:27.062Z"
   },
   {
    "duration": 6,
    "start_time": "2023-07-21T19:49:44.096Z"
   },
   {
    "duration": 1618,
    "start_time": "2023-07-21T19:49:49.979Z"
   },
   {
    "duration": 3,
    "start_time": "2023-07-21T19:49:51.599Z"
   },
   {
    "duration": 108,
    "start_time": "2023-07-21T19:49:51.603Z"
   },
   {
    "duration": 28,
    "start_time": "2023-07-21T19:49:51.713Z"
   },
   {
    "duration": 72,
    "start_time": "2023-07-21T19:49:51.743Z"
   },
   {
    "duration": 6,
    "start_time": "2023-07-21T19:49:51.817Z"
   },
   {
    "duration": 13,
    "start_time": "2023-07-21T19:49:51.825Z"
   },
   {
    "duration": 694,
    "start_time": "2023-07-21T19:49:51.839Z"
   },
   {
    "duration": 9,
    "start_time": "2023-07-21T19:49:52.534Z"
   },
   {
    "duration": 47,
    "start_time": "2023-07-21T19:49:52.544Z"
   },
   {
    "duration": 49,
    "start_time": "2023-07-21T19:49:52.593Z"
   },
   {
    "duration": 45,
    "start_time": "2023-07-21T19:49:52.644Z"
   },
   {
    "duration": 23,
    "start_time": "2023-07-21T19:49:52.691Z"
   },
   {
    "duration": 25,
    "start_time": "2023-07-21T19:49:52.717Z"
   },
   {
    "duration": 55,
    "start_time": "2023-07-21T19:49:52.744Z"
   },
   {
    "duration": 499,
    "start_time": "2023-07-21T19:49:52.801Z"
   },
   {
    "duration": 5,
    "start_time": "2023-07-21T19:49:53.302Z"
   },
   {
    "duration": 133,
    "start_time": "2023-07-21T19:49:53.309Z"
   },
   {
    "duration": 31,
    "start_time": "2023-07-21T19:49:53.444Z"
   },
   {
    "duration": 59,
    "start_time": "2023-07-21T19:49:53.477Z"
   },
   {
    "duration": 25,
    "start_time": "2023-07-21T19:49:53.538Z"
   },
   {
    "duration": 174,
    "start_time": "2023-07-21T19:49:53.565Z"
   },
   {
    "duration": 25,
    "start_time": "2023-07-21T19:49:53.742Z"
   },
   {
    "duration": 245,
    "start_time": "2023-07-21T19:49:53.769Z"
   },
   {
    "duration": 51,
    "start_time": "2023-07-21T19:49:54.016Z"
   },
   {
    "duration": 13,
    "start_time": "2023-07-21T19:50:44.688Z"
   },
   {
    "duration": 223,
    "start_time": "2023-07-21T19:50:45.279Z"
   },
   {
    "duration": 15,
    "start_time": "2023-07-21T19:50:58.799Z"
   },
   {
    "duration": 15,
    "start_time": "2023-07-21T19:51:14.815Z"
   },
   {
    "duration": 15,
    "start_time": "2023-07-21T19:51:33.118Z"
   },
   {
    "duration": 11,
    "start_time": "2023-07-21T19:51:59.701Z"
   },
   {
    "duration": 1594,
    "start_time": "2023-07-21T19:54:54.240Z"
   },
   {
    "duration": 3,
    "start_time": "2023-07-21T19:54:55.837Z"
   },
   {
    "duration": 83,
    "start_time": "2023-07-21T19:54:55.841Z"
   },
   {
    "duration": 28,
    "start_time": "2023-07-21T19:54:55.927Z"
   },
   {
    "duration": 49,
    "start_time": "2023-07-21T19:54:55.956Z"
   },
   {
    "duration": 6,
    "start_time": "2023-07-21T19:54:56.007Z"
   },
   {
    "duration": 25,
    "start_time": "2023-07-21T19:54:56.014Z"
   },
   {
    "duration": 699,
    "start_time": "2023-07-21T19:54:56.041Z"
   },
   {
    "duration": 8,
    "start_time": "2023-07-21T19:54:56.742Z"
   },
   {
    "duration": 28,
    "start_time": "2023-07-21T19:54:56.753Z"
   },
   {
    "duration": 7,
    "start_time": "2023-07-21T19:54:56.784Z"
   },
   {
    "duration": 33,
    "start_time": "2023-07-21T19:54:56.793Z"
   },
   {
    "duration": 5,
    "start_time": "2023-07-21T19:54:56.828Z"
   },
   {
    "duration": 14,
    "start_time": "2023-07-21T19:54:56.834Z"
   },
   {
    "duration": 48,
    "start_time": "2023-07-21T19:54:56.850Z"
   },
   {
    "duration": 432,
    "start_time": "2023-07-21T19:54:56.900Z"
   },
   {
    "duration": 2,
    "start_time": "2023-07-21T19:54:57.333Z"
   },
   {
    "duration": 125,
    "start_time": "2023-07-21T19:54:57.337Z"
   },
   {
    "duration": 14,
    "start_time": "2023-07-21T19:54:57.466Z"
   },
   {
    "duration": 24,
    "start_time": "2023-07-21T19:54:57.482Z"
   },
   {
    "duration": 6,
    "start_time": "2023-07-21T19:54:57.508Z"
   },
   {
    "duration": 177,
    "start_time": "2023-07-21T19:54:57.516Z"
   },
   {
    "duration": 16,
    "start_time": "2023-07-21T19:54:57.695Z"
   },
   {
    "duration": 220,
    "start_time": "2023-07-21T19:54:57.713Z"
   },
   {
    "duration": 16,
    "start_time": "2023-07-21T19:55:09.357Z"
   },
   {
    "duration": 202,
    "start_time": "2023-07-21T19:55:10.088Z"
   },
   {
    "duration": 41,
    "start_time": "2023-07-21T19:55:46.104Z"
   },
   {
    "duration": 7,
    "start_time": "2023-07-21T19:57:37.703Z"
   },
   {
    "duration": 660,
    "start_time": "2023-07-21T19:57:53.000Z"
   },
   {
    "duration": 35,
    "start_time": "2023-07-21T19:58:04.009Z"
   },
   {
    "duration": 6,
    "start_time": "2023-07-21T19:58:28.702Z"
   },
   {
    "duration": 3,
    "start_time": "2023-07-21T19:58:46.638Z"
   },
   {
    "duration": 516,
    "start_time": "2023-07-21T19:58:50.093Z"
   },
   {
    "duration": 519,
    "start_time": "2023-07-21T19:58:53.340Z"
   },
   {
    "duration": 615,
    "start_time": "2023-07-21T19:59:04.503Z"
   },
   {
    "duration": 0,
    "start_time": "2023-07-21T19:59:05.120Z"
   },
   {
    "duration": 1697,
    "start_time": "2023-07-21T19:59:37.623Z"
   },
   {
    "duration": 4,
    "start_time": "2023-07-21T19:59:39.322Z"
   },
   {
    "duration": 78,
    "start_time": "2023-07-21T19:59:39.328Z"
   },
   {
    "duration": 29,
    "start_time": "2023-07-21T19:59:39.408Z"
   },
   {
    "duration": 62,
    "start_time": "2023-07-21T19:59:39.440Z"
   },
   {
    "duration": 6,
    "start_time": "2023-07-21T19:59:39.504Z"
   },
   {
    "duration": 12,
    "start_time": "2023-07-21T19:59:39.512Z"
   },
   {
    "duration": 706,
    "start_time": "2023-07-21T19:59:39.526Z"
   },
   {
    "duration": 9,
    "start_time": "2023-07-21T19:59:40.233Z"
   },
   {
    "duration": 24,
    "start_time": "2023-07-21T19:59:40.243Z"
   },
   {
    "duration": 10,
    "start_time": "2023-07-21T19:59:40.281Z"
   },
   {
    "duration": 29,
    "start_time": "2023-07-21T19:59:40.293Z"
   },
   {
    "duration": 4,
    "start_time": "2023-07-21T19:59:40.324Z"
   },
   {
    "duration": 8,
    "start_time": "2023-07-21T19:59:40.331Z"
   },
   {
    "duration": 38,
    "start_time": "2023-07-21T19:59:40.341Z"
   },
   {
    "duration": 439,
    "start_time": "2023-07-21T19:59:40.382Z"
   },
   {
    "duration": 7,
    "start_time": "2023-07-21T19:59:40.823Z"
   },
   {
    "duration": 649,
    "start_time": "2023-07-21T19:59:40.832Z"
   },
   {
    "duration": 0,
    "start_time": "2023-07-21T19:59:41.483Z"
   },
   {
    "duration": 0,
    "start_time": "2023-07-21T19:59:41.484Z"
   },
   {
    "duration": 0,
    "start_time": "2023-07-21T19:59:41.485Z"
   },
   {
    "duration": 0,
    "start_time": "2023-07-21T19:59:41.486Z"
   },
   {
    "duration": 0,
    "start_time": "2023-07-21T19:59:41.487Z"
   },
   {
    "duration": 0,
    "start_time": "2023-07-21T19:59:41.488Z"
   },
   {
    "duration": 0,
    "start_time": "2023-07-21T19:59:41.489Z"
   },
   {
    "duration": 7,
    "start_time": "2023-07-21T20:00:13.907Z"
   },
   {
    "duration": 5,
    "start_time": "2023-07-21T20:00:26.156Z"
   },
   {
    "duration": 1593,
    "start_time": "2023-07-21T20:00:39.091Z"
   },
   {
    "duration": 4,
    "start_time": "2023-07-21T20:00:40.686Z"
   },
   {
    "duration": 121,
    "start_time": "2023-07-21T20:00:40.691Z"
   },
   {
    "duration": 33,
    "start_time": "2023-07-21T20:00:40.815Z"
   },
   {
    "duration": 68,
    "start_time": "2023-07-21T20:00:40.850Z"
   },
   {
    "duration": 6,
    "start_time": "2023-07-21T20:00:40.920Z"
   },
   {
    "duration": 36,
    "start_time": "2023-07-21T20:00:40.928Z"
   },
   {
    "duration": 665,
    "start_time": "2023-07-21T20:00:40.966Z"
   },
   {
    "duration": 8,
    "start_time": "2023-07-21T20:00:41.633Z"
   },
   {
    "duration": 10,
    "start_time": "2023-07-21T20:00:41.644Z"
   },
   {
    "duration": 30,
    "start_time": "2023-07-21T20:00:41.656Z"
   },
   {
    "duration": 29,
    "start_time": "2023-07-21T20:00:41.688Z"
   },
   {
    "duration": 5,
    "start_time": "2023-07-21T20:00:41.718Z"
   },
   {
    "duration": 17,
    "start_time": "2023-07-21T20:00:41.725Z"
   },
   {
    "duration": 59,
    "start_time": "2023-07-21T20:00:41.743Z"
   },
   {
    "duration": 451,
    "start_time": "2023-07-21T20:00:41.804Z"
   },
   {
    "duration": 7,
    "start_time": "2023-07-21T20:00:42.256Z"
   },
   {
    "duration": 57,
    "start_time": "2023-07-21T20:00:42.266Z"
   },
   {
    "duration": 232,
    "start_time": "2023-07-21T20:00:42.324Z"
   },
   {
    "duration": 22,
    "start_time": "2023-07-21T20:00:42.558Z"
   },
   {
    "duration": 29,
    "start_time": "2023-07-21T20:00:42.582Z"
   },
   {
    "duration": 8,
    "start_time": "2023-07-21T20:00:42.613Z"
   },
   {
    "duration": 174,
    "start_time": "2023-07-21T20:00:42.623Z"
   },
   {
    "duration": 152,
    "start_time": "2023-07-21T20:00:42.799Z"
   },
   {
    "duration": 0,
    "start_time": "2023-07-21T20:00:42.953Z"
   },
   {
    "duration": 6,
    "start_time": "2023-07-21T20:01:18.329Z"
   },
   {
    "duration": 19,
    "start_time": "2023-07-21T20:04:09.538Z"
   },
   {
    "duration": 1588,
    "start_time": "2023-07-21T20:04:16.725Z"
   },
   {
    "duration": 2,
    "start_time": "2023-07-21T20:04:18.316Z"
   },
   {
    "duration": 83,
    "start_time": "2023-07-21T20:04:18.320Z"
   },
   {
    "duration": 28,
    "start_time": "2023-07-21T20:04:18.405Z"
   },
   {
    "duration": 67,
    "start_time": "2023-07-21T20:04:18.435Z"
   },
   {
    "duration": 6,
    "start_time": "2023-07-21T20:04:18.504Z"
   },
   {
    "duration": 9,
    "start_time": "2023-07-21T20:04:18.511Z"
   },
   {
    "duration": 707,
    "start_time": "2023-07-21T20:04:18.521Z"
   },
   {
    "duration": 8,
    "start_time": "2023-07-21T20:04:19.230Z"
   },
   {
    "duration": 14,
    "start_time": "2023-07-21T20:04:19.239Z"
   },
   {
    "duration": 17,
    "start_time": "2023-07-21T20:04:19.268Z"
   },
   {
    "duration": 37,
    "start_time": "2023-07-21T20:04:19.287Z"
   },
   {
    "duration": 5,
    "start_time": "2023-07-21T20:04:19.326Z"
   },
   {
    "duration": 13,
    "start_time": "2023-07-21T20:04:19.333Z"
   },
   {
    "duration": 28,
    "start_time": "2023-07-21T20:04:19.348Z"
   },
   {
    "duration": 436,
    "start_time": "2023-07-21T20:04:19.378Z"
   },
   {
    "duration": 117,
    "start_time": "2023-07-21T20:04:19.816Z"
   },
   {
    "duration": 12,
    "start_time": "2023-07-21T20:04:19.935Z"
   },
   {
    "duration": 33,
    "start_time": "2023-07-21T20:04:19.949Z"
   },
   {
    "duration": 8,
    "start_time": "2023-07-21T20:04:19.983Z"
   },
   {
    "duration": 190,
    "start_time": "2023-07-21T20:04:19.993Z"
   },
   {
    "duration": 16,
    "start_time": "2023-07-21T20:04:20.185Z"
   },
   {
    "duration": 195,
    "start_time": "2023-07-21T20:04:20.202Z"
   },
   {
    "duration": 10,
    "start_time": "2023-07-21T20:06:58.316Z"
   },
   {
    "duration": 126,
    "start_time": "2023-07-21T20:07:20.008Z"
   },
   {
    "duration": 14,
    "start_time": "2023-07-21T20:07:27.145Z"
   },
   {
    "duration": 195,
    "start_time": "2023-07-21T20:07:27.733Z"
   },
   {
    "duration": 1697,
    "start_time": "2023-07-21T20:07:53.552Z"
   },
   {
    "duration": 2,
    "start_time": "2023-07-21T20:07:55.251Z"
   },
   {
    "duration": 76,
    "start_time": "2023-07-21T20:07:55.254Z"
   },
   {
    "duration": 31,
    "start_time": "2023-07-21T20:07:55.332Z"
   },
   {
    "duration": 45,
    "start_time": "2023-07-21T20:07:55.365Z"
   },
   {
    "duration": 6,
    "start_time": "2023-07-21T20:07:55.411Z"
   },
   {
    "duration": 7,
    "start_time": "2023-07-21T20:07:55.419Z"
   },
   {
    "duration": 667,
    "start_time": "2023-07-21T20:07:55.428Z"
   },
   {
    "duration": 8,
    "start_time": "2023-07-21T20:07:56.097Z"
   },
   {
    "duration": 10,
    "start_time": "2023-07-21T20:07:56.108Z"
   },
   {
    "duration": 10,
    "start_time": "2023-07-21T20:07:56.120Z"
   },
   {
    "duration": 43,
    "start_time": "2023-07-21T20:07:56.132Z"
   },
   {
    "duration": 4,
    "start_time": "2023-07-21T20:07:56.177Z"
   },
   {
    "duration": 14,
    "start_time": "2023-07-21T20:07:56.183Z"
   },
   {
    "duration": 25,
    "start_time": "2023-07-21T20:07:56.198Z"
   },
   {
    "duration": 418,
    "start_time": "2023-07-21T20:07:56.225Z"
   },
   {
    "duration": 116,
    "start_time": "2023-07-21T20:07:56.644Z"
   },
   {
    "duration": 12,
    "start_time": "2023-07-21T20:07:56.767Z"
   },
   {
    "duration": 19,
    "start_time": "2023-07-21T20:07:56.780Z"
   },
   {
    "duration": 7,
    "start_time": "2023-07-21T20:07:56.801Z"
   },
   {
    "duration": 176,
    "start_time": "2023-07-21T20:07:56.809Z"
   },
   {
    "duration": 18,
    "start_time": "2023-07-21T20:07:56.987Z"
   },
   {
    "duration": 221,
    "start_time": "2023-07-21T20:07:57.007Z"
   },
   {
    "duration": 13,
    "start_time": "2023-07-21T20:08:15.417Z"
   },
   {
    "duration": 14,
    "start_time": "2023-07-21T20:08:22.062Z"
   },
   {
    "duration": 7,
    "start_time": "2023-07-21T20:09:26.084Z"
   },
   {
    "duration": 117,
    "start_time": "2023-07-21T20:10:38.896Z"
   },
   {
    "duration": 82,
    "start_time": "2023-07-21T20:10:46.674Z"
   },
   {
    "duration": 151,
    "start_time": "2023-07-21T20:12:48.861Z"
   },
   {
    "duration": 4,
    "start_time": "2023-07-21T20:14:13.254Z"
   },
   {
    "duration": 121,
    "start_time": "2023-07-21T20:19:08.482Z"
   },
   {
    "duration": 264,
    "start_time": "2023-07-21T20:20:11.492Z"
   },
   {
    "duration": 184,
    "start_time": "2023-07-21T20:20:58.051Z"
   },
   {
    "duration": 19,
    "start_time": "2023-07-21T20:21:16.656Z"
   },
   {
    "duration": 15,
    "start_time": "2023-07-21T20:21:20.490Z"
   },
   {
    "duration": 40,
    "start_time": "2023-07-21T20:25:59.467Z"
   },
   {
    "duration": 228,
    "start_time": "2023-07-21T20:28:23.798Z"
   },
   {
    "duration": 268,
    "start_time": "2023-07-21T20:32:49.522Z"
   },
   {
    "duration": 190,
    "start_time": "2023-07-21T20:34:01.220Z"
   },
   {
    "duration": 30,
    "start_time": "2023-07-21T20:34:20.448Z"
   },
   {
    "duration": 31,
    "start_time": "2023-07-21T20:34:23.318Z"
   },
   {
    "duration": 196,
    "start_time": "2023-07-21T20:34:35.020Z"
   },
   {
    "duration": 188,
    "start_time": "2023-07-21T20:34:39.086Z"
   },
   {
    "duration": 1725,
    "start_time": "2023-07-22T14:03:24.787Z"
   },
   {
    "duration": 5,
    "start_time": "2023-07-22T14:03:26.515Z"
   },
   {
    "duration": 247,
    "start_time": "2023-07-22T14:03:26.523Z"
   },
   {
    "duration": 25,
    "start_time": "2023-07-22T14:03:26.772Z"
   },
   {
    "duration": 50,
    "start_time": "2023-07-22T14:03:26.798Z"
   },
   {
    "duration": 5,
    "start_time": "2023-07-22T14:03:26.850Z"
   },
   {
    "duration": 8,
    "start_time": "2023-07-22T14:03:26.856Z"
   },
   {
    "duration": 681,
    "start_time": "2023-07-22T14:03:26.865Z"
   },
   {
    "duration": 7,
    "start_time": "2023-07-22T14:03:27.548Z"
   },
   {
    "duration": 10,
    "start_time": "2023-07-22T14:03:27.559Z"
   },
   {
    "duration": 9,
    "start_time": "2023-07-22T14:03:27.570Z"
   },
   {
    "duration": 52,
    "start_time": "2023-07-22T14:03:27.581Z"
   },
   {
    "duration": 5,
    "start_time": "2023-07-22T14:03:27.635Z"
   },
   {
    "duration": 4,
    "start_time": "2023-07-22T14:03:27.642Z"
   },
   {
    "duration": 23,
    "start_time": "2023-07-22T14:03:27.648Z"
   },
   {
    "duration": 440,
    "start_time": "2023-07-22T14:03:27.672Z"
   },
   {
    "duration": 93,
    "start_time": "2023-07-22T14:03:28.115Z"
   },
   {
    "duration": 13,
    "start_time": "2023-07-22T14:03:28.210Z"
   },
   {
    "duration": 22,
    "start_time": "2023-07-22T14:03:28.225Z"
   },
   {
    "duration": 7,
    "start_time": "2023-07-22T14:03:28.249Z"
   },
   {
    "duration": 164,
    "start_time": "2023-07-22T14:03:28.258Z"
   },
   {
    "duration": 15,
    "start_time": "2023-07-22T14:03:28.424Z"
   },
   {
    "duration": 187,
    "start_time": "2023-07-22T14:03:28.441Z"
   },
   {
    "duration": 127,
    "start_time": "2023-07-22T14:03:28.631Z"
   },
   {
    "duration": 191,
    "start_time": "2023-07-22T14:03:28.760Z"
   },
   {
    "duration": 22,
    "start_time": "2023-07-22T14:05:07.356Z"
   },
   {
    "duration": 11,
    "start_time": "2023-07-22T14:06:00.852Z"
   },
   {
    "duration": 102,
    "start_time": "2023-07-22T14:07:04.280Z"
   },
   {
    "duration": 5,
    "start_time": "2023-07-22T14:07:09.456Z"
   },
   {
    "duration": 18,
    "start_time": "2023-07-22T14:07:29.101Z"
   },
   {
    "duration": 7,
    "start_time": "2023-07-22T14:19:22.928Z"
   },
   {
    "duration": 8,
    "start_time": "2023-07-22T14:21:24.274Z"
   },
   {
    "duration": 5,
    "start_time": "2023-07-22T14:28:05.661Z"
   },
   {
    "duration": 1732,
    "start_time": "2023-07-22T14:28:28.498Z"
   },
   {
    "duration": 6,
    "start_time": "2023-07-22T14:29:06.802Z"
   },
   {
    "duration": 28,
    "start_time": "2023-07-22T14:29:16.403Z"
   },
   {
    "duration": 12,
    "start_time": "2023-07-22T14:30:59.828Z"
   },
   {
    "duration": 13,
    "start_time": "2023-07-22T14:31:21.150Z"
   },
   {
    "duration": 19,
    "start_time": "2023-07-22T14:31:31.320Z"
   },
   {
    "duration": 22,
    "start_time": "2023-07-22T14:31:38.477Z"
   },
   {
    "duration": 5,
    "start_time": "2023-07-22T14:32:09.086Z"
   },
   {
    "duration": 5,
    "start_time": "2023-07-22T14:32:36.405Z"
   },
   {
    "duration": 12,
    "start_time": "2023-07-22T14:34:25.080Z"
   },
   {
    "duration": 292,
    "start_time": "2023-07-22T14:34:37.690Z"
   },
   {
    "duration": 13,
    "start_time": "2023-07-22T14:36:58.835Z"
   },
   {
    "duration": 308,
    "start_time": "2023-07-22T14:37:21.100Z"
   },
   {
    "duration": 317,
    "start_time": "2023-07-22T14:37:45.991Z"
   },
   {
    "duration": 6,
    "start_time": "2023-07-22T14:37:58.736Z"
   },
   {
    "duration": 358,
    "start_time": "2023-07-22T14:37:59.637Z"
   },
   {
    "duration": 413,
    "start_time": "2023-07-22T14:39:23.606Z"
   },
   {
    "duration": 295,
    "start_time": "2023-07-22T14:39:38.593Z"
   },
   {
    "duration": 7,
    "start_time": "2023-07-22T14:40:32.742Z"
   },
   {
    "duration": 282,
    "start_time": "2023-07-22T14:40:33.308Z"
   },
   {
    "duration": 5,
    "start_time": "2023-07-22T14:40:45.416Z"
   },
   {
    "duration": 330,
    "start_time": "2023-07-22T14:40:46.540Z"
   },
   {
    "duration": 328,
    "start_time": "2023-07-22T14:41:10.340Z"
   },
   {
    "duration": 6,
    "start_time": "2023-07-22T14:47:58.483Z"
   },
   {
    "duration": 11795,
    "start_time": "2023-07-22T14:48:14.066Z"
   },
   {
    "duration": 7,
    "start_time": "2023-07-22T14:48:27.345Z"
   },
   {
    "duration": 11020,
    "start_time": "2023-07-22T14:48:27.909Z"
   },
   {
    "duration": 6,
    "start_time": "2023-07-22T14:48:59.071Z"
   },
   {
    "duration": 11194,
    "start_time": "2023-07-22T14:49:00.256Z"
   },
   {
    "duration": 7,
    "start_time": "2023-07-22T14:49:38.471Z"
   },
   {
    "duration": 15,
    "start_time": "2023-07-22T14:49:39.914Z"
   },
   {
    "duration": 332,
    "start_time": "2023-07-22T14:50:09.436Z"
   },
   {
    "duration": 12,
    "start_time": "2023-07-22T14:50:29.183Z"
   },
   {
    "duration": 297,
    "start_time": "2023-07-22T14:50:37.898Z"
   },
   {
    "duration": 344,
    "start_time": "2023-07-22T14:51:03.855Z"
   },
   {
    "duration": 322,
    "start_time": "2023-07-22T14:51:22.001Z"
   },
   {
    "duration": 318,
    "start_time": "2023-07-22T14:51:44.777Z"
   },
   {
    "duration": 301,
    "start_time": "2023-07-22T14:53:43.392Z"
   },
   {
    "duration": 340,
    "start_time": "2023-07-22T14:53:59.877Z"
   },
   {
    "duration": 12,
    "start_time": "2023-07-22T14:54:31.073Z"
   },
   {
    "duration": 326,
    "start_time": "2023-07-22T14:54:40.132Z"
   },
   {
    "duration": 336,
    "start_time": "2023-07-22T14:55:24.948Z"
   },
   {
    "duration": 506,
    "start_time": "2023-07-22T14:55:46.269Z"
   },
   {
    "duration": 8,
    "start_time": "2023-07-22T14:57:59.638Z"
   },
   {
    "duration": 10,
    "start_time": "2023-07-22T14:58:12.323Z"
   },
   {
    "duration": 14,
    "start_time": "2023-07-22T14:58:30.020Z"
   },
   {
    "duration": 22,
    "start_time": "2023-07-22T14:58:40.446Z"
   },
   {
    "duration": 5,
    "start_time": "2023-07-22T14:59:45.529Z"
   },
   {
    "duration": 5,
    "start_time": "2023-07-22T15:03:02.561Z"
   },
   {
    "duration": 19,
    "start_time": "2023-07-22T15:15:59.919Z"
   },
   {
    "duration": 11,
    "start_time": "2023-07-22T15:16:25.055Z"
   },
   {
    "duration": 13,
    "start_time": "2023-07-22T15:16:32.708Z"
   },
   {
    "duration": 15,
    "start_time": "2023-07-22T15:16:42.488Z"
   },
   {
    "duration": 13,
    "start_time": "2023-07-22T15:17:20.129Z"
   },
   {
    "duration": 13,
    "start_time": "2023-07-22T15:17:29.782Z"
   },
   {
    "duration": 74,
    "start_time": "2023-07-22T18:53:13.071Z"
   },
   {
    "duration": 1967,
    "start_time": "2023-07-22T18:53:18.186Z"
   },
   {
    "duration": 4,
    "start_time": "2023-07-22T18:53:20.155Z"
   },
   {
    "duration": 215,
    "start_time": "2023-07-22T18:53:20.160Z"
   },
   {
    "duration": 44,
    "start_time": "2023-07-22T18:53:20.382Z"
   },
   {
    "duration": 115,
    "start_time": "2023-07-22T18:53:20.429Z"
   },
   {
    "duration": 6,
    "start_time": "2023-07-22T18:53:20.546Z"
   },
   {
    "duration": 51,
    "start_time": "2023-07-22T18:53:20.555Z"
   },
   {
    "duration": 753,
    "start_time": "2023-07-22T18:53:20.608Z"
   },
   {
    "duration": 20,
    "start_time": "2023-07-22T18:53:21.362Z"
   },
   {
    "duration": 41,
    "start_time": "2023-07-22T18:53:21.385Z"
   },
   {
    "duration": 13,
    "start_time": "2023-07-22T18:53:21.429Z"
   },
   {
    "duration": 42,
    "start_time": "2023-07-22T18:53:21.444Z"
   },
   {
    "duration": 11,
    "start_time": "2023-07-22T18:53:21.488Z"
   },
   {
    "duration": 8,
    "start_time": "2023-07-22T18:53:21.503Z"
   },
   {
    "duration": 50,
    "start_time": "2023-07-22T18:53:21.513Z"
   },
   {
    "duration": 495,
    "start_time": "2023-07-22T18:53:21.577Z"
   },
   {
    "duration": 122,
    "start_time": "2023-07-22T18:53:22.086Z"
   },
   {
    "duration": 8,
    "start_time": "2023-07-22T18:53:22.211Z"
   },
   {
    "duration": 96,
    "start_time": "2023-07-22T18:53:22.221Z"
   },
   {
    "duration": 7,
    "start_time": "2023-07-22T18:53:22.319Z"
   },
   {
    "duration": 180,
    "start_time": "2023-07-22T18:53:22.328Z"
   },
   {
    "duration": 23,
    "start_time": "2023-07-22T18:53:22.510Z"
   },
   {
    "duration": 276,
    "start_time": "2023-07-22T18:53:22.536Z"
   },
   {
    "duration": 190,
    "start_time": "2023-07-22T18:53:22.815Z"
   },
   {
    "duration": 237,
    "start_time": "2023-07-22T18:53:23.007Z"
   },
   {
    "duration": 20,
    "start_time": "2023-07-22T18:53:23.246Z"
   },
   {
    "duration": 428,
    "start_time": "2023-07-22T18:53:23.272Z"
   },
   {
    "duration": 26,
    "start_time": "2023-07-22T18:53:23.702Z"
   },
   {
    "duration": 7,
    "start_time": "2023-07-22T18:53:23.729Z"
   },
   {
    "duration": 44,
    "start_time": "2023-07-22T18:53:23.755Z"
   },
   {
    "duration": 11,
    "start_time": "2023-07-22T18:53:39.139Z"
   },
   {
    "duration": 7,
    "start_time": "2023-07-22T18:54:46.401Z"
   },
   {
    "duration": 657,
    "start_time": "2023-07-22T18:56:22.862Z"
   },
   {
    "duration": 12,
    "start_time": "2023-07-22T18:57:42.276Z"
   },
   {
    "duration": 139,
    "start_time": "2023-07-22T18:58:34.322Z"
   },
   {
    "duration": 599,
    "start_time": "2023-07-22T18:58:44.111Z"
   },
   {
    "duration": 321,
    "start_time": "2023-07-22T19:04:39.608Z"
   },
   {
    "duration": 437,
    "start_time": "2023-07-22T19:04:50.034Z"
   },
   {
    "duration": 7,
    "start_time": "2023-07-22T19:04:57.714Z"
   },
   {
    "duration": 384,
    "start_time": "2023-07-22T19:05:03.307Z"
   },
   {
    "duration": 6,
    "start_time": "2023-07-22T19:05:06.321Z"
   },
   {
    "duration": 29,
    "start_time": "2023-07-22T19:06:43.468Z"
   },
   {
    "duration": 22,
    "start_time": "2023-07-22T19:13:42.923Z"
   },
   {
    "duration": 15,
    "start_time": "2023-07-22T19:13:53.974Z"
   },
   {
    "duration": 24,
    "start_time": "2023-07-22T19:14:22.450Z"
   },
   {
    "duration": 29,
    "start_time": "2023-07-22T19:14:48.616Z"
   },
   {
    "duration": 8,
    "start_time": "2023-07-22T19:15:17.827Z"
   },
   {
    "duration": 2029,
    "start_time": "2023-07-22T19:15:27.356Z"
   },
   {
    "duration": 5,
    "start_time": "2023-07-22T19:15:29.391Z"
   },
   {
    "duration": 218,
    "start_time": "2023-07-22T19:15:29.402Z"
   },
   {
    "duration": 49,
    "start_time": "2023-07-22T19:15:29.624Z"
   },
   {
    "duration": 118,
    "start_time": "2023-07-22T19:15:29.683Z"
   },
   {
    "duration": 44,
    "start_time": "2023-07-22T19:15:29.807Z"
   },
   {
    "duration": 50,
    "start_time": "2023-07-22T19:15:29.857Z"
   },
   {
    "duration": 953,
    "start_time": "2023-07-22T19:15:29.913Z"
   },
   {
    "duration": 22,
    "start_time": "2023-07-22T19:15:30.874Z"
   },
   {
    "duration": 118,
    "start_time": "2023-07-22T19:15:30.903Z"
   },
   {
    "duration": 139,
    "start_time": "2023-07-22T19:15:31.034Z"
   },
   {
    "duration": 176,
    "start_time": "2023-07-22T19:15:31.185Z"
   },
   {
    "duration": 95,
    "start_time": "2023-07-22T19:15:31.364Z"
   },
   {
    "duration": 115,
    "start_time": "2023-07-22T19:15:31.466Z"
   },
   {
    "duration": 166,
    "start_time": "2023-07-22T19:15:31.583Z"
   },
   {
    "duration": 726,
    "start_time": "2023-07-22T19:15:31.755Z"
   },
   {
    "duration": 138,
    "start_time": "2023-07-22T19:15:32.484Z"
   },
   {
    "duration": 14,
    "start_time": "2023-07-22T19:15:32.632Z"
   },
   {
    "duration": 172,
    "start_time": "2023-07-22T19:15:32.652Z"
   },
   {
    "duration": 93,
    "start_time": "2023-07-22T19:15:32.829Z"
   },
   {
    "duration": 363,
    "start_time": "2023-07-22T19:15:32.931Z"
   },
   {
    "duration": 22,
    "start_time": "2023-07-22T19:15:33.296Z"
   },
   {
    "duration": 451,
    "start_time": "2023-07-22T19:15:33.320Z"
   },
   {
    "duration": 212,
    "start_time": "2023-07-22T19:15:33.776Z"
   },
   {
    "duration": 271,
    "start_time": "2023-07-22T19:15:33.993Z"
   },
   {
    "duration": 11,
    "start_time": "2023-07-22T19:15:34.283Z"
   },
   {
    "duration": 510,
    "start_time": "2023-07-22T19:15:34.299Z"
   },
   {
    "duration": 85,
    "start_time": "2023-07-22T19:15:34.820Z"
   },
   {
    "duration": 41,
    "start_time": "2023-07-22T19:15:34.907Z"
   },
   {
    "duration": 98,
    "start_time": "2023-07-22T19:15:34.950Z"
   },
   {
    "duration": 918,
    "start_time": "2023-07-22T19:15:35.051Z"
   },
   {
    "duration": 48,
    "start_time": "2023-07-22T19:15:35.971Z"
   },
   {
    "duration": 524,
    "start_time": "2023-07-22T19:15:36.021Z"
   },
   {
    "duration": 13,
    "start_time": "2023-07-22T19:15:36.547Z"
   },
   {
    "duration": 103,
    "start_time": "2023-07-22T19:15:36.562Z"
   },
   {
    "duration": 69,
    "start_time": "2023-07-22T19:15:36.667Z"
   },
   {
    "duration": 9,
    "start_time": "2023-07-22T19:15:36.739Z"
   },
   {
    "duration": 2682,
    "start_time": "2023-07-22T19:15:36.750Z"
   },
   {
    "duration": 3011,
    "start_time": "2023-07-22T19:15:46.346Z"
   },
   {
    "duration": 2185,
    "start_time": "2023-07-22T19:18:38.979Z"
   },
   {
    "duration": 462,
    "start_time": "2023-07-22T19:29:31.578Z"
   },
   {
    "duration": 505,
    "start_time": "2023-07-22T19:31:43.079Z"
   },
   {
    "duration": 612,
    "start_time": "2023-07-22T19:31:51.445Z"
   },
   {
    "duration": 438,
    "start_time": "2023-07-22T19:32:01.903Z"
   },
   {
    "duration": 9,
    "start_time": "2023-07-22T19:33:23.099Z"
   },
   {
    "duration": 18,
    "start_time": "2023-07-22T19:34:18.370Z"
   },
   {
    "duration": 165,
    "start_time": "2023-07-22T19:34:51.503Z"
   },
   {
    "duration": 64,
    "start_time": "2023-07-22T19:35:39.037Z"
   },
   {
    "duration": 161,
    "start_time": "2023-07-22T19:35:47.586Z"
   },
   {
    "duration": 155,
    "start_time": "2023-07-22T19:35:54.524Z"
   },
   {
    "duration": 116,
    "start_time": "2023-07-22T19:36:19.482Z"
   },
   {
    "duration": 118,
    "start_time": "2023-07-22T19:36:29.512Z"
   },
   {
    "duration": 37,
    "start_time": "2023-07-22T19:36:59.810Z"
   },
   {
    "duration": 47,
    "start_time": "2023-07-22T19:38:07.566Z"
   },
   {
    "duration": 22,
    "start_time": "2023-07-22T19:39:22.343Z"
   },
   {
    "duration": 14,
    "start_time": "2023-07-22T19:39:33.886Z"
   },
   {
    "duration": 17,
    "start_time": "2023-07-22T19:40:28.476Z"
   },
   {
    "duration": 346,
    "start_time": "2023-07-22T19:40:58.098Z"
   },
   {
    "duration": 14,
    "start_time": "2023-07-22T19:42:04.126Z"
   },
   {
    "duration": 12,
    "start_time": "2023-07-22T19:42:16.404Z"
   },
   {
    "duration": 9,
    "start_time": "2023-07-22T19:42:29.906Z"
   },
   {
    "duration": 13,
    "start_time": "2023-07-22T19:42:50.148Z"
   },
   {
    "duration": 10,
    "start_time": "2023-07-22T19:43:03.139Z"
   },
   {
    "duration": 18,
    "start_time": "2023-07-22T19:43:45.176Z"
   },
   {
    "duration": 523,
    "start_time": "2023-07-22T19:54:46.548Z"
   },
   {
    "duration": 398,
    "start_time": "2023-07-22T19:56:27.930Z"
   },
   {
    "duration": 456,
    "start_time": "2023-07-22T19:57:43.857Z"
   },
   {
    "duration": 128,
    "start_time": "2023-07-24T11:08:10.099Z"
   },
   {
    "duration": 51,
    "start_time": "2023-07-24T11:08:13.825Z"
   },
   {
    "duration": 1597,
    "start_time": "2023-07-24T11:08:26.927Z"
   },
   {
    "duration": 6,
    "start_time": "2023-07-24T11:08:28.526Z"
   },
   {
    "duration": 139,
    "start_time": "2023-07-24T11:08:28.534Z"
   },
   {
    "duration": 23,
    "start_time": "2023-07-24T11:08:28.675Z"
   },
   {
    "duration": 40,
    "start_time": "2023-07-24T11:08:28.699Z"
   },
   {
    "duration": 6,
    "start_time": "2023-07-24T11:08:28.741Z"
   },
   {
    "duration": 15,
    "start_time": "2023-07-24T11:08:28.748Z"
   },
   {
    "duration": 624,
    "start_time": "2023-07-24T11:08:28.764Z"
   },
   {
    "duration": 7,
    "start_time": "2023-07-24T11:08:29.390Z"
   },
   {
    "duration": 8,
    "start_time": "2023-07-24T11:08:29.400Z"
   },
   {
    "duration": 13,
    "start_time": "2023-07-24T11:08:29.409Z"
   },
   {
    "duration": 20,
    "start_time": "2023-07-24T11:08:29.432Z"
   },
   {
    "duration": 5,
    "start_time": "2023-07-24T11:08:29.453Z"
   },
   {
    "duration": 19,
    "start_time": "2023-07-24T11:08:29.459Z"
   },
   {
    "duration": 20,
    "start_time": "2023-07-24T11:08:29.479Z"
   },
   {
    "duration": 352,
    "start_time": "2023-07-24T11:08:29.501Z"
   },
   {
    "duration": 86,
    "start_time": "2023-07-24T11:08:29.858Z"
   },
   {
    "duration": 14,
    "start_time": "2023-07-24T11:08:29.946Z"
   },
   {
    "duration": 24,
    "start_time": "2023-07-24T11:08:29.962Z"
   },
   {
    "duration": 6,
    "start_time": "2023-07-24T11:08:29.988Z"
   },
   {
    "duration": 149,
    "start_time": "2023-07-24T11:08:29.995Z"
   },
   {
    "duration": 16,
    "start_time": "2023-07-24T11:08:30.146Z"
   },
   {
    "duration": 188,
    "start_time": "2023-07-24T11:08:30.163Z"
   },
   {
    "duration": 144,
    "start_time": "2023-07-24T11:08:30.354Z"
   },
   {
    "duration": 385,
    "start_time": "2023-07-24T11:08:30.499Z"
   },
   {
    "duration": 203,
    "start_time": "2023-07-24T11:08:30.886Z"
   },
   {
    "duration": 7,
    "start_time": "2023-07-24T11:08:31.090Z"
   },
   {
    "duration": 443,
    "start_time": "2023-07-24T11:08:31.101Z"
   },
   {
    "duration": 22,
    "start_time": "2023-07-24T11:08:31.546Z"
   },
   {
    "duration": 68,
    "start_time": "2023-07-24T11:08:31.570Z"
   },
   {
    "duration": 50,
    "start_time": "2023-07-24T11:08:31.640Z"
   },
   {
    "duration": 597,
    "start_time": "2023-07-24T11:08:31.691Z"
   },
   {
    "duration": 9,
    "start_time": "2023-07-24T11:08:32.290Z"
   },
   {
    "duration": 387,
    "start_time": "2023-07-24T11:08:32.301Z"
   },
   {
    "duration": 5,
    "start_time": "2023-07-24T11:08:32.689Z"
   },
   {
    "duration": 209,
    "start_time": "2023-07-24T11:08:32.695Z"
   },
   {
    "duration": 49,
    "start_time": "2023-07-24T11:08:32.906Z"
   },
   {
    "duration": 33,
    "start_time": "2023-07-24T11:08:32.957Z"
   },
   {
    "duration": 1714,
    "start_time": "2023-07-24T11:08:32.992Z"
   },
   {
    "duration": 26,
    "start_time": "2023-07-24T11:08:34.708Z"
   },
   {
    "duration": 39,
    "start_time": "2023-07-24T11:08:34.740Z"
   },
   {
    "duration": 20,
    "start_time": "2023-07-24T11:08:34.781Z"
   },
   {
    "duration": 66,
    "start_time": "2023-07-24T11:08:34.804Z"
   },
   {
    "duration": 257,
    "start_time": "2023-07-24T14:07:07.844Z"
   },
   {
    "duration": 0,
    "start_time": "2023-07-24T14:07:08.105Z"
   },
   {
    "duration": 0,
    "start_time": "2023-07-24T14:07:08.106Z"
   },
   {
    "duration": 0,
    "start_time": "2023-07-24T14:07:08.107Z"
   },
   {
    "duration": 0,
    "start_time": "2023-07-24T14:07:08.109Z"
   },
   {
    "duration": 0,
    "start_time": "2023-07-24T14:07:08.109Z"
   },
   {
    "duration": 0,
    "start_time": "2023-07-24T14:07:08.110Z"
   },
   {
    "duration": 0,
    "start_time": "2023-07-24T14:07:08.111Z"
   },
   {
    "duration": 0,
    "start_time": "2023-07-24T14:07:08.112Z"
   },
   {
    "duration": 0,
    "start_time": "2023-07-24T14:07:08.113Z"
   },
   {
    "duration": 0,
    "start_time": "2023-07-24T14:07:08.114Z"
   },
   {
    "duration": 0,
    "start_time": "2023-07-24T14:07:08.115Z"
   },
   {
    "duration": 0,
    "start_time": "2023-07-24T14:07:08.117Z"
   },
   {
    "duration": 0,
    "start_time": "2023-07-24T14:07:08.118Z"
   },
   {
    "duration": 0,
    "start_time": "2023-07-24T14:07:08.119Z"
   },
   {
    "duration": 0,
    "start_time": "2023-07-24T14:07:08.126Z"
   },
   {
    "duration": 0,
    "start_time": "2023-07-24T14:07:08.127Z"
   },
   {
    "duration": 0,
    "start_time": "2023-07-24T14:07:08.128Z"
   },
   {
    "duration": 0,
    "start_time": "2023-07-24T14:07:08.129Z"
   },
   {
    "duration": 0,
    "start_time": "2023-07-24T14:07:08.130Z"
   },
   {
    "duration": 0,
    "start_time": "2023-07-24T14:07:08.130Z"
   },
   {
    "duration": 0,
    "start_time": "2023-07-24T14:07:08.131Z"
   },
   {
    "duration": 0,
    "start_time": "2023-07-24T14:07:08.132Z"
   },
   {
    "duration": 0,
    "start_time": "2023-07-24T14:07:08.133Z"
   },
   {
    "duration": 0,
    "start_time": "2023-07-24T14:07:08.134Z"
   },
   {
    "duration": 0,
    "start_time": "2023-07-24T14:07:08.135Z"
   },
   {
    "duration": 0,
    "start_time": "2023-07-24T14:07:08.135Z"
   },
   {
    "duration": 0,
    "start_time": "2023-07-24T14:07:08.136Z"
   },
   {
    "duration": 0,
    "start_time": "2023-07-24T14:07:08.137Z"
   },
   {
    "duration": 0,
    "start_time": "2023-07-24T14:07:08.138Z"
   },
   {
    "duration": 0,
    "start_time": "2023-07-24T14:07:08.138Z"
   },
   {
    "duration": 0,
    "start_time": "2023-07-24T14:07:08.139Z"
   },
   {
    "duration": 0,
    "start_time": "2023-07-24T14:07:08.144Z"
   },
   {
    "duration": 0,
    "start_time": "2023-07-24T14:07:08.145Z"
   },
   {
    "duration": 0,
    "start_time": "2023-07-24T14:07:08.146Z"
   },
   {
    "duration": 0,
    "start_time": "2023-07-24T14:07:08.147Z"
   },
   {
    "duration": 0,
    "start_time": "2023-07-24T14:07:08.149Z"
   },
   {
    "duration": 0,
    "start_time": "2023-07-24T14:07:08.150Z"
   },
   {
    "duration": 0,
    "start_time": "2023-07-24T14:07:08.151Z"
   },
   {
    "duration": 107,
    "start_time": "2023-07-24T14:07:08.155Z"
   },
   {
    "duration": 0,
    "start_time": "2023-07-24T14:07:08.263Z"
   },
   {
    "duration": 0,
    "start_time": "2023-07-24T14:07:08.264Z"
   },
   {
    "duration": 0,
    "start_time": "2023-07-24T14:07:08.265Z"
   },
   {
    "duration": 1212,
    "start_time": "2023-07-24T14:07:50.168Z"
   },
   {
    "duration": 7959,
    "start_time": "2023-07-24T14:08:48.361Z"
   },
   {
    "duration": 2221,
    "start_time": "2023-07-24T14:09:33.414Z"
   },
   {
    "duration": 166,
    "start_time": "2023-07-24T14:09:35.637Z"
   },
   {
    "duration": 0,
    "start_time": "2023-07-24T14:09:35.806Z"
   },
   {
    "duration": 0,
    "start_time": "2023-07-24T14:09:35.807Z"
   },
   {
    "duration": 0,
    "start_time": "2023-07-24T14:09:35.808Z"
   },
   {
    "duration": 0,
    "start_time": "2023-07-24T14:09:35.809Z"
   },
   {
    "duration": 0,
    "start_time": "2023-07-24T14:09:35.811Z"
   },
   {
    "duration": 0,
    "start_time": "2023-07-24T14:09:35.812Z"
   },
   {
    "duration": 0,
    "start_time": "2023-07-24T14:09:35.813Z"
   },
   {
    "duration": 0,
    "start_time": "2023-07-24T14:09:35.814Z"
   },
   {
    "duration": 0,
    "start_time": "2023-07-24T14:09:35.815Z"
   },
   {
    "duration": 0,
    "start_time": "2023-07-24T14:09:35.817Z"
   },
   {
    "duration": 0,
    "start_time": "2023-07-24T14:09:35.818Z"
   },
   {
    "duration": 0,
    "start_time": "2023-07-24T14:09:35.819Z"
   },
   {
    "duration": 0,
    "start_time": "2023-07-24T14:09:35.820Z"
   },
   {
    "duration": 0,
    "start_time": "2023-07-24T14:09:35.821Z"
   },
   {
    "duration": 0,
    "start_time": "2023-07-24T14:09:35.821Z"
   },
   {
    "duration": 0,
    "start_time": "2023-07-24T14:09:35.822Z"
   },
   {
    "duration": 0,
    "start_time": "2023-07-24T14:09:35.822Z"
   },
   {
    "duration": 0,
    "start_time": "2023-07-24T14:09:35.823Z"
   },
   {
    "duration": 0,
    "start_time": "2023-07-24T14:09:35.824Z"
   },
   {
    "duration": 0,
    "start_time": "2023-07-24T14:09:35.824Z"
   },
   {
    "duration": 0,
    "start_time": "2023-07-24T14:09:35.825Z"
   },
   {
    "duration": 0,
    "start_time": "2023-07-24T14:09:35.825Z"
   },
   {
    "duration": 0,
    "start_time": "2023-07-24T14:09:35.826Z"
   },
   {
    "duration": 0,
    "start_time": "2023-07-24T14:09:35.827Z"
   },
   {
    "duration": 0,
    "start_time": "2023-07-24T14:09:35.827Z"
   },
   {
    "duration": 0,
    "start_time": "2023-07-24T14:09:35.834Z"
   },
   {
    "duration": 1,
    "start_time": "2023-07-24T14:09:35.835Z"
   },
   {
    "duration": 0,
    "start_time": "2023-07-24T14:09:35.837Z"
   },
   {
    "duration": 0,
    "start_time": "2023-07-24T14:09:35.838Z"
   },
   {
    "duration": 0,
    "start_time": "2023-07-24T14:09:35.840Z"
   },
   {
    "duration": 0,
    "start_time": "2023-07-24T14:09:35.841Z"
   },
   {
    "duration": 0,
    "start_time": "2023-07-24T14:09:35.842Z"
   },
   {
    "duration": 0,
    "start_time": "2023-07-24T14:09:35.843Z"
   },
   {
    "duration": 0,
    "start_time": "2023-07-24T14:09:35.844Z"
   },
   {
    "duration": 0,
    "start_time": "2023-07-24T14:09:35.845Z"
   },
   {
    "duration": 0,
    "start_time": "2023-07-24T14:09:35.846Z"
   },
   {
    "duration": 0,
    "start_time": "2023-07-24T14:09:35.847Z"
   },
   {
    "duration": 0,
    "start_time": "2023-07-24T14:09:35.848Z"
   },
   {
    "duration": 0,
    "start_time": "2023-07-24T14:09:35.849Z"
   },
   {
    "duration": 0,
    "start_time": "2023-07-24T14:09:35.850Z"
   },
   {
    "duration": 0,
    "start_time": "2023-07-24T14:09:35.851Z"
   },
   {
    "duration": 0,
    "start_time": "2023-07-24T14:09:35.852Z"
   },
   {
    "duration": 1413,
    "start_time": "2023-07-24T14:10:35.497Z"
   },
   {
    "duration": 1388,
    "start_time": "2023-07-24T14:12:39.121Z"
   },
   {
    "duration": 3,
    "start_time": "2023-07-24T14:12:40.510Z"
   },
   {
    "duration": 3,
    "start_time": "2023-07-24T14:12:40.741Z"
   },
   {
    "duration": 14,
    "start_time": "2023-07-24T14:12:40.746Z"
   },
   {
    "duration": 106,
    "start_time": "2023-07-24T14:12:40.761Z"
   },
   {
    "duration": 22,
    "start_time": "2023-07-24T14:12:40.869Z"
   },
   {
    "duration": 35,
    "start_time": "2023-07-24T14:12:40.893Z"
   },
   {
    "duration": 5,
    "start_time": "2023-07-24T14:12:40.929Z"
   },
   {
    "duration": 15,
    "start_time": "2023-07-24T14:12:40.935Z"
   },
   {
    "duration": 538,
    "start_time": "2023-07-24T14:12:41.138Z"
   },
   {
    "duration": 7,
    "start_time": "2023-07-24T14:12:41.678Z"
   },
   {
    "duration": 16,
    "start_time": "2023-07-24T14:12:41.686Z"
   },
   {
    "duration": 7,
    "start_time": "2023-07-24T14:12:41.704Z"
   },
   {
    "duration": 31,
    "start_time": "2023-07-24T14:12:41.712Z"
   },
   {
    "duration": 4,
    "start_time": "2023-07-24T14:12:41.744Z"
   },
   {
    "duration": 15,
    "start_time": "2023-07-24T14:12:41.749Z"
   },
   {
    "duration": 17,
    "start_time": "2023-07-24T14:12:41.765Z"
   },
   {
    "duration": 361,
    "start_time": "2023-07-24T14:12:41.784Z"
   },
   {
    "duration": 14,
    "start_time": "2023-07-24T14:12:42.148Z"
   },
   {
    "duration": 8,
    "start_time": "2023-07-24T14:12:42.163Z"
   },
   {
    "duration": 21,
    "start_time": "2023-07-24T14:12:42.173Z"
   },
   {
    "duration": 6,
    "start_time": "2023-07-24T14:12:42.196Z"
   },
   {
    "duration": 142,
    "start_time": "2023-07-24T14:12:42.220Z"
   },
   {
    "duration": 13,
    "start_time": "2023-07-24T14:12:42.363Z"
   },
   {
    "duration": 172,
    "start_time": "2023-07-24T14:12:42.377Z"
   },
   {
    "duration": 123,
    "start_time": "2023-07-24T14:12:42.551Z"
   },
   {
    "duration": 325,
    "start_time": "2023-07-24T14:12:42.675Z"
   },
   {
    "duration": 167,
    "start_time": "2023-07-24T14:12:43.001Z"
   },
   {
    "duration": 7,
    "start_time": "2023-07-24T14:12:43.169Z"
   },
   {
    "duration": 327,
    "start_time": "2023-07-24T14:12:43.178Z"
   },
   {
    "duration": 33,
    "start_time": "2023-07-24T14:12:43.506Z"
   },
   {
    "duration": 17,
    "start_time": "2023-07-24T14:12:43.540Z"
   },
   {
    "duration": 7,
    "start_time": "2023-07-24T14:12:43.558Z"
   },
   {
    "duration": 521,
    "start_time": "2023-07-24T14:12:43.566Z"
   },
   {
    "duration": 11,
    "start_time": "2023-07-24T14:12:44.089Z"
   },
   {
    "duration": 274,
    "start_time": "2023-07-24T14:12:44.102Z"
   },
   {
    "duration": 5,
    "start_time": "2023-07-24T14:12:44.379Z"
   },
   {
    "duration": 18,
    "start_time": "2023-07-24T14:12:44.385Z"
   },
   {
    "duration": 15,
    "start_time": "2023-07-24T14:12:44.405Z"
   },
   {
    "duration": 6,
    "start_time": "2023-07-24T14:12:44.422Z"
   },
   {
    "duration": 1584,
    "start_time": "2023-07-24T14:12:44.430Z"
   },
   {
    "duration": 8,
    "start_time": "2023-07-24T14:12:46.015Z"
   },
   {
    "duration": 47,
    "start_time": "2023-07-24T14:12:46.025Z"
   },
   {
    "duration": 7,
    "start_time": "2023-07-24T14:12:46.074Z"
   },
   {
    "duration": 48,
    "start_time": "2023-07-24T14:12:46.082Z"
   },
   {
    "duration": 1484,
    "start_time": "2023-07-24T14:26:58.711Z"
   },
   {
    "duration": 2,
    "start_time": "2023-07-24T14:27:00.198Z"
   },
   {
    "duration": 100,
    "start_time": "2023-07-24T14:27:00.201Z"
   },
   {
    "duration": 27,
    "start_time": "2023-07-24T14:27:00.302Z"
   },
   {
    "duration": 73,
    "start_time": "2023-07-24T14:27:00.332Z"
   },
   {
    "duration": 17,
    "start_time": "2023-07-24T14:27:00.407Z"
   },
   {
    "duration": 32,
    "start_time": "2023-07-24T14:27:00.426Z"
   },
   {
    "duration": 637,
    "start_time": "2023-07-24T14:27:00.459Z"
   },
   {
    "duration": 9,
    "start_time": "2023-07-24T14:27:01.097Z"
   },
   {
    "duration": 39,
    "start_time": "2023-07-24T14:27:01.107Z"
   },
   {
    "duration": 63,
    "start_time": "2023-07-24T14:27:01.148Z"
   },
   {
    "duration": 52,
    "start_time": "2023-07-24T14:27:01.213Z"
   },
   {
    "duration": 54,
    "start_time": "2023-07-24T14:27:01.267Z"
   },
   {
    "duration": 19,
    "start_time": "2023-07-24T14:27:01.326Z"
   },
   {
    "duration": 66,
    "start_time": "2023-07-24T14:27:01.347Z"
   },
   {
    "duration": 406,
    "start_time": "2023-07-24T14:27:01.415Z"
   },
   {
    "duration": 16,
    "start_time": "2023-07-24T14:27:01.822Z"
   },
   {
    "duration": 48,
    "start_time": "2023-07-24T14:27:01.840Z"
   },
   {
    "duration": 40,
    "start_time": "2023-07-24T14:27:01.889Z"
   },
   {
    "duration": 26,
    "start_time": "2023-07-24T14:27:01.930Z"
   },
   {
    "duration": 169,
    "start_time": "2023-07-24T14:27:01.957Z"
   },
   {
    "duration": 13,
    "start_time": "2023-07-24T14:27:02.128Z"
   },
   {
    "duration": 208,
    "start_time": "2023-07-24T14:27:02.142Z"
   },
   {
    "duration": 125,
    "start_time": "2023-07-24T14:27:02.351Z"
   },
   {
    "duration": 337,
    "start_time": "2023-07-24T14:27:02.478Z"
   },
   {
    "duration": 160,
    "start_time": "2023-07-24T14:27:02.820Z"
   },
   {
    "duration": 5,
    "start_time": "2023-07-24T14:27:02.982Z"
   },
   {
    "duration": 331,
    "start_time": "2023-07-24T14:27:02.989Z"
   },
   {
    "duration": 20,
    "start_time": "2023-07-24T14:27:03.321Z"
   },
   {
    "duration": 18,
    "start_time": "2023-07-24T14:27:03.343Z"
   },
   {
    "duration": 34,
    "start_time": "2023-07-24T14:27:03.362Z"
   },
   {
    "duration": 518,
    "start_time": "2023-07-24T14:27:03.398Z"
   },
   {
    "duration": 9,
    "start_time": "2023-07-24T14:27:03.921Z"
   },
   {
    "duration": 247,
    "start_time": "2023-07-24T14:27:03.931Z"
   },
   {
    "duration": 4,
    "start_time": "2023-07-24T14:27:04.180Z"
   },
   {
    "duration": 8,
    "start_time": "2023-07-24T14:27:04.186Z"
   },
   {
    "duration": 159,
    "start_time": "2023-07-24T14:27:04.196Z"
   },
   {
    "duration": 0,
    "start_time": "2023-07-24T14:27:04.357Z"
   },
   {
    "duration": 0,
    "start_time": "2023-07-24T14:27:04.358Z"
   },
   {
    "duration": 0,
    "start_time": "2023-07-24T14:27:04.359Z"
   },
   {
    "duration": 0,
    "start_time": "2023-07-24T14:27:04.361Z"
   },
   {
    "duration": 0,
    "start_time": "2023-07-24T14:27:04.362Z"
   },
   {
    "duration": 0,
    "start_time": "2023-07-24T14:27:04.364Z"
   },
   {
    "duration": 0,
    "start_time": "2023-07-24T14:27:04.365Z"
   },
   {
    "duration": 123,
    "start_time": "2023-07-24T14:30:26.010Z"
   },
   {
    "duration": 58,
    "start_time": "2023-07-24T14:30:31.868Z"
   },
   {
    "duration": 110,
    "start_time": "2023-07-24T14:31:18.920Z"
   },
   {
    "duration": 11,
    "start_time": "2023-07-24T14:32:53.636Z"
   },
   {
    "duration": 72,
    "start_time": "2023-07-24T14:33:33.584Z"
   },
   {
    "duration": 260,
    "start_time": "2023-07-24T14:33:55.057Z"
   },
   {
    "duration": 12,
    "start_time": "2023-07-24T14:34:59.614Z"
   },
   {
    "duration": 3,
    "start_time": "2023-07-24T14:35:38.409Z"
   },
   {
    "duration": 1430,
    "start_time": "2023-07-24T14:35:51.014Z"
   },
   {
    "duration": 3,
    "start_time": "2023-07-24T14:35:52.446Z"
   },
   {
    "duration": 104,
    "start_time": "2023-07-24T14:35:52.451Z"
   },
   {
    "duration": 23,
    "start_time": "2023-07-24T14:35:52.558Z"
   },
   {
    "duration": 48,
    "start_time": "2023-07-24T14:35:52.583Z"
   },
   {
    "duration": 6,
    "start_time": "2023-07-24T14:35:52.633Z"
   },
   {
    "duration": 20,
    "start_time": "2023-07-24T14:35:52.641Z"
   },
   {
    "duration": 514,
    "start_time": "2023-07-24T14:35:53.048Z"
   },
   {
    "duration": 8,
    "start_time": "2023-07-24T14:35:53.564Z"
   },
   {
    "duration": 8,
    "start_time": "2023-07-24T14:35:53.669Z"
   },
   {
    "duration": 7,
    "start_time": "2023-07-24T14:35:53.963Z"
   },
   {
    "duration": 19,
    "start_time": "2023-07-24T14:35:54.007Z"
   },
   {
    "duration": 4,
    "start_time": "2023-07-24T14:35:54.033Z"
   },
   {
    "duration": 21,
    "start_time": "2023-07-24T14:35:54.039Z"
   },
   {
    "duration": 36,
    "start_time": "2023-07-24T14:35:54.061Z"
   },
   {
    "duration": 378,
    "start_time": "2023-07-24T14:35:54.099Z"
   },
   {
    "duration": 14,
    "start_time": "2023-07-24T14:35:54.479Z"
   },
   {
    "duration": 18,
    "start_time": "2023-07-24T14:35:54.494Z"
   },
   {
    "duration": 28,
    "start_time": "2023-07-24T14:35:54.514Z"
   },
   {
    "duration": 50,
    "start_time": "2023-07-24T14:35:54.544Z"
   },
   {
    "duration": 135,
    "start_time": "2023-07-24T14:35:54.595Z"
   },
   {
    "duration": 13,
    "start_time": "2023-07-24T14:35:54.732Z"
   },
   {
    "duration": 186,
    "start_time": "2023-07-24T14:35:54.748Z"
   },
   {
    "duration": 130,
    "start_time": "2023-07-24T14:35:54.936Z"
   },
   {
    "duration": 340,
    "start_time": "2023-07-24T14:35:55.068Z"
   },
   {
    "duration": 190,
    "start_time": "2023-07-24T14:35:55.420Z"
   },
   {
    "duration": 14,
    "start_time": "2023-07-24T14:35:55.612Z"
   },
   {
    "duration": 394,
    "start_time": "2023-07-24T14:35:55.628Z"
   },
   {
    "duration": 22,
    "start_time": "2023-07-24T14:35:56.023Z"
   },
   {
    "duration": 15,
    "start_time": "2023-07-24T14:35:56.047Z"
   },
   {
    "duration": 26,
    "start_time": "2023-07-24T14:35:56.063Z"
   },
   {
    "duration": 651,
    "start_time": "2023-07-24T14:35:56.090Z"
   },
   {
    "duration": 12,
    "start_time": "2023-07-24T14:35:56.744Z"
   },
   {
    "duration": 370,
    "start_time": "2023-07-24T14:35:56.758Z"
   },
   {
    "duration": 5,
    "start_time": "2023-07-24T14:35:57.130Z"
   },
   {
    "duration": 10,
    "start_time": "2023-07-24T14:35:57.136Z"
   },
   {
    "duration": 14,
    "start_time": "2023-07-24T14:35:57.148Z"
   },
   {
    "duration": 114,
    "start_time": "2023-07-24T14:35:57.164Z"
   },
   {
    "duration": 108,
    "start_time": "2023-07-24T14:35:57.280Z"
   },
   {
    "duration": 31,
    "start_time": "2023-07-24T14:35:57.389Z"
   },
   {
    "duration": 13,
    "start_time": "2023-07-24T14:35:57.423Z"
   },
   {
    "duration": 1550,
    "start_time": "2023-07-24T14:35:57.438Z"
   },
   {
    "duration": 8,
    "start_time": "2023-07-24T14:35:58.990Z"
   },
   {
    "duration": 27,
    "start_time": "2023-07-24T14:35:58.999Z"
   },
   {
    "duration": 16,
    "start_time": "2023-07-24T14:35:59.028Z"
   },
   {
    "duration": 36,
    "start_time": "2023-07-24T14:35:59.046Z"
   },
   {
    "duration": 11,
    "start_time": "2023-07-24T14:37:16.960Z"
   },
   {
    "duration": 33,
    "start_time": "2023-07-24T14:37:44.030Z"
   },
   {
    "duration": 85,
    "start_time": "2023-07-24T14:37:44.132Z"
   },
   {
    "duration": 12,
    "start_time": "2023-07-24T14:38:25.389Z"
   },
   {
    "duration": 105,
    "start_time": "2023-07-24T14:38:25.824Z"
   },
   {
    "duration": 85,
    "start_time": "2023-07-24T14:38:26.411Z"
   },
   {
    "duration": 43,
    "start_time": "2023-07-24T14:41:02.133Z"
   },
   {
    "duration": 1555,
    "start_time": "2023-07-24T14:41:28.010Z"
   },
   {
    "duration": 2,
    "start_time": "2023-07-24T14:41:29.567Z"
   },
   {
    "duration": 71,
    "start_time": "2023-07-24T14:41:29.570Z"
   },
   {
    "duration": 21,
    "start_time": "2023-07-24T14:41:29.644Z"
   },
   {
    "duration": 34,
    "start_time": "2023-07-24T14:41:29.666Z"
   },
   {
    "duration": 22,
    "start_time": "2023-07-24T14:41:29.701Z"
   },
   {
    "duration": 5,
    "start_time": "2023-07-24T14:41:29.724Z"
   },
   {
    "duration": 545,
    "start_time": "2023-07-24T14:41:29.730Z"
   },
   {
    "duration": 6,
    "start_time": "2023-07-24T14:41:30.277Z"
   },
   {
    "duration": 72,
    "start_time": "2023-07-24T14:41:30.285Z"
   },
   {
    "duration": 68,
    "start_time": "2023-07-24T14:41:30.358Z"
   },
   {
    "duration": 45,
    "start_time": "2023-07-24T14:41:30.427Z"
   },
   {
    "duration": 3,
    "start_time": "2023-07-24T14:41:30.474Z"
   },
   {
    "duration": 30,
    "start_time": "2023-07-24T14:41:30.479Z"
   },
   {
    "duration": 49,
    "start_time": "2023-07-24T14:41:30.511Z"
   },
   {
    "duration": 407,
    "start_time": "2023-07-24T14:41:30.562Z"
   },
   {
    "duration": 16,
    "start_time": "2023-07-24T14:41:30.971Z"
   },
   {
    "duration": 62,
    "start_time": "2023-07-24T14:41:30.989Z"
   },
   {
    "duration": 95,
    "start_time": "2023-07-24T14:41:31.053Z"
   },
   {
    "duration": 26,
    "start_time": "2023-07-24T14:41:31.150Z"
   },
   {
    "duration": 165,
    "start_time": "2023-07-24T14:41:31.178Z"
   },
   {
    "duration": 12,
    "start_time": "2023-07-24T14:41:31.345Z"
   },
   {
    "duration": 170,
    "start_time": "2023-07-24T14:41:31.359Z"
   },
   {
    "duration": 119,
    "start_time": "2023-07-24T14:41:31.531Z"
   },
   {
    "duration": 348,
    "start_time": "2023-07-24T14:41:31.651Z"
   },
   {
    "duration": 164,
    "start_time": "2023-07-24T14:41:32.001Z"
   },
   {
    "duration": 6,
    "start_time": "2023-07-24T14:41:32.167Z"
   },
   {
    "duration": 350,
    "start_time": "2023-07-24T14:41:32.176Z"
   },
   {
    "duration": 21,
    "start_time": "2023-07-24T14:41:32.527Z"
   },
   {
    "duration": 23,
    "start_time": "2023-07-24T14:41:32.549Z"
   },
   {
    "duration": 43,
    "start_time": "2023-07-24T14:41:32.573Z"
   },
   {
    "duration": 497,
    "start_time": "2023-07-24T14:41:32.618Z"
   },
   {
    "duration": 8,
    "start_time": "2023-07-24T14:41:33.120Z"
   },
   {
    "duration": 351,
    "start_time": "2023-07-24T14:41:33.129Z"
   },
   {
    "duration": 4,
    "start_time": "2023-07-24T14:41:33.481Z"
   },
   {
    "duration": 38,
    "start_time": "2023-07-24T14:41:33.487Z"
   },
   {
    "duration": 43,
    "start_time": "2023-07-24T14:41:33.527Z"
   },
   {
    "duration": 41,
    "start_time": "2023-07-24T14:41:33.572Z"
   },
   {
    "duration": 0,
    "start_time": "2023-07-24T14:41:33.744Z"
   },
   {
    "duration": 0,
    "start_time": "2023-07-24T14:41:33.745Z"
   },
   {
    "duration": 0,
    "start_time": "2023-07-24T14:41:33.746Z"
   },
   {
    "duration": 0,
    "start_time": "2023-07-24T14:41:33.747Z"
   },
   {
    "duration": 1,
    "start_time": "2023-07-24T14:41:33.747Z"
   },
   {
    "duration": 0,
    "start_time": "2023-07-24T14:41:33.748Z"
   },
   {
    "duration": 0,
    "start_time": "2023-07-24T14:41:33.750Z"
   },
   {
    "duration": 0,
    "start_time": "2023-07-24T14:41:33.750Z"
   },
   {
    "duration": 112,
    "start_time": "2023-07-24T14:41:37.041Z"
   },
   {
    "duration": 9425,
    "start_time": "2023-07-24T14:41:54.968Z"
   },
   {
    "duration": 1044,
    "start_time": "2023-07-24T19:23:53.266Z"
   },
   {
    "duration": 0,
    "start_time": "2023-07-24T19:23:54.314Z"
   },
   {
    "duration": 0,
    "start_time": "2023-07-24T19:23:54.315Z"
   },
   {
    "duration": 0,
    "start_time": "2023-07-24T19:23:54.316Z"
   },
   {
    "duration": 0,
    "start_time": "2023-07-24T19:23:54.318Z"
   },
   {
    "duration": 0,
    "start_time": "2023-07-24T19:23:54.320Z"
   },
   {
    "duration": 0,
    "start_time": "2023-07-24T19:23:54.321Z"
   },
   {
    "duration": 0,
    "start_time": "2023-07-24T19:23:54.323Z"
   },
   {
    "duration": 0,
    "start_time": "2023-07-24T19:23:54.324Z"
   },
   {
    "duration": 0,
    "start_time": "2023-07-24T19:23:54.326Z"
   },
   {
    "duration": 0,
    "start_time": "2023-07-24T19:23:54.328Z"
   },
   {
    "duration": 0,
    "start_time": "2023-07-24T19:23:54.329Z"
   },
   {
    "duration": 0,
    "start_time": "2023-07-24T19:23:54.356Z"
   },
   {
    "duration": 0,
    "start_time": "2023-07-24T19:23:54.360Z"
   },
   {
    "duration": 0,
    "start_time": "2023-07-24T19:23:54.362Z"
   },
   {
    "duration": 0,
    "start_time": "2023-07-24T19:23:54.363Z"
   },
   {
    "duration": 0,
    "start_time": "2023-07-24T19:23:54.371Z"
   },
   {
    "duration": 0,
    "start_time": "2023-07-24T19:23:54.381Z"
   },
   {
    "duration": 0,
    "start_time": "2023-07-24T19:23:54.388Z"
   },
   {
    "duration": 0,
    "start_time": "2023-07-24T19:23:54.392Z"
   },
   {
    "duration": 0,
    "start_time": "2023-07-24T19:23:54.393Z"
   },
   {
    "duration": 0,
    "start_time": "2023-07-24T19:23:54.394Z"
   },
   {
    "duration": 0,
    "start_time": "2023-07-24T19:23:54.396Z"
   },
   {
    "duration": 0,
    "start_time": "2023-07-24T19:23:54.397Z"
   },
   {
    "duration": 0,
    "start_time": "2023-07-24T19:23:54.398Z"
   },
   {
    "duration": 0,
    "start_time": "2023-07-24T19:23:54.399Z"
   },
   {
    "duration": 0,
    "start_time": "2023-07-24T19:23:54.400Z"
   },
   {
    "duration": 0,
    "start_time": "2023-07-24T19:23:54.401Z"
   },
   {
    "duration": 0,
    "start_time": "2023-07-24T19:23:54.402Z"
   },
   {
    "duration": 0,
    "start_time": "2023-07-24T19:23:54.403Z"
   },
   {
    "duration": 0,
    "start_time": "2023-07-24T19:23:54.404Z"
   },
   {
    "duration": 0,
    "start_time": "2023-07-24T19:23:54.405Z"
   },
   {
    "duration": 0,
    "start_time": "2023-07-24T19:23:54.407Z"
   },
   {
    "duration": 0,
    "start_time": "2023-07-24T19:23:54.408Z"
   },
   {
    "duration": 0,
    "start_time": "2023-07-24T19:23:54.409Z"
   },
   {
    "duration": 0,
    "start_time": "2023-07-24T19:23:54.410Z"
   },
   {
    "duration": 0,
    "start_time": "2023-07-24T19:23:54.412Z"
   },
   {
    "duration": 0,
    "start_time": "2023-07-24T19:23:54.413Z"
   },
   {
    "duration": 0,
    "start_time": "2023-07-24T19:23:54.452Z"
   },
   {
    "duration": 0,
    "start_time": "2023-07-24T19:23:54.453Z"
   },
   {
    "duration": 1,
    "start_time": "2023-07-24T19:23:54.453Z"
   },
   {
    "duration": 0,
    "start_time": "2023-07-24T19:23:54.454Z"
   },
   {
    "duration": 0,
    "start_time": "2023-07-24T19:23:54.455Z"
   },
   {
    "duration": 0,
    "start_time": "2023-07-24T19:23:54.461Z"
   },
   {
    "duration": 0,
    "start_time": "2023-07-24T19:23:54.462Z"
   },
   {
    "duration": 0,
    "start_time": "2023-07-24T19:23:54.463Z"
   },
   {
    "duration": 0,
    "start_time": "2023-07-24T19:23:54.471Z"
   },
   {
    "duration": 10,
    "start_time": "2023-07-24T19:24:30.723Z"
   },
   {
    "duration": 937,
    "start_time": "2023-07-24T19:24:38.336Z"
   },
   {
    "duration": 1634,
    "start_time": "2023-07-24T19:24:44.881Z"
   },
   {
    "duration": 2,
    "start_time": "2023-07-24T19:24:46.518Z"
   },
   {
    "duration": 159,
    "start_time": "2023-07-24T19:24:46.522Z"
   },
   {
    "duration": 28,
    "start_time": "2023-07-24T19:24:46.683Z"
   },
   {
    "duration": 73,
    "start_time": "2023-07-24T19:24:46.714Z"
   },
   {
    "duration": 6,
    "start_time": "2023-07-24T19:24:46.788Z"
   },
   {
    "duration": 7,
    "start_time": "2023-07-24T19:24:46.796Z"
   },
   {
    "duration": 671,
    "start_time": "2023-07-24T19:24:46.805Z"
   },
   {
    "duration": 10,
    "start_time": "2023-07-24T19:24:47.478Z"
   },
   {
    "duration": 11,
    "start_time": "2023-07-24T19:24:47.491Z"
   },
   {
    "duration": 10,
    "start_time": "2023-07-24T19:24:47.504Z"
   },
   {
    "duration": 53,
    "start_time": "2023-07-24T19:24:47.516Z"
   },
   {
    "duration": 12,
    "start_time": "2023-07-24T19:24:47.571Z"
   },
   {
    "duration": 5,
    "start_time": "2023-07-24T19:24:47.588Z"
   },
   {
    "duration": 24,
    "start_time": "2023-07-24T19:24:47.595Z"
   },
   {
    "duration": 469,
    "start_time": "2023-07-24T19:24:47.621Z"
   },
   {
    "duration": 109,
    "start_time": "2023-07-24T19:24:48.092Z"
   },
   {
    "duration": 13,
    "start_time": "2023-07-24T19:24:48.203Z"
   },
   {
    "duration": 23,
    "start_time": "2023-07-24T19:24:48.218Z"
   },
   {
    "duration": 9,
    "start_time": "2023-07-24T19:24:48.264Z"
   },
   {
    "duration": 233,
    "start_time": "2023-07-24T19:24:48.275Z"
   },
   {
    "duration": 22,
    "start_time": "2023-07-24T19:24:48.510Z"
   },
   {
    "duration": 262,
    "start_time": "2023-07-24T19:24:48.534Z"
   },
   {
    "duration": 178,
    "start_time": "2023-07-24T19:24:48.797Z"
   },
   {
    "duration": 427,
    "start_time": "2023-07-24T19:24:48.977Z"
   },
   {
    "duration": 227,
    "start_time": "2023-07-24T19:24:49.405Z"
   },
   {
    "duration": 23,
    "start_time": "2023-07-24T19:24:49.634Z"
   },
   {
    "duration": 415,
    "start_time": "2023-07-24T19:24:49.659Z"
   },
   {
    "duration": 32,
    "start_time": "2023-07-24T19:24:50.076Z"
   },
   {
    "duration": 12,
    "start_time": "2023-07-24T19:24:50.110Z"
   },
   {
    "duration": 10,
    "start_time": "2023-07-24T19:24:50.124Z"
   },
   {
    "duration": 647,
    "start_time": "2023-07-24T19:24:50.135Z"
   },
   {
    "duration": 11,
    "start_time": "2023-07-24T19:24:50.783Z"
   },
   {
    "duration": 343,
    "start_time": "2023-07-24T19:24:50.796Z"
   },
   {
    "duration": 11,
    "start_time": "2023-07-24T19:24:51.141Z"
   },
   {
    "duration": 39,
    "start_time": "2023-07-24T19:24:51.156Z"
   },
   {
    "duration": 13,
    "start_time": "2023-07-24T19:24:51.196Z"
   },
   {
    "duration": 315,
    "start_time": "2023-07-24T19:24:51.211Z"
   },
   {
    "duration": 110,
    "start_time": "2023-07-24T19:24:51.527Z"
   },
   {
    "duration": 12349,
    "start_time": "2023-07-24T19:24:51.639Z"
   },
   {
    "duration": 7,
    "start_time": "2023-07-24T19:25:03.995Z"
   },
   {
    "duration": 55,
    "start_time": "2023-07-24T19:25:04.004Z"
   },
   {
    "duration": 2250,
    "start_time": "2023-07-24T19:25:04.060Z"
   },
   {
    "duration": 8,
    "start_time": "2023-07-24T19:25:06.312Z"
   },
   {
    "duration": 38,
    "start_time": "2023-07-24T19:25:06.321Z"
   },
   {
    "duration": 55,
    "start_time": "2023-07-24T19:25:06.361Z"
   },
   {
    "duration": 67,
    "start_time": "2023-07-24T19:25:06.418Z"
   },
   {
    "duration": 1648,
    "start_time": "2023-07-24T19:25:27.607Z"
   },
   {
    "duration": 5,
    "start_time": "2023-07-24T19:25:29.257Z"
   },
   {
    "duration": 100,
    "start_time": "2023-07-24T19:25:29.264Z"
   },
   {
    "duration": 31,
    "start_time": "2023-07-24T19:25:29.366Z"
   },
   {
    "duration": 74,
    "start_time": "2023-07-24T19:25:29.399Z"
   },
   {
    "duration": 7,
    "start_time": "2023-07-24T19:25:29.480Z"
   },
   {
    "duration": 7,
    "start_time": "2023-07-24T19:25:29.489Z"
   },
   {
    "duration": 673,
    "start_time": "2023-07-24T19:25:29.498Z"
   },
   {
    "duration": 10,
    "start_time": "2023-07-24T19:25:30.173Z"
   },
   {
    "duration": 41,
    "start_time": "2023-07-24T19:25:30.184Z"
   },
   {
    "duration": 67,
    "start_time": "2023-07-24T19:25:30.227Z"
   },
   {
    "duration": 38,
    "start_time": "2023-07-24T19:25:30.296Z"
   },
   {
    "duration": 22,
    "start_time": "2023-07-24T19:25:30.336Z"
   },
   {
    "duration": 45,
    "start_time": "2023-07-24T19:25:30.362Z"
   },
   {
    "duration": 108,
    "start_time": "2023-07-24T19:25:30.409Z"
   },
   {
    "duration": 463,
    "start_time": "2023-07-24T19:25:30.519Z"
   },
   {
    "duration": 116,
    "start_time": "2023-07-24T19:25:30.987Z"
   },
   {
    "duration": 53,
    "start_time": "2023-07-24T19:25:31.105Z"
   },
   {
    "duration": 75,
    "start_time": "2023-07-24T19:25:31.165Z"
   },
   {
    "duration": 56,
    "start_time": "2023-07-24T19:25:31.241Z"
   },
   {
    "duration": 206,
    "start_time": "2023-07-24T19:25:31.299Z"
   },
   {
    "duration": 16,
    "start_time": "2023-07-24T19:25:31.507Z"
   },
   {
    "duration": 289,
    "start_time": "2023-07-24T19:25:31.525Z"
   },
   {
    "duration": 163,
    "start_time": "2023-07-24T19:25:31.816Z"
   },
   {
    "duration": 437,
    "start_time": "2023-07-24T19:25:31.983Z"
   },
   {
    "duration": 243,
    "start_time": "2023-07-24T19:25:32.422Z"
   },
   {
    "duration": 8,
    "start_time": "2023-07-24T19:25:32.667Z"
   },
   {
    "duration": 432,
    "start_time": "2023-07-24T19:25:32.680Z"
   },
   {
    "duration": 27,
    "start_time": "2023-07-24T19:25:33.115Z"
   },
   {
    "duration": 16,
    "start_time": "2023-07-24T19:25:33.144Z"
   },
   {
    "duration": 30,
    "start_time": "2023-07-24T19:25:33.162Z"
   },
   {
    "duration": 692,
    "start_time": "2023-07-24T19:25:33.194Z"
   },
   {
    "duration": 10,
    "start_time": "2023-07-24T19:25:33.888Z"
   },
   {
    "duration": 336,
    "start_time": "2023-07-24T19:25:33.899Z"
   },
   {
    "duration": 6,
    "start_time": "2023-07-24T19:25:34.237Z"
   },
   {
    "duration": 53,
    "start_time": "2023-07-24T19:25:34.244Z"
   },
   {
    "duration": 14,
    "start_time": "2023-07-24T19:25:34.299Z"
   },
   {
    "duration": 145,
    "start_time": "2023-07-24T19:25:34.314Z"
   },
   {
    "duration": 117,
    "start_time": "2023-07-24T19:25:34.461Z"
   },
   {
    "duration": 12190,
    "start_time": "2023-07-24T19:25:34.580Z"
   },
   {
    "duration": 12,
    "start_time": "2023-07-24T19:25:46.777Z"
   },
   {
    "duration": 14,
    "start_time": "2023-07-24T19:25:46.791Z"
   },
   {
    "duration": 2311,
    "start_time": "2023-07-24T19:25:46.807Z"
   },
   {
    "duration": 7,
    "start_time": "2023-07-24T19:25:49.120Z"
   },
   {
    "duration": 28,
    "start_time": "2023-07-24T19:25:49.129Z"
   },
   {
    "duration": 33,
    "start_time": "2023-07-24T19:25:49.159Z"
   },
   {
    "duration": 43,
    "start_time": "2023-07-24T19:25:49.194Z"
   },
   {
    "duration": 707,
    "start_time": "2023-07-24T19:31:19.450Z"
   },
   {
    "duration": 707,
    "start_time": "2023-07-24T19:31:35.041Z"
   },
   {
    "duration": 970,
    "start_time": "2023-07-24T19:31:39.805Z"
   },
   {
    "duration": 724,
    "start_time": "2023-07-24T19:31:44.650Z"
   },
   {
    "duration": 677,
    "start_time": "2023-07-24T19:31:55.797Z"
   },
   {
    "duration": 723,
    "start_time": "2023-07-24T19:32:21.735Z"
   },
   {
    "duration": 618,
    "start_time": "2023-07-24T19:33:10.326Z"
   },
   {
    "duration": 540,
    "start_time": "2023-07-24T19:33:15.726Z"
   },
   {
    "duration": 10,
    "start_time": "2023-07-24T19:34:58.607Z"
   },
   {
    "duration": 12,
    "start_time": "2023-07-24T19:35:15.229Z"
   },
   {
    "duration": 144,
    "start_time": "2023-07-24T19:35:36.128Z"
   },
   {
    "duration": 17,
    "start_time": "2023-07-24T19:38:29.652Z"
   },
   {
    "duration": 7,
    "start_time": "2023-07-24T19:39:16.234Z"
   },
   {
    "duration": 7,
    "start_time": "2023-07-24T19:39:19.290Z"
   },
   {
    "duration": 19,
    "start_time": "2023-07-24T19:39:24.348Z"
   },
   {
    "duration": 7,
    "start_time": "2023-07-24T19:40:02.238Z"
   },
   {
    "duration": 5,
    "start_time": "2023-07-24T19:40:14.895Z"
   },
   {
    "duration": 24,
    "start_time": "2023-07-24T19:40:28.048Z"
   },
   {
    "duration": 10,
    "start_time": "2023-07-24T19:40:31.595Z"
   },
   {
    "duration": 30,
    "start_time": "2023-07-24T19:41:07.521Z"
   },
   {
    "duration": 9786,
    "start_time": "2023-07-24T19:45:53.228Z"
   },
   {
    "duration": 89,
    "start_time": "2023-07-24T19:47:09.390Z"
   },
   {
    "duration": 52,
    "start_time": "2023-07-25T18:30:48.231Z"
   },
   {
    "duration": 1756,
    "start_time": "2023-07-25T18:30:54.060Z"
   },
   {
    "duration": 3,
    "start_time": "2023-07-25T18:30:55.818Z"
   },
   {
    "duration": 218,
    "start_time": "2023-07-25T18:30:55.827Z"
   },
   {
    "duration": 30,
    "start_time": "2023-07-25T18:30:56.047Z"
   },
   {
    "duration": 54,
    "start_time": "2023-07-25T18:30:56.079Z"
   },
   {
    "duration": 7,
    "start_time": "2023-07-25T18:30:56.135Z"
   },
   {
    "duration": 9,
    "start_time": "2023-07-25T18:30:56.143Z"
   },
   {
    "duration": 735,
    "start_time": "2023-07-25T18:30:56.154Z"
   },
   {
    "duration": 28,
    "start_time": "2023-07-25T18:30:56.891Z"
   },
   {
    "duration": 11,
    "start_time": "2023-07-25T18:30:56.925Z"
   },
   {
    "duration": 24,
    "start_time": "2023-07-25T18:30:56.937Z"
   },
   {
    "duration": 35,
    "start_time": "2023-07-25T18:30:56.963Z"
   },
   {
    "duration": 56,
    "start_time": "2023-07-25T18:30:57.000Z"
   },
   {
    "duration": 28,
    "start_time": "2023-07-25T18:30:57.059Z"
   },
   {
    "duration": 44,
    "start_time": "2023-07-25T18:30:57.088Z"
   },
   {
    "duration": 465,
    "start_time": "2023-07-25T18:30:57.135Z"
   },
   {
    "duration": 119,
    "start_time": "2023-07-25T18:30:57.611Z"
   },
   {
    "duration": 22,
    "start_time": "2023-07-25T18:30:57.732Z"
   },
   {
    "duration": 27,
    "start_time": "2023-07-25T18:30:57.755Z"
   },
   {
    "duration": 7,
    "start_time": "2023-07-25T18:30:57.784Z"
   },
   {
    "duration": 217,
    "start_time": "2023-07-25T18:30:57.793Z"
   },
   {
    "duration": 20,
    "start_time": "2023-07-25T18:30:58.018Z"
   },
   {
    "duration": 206,
    "start_time": "2023-07-25T18:30:58.041Z"
   },
   {
    "duration": 156,
    "start_time": "2023-07-25T18:30:58.248Z"
   },
   {
    "duration": 147,
    "start_time": "2023-07-25T18:30:58.408Z"
   },
   {
    "duration": 0,
    "start_time": "2023-07-25T18:30:58.556Z"
   },
   {
    "duration": 0,
    "start_time": "2023-07-25T18:30:58.558Z"
   },
   {
    "duration": 0,
    "start_time": "2023-07-25T18:30:58.559Z"
   },
   {
    "duration": 0,
    "start_time": "2023-07-25T18:30:58.560Z"
   },
   {
    "duration": 0,
    "start_time": "2023-07-25T18:30:58.561Z"
   },
   {
    "duration": 1,
    "start_time": "2023-07-25T18:30:58.562Z"
   },
   {
    "duration": 0,
    "start_time": "2023-07-25T18:30:58.564Z"
   },
   {
    "duration": 0,
    "start_time": "2023-07-25T18:30:58.565Z"
   },
   {
    "duration": 0,
    "start_time": "2023-07-25T18:30:58.566Z"
   },
   {
    "duration": 0,
    "start_time": "2023-07-25T18:30:58.568Z"
   },
   {
    "duration": 0,
    "start_time": "2023-07-25T18:30:58.569Z"
   },
   {
    "duration": 0,
    "start_time": "2023-07-25T18:30:58.570Z"
   },
   {
    "duration": 0,
    "start_time": "2023-07-25T18:30:58.571Z"
   },
   {
    "duration": 0,
    "start_time": "2023-07-25T18:30:58.572Z"
   },
   {
    "duration": 0,
    "start_time": "2023-07-25T18:30:58.573Z"
   },
   {
    "duration": 0,
    "start_time": "2023-07-25T18:30:58.574Z"
   },
   {
    "duration": 0,
    "start_time": "2023-07-25T18:30:58.575Z"
   },
   {
    "duration": 0,
    "start_time": "2023-07-25T18:30:58.576Z"
   },
   {
    "duration": 0,
    "start_time": "2023-07-25T18:30:58.576Z"
   },
   {
    "duration": 0,
    "start_time": "2023-07-25T18:30:58.608Z"
   },
   {
    "duration": 0,
    "start_time": "2023-07-25T18:30:58.610Z"
   },
   {
    "duration": 0,
    "start_time": "2023-07-25T18:30:58.612Z"
   },
   {
    "duration": 0,
    "start_time": "2023-07-25T18:30:58.613Z"
   },
   {
    "duration": 0,
    "start_time": "2023-07-25T18:30:58.614Z"
   },
   {
    "duration": 0,
    "start_time": "2023-07-25T18:30:58.615Z"
   },
   {
    "duration": 397,
    "start_time": "2023-07-25T18:31:19.079Z"
   },
   {
    "duration": 421,
    "start_time": "2023-07-25T18:31:31.104Z"
   },
   {
    "duration": 205,
    "start_time": "2023-07-25T18:31:31.664Z"
   },
   {
    "duration": 380,
    "start_time": "2023-07-25T18:32:33.292Z"
   },
   {
    "duration": 376,
    "start_time": "2023-07-25T18:33:20.327Z"
   },
   {
    "duration": 1803,
    "start_time": "2023-07-25T18:35:18.339Z"
   },
   {
    "duration": 7,
    "start_time": "2023-07-25T18:35:20.147Z"
   },
   {
    "duration": 109,
    "start_time": "2023-07-25T18:35:20.157Z"
   },
   {
    "duration": 54,
    "start_time": "2023-07-25T18:35:20.269Z"
   },
   {
    "duration": 81,
    "start_time": "2023-07-25T18:35:20.325Z"
   },
   {
    "duration": 11,
    "start_time": "2023-07-25T18:35:20.409Z"
   },
   {
    "duration": 40,
    "start_time": "2023-07-25T18:35:20.424Z"
   },
   {
    "duration": 724,
    "start_time": "2023-07-25T18:35:20.466Z"
   },
   {
    "duration": 9,
    "start_time": "2023-07-25T18:35:21.191Z"
   },
   {
    "duration": 54,
    "start_time": "2023-07-25T18:35:21.203Z"
   },
   {
    "duration": 18,
    "start_time": "2023-07-25T18:35:21.258Z"
   },
   {
    "duration": 39,
    "start_time": "2023-07-25T18:35:21.279Z"
   },
   {
    "duration": 8,
    "start_time": "2023-07-25T18:35:21.325Z"
   },
   {
    "duration": 18,
    "start_time": "2023-07-25T18:35:21.337Z"
   },
   {
    "duration": 42,
    "start_time": "2023-07-25T18:35:21.357Z"
   },
   {
    "duration": 425,
    "start_time": "2023-07-25T18:35:21.401Z"
   },
   {
    "duration": 127,
    "start_time": "2023-07-25T18:35:21.827Z"
   },
   {
    "duration": 30,
    "start_time": "2023-07-25T18:35:21.956Z"
   },
   {
    "duration": 40,
    "start_time": "2023-07-25T18:35:21.989Z"
   },
   {
    "duration": 16,
    "start_time": "2023-07-25T18:35:22.032Z"
   },
   {
    "duration": 195,
    "start_time": "2023-07-25T18:35:22.050Z"
   },
   {
    "duration": 21,
    "start_time": "2023-07-25T18:35:22.247Z"
   },
   {
    "duration": 206,
    "start_time": "2023-07-25T18:35:22.270Z"
   },
   {
    "duration": 163,
    "start_time": "2023-07-25T18:35:22.478Z"
   },
   {
    "duration": 206,
    "start_time": "2023-07-25T18:35:22.643Z"
   },
   {
    "duration": 7,
    "start_time": "2023-07-25T18:35:22.850Z"
   },
   {
    "duration": 384,
    "start_time": "2023-07-25T18:35:22.859Z"
   },
   {
    "duration": 26,
    "start_time": "2023-07-25T18:35:23.246Z"
   },
   {
    "duration": 24,
    "start_time": "2023-07-25T18:35:23.274Z"
   },
   {
    "duration": 16,
    "start_time": "2023-07-25T18:35:23.300Z"
   },
   {
    "duration": 719,
    "start_time": "2023-07-25T18:35:23.320Z"
   },
   {
    "duration": 10,
    "start_time": "2023-07-25T18:35:24.040Z"
   },
   {
    "duration": 320,
    "start_time": "2023-07-25T18:35:24.052Z"
   },
   {
    "duration": 5,
    "start_time": "2023-07-25T18:35:24.374Z"
   },
   {
    "duration": 26,
    "start_time": "2023-07-25T18:35:24.381Z"
   },
   {
    "duration": 55,
    "start_time": "2023-07-25T18:35:24.408Z"
   },
   {
    "duration": 125,
    "start_time": "2023-07-25T18:35:24.465Z"
   },
   {
    "duration": 213,
    "start_time": "2023-07-25T18:35:24.592Z"
   },
   {
    "duration": 12591,
    "start_time": "2023-07-25T18:35:24.810Z"
   },
   {
    "duration": 858,
    "start_time": "2023-07-25T18:35:37.403Z"
   },
   {
    "duration": 135,
    "start_time": "2023-07-25T18:35:38.263Z"
   },
   {
    "duration": 12,
    "start_time": "2023-07-25T18:35:38.400Z"
   },
   {
    "duration": 93,
    "start_time": "2023-07-25T18:35:38.414Z"
   },
   {
    "duration": 2171,
    "start_time": "2023-07-25T18:35:38.509Z"
   },
   {
    "duration": 10,
    "start_time": "2023-07-25T18:35:40.682Z"
   },
   {
    "duration": 12,
    "start_time": "2023-07-25T18:35:40.709Z"
   },
   {
    "duration": 30,
    "start_time": "2023-07-25T18:35:40.723Z"
   },
   {
    "duration": 61,
    "start_time": "2023-07-25T18:35:40.756Z"
   },
   {
    "duration": 99,
    "start_time": "2023-07-25T18:43:30.594Z"
   },
   {
    "duration": 11,
    "start_time": "2023-07-25T18:44:35.001Z"
   },
   {
    "duration": 14,
    "start_time": "2023-07-25T18:45:16.153Z"
   },
   {
    "duration": 14,
    "start_time": "2023-07-25T18:45:21.928Z"
   },
   {
    "duration": 155,
    "start_time": "2023-07-25T18:45:37.088Z"
   },
   {
    "duration": 101,
    "start_time": "2023-07-25T18:45:43.126Z"
   },
   {
    "duration": 23,
    "start_time": "2023-07-25T18:46:36.055Z"
   },
   {
    "duration": 27,
    "start_time": "2023-07-25T18:46:50.228Z"
   },
   {
    "duration": 32,
    "start_time": "2023-07-25T18:47:11.391Z"
   },
   {
    "duration": 28,
    "start_time": "2023-07-25T18:47:46.449Z"
   },
   {
    "duration": 5,
    "start_time": "2023-07-25T18:48:16.907Z"
   },
   {
    "duration": 7,
    "start_time": "2023-07-25T18:48:24.553Z"
   },
   {
    "duration": 5,
    "start_time": "2023-07-25T18:48:42.044Z"
   },
   {
    "duration": 10,
    "start_time": "2023-07-25T18:48:59.117Z"
   },
   {
    "duration": 11,
    "start_time": "2023-07-25T18:49:10.759Z"
   },
   {
    "duration": 7,
    "start_time": "2023-07-25T18:49:20.495Z"
   },
   {
    "duration": 15,
    "start_time": "2023-07-25T18:49:25.842Z"
   },
   {
    "duration": 9,
    "start_time": "2023-07-25T18:53:03.387Z"
   },
   {
    "duration": 20,
    "start_time": "2023-07-25T18:58:54.030Z"
   },
   {
    "duration": 630,
    "start_time": "2023-07-25T19:00:21.636Z"
   },
   {
    "duration": 666,
    "start_time": "2023-07-25T19:00:25.596Z"
   },
   {
    "duration": 15670,
    "start_time": "2023-07-25T19:02:38.468Z"
   },
   {
    "duration": 15548,
    "start_time": "2023-07-25T19:05:25.701Z"
   },
   {
    "duration": 15003,
    "start_time": "2023-07-25T19:07:55.152Z"
   },
   {
    "duration": 15513,
    "start_time": "2023-07-25T19:14:32.303Z"
   },
   {
    "duration": 14644,
    "start_time": "2023-07-25T19:15:52.915Z"
   },
   {
    "duration": 15662,
    "start_time": "2023-07-25T19:21:56.883Z"
   },
   {
    "duration": 1506,
    "start_time": "2023-07-25T19:22:42.652Z"
   },
   {
    "duration": 3,
    "start_time": "2023-07-25T19:22:44.160Z"
   },
   {
    "duration": 86,
    "start_time": "2023-07-25T19:22:44.165Z"
   },
   {
    "duration": 28,
    "start_time": "2023-07-25T19:22:44.254Z"
   },
   {
    "duration": 62,
    "start_time": "2023-07-25T19:22:44.284Z"
   },
   {
    "duration": 7,
    "start_time": "2023-07-25T19:22:44.348Z"
   },
   {
    "duration": 22,
    "start_time": "2023-07-25T19:22:44.357Z"
   },
   {
    "duration": 699,
    "start_time": "2023-07-25T19:22:44.381Z"
   },
   {
    "duration": 8,
    "start_time": "2023-07-25T19:22:45.082Z"
   },
   {
    "duration": 23,
    "start_time": "2023-07-25T19:22:45.093Z"
   },
   {
    "duration": 13,
    "start_time": "2023-07-25T19:22:45.118Z"
   },
   {
    "duration": 28,
    "start_time": "2023-07-25T19:22:45.135Z"
   },
   {
    "duration": 5,
    "start_time": "2023-07-25T19:22:45.164Z"
   },
   {
    "duration": 10,
    "start_time": "2023-07-25T19:22:45.171Z"
   },
   {
    "duration": 61,
    "start_time": "2023-07-25T19:22:45.183Z"
   },
   {
    "duration": 467,
    "start_time": "2023-07-25T19:22:45.246Z"
   },
   {
    "duration": 155,
    "start_time": "2023-07-25T19:22:45.715Z"
   },
   {
    "duration": 26,
    "start_time": "2023-07-25T19:22:45.872Z"
   },
   {
    "duration": 43,
    "start_time": "2023-07-25T19:22:45.901Z"
   },
   {
    "duration": 9,
    "start_time": "2023-07-25T19:22:45.946Z"
   },
   {
    "duration": 204,
    "start_time": "2023-07-25T19:22:45.957Z"
   },
   {
    "duration": 17,
    "start_time": "2023-07-25T19:22:46.163Z"
   },
   {
    "duration": 227,
    "start_time": "2023-07-25T19:22:46.183Z"
   },
   {
    "duration": 160,
    "start_time": "2023-07-25T19:22:46.412Z"
   },
   {
    "duration": 212,
    "start_time": "2023-07-25T19:22:46.573Z"
   },
   {
    "duration": 7,
    "start_time": "2023-07-25T19:22:46.787Z"
   },
   {
    "duration": 434,
    "start_time": "2023-07-25T19:22:46.810Z"
   },
   {
    "duration": 27,
    "start_time": "2023-07-25T19:22:47.247Z"
   },
   {
    "duration": 7,
    "start_time": "2023-07-25T19:22:47.276Z"
   },
   {
    "duration": 36,
    "start_time": "2023-07-25T19:22:47.285Z"
   },
   {
    "duration": 628,
    "start_time": "2023-07-25T19:22:47.323Z"
   },
   {
    "duration": 11,
    "start_time": "2023-07-25T19:22:47.952Z"
   },
   {
    "duration": 317,
    "start_time": "2023-07-25T19:22:47.965Z"
   },
   {
    "duration": 5,
    "start_time": "2023-07-25T19:22:48.284Z"
   },
   {
    "duration": 37,
    "start_time": "2023-07-25T19:22:48.291Z"
   },
   {
    "duration": 19,
    "start_time": "2023-07-25T19:22:48.330Z"
   },
   {
    "duration": 36,
    "start_time": "2023-07-25T19:22:48.351Z"
   },
   {
    "duration": 224,
    "start_time": "2023-07-25T19:22:48.389Z"
   },
   {
    "duration": 16823,
    "start_time": "2023-07-25T19:22:48.618Z"
   },
   {
    "duration": 1145,
    "start_time": "2023-07-25T19:23:05.443Z"
   },
   {
    "duration": 8,
    "start_time": "2023-07-25T19:23:06.590Z"
   },
   {
    "duration": 603,
    "start_time": "2023-07-25T19:23:06.608Z"
   },
   {
    "duration": 117,
    "start_time": "2023-07-25T19:23:07.213Z"
   },
   {
    "duration": 38,
    "start_time": "2023-07-25T19:23:07.331Z"
   },
   {
    "duration": 30,
    "start_time": "2023-07-25T19:23:07.371Z"
   },
   {
    "duration": 1836,
    "start_time": "2023-07-25T19:23:07.403Z"
   },
   {
    "duration": 11,
    "start_time": "2023-07-25T19:23:09.241Z"
   },
   {
    "duration": 56,
    "start_time": "2023-07-25T19:23:09.254Z"
   },
   {
    "duration": 12,
    "start_time": "2023-07-25T19:23:09.312Z"
   },
   {
    "duration": 43,
    "start_time": "2023-07-25T19:23:09.326Z"
   },
   {
    "duration": 135,
    "start_time": "2023-07-25T19:23:59.234Z"
   },
   {
    "duration": 15454,
    "start_time": "2023-07-25T19:24:18.262Z"
   },
   {
    "duration": 15,
    "start_time": "2023-07-25T19:27:31.432Z"
   },
   {
    "duration": 16647,
    "start_time": "2023-07-25T19:28:20.194Z"
   },
   {
    "duration": 15787,
    "start_time": "2023-07-25T19:28:36.843Z"
   },
   {
    "duration": 1542,
    "start_time": "2023-07-25T19:30:25.199Z"
   },
   {
    "duration": 3,
    "start_time": "2023-07-25T19:30:26.743Z"
   },
   {
    "duration": 70,
    "start_time": "2023-07-25T19:30:26.748Z"
   },
   {
    "duration": 28,
    "start_time": "2023-07-25T19:30:26.819Z"
   },
   {
    "duration": 41,
    "start_time": "2023-07-25T19:30:26.849Z"
   },
   {
    "duration": 21,
    "start_time": "2023-07-25T19:30:26.892Z"
   },
   {
    "duration": 8,
    "start_time": "2023-07-25T19:30:26.914Z"
   },
   {
    "duration": 626,
    "start_time": "2023-07-25T19:30:26.924Z"
   },
   {
    "duration": 8,
    "start_time": "2023-07-25T19:30:27.552Z"
   },
   {
    "duration": 11,
    "start_time": "2023-07-25T19:30:27.561Z"
   },
   {
    "duration": 7,
    "start_time": "2023-07-25T19:30:27.574Z"
   },
   {
    "duration": 47,
    "start_time": "2023-07-25T19:30:27.582Z"
   },
   {
    "duration": 4,
    "start_time": "2023-07-25T19:30:27.631Z"
   },
   {
    "duration": 10,
    "start_time": "2023-07-25T19:30:27.637Z"
   },
   {
    "duration": 35,
    "start_time": "2023-07-25T19:30:27.648Z"
   },
   {
    "duration": 397,
    "start_time": "2023-07-25T19:30:27.684Z"
   },
   {
    "duration": 115,
    "start_time": "2023-07-25T19:30:28.082Z"
   },
   {
    "duration": 15,
    "start_time": "2023-07-25T19:30:28.199Z"
   },
   {
    "duration": 22,
    "start_time": "2023-07-25T19:30:28.216Z"
   },
   {
    "duration": 7,
    "start_time": "2023-07-25T19:30:28.240Z"
   },
   {
    "duration": 172,
    "start_time": "2023-07-25T19:30:28.249Z"
   },
   {
    "duration": 19,
    "start_time": "2023-07-25T19:30:28.423Z"
   },
   {
    "duration": 211,
    "start_time": "2023-07-25T19:30:28.444Z"
   },
   {
    "duration": 146,
    "start_time": "2023-07-25T19:30:28.657Z"
   },
   {
    "duration": 193,
    "start_time": "2023-07-25T19:30:28.805Z"
   },
   {
    "duration": 15,
    "start_time": "2023-07-25T19:30:28.999Z"
   },
   {
    "duration": 425,
    "start_time": "2023-07-25T19:30:29.016Z"
   },
   {
    "duration": 33,
    "start_time": "2023-07-25T19:30:29.443Z"
   },
   {
    "duration": 9,
    "start_time": "2023-07-25T19:30:29.478Z"
   },
   {
    "duration": 6,
    "start_time": "2023-07-25T19:30:29.510Z"
   },
   {
    "duration": 609,
    "start_time": "2023-07-25T19:30:29.518Z"
   },
   {
    "duration": 10,
    "start_time": "2023-07-25T19:30:30.129Z"
   },
   {
    "duration": 369,
    "start_time": "2023-07-25T19:30:30.140Z"
   },
   {
    "duration": 7,
    "start_time": "2023-07-25T19:30:30.511Z"
   },
   {
    "duration": 41,
    "start_time": "2023-07-25T19:30:30.519Z"
   },
   {
    "duration": 52,
    "start_time": "2023-07-25T19:30:30.562Z"
   },
   {
    "duration": 130,
    "start_time": "2023-07-25T19:30:30.615Z"
   },
   {
    "duration": 221,
    "start_time": "2023-07-25T19:30:30.747Z"
   },
   {
    "duration": 15514,
    "start_time": "2023-07-25T19:30:30.970Z"
   },
   {
    "duration": 980,
    "start_time": "2023-07-25T19:30:46.486Z"
   },
   {
    "duration": 8,
    "start_time": "2023-07-25T19:30:47.470Z"
   },
   {
    "duration": 568,
    "start_time": "2023-07-25T19:30:47.479Z"
   },
   {
    "duration": 100,
    "start_time": "2023-07-25T19:30:48.049Z"
   },
   {
    "duration": 6,
    "start_time": "2023-07-25T19:30:48.151Z"
   },
   {
    "duration": 18,
    "start_time": "2023-07-25T19:30:48.159Z"
   },
   {
    "duration": 1737,
    "start_time": "2023-07-25T19:30:48.178Z"
   },
   {
    "duration": 7,
    "start_time": "2023-07-25T19:30:49.917Z"
   },
   {
    "duration": 54,
    "start_time": "2023-07-25T19:30:49.926Z"
   },
   {
    "duration": 40,
    "start_time": "2023-07-25T19:30:49.982Z"
   },
   {
    "duration": 47,
    "start_time": "2023-07-25T19:30:50.024Z"
   },
   {
    "duration": 15690,
    "start_time": "2023-07-25T19:33:48.911Z"
   },
   {
    "duration": 15931,
    "start_time": "2023-07-25T19:34:32.592Z"
   },
   {
    "duration": 119,
    "start_time": "2023-07-25T19:37:09.217Z"
   },
   {
    "duration": 6,
    "start_time": "2023-07-25T19:37:56.027Z"
   },
   {
    "duration": 14588,
    "start_time": "2023-07-25T19:38:04.810Z"
   },
   {
    "duration": 15401,
    "start_time": "2023-07-25T19:38:34.004Z"
   },
   {
    "duration": 14458,
    "start_time": "2023-07-25T19:40:25.892Z"
   },
   {
    "duration": 14855,
    "start_time": "2023-07-25T19:49:23.700Z"
   },
   {
    "duration": 29099,
    "start_time": "2023-07-25T19:50:48.759Z"
   },
   {
    "duration": 769,
    "start_time": "2023-07-25T19:52:47.363Z"
   },
   {
    "duration": 15,
    "start_time": "2023-07-25T19:54:09.165Z"
   },
   {
    "duration": 786,
    "start_time": "2023-07-25T19:54:22.859Z"
   },
   {
    "duration": 1613,
    "start_time": "2023-07-25T20:21:12.965Z"
   },
   {
    "duration": 3,
    "start_time": "2023-07-25T20:21:14.581Z"
   },
   {
    "duration": 147,
    "start_time": "2023-07-25T20:21:14.585Z"
   },
   {
    "duration": 30,
    "start_time": "2023-07-25T20:21:14.734Z"
   },
   {
    "duration": 55,
    "start_time": "2023-07-25T20:21:14.768Z"
   },
   {
    "duration": 9,
    "start_time": "2023-07-25T20:21:14.825Z"
   },
   {
    "duration": 12,
    "start_time": "2023-07-25T20:21:14.836Z"
   },
   {
    "duration": 754,
    "start_time": "2023-07-25T20:21:14.850Z"
   },
   {
    "duration": 8,
    "start_time": "2023-07-25T20:21:15.605Z"
   },
   {
    "duration": 12,
    "start_time": "2023-07-25T20:21:15.614Z"
   },
   {
    "duration": 14,
    "start_time": "2023-07-25T20:21:15.627Z"
   },
   {
    "duration": 41,
    "start_time": "2023-07-25T20:21:15.643Z"
   },
   {
    "duration": 4,
    "start_time": "2023-07-25T20:21:15.686Z"
   },
   {
    "duration": 9,
    "start_time": "2023-07-25T20:21:15.692Z"
   },
   {
    "duration": 21,
    "start_time": "2023-07-25T20:21:15.702Z"
   },
   {
    "duration": 379,
    "start_time": "2023-07-25T20:21:15.725Z"
   },
   {
    "duration": 94,
    "start_time": "2023-07-25T20:21:16.106Z"
   },
   {
    "duration": 12,
    "start_time": "2023-07-25T20:21:16.202Z"
   },
   {
    "duration": 23,
    "start_time": "2023-07-25T20:21:16.215Z"
   },
   {
    "duration": 10,
    "start_time": "2023-07-25T20:21:16.241Z"
   },
   {
    "duration": 251,
    "start_time": "2023-07-25T20:21:16.253Z"
   },
   {
    "duration": 22,
    "start_time": "2023-07-25T20:21:16.506Z"
   },
   {
    "duration": 190,
    "start_time": "2023-07-25T20:21:16.529Z"
   },
   {
    "duration": 135,
    "start_time": "2023-07-25T20:21:16.721Z"
   },
   {
    "duration": 185,
    "start_time": "2023-07-25T20:21:16.859Z"
   },
   {
    "duration": 7,
    "start_time": "2023-07-25T20:21:17.046Z"
   },
   {
    "duration": 390,
    "start_time": "2023-07-25T20:21:17.054Z"
   },
   {
    "duration": 41,
    "start_time": "2023-07-25T20:21:17.447Z"
   },
   {
    "duration": 7,
    "start_time": "2023-07-25T20:21:17.489Z"
   },
   {
    "duration": 19,
    "start_time": "2023-07-25T20:21:17.497Z"
   },
   {
    "duration": 578,
    "start_time": "2023-07-25T20:21:17.518Z"
   },
   {
    "duration": 11,
    "start_time": "2023-07-25T20:21:18.098Z"
   },
   {
    "duration": 336,
    "start_time": "2023-07-25T20:21:18.111Z"
   },
   {
    "duration": 6,
    "start_time": "2023-07-25T20:21:18.449Z"
   },
   {
    "duration": 21,
    "start_time": "2023-07-25T20:21:18.457Z"
   },
   {
    "duration": 26,
    "start_time": "2023-07-25T20:21:18.480Z"
   },
   {
    "duration": 120,
    "start_time": "2023-07-25T20:21:18.507Z"
   },
   {
    "duration": 176,
    "start_time": "2023-07-25T20:21:18.629Z"
   },
   {
    "duration": 13521,
    "start_time": "2023-07-25T20:21:18.807Z"
   },
   {
    "duration": 994,
    "start_time": "2023-07-25T20:21:32.331Z"
   },
   {
    "duration": 6,
    "start_time": "2023-07-25T20:21:33.329Z"
   },
   {
    "duration": 807,
    "start_time": "2023-07-25T20:21:33.336Z"
   },
   {
    "duration": 110,
    "start_time": "2023-07-25T20:21:34.145Z"
   },
   {
    "duration": 5,
    "start_time": "2023-07-25T20:21:34.257Z"
   },
   {
    "duration": 11,
    "start_time": "2023-07-25T20:21:34.276Z"
   },
   {
    "duration": 1752,
    "start_time": "2023-07-25T20:21:34.289Z"
   },
   {
    "duration": 9,
    "start_time": "2023-07-25T20:21:36.043Z"
   },
   {
    "duration": 14,
    "start_time": "2023-07-25T20:21:36.075Z"
   },
   {
    "duration": 25,
    "start_time": "2023-07-25T20:21:36.092Z"
   },
   {
    "duration": 66,
    "start_time": "2023-07-25T20:21:36.120Z"
   },
   {
    "duration": 114,
    "start_time": "2023-07-25T20:31:13.748Z"
   },
   {
    "duration": 7,
    "start_time": "2023-07-25T20:35:40.251Z"
   },
   {
    "duration": 17,
    "start_time": "2023-07-25T20:35:51.806Z"
   },
   {
    "duration": 9,
    "start_time": "2023-07-25T20:36:24.247Z"
   },
   {
    "duration": 8,
    "start_time": "2023-07-25T20:36:34.100Z"
   },
   {
    "duration": 25,
    "start_time": "2023-07-25T20:36:44.000Z"
   },
   {
    "duration": 107,
    "start_time": "2023-07-25T20:37:43.008Z"
   },
   {
    "duration": 8873,
    "start_time": "2023-07-25T20:37:51.196Z"
   },
   {
    "duration": 54,
    "start_time": "2023-07-26T16:59:17.112Z"
   },
   {
    "duration": 1513,
    "start_time": "2023-07-26T16:59:28.950Z"
   },
   {
    "duration": 3,
    "start_time": "2023-07-26T16:59:30.465Z"
   },
   {
    "duration": 190,
    "start_time": "2023-07-26T16:59:30.469Z"
   },
   {
    "duration": 23,
    "start_time": "2023-07-26T16:59:30.661Z"
   },
   {
    "duration": 70,
    "start_time": "2023-07-26T16:59:30.686Z"
   },
   {
    "duration": 5,
    "start_time": "2023-07-26T16:59:30.757Z"
   },
   {
    "duration": 86,
    "start_time": "2023-07-26T16:59:30.764Z"
   },
   {
    "duration": 666,
    "start_time": "2023-07-26T16:59:30.851Z"
   },
   {
    "duration": 12,
    "start_time": "2023-07-26T16:59:31.518Z"
   },
   {
    "duration": 31,
    "start_time": "2023-07-26T16:59:31.536Z"
   },
   {
    "duration": 61,
    "start_time": "2023-07-26T16:59:31.568Z"
   },
   {
    "duration": 58,
    "start_time": "2023-07-26T16:59:31.631Z"
   },
   {
    "duration": 35,
    "start_time": "2023-07-26T16:59:31.690Z"
   },
   {
    "duration": 41,
    "start_time": "2023-07-26T16:59:31.728Z"
   },
   {
    "duration": 112,
    "start_time": "2023-07-26T16:59:31.771Z"
   },
   {
    "duration": 452,
    "start_time": "2023-07-26T16:59:31.885Z"
   },
   {
    "duration": 103,
    "start_time": "2023-07-26T16:59:32.339Z"
   },
   {
    "duration": 25,
    "start_time": "2023-07-26T16:59:32.443Z"
   },
   {
    "duration": 54,
    "start_time": "2023-07-26T16:59:32.470Z"
   },
   {
    "duration": 32,
    "start_time": "2023-07-26T16:59:32.526Z"
   },
   {
    "duration": 165,
    "start_time": "2023-07-26T16:59:32.560Z"
   },
   {
    "duration": 13,
    "start_time": "2023-07-26T16:59:32.727Z"
   },
   {
    "duration": 203,
    "start_time": "2023-07-26T16:59:32.742Z"
   },
   {
    "duration": 134,
    "start_time": "2023-07-26T16:59:32.947Z"
   },
   {
    "duration": 178,
    "start_time": "2023-07-26T16:59:33.082Z"
   },
   {
    "duration": 6,
    "start_time": "2023-07-26T16:59:33.261Z"
   },
   {
    "duration": 360,
    "start_time": "2023-07-26T16:59:33.269Z"
   },
   {
    "duration": 23,
    "start_time": "2023-07-26T16:59:33.631Z"
   },
   {
    "duration": 5,
    "start_time": "2023-07-26T16:59:33.656Z"
   },
   {
    "duration": 7,
    "start_time": "2023-07-26T16:59:33.663Z"
   },
   {
    "duration": 583,
    "start_time": "2023-07-26T16:59:33.671Z"
   },
   {
    "duration": 8,
    "start_time": "2023-07-26T16:59:34.256Z"
   },
   {
    "duration": 306,
    "start_time": "2023-07-26T16:59:34.266Z"
   },
   {
    "duration": 40,
    "start_time": "2023-07-26T16:59:34.573Z"
   },
   {
    "duration": 8,
    "start_time": "2023-07-26T16:59:34.622Z"
   },
   {
    "duration": 13,
    "start_time": "2023-07-26T16:59:34.631Z"
   },
   {
    "duration": 179,
    "start_time": "2023-07-26T16:59:34.645Z"
   },
   {
    "duration": 163,
    "start_time": "2023-07-26T16:59:34.826Z"
   },
   {
    "duration": 12260,
    "start_time": "2023-07-26T16:59:34.990Z"
   },
   {
    "duration": 925,
    "start_time": "2023-07-26T16:59:47.251Z"
   },
   {
    "duration": 7,
    "start_time": "2023-07-26T16:59:48.180Z"
   },
   {
    "duration": 100,
    "start_time": "2023-07-26T16:59:48.188Z"
   },
   {
    "duration": 27,
    "start_time": "2023-07-26T16:59:48.290Z"
   },
   {
    "duration": 28,
    "start_time": "2023-07-26T16:59:48.326Z"
   },
   {
    "duration": 1482,
    "start_time": "2023-07-26T16:59:48.355Z"
   },
   {
    "duration": 7,
    "start_time": "2023-07-26T16:59:49.839Z"
   },
   {
    "duration": 21,
    "start_time": "2023-07-26T16:59:49.848Z"
   },
   {
    "duration": 26,
    "start_time": "2023-07-26T16:59:49.899Z"
   },
   {
    "duration": 49,
    "start_time": "2023-07-26T16:59:49.926Z"
   },
   {
    "duration": 14,
    "start_time": "2023-07-26T16:59:49.977Z"
   },
   {
    "duration": 68,
    "start_time": "2023-07-26T16:59:49.992Z"
   },
   {
    "duration": 66,
    "start_time": "2023-07-26T16:59:50.062Z"
   },
   {
    "duration": 8783,
    "start_time": "2023-07-26T16:59:50.130Z"
   },
   {
    "duration": 961,
    "start_time": "2023-07-26T17:01:44.863Z"
   },
   {
    "duration": 7,
    "start_time": "2023-07-26T17:14:13.560Z"
   },
   {
    "duration": 137,
    "start_time": "2023-07-26T17:18:24.625Z"
   },
   {
    "duration": 370,
    "start_time": "2023-07-26T17:19:43.337Z"
   },
   {
    "duration": 32654,
    "start_time": "2023-07-26T17:20:07.253Z"
   },
   {
    "duration": 847,
    "start_time": "2023-07-26T17:22:20.119Z"
   },
   {
    "duration": 9,
    "start_time": "2023-07-26T17:27:02.026Z"
   },
   {
    "duration": 111,
    "start_time": "2023-07-26T17:47:55.700Z"
   },
   {
    "duration": 117,
    "start_time": "2023-07-26T17:48:11.496Z"
   },
   {
    "duration": 6955,
    "start_time": "2023-07-26T17:50:36.740Z"
   },
   {
    "duration": 2434,
    "start_time": "2023-07-26T17:51:00.326Z"
   },
   {
    "duration": 137,
    "start_time": "2023-07-26T17:53:04.785Z"
   },
   {
    "duration": 22,
    "start_time": "2023-07-26T17:55:31.152Z"
   },
   {
    "duration": 6,
    "start_time": "2023-07-26T18:00:43.846Z"
   },
   {
    "duration": 12,
    "start_time": "2023-07-26T18:02:01.955Z"
   },
   {
    "duration": 3709,
    "start_time": "2023-07-26T18:02:07.325Z"
   },
   {
    "duration": 19,
    "start_time": "2023-07-26T18:02:22.831Z"
   },
   {
    "duration": 153,
    "start_time": "2023-07-26T18:04:12.063Z"
   },
   {
    "duration": 16,
    "start_time": "2023-07-26T18:04:51.677Z"
   },
   {
    "duration": 196,
    "start_time": "2023-07-26T18:05:03.159Z"
   },
   {
    "duration": 258,
    "start_time": "2023-07-26T18:05:24.041Z"
   },
   {
    "duration": 140,
    "start_time": "2023-07-26T18:05:42.755Z"
   },
   {
    "duration": 118,
    "start_time": "2023-07-26T18:06:54.986Z"
   },
   {
    "duration": 12,
    "start_time": "2023-07-26T18:09:36.924Z"
   },
   {
    "duration": 13,
    "start_time": "2023-07-26T18:09:42.861Z"
   },
   {
    "duration": 150,
    "start_time": "2023-07-26T18:09:46.836Z"
   },
   {
    "duration": 106,
    "start_time": "2023-07-26T18:10:36.139Z"
   },
   {
    "duration": 11,
    "start_time": "2023-07-26T18:31:32.057Z"
   },
   {
    "duration": 1874,
    "start_time": "2023-07-26T18:34:07.802Z"
   },
   {
    "duration": 2022,
    "start_time": "2023-07-26T18:35:45.023Z"
   },
   {
    "duration": 1835,
    "start_time": "2023-07-26T18:36:24.189Z"
   },
   {
    "duration": 10,
    "start_time": "2023-07-26T18:38:18.915Z"
   },
   {
    "duration": 76,
    "start_time": "2023-07-26T18:53:17.727Z"
   },
   {
    "duration": 80,
    "start_time": "2023-07-26T18:53:28.444Z"
   },
   {
    "duration": 1672,
    "start_time": "2023-07-26T20:17:15.366Z"
   },
   {
    "duration": 5,
    "start_time": "2023-07-26T20:17:17.041Z"
   },
   {
    "duration": 266,
    "start_time": "2023-07-26T20:17:17.049Z"
   },
   {
    "duration": 39,
    "start_time": "2023-07-26T20:17:17.318Z"
   },
   {
    "duration": 72,
    "start_time": "2023-07-26T20:17:17.360Z"
   },
   {
    "duration": 7,
    "start_time": "2023-07-26T20:17:17.435Z"
   },
   {
    "duration": 20,
    "start_time": "2023-07-26T20:17:17.445Z"
   },
   {
    "duration": 793,
    "start_time": "2023-07-26T20:17:17.471Z"
   },
   {
    "duration": 9,
    "start_time": "2023-07-26T20:17:18.270Z"
   },
   {
    "duration": 21,
    "start_time": "2023-07-26T20:17:18.281Z"
   },
   {
    "duration": 36,
    "start_time": "2023-07-26T20:17:18.304Z"
   },
   {
    "duration": 59,
    "start_time": "2023-07-26T20:17:18.342Z"
   },
   {
    "duration": 5,
    "start_time": "2023-07-26T20:17:18.403Z"
   },
   {
    "duration": 9,
    "start_time": "2023-07-26T20:17:18.410Z"
   },
   {
    "duration": 36,
    "start_time": "2023-07-26T20:17:18.421Z"
   },
   {
    "duration": 623,
    "start_time": "2023-07-26T20:17:18.459Z"
   },
   {
    "duration": 110,
    "start_time": "2023-07-26T20:17:19.084Z"
   },
   {
    "duration": 18,
    "start_time": "2023-07-26T20:17:19.195Z"
   },
   {
    "duration": 40,
    "start_time": "2023-07-26T20:17:19.215Z"
   },
   {
    "duration": 13,
    "start_time": "2023-07-26T20:17:19.257Z"
   },
   {
    "duration": 205,
    "start_time": "2023-07-26T20:17:19.272Z"
   },
   {
    "duration": 20,
    "start_time": "2023-07-26T20:17:19.479Z"
   },
   {
    "duration": 207,
    "start_time": "2023-07-26T20:17:19.502Z"
   },
   {
    "duration": 149,
    "start_time": "2023-07-26T20:17:19.716Z"
   },
   {
    "duration": 207,
    "start_time": "2023-07-26T20:17:19.871Z"
   },
   {
    "duration": 9,
    "start_time": "2023-07-26T20:17:20.080Z"
   },
   {
    "duration": 393,
    "start_time": "2023-07-26T20:17:20.093Z"
   },
   {
    "duration": 34,
    "start_time": "2023-07-26T20:17:20.489Z"
   },
   {
    "duration": 29,
    "start_time": "2023-07-26T20:17:20.525Z"
   },
   {
    "duration": 13,
    "start_time": "2023-07-26T20:17:20.556Z"
   },
   {
    "duration": 627,
    "start_time": "2023-07-26T20:17:20.572Z"
   },
   {
    "duration": 10,
    "start_time": "2023-07-26T20:17:21.201Z"
   },
   {
    "duration": 311,
    "start_time": "2023-07-26T20:17:21.213Z"
   },
   {
    "duration": 6,
    "start_time": "2023-07-26T20:17:21.527Z"
   },
   {
    "duration": 13,
    "start_time": "2023-07-26T20:17:21.535Z"
   },
   {
    "duration": 23,
    "start_time": "2023-07-26T20:17:21.570Z"
   },
   {
    "duration": 99,
    "start_time": "2023-07-26T20:17:21.595Z"
   },
   {
    "duration": 219,
    "start_time": "2023-07-26T20:17:21.697Z"
   },
   {
    "duration": 14722,
    "start_time": "2023-07-26T20:17:21.918Z"
   },
   {
    "duration": 1085,
    "start_time": "2023-07-26T20:17:36.643Z"
   },
   {
    "duration": 7,
    "start_time": "2023-07-26T20:17:37.729Z"
   },
   {
    "duration": 821,
    "start_time": "2023-07-26T20:17:37.738Z"
   },
   {
    "duration": 120,
    "start_time": "2023-07-26T20:17:38.561Z"
   },
   {
    "duration": 7,
    "start_time": "2023-07-26T20:17:38.684Z"
   },
   {
    "duration": 13,
    "start_time": "2023-07-26T20:17:38.692Z"
   },
   {
    "duration": 1968,
    "start_time": "2023-07-26T20:17:38.707Z"
   },
   {
    "duration": 161,
    "start_time": "2023-07-26T20:17:40.678Z"
   },
   {
    "duration": 32,
    "start_time": "2023-07-26T20:17:40.841Z"
   },
   {
    "duration": 11,
    "start_time": "2023-07-26T20:17:40.876Z"
   },
   {
    "duration": 11,
    "start_time": "2023-07-26T20:17:40.889Z"
   },
   {
    "duration": 7,
    "start_time": "2023-07-26T20:17:40.902Z"
   },
   {
    "duration": 134,
    "start_time": "2023-07-26T20:17:40.911Z"
   },
   {
    "duration": 133,
    "start_time": "2023-07-26T20:17:41.048Z"
   },
   {
    "duration": 16,
    "start_time": "2023-07-26T20:17:41.184Z"
   },
   {
    "duration": 1518,
    "start_time": "2023-07-26T21:04:23.896Z"
   },
   {
    "duration": 2,
    "start_time": "2023-07-26T21:04:25.416Z"
   },
   {
    "duration": 95,
    "start_time": "2023-07-26T21:04:25.420Z"
   },
   {
    "duration": 25,
    "start_time": "2023-07-26T21:04:25.517Z"
   },
   {
    "duration": 59,
    "start_time": "2023-07-26T21:04:25.545Z"
   },
   {
    "duration": 6,
    "start_time": "2023-07-26T21:04:25.605Z"
   },
   {
    "duration": 14,
    "start_time": "2023-07-26T21:04:25.612Z"
   },
   {
    "duration": 678,
    "start_time": "2023-07-26T21:04:25.628Z"
   },
   {
    "duration": 10,
    "start_time": "2023-07-26T21:04:26.308Z"
   },
   {
    "duration": 27,
    "start_time": "2023-07-26T21:04:26.320Z"
   },
   {
    "duration": 17,
    "start_time": "2023-07-26T21:04:26.350Z"
   },
   {
    "duration": 71,
    "start_time": "2023-07-26T21:04:26.370Z"
   },
   {
    "duration": 5,
    "start_time": "2023-07-26T21:04:26.443Z"
   },
   {
    "duration": 51,
    "start_time": "2023-07-26T21:04:26.451Z"
   },
   {
    "duration": 42,
    "start_time": "2023-07-26T21:04:26.503Z"
   },
   {
    "duration": 459,
    "start_time": "2023-07-26T21:04:26.547Z"
   },
   {
    "duration": 92,
    "start_time": "2023-07-26T21:04:27.008Z"
   },
   {
    "duration": 13,
    "start_time": "2023-07-26T21:04:27.101Z"
   },
   {
    "duration": 22,
    "start_time": "2023-07-26T21:04:27.115Z"
   },
   {
    "duration": 6,
    "start_time": "2023-07-26T21:04:27.139Z"
   },
   {
    "duration": 175,
    "start_time": "2023-07-26T21:04:27.146Z"
   },
   {
    "duration": 15,
    "start_time": "2023-07-26T21:04:27.322Z"
   },
   {
    "duration": 250,
    "start_time": "2023-07-26T21:04:27.339Z"
   },
   {
    "duration": 149,
    "start_time": "2023-07-26T21:04:27.592Z"
   },
   {
    "duration": 194,
    "start_time": "2023-07-26T21:04:27.743Z"
   },
   {
    "duration": 7,
    "start_time": "2023-07-26T21:04:27.939Z"
   },
   {
    "duration": 377,
    "start_time": "2023-07-26T21:04:27.947Z"
   },
   {
    "duration": 27,
    "start_time": "2023-07-26T21:04:28.326Z"
   },
   {
    "duration": 22,
    "start_time": "2023-07-26T21:04:28.355Z"
   },
   {
    "duration": 11,
    "start_time": "2023-07-26T21:04:28.385Z"
   },
   {
    "duration": 593,
    "start_time": "2023-07-26T21:04:28.398Z"
   },
   {
    "duration": 10,
    "start_time": "2023-07-26T21:04:28.992Z"
   },
   {
    "duration": 324,
    "start_time": "2023-07-26T21:04:29.003Z"
   },
   {
    "duration": 4,
    "start_time": "2023-07-26T21:04:29.329Z"
   },
   {
    "duration": 18,
    "start_time": "2023-07-26T21:04:29.335Z"
   },
   {
    "duration": 32,
    "start_time": "2023-07-26T21:04:29.355Z"
   },
   {
    "duration": 40,
    "start_time": "2023-07-26T21:04:29.390Z"
   },
   {
    "duration": 204,
    "start_time": "2023-07-26T21:04:29.432Z"
   },
   {
    "duration": 15623,
    "start_time": "2023-07-26T21:04:29.638Z"
   },
   {
    "duration": 1130,
    "start_time": "2023-07-26T21:04:45.263Z"
   },
   {
    "duration": 8,
    "start_time": "2023-07-26T21:04:46.396Z"
   },
   {
    "duration": 948,
    "start_time": "2023-07-26T21:04:46.405Z"
   },
   {
    "duration": 138,
    "start_time": "2023-07-26T21:04:47.355Z"
   },
   {
    "duration": 8,
    "start_time": "2023-07-26T21:04:47.495Z"
   },
   {
    "duration": 29,
    "start_time": "2023-07-26T21:04:47.504Z"
   },
   {
    "duration": 2011,
    "start_time": "2023-07-26T21:04:47.535Z"
   },
   {
    "duration": 153,
    "start_time": "2023-07-26T21:04:49.548Z"
   },
   {
    "duration": 7,
    "start_time": "2023-07-26T21:04:49.703Z"
   },
   {
    "duration": 8,
    "start_time": "2023-07-26T21:04:49.712Z"
   },
   {
    "duration": 10,
    "start_time": "2023-07-26T21:04:49.722Z"
   },
   {
    "duration": 5,
    "start_time": "2023-07-26T21:04:49.734Z"
   },
   {
    "duration": 125,
    "start_time": "2023-07-26T21:04:49.773Z"
   },
   {
    "duration": 135,
    "start_time": "2023-07-26T21:04:49.900Z"
   },
   {
    "duration": 12,
    "start_time": "2023-07-26T21:04:50.036Z"
   },
   {
    "duration": 3,
    "start_time": "2023-07-26T21:08:13.302Z"
   },
   {
    "duration": 1581,
    "start_time": "2023-07-26T21:24:51.664Z"
   },
   {
    "duration": 3,
    "start_time": "2023-07-26T21:24:53.247Z"
   },
   {
    "duration": 90,
    "start_time": "2023-07-26T21:24:53.251Z"
   },
   {
    "duration": 26,
    "start_time": "2023-07-26T21:24:53.343Z"
   },
   {
    "duration": 50,
    "start_time": "2023-07-26T21:24:53.372Z"
   },
   {
    "duration": 5,
    "start_time": "2023-07-26T21:24:53.424Z"
   },
   {
    "duration": 17,
    "start_time": "2023-07-26T21:24:53.431Z"
   },
   {
    "duration": 687,
    "start_time": "2023-07-26T21:24:53.449Z"
   },
   {
    "duration": 11,
    "start_time": "2023-07-26T21:24:54.138Z"
   },
   {
    "duration": 15,
    "start_time": "2023-07-26T21:24:54.151Z"
   },
   {
    "duration": 35,
    "start_time": "2023-07-26T21:24:54.168Z"
   },
   {
    "duration": 30,
    "start_time": "2023-07-26T21:24:54.204Z"
   },
   {
    "duration": 5,
    "start_time": "2023-07-26T21:24:54.236Z"
   },
   {
    "duration": 13,
    "start_time": "2023-07-26T21:24:54.243Z"
   },
   {
    "duration": 48,
    "start_time": "2023-07-26T21:24:54.258Z"
   },
   {
    "duration": 423,
    "start_time": "2023-07-26T21:24:54.308Z"
   },
   {
    "duration": 111,
    "start_time": "2023-07-26T21:24:54.734Z"
   },
   {
    "duration": 47,
    "start_time": "2023-07-26T21:24:54.847Z"
   },
   {
    "duration": 29,
    "start_time": "2023-07-26T21:24:54.896Z"
   },
   {
    "duration": 7,
    "start_time": "2023-07-26T21:24:54.927Z"
   },
   {
    "duration": 180,
    "start_time": "2023-07-26T21:24:54.936Z"
   },
   {
    "duration": 16,
    "start_time": "2023-07-26T21:24:55.118Z"
   },
   {
    "duration": 214,
    "start_time": "2023-07-26T21:24:55.136Z"
   },
   {
    "duration": 158,
    "start_time": "2023-07-26T21:24:55.352Z"
   },
   {
    "duration": 209,
    "start_time": "2023-07-26T21:24:55.512Z"
   },
   {
    "duration": 7,
    "start_time": "2023-07-26T21:24:55.723Z"
   },
   {
    "duration": 376,
    "start_time": "2023-07-26T21:24:55.732Z"
   },
   {
    "duration": 25,
    "start_time": "2023-07-26T21:24:56.110Z"
   },
   {
    "duration": 5,
    "start_time": "2023-07-26T21:24:56.137Z"
   },
   {
    "duration": 16,
    "start_time": "2023-07-26T21:24:56.144Z"
   },
   {
    "duration": 742,
    "start_time": "2023-07-26T21:24:56.161Z"
   },
   {
    "duration": 9,
    "start_time": "2023-07-26T21:24:56.905Z"
   },
   {
    "duration": 326,
    "start_time": "2023-07-26T21:24:56.915Z"
   },
   {
    "duration": 5,
    "start_time": "2023-07-26T21:24:57.243Z"
   },
   {
    "duration": 25,
    "start_time": "2023-07-26T21:24:57.250Z"
   },
   {
    "duration": 42,
    "start_time": "2023-07-26T21:24:57.277Z"
   },
   {
    "duration": 47,
    "start_time": "2023-07-26T21:24:57.321Z"
   },
   {
    "duration": 197,
    "start_time": "2023-07-26T21:24:57.372Z"
   },
   {
    "duration": 16379,
    "start_time": "2023-07-26T21:24:57.574Z"
   },
   {
    "duration": 1242,
    "start_time": "2023-07-26T21:25:13.955Z"
   },
   {
    "duration": 7,
    "start_time": "2023-07-26T21:25:15.201Z"
   },
   {
    "duration": 883,
    "start_time": "2023-07-26T21:25:15.209Z"
   },
   {
    "duration": 136,
    "start_time": "2023-07-26T21:25:16.095Z"
   },
   {
    "duration": 6,
    "start_time": "2023-07-26T21:25:16.233Z"
   },
   {
    "duration": 21,
    "start_time": "2023-07-26T21:25:16.240Z"
   },
   {
    "duration": 2118,
    "start_time": "2023-07-26T21:25:16.262Z"
   },
   {
    "duration": 148,
    "start_time": "2023-07-26T21:25:18.383Z"
   },
   {
    "duration": 7,
    "start_time": "2023-07-26T21:25:18.533Z"
   },
   {
    "duration": 11,
    "start_time": "2023-07-26T21:25:18.570Z"
   },
   {
    "duration": 25,
    "start_time": "2023-07-26T21:25:18.583Z"
   },
   {
    "duration": 7,
    "start_time": "2023-07-26T21:25:18.610Z"
   },
   {
    "duration": 137,
    "start_time": "2023-07-26T21:25:18.619Z"
   },
   {
    "duration": 148,
    "start_time": "2023-07-26T21:25:18.758Z"
   },
   {
    "duration": 13,
    "start_time": "2023-07-26T21:25:18.908Z"
   },
   {
    "duration": 1507,
    "start_time": "2023-07-27T08:10:53.784Z"
   },
   {
    "duration": 2,
    "start_time": "2023-07-27T08:10:55.293Z"
   },
   {
    "duration": 136,
    "start_time": "2023-07-27T08:10:55.299Z"
   },
   {
    "duration": 23,
    "start_time": "2023-07-27T08:10:55.436Z"
   },
   {
    "duration": 35,
    "start_time": "2023-07-27T08:10:55.461Z"
   },
   {
    "duration": 6,
    "start_time": "2023-07-27T08:10:55.499Z"
   },
   {
    "duration": 18,
    "start_time": "2023-07-27T08:10:55.506Z"
   },
   {
    "duration": 655,
    "start_time": "2023-07-27T08:10:55.526Z"
   },
   {
    "duration": 7,
    "start_time": "2023-07-27T08:10:56.182Z"
   },
   {
    "duration": 33,
    "start_time": "2023-07-27T08:10:56.190Z"
   },
   {
    "duration": 63,
    "start_time": "2023-07-27T08:10:56.224Z"
   },
   {
    "duration": 33,
    "start_time": "2023-07-27T08:10:56.288Z"
   },
   {
    "duration": 48,
    "start_time": "2023-07-27T08:10:56.322Z"
   },
   {
    "duration": 14,
    "start_time": "2023-07-27T08:10:56.372Z"
   },
   {
    "duration": 18,
    "start_time": "2023-07-27T08:10:56.387Z"
   },
   {
    "duration": 306,
    "start_time": "2023-07-27T08:10:56.407Z"
   },
   {
    "duration": 63,
    "start_time": "2023-07-27T08:10:56.715Z"
   },
   {
    "duration": 29,
    "start_time": "2023-07-27T08:10:56.780Z"
   },
   {
    "duration": 30,
    "start_time": "2023-07-27T08:10:56.810Z"
   },
   {
    "duration": 6,
    "start_time": "2023-07-27T08:10:56.841Z"
   },
   {
    "duration": 154,
    "start_time": "2023-07-27T08:10:56.848Z"
   },
   {
    "duration": 13,
    "start_time": "2023-07-27T08:10:57.003Z"
   },
   {
    "duration": 167,
    "start_time": "2023-07-27T08:10:57.017Z"
   },
   {
    "duration": 116,
    "start_time": "2023-07-27T08:10:57.185Z"
   },
   {
    "duration": 154,
    "start_time": "2023-07-27T08:10:57.303Z"
   },
   {
    "duration": 5,
    "start_time": "2023-07-27T08:10:57.458Z"
   },
   {
    "duration": 327,
    "start_time": "2023-07-27T08:10:57.465Z"
   },
   {
    "duration": 20,
    "start_time": "2023-07-27T08:10:57.799Z"
   },
   {
    "duration": 30,
    "start_time": "2023-07-27T08:10:57.821Z"
   },
   {
    "duration": 30,
    "start_time": "2023-07-27T08:10:57.853Z"
   },
   {
    "duration": 517,
    "start_time": "2023-07-27T08:10:57.885Z"
   },
   {
    "duration": 8,
    "start_time": "2023-07-27T08:10:58.404Z"
   },
   {
    "duration": 238,
    "start_time": "2023-07-27T08:10:58.413Z"
   },
   {
    "duration": 48,
    "start_time": "2023-07-27T08:10:58.652Z"
   },
   {
    "duration": 9,
    "start_time": "2023-07-27T08:10:58.702Z"
   },
   {
    "duration": 23,
    "start_time": "2023-07-27T08:10:58.713Z"
   },
   {
    "duration": 102,
    "start_time": "2023-07-27T08:10:58.737Z"
   },
   {
    "duration": 154,
    "start_time": "2023-07-27T08:10:58.840Z"
   },
   {
    "duration": 11913,
    "start_time": "2023-07-27T08:10:58.995Z"
   },
   {
    "duration": 799,
    "start_time": "2023-07-27T08:11:10.910Z"
   },
   {
    "duration": 6,
    "start_time": "2023-07-27T08:11:11.712Z"
   },
   {
    "duration": 639,
    "start_time": "2023-07-27T08:11:11.719Z"
   },
   {
    "duration": 98,
    "start_time": "2023-07-27T08:11:12.359Z"
   },
   {
    "duration": 5,
    "start_time": "2023-07-27T08:11:12.458Z"
   },
   {
    "duration": 14,
    "start_time": "2023-07-27T08:11:12.464Z"
   },
   {
    "duration": 1465,
    "start_time": "2023-07-27T08:11:12.479Z"
   },
   {
    "duration": 107,
    "start_time": "2023-07-27T08:11:13.946Z"
   },
   {
    "duration": 5,
    "start_time": "2023-07-27T08:11:14.055Z"
   },
   {
    "duration": 20,
    "start_time": "2023-07-27T08:11:14.062Z"
   },
   {
    "duration": 22,
    "start_time": "2023-07-27T08:11:14.083Z"
   },
   {
    "duration": 12,
    "start_time": "2023-07-27T08:11:14.107Z"
   },
   {
    "duration": 97,
    "start_time": "2023-07-27T08:11:14.120Z"
   },
   {
    "duration": 99,
    "start_time": "2023-07-27T08:11:14.219Z"
   },
   {
    "duration": 10,
    "start_time": "2023-07-27T08:11:14.319Z"
   },
   {
    "duration": 115,
    "start_time": "2023-07-27T08:24:59.059Z"
   },
   {
    "duration": 98,
    "start_time": "2023-07-27T08:26:29.661Z"
   },
   {
    "duration": 138,
    "start_time": "2023-07-27T08:54:22.948Z"
   },
   {
    "duration": 1348,
    "start_time": "2023-07-27T11:12:09.611Z"
   },
   {
    "duration": 2,
    "start_time": "2023-07-27T11:12:10.961Z"
   },
   {
    "duration": 242,
    "start_time": "2023-07-27T11:12:10.965Z"
   },
   {
    "duration": 26,
    "start_time": "2023-07-27T11:12:11.209Z"
   },
   {
    "duration": 37,
    "start_time": "2023-07-27T11:12:11.237Z"
   },
   {
    "duration": 5,
    "start_time": "2023-07-27T11:12:11.276Z"
   },
   {
    "duration": 26,
    "start_time": "2023-07-27T11:12:11.282Z"
   },
   {
    "duration": 620,
    "start_time": "2023-07-27T11:12:11.310Z"
   },
   {
    "duration": 7,
    "start_time": "2023-07-27T11:12:11.932Z"
   },
   {
    "duration": 22,
    "start_time": "2023-07-27T11:12:11.940Z"
   },
   {
    "duration": 15,
    "start_time": "2023-07-27T11:12:11.964Z"
   },
   {
    "duration": 27,
    "start_time": "2023-07-27T11:12:11.981Z"
   },
   {
    "duration": 3,
    "start_time": "2023-07-27T11:12:12.010Z"
   },
   {
    "duration": 15,
    "start_time": "2023-07-27T11:12:12.016Z"
   },
   {
    "duration": 21,
    "start_time": "2023-07-27T11:12:12.032Z"
   },
   {
    "duration": 350,
    "start_time": "2023-07-27T11:12:12.055Z"
   },
   {
    "duration": 102,
    "start_time": "2023-07-27T11:12:12.406Z"
   },
   {
    "duration": 10,
    "start_time": "2023-07-27T11:12:12.510Z"
   },
   {
    "duration": 21,
    "start_time": "2023-07-27T11:12:12.522Z"
   },
   {
    "duration": 17,
    "start_time": "2023-07-27T11:12:12.544Z"
   },
   {
    "duration": 150,
    "start_time": "2023-07-27T11:12:12.562Z"
   },
   {
    "duration": 15,
    "start_time": "2023-07-27T11:12:12.714Z"
   },
   {
    "duration": 187,
    "start_time": "2023-07-27T11:12:12.730Z"
   },
   {
    "duration": 130,
    "start_time": "2023-07-27T11:12:12.919Z"
   },
   {
    "duration": 173,
    "start_time": "2023-07-27T11:12:13.051Z"
   },
   {
    "duration": 15,
    "start_time": "2023-07-27T11:12:13.226Z"
   },
   {
    "duration": 321,
    "start_time": "2023-07-27T11:12:13.242Z"
   },
   {
    "duration": 24,
    "start_time": "2023-07-27T11:12:13.565Z"
   },
   {
    "duration": 13,
    "start_time": "2023-07-27T11:12:13.590Z"
   },
   {
    "duration": 10,
    "start_time": "2023-07-27T11:12:13.605Z"
   },
   {
    "duration": 560,
    "start_time": "2023-07-27T11:12:13.616Z"
   },
   {
    "duration": 11,
    "start_time": "2023-07-27T11:12:14.178Z"
   },
   {
    "duration": 320,
    "start_time": "2023-07-27T11:12:14.191Z"
   },
   {
    "duration": 6,
    "start_time": "2023-07-27T11:12:14.513Z"
   },
   {
    "duration": 21,
    "start_time": "2023-07-27T11:12:14.520Z"
   },
   {
    "duration": 22,
    "start_time": "2023-07-27T11:12:14.543Z"
   },
   {
    "duration": 115,
    "start_time": "2023-07-27T11:12:14.568Z"
   },
   {
    "duration": 177,
    "start_time": "2023-07-27T11:12:14.685Z"
   },
   {
    "duration": 13596,
    "start_time": "2023-07-27T11:12:14.864Z"
   },
   {
    "duration": 997,
    "start_time": "2023-07-27T11:12:28.462Z"
   },
   {
    "duration": 7,
    "start_time": "2023-07-27T11:12:29.462Z"
   },
   {
    "duration": 736,
    "start_time": "2023-07-27T11:12:29.471Z"
   },
   {
    "duration": 96,
    "start_time": "2023-07-27T11:12:30.209Z"
   },
   {
    "duration": 5,
    "start_time": "2023-07-27T11:12:30.307Z"
   },
   {
    "duration": 52,
    "start_time": "2023-07-27T11:12:30.314Z"
   },
   {
    "duration": 1681,
    "start_time": "2023-07-27T11:12:30.367Z"
   },
   {
    "duration": 113,
    "start_time": "2023-07-27T11:12:32.050Z"
   },
   {
    "duration": 15,
    "start_time": "2023-07-27T11:12:32.165Z"
   },
   {
    "duration": 37,
    "start_time": "2023-07-27T11:12:32.182Z"
   },
   {
    "duration": 31,
    "start_time": "2023-07-27T11:12:32.221Z"
   },
   {
    "duration": 53,
    "start_time": "2023-07-27T11:12:32.254Z"
   },
   {
    "duration": 174,
    "start_time": "2023-07-27T11:12:32.309Z"
   },
   {
    "duration": 118,
    "start_time": "2023-07-27T11:12:32.485Z"
   },
   {
    "duration": 12,
    "start_time": "2023-07-27T11:12:32.605Z"
   },
   {
    "duration": 118,
    "start_time": "2023-07-27T11:12:32.619Z"
   },
   {
    "duration": 103,
    "start_time": "2023-07-27T11:16:37.006Z"
   },
   {
    "duration": 9,
    "start_time": "2023-07-27T11:16:40.160Z"
   },
   {
    "duration": 12,
    "start_time": "2023-07-27T11:18:28.156Z"
   },
   {
    "duration": 6,
    "start_time": "2023-07-27T11:18:41.666Z"
   },
   {
    "duration": 7,
    "start_time": "2023-07-27T11:19:36.502Z"
   },
   {
    "duration": 1469,
    "start_time": "2023-07-27T11:19:44.971Z"
   },
   {
    "duration": 3,
    "start_time": "2023-07-27T11:19:46.442Z"
   },
   {
    "duration": 75,
    "start_time": "2023-07-27T11:19:46.446Z"
   },
   {
    "duration": 24,
    "start_time": "2023-07-27T11:19:46.523Z"
   },
   {
    "duration": 43,
    "start_time": "2023-07-27T11:19:46.549Z"
   },
   {
    "duration": 6,
    "start_time": "2023-07-27T11:19:46.593Z"
   },
   {
    "duration": 6,
    "start_time": "2023-07-27T11:19:46.601Z"
   },
   {
    "duration": 646,
    "start_time": "2023-07-27T11:19:46.610Z"
   },
   {
    "duration": 16,
    "start_time": "2023-07-27T11:19:47.258Z"
   },
   {
    "duration": 19,
    "start_time": "2023-07-27T11:19:47.276Z"
   },
   {
    "duration": 9,
    "start_time": "2023-07-27T11:19:47.297Z"
   },
   {
    "duration": 27,
    "start_time": "2023-07-27T11:19:47.307Z"
   },
   {
    "duration": 26,
    "start_time": "2023-07-27T11:19:47.336Z"
   },
   {
    "duration": 8,
    "start_time": "2023-07-27T11:19:47.371Z"
   },
   {
    "duration": 46,
    "start_time": "2023-07-27T11:19:47.381Z"
   },
   {
    "duration": 394,
    "start_time": "2023-07-27T11:19:47.429Z"
   },
   {
    "duration": 111,
    "start_time": "2023-07-27T11:19:47.824Z"
   },
   {
    "duration": 9,
    "start_time": "2023-07-27T11:19:47.937Z"
   },
   {
    "duration": 17,
    "start_time": "2023-07-27T11:19:47.948Z"
   },
   {
    "duration": 27,
    "start_time": "2023-07-27T11:19:47.968Z"
   },
   {
    "duration": 112,
    "start_time": "2023-07-27T11:19:47.997Z"
   },
   {
    "duration": 0,
    "start_time": "2023-07-27T11:19:48.113Z"
   },
   {
    "duration": 0,
    "start_time": "2023-07-27T11:19:48.114Z"
   },
   {
    "duration": 0,
    "start_time": "2023-07-27T11:19:48.115Z"
   },
   {
    "duration": 0,
    "start_time": "2023-07-27T11:19:48.116Z"
   },
   {
    "duration": 0,
    "start_time": "2023-07-27T11:19:48.116Z"
   },
   {
    "duration": 0,
    "start_time": "2023-07-27T11:19:48.117Z"
   },
   {
    "duration": 0,
    "start_time": "2023-07-27T11:19:48.118Z"
   },
   {
    "duration": 0,
    "start_time": "2023-07-27T11:19:48.119Z"
   },
   {
    "duration": 0,
    "start_time": "2023-07-27T11:19:48.120Z"
   },
   {
    "duration": 0,
    "start_time": "2023-07-27T11:19:48.121Z"
   },
   {
    "duration": 0,
    "start_time": "2023-07-27T11:19:48.122Z"
   },
   {
    "duration": 0,
    "start_time": "2023-07-27T11:19:48.123Z"
   },
   {
    "duration": 0,
    "start_time": "2023-07-27T11:19:48.124Z"
   },
   {
    "duration": 0,
    "start_time": "2023-07-27T11:19:48.125Z"
   },
   {
    "duration": 0,
    "start_time": "2023-07-27T11:19:48.126Z"
   },
   {
    "duration": 0,
    "start_time": "2023-07-27T11:19:48.128Z"
   },
   {
    "duration": 0,
    "start_time": "2023-07-27T11:19:48.129Z"
   },
   {
    "duration": 0,
    "start_time": "2023-07-27T11:19:48.160Z"
   },
   {
    "duration": 0,
    "start_time": "2023-07-27T11:19:48.161Z"
   },
   {
    "duration": 0,
    "start_time": "2023-07-27T11:19:48.162Z"
   },
   {
    "duration": 0,
    "start_time": "2023-07-27T11:19:48.163Z"
   },
   {
    "duration": 0,
    "start_time": "2023-07-27T11:19:48.164Z"
   },
   {
    "duration": 0,
    "start_time": "2023-07-27T11:19:48.165Z"
   },
   {
    "duration": 0,
    "start_time": "2023-07-27T11:19:48.167Z"
   },
   {
    "duration": 0,
    "start_time": "2023-07-27T11:19:48.169Z"
   },
   {
    "duration": 0,
    "start_time": "2023-07-27T11:19:48.170Z"
   },
   {
    "duration": 0,
    "start_time": "2023-07-27T11:19:48.171Z"
   },
   {
    "duration": 0,
    "start_time": "2023-07-27T11:19:48.173Z"
   },
   {
    "duration": 0,
    "start_time": "2023-07-27T11:19:48.174Z"
   },
   {
    "duration": 0,
    "start_time": "2023-07-27T11:19:48.175Z"
   },
   {
    "duration": 0,
    "start_time": "2023-07-27T11:19:48.176Z"
   },
   {
    "duration": 0,
    "start_time": "2023-07-27T11:19:48.178Z"
   },
   {
    "duration": 0,
    "start_time": "2023-07-27T11:19:48.179Z"
   },
   {
    "duration": 0,
    "start_time": "2023-07-27T11:19:48.180Z"
   },
   {
    "duration": 0,
    "start_time": "2023-07-27T11:19:48.181Z"
   },
   {
    "duration": 0,
    "start_time": "2023-07-27T11:19:48.182Z"
   },
   {
    "duration": 1545,
    "start_time": "2023-07-27T11:23:17.689Z"
   },
   {
    "duration": 3,
    "start_time": "2023-07-27T11:23:19.236Z"
   },
   {
    "duration": 104,
    "start_time": "2023-07-27T11:23:19.241Z"
   },
   {
    "duration": 32,
    "start_time": "2023-07-27T11:23:19.347Z"
   },
   {
    "duration": 51,
    "start_time": "2023-07-27T11:23:19.381Z"
   },
   {
    "duration": 38,
    "start_time": "2023-07-27T11:23:19.433Z"
   },
   {
    "duration": 6,
    "start_time": "2023-07-27T11:23:19.475Z"
   },
   {
    "duration": 592,
    "start_time": "2023-07-27T11:23:19.482Z"
   },
   {
    "duration": 9,
    "start_time": "2023-07-27T11:23:20.076Z"
   },
   {
    "duration": 46,
    "start_time": "2023-07-27T11:23:20.087Z"
   },
   {
    "duration": 14,
    "start_time": "2023-07-27T11:23:20.135Z"
   },
   {
    "duration": 45,
    "start_time": "2023-07-27T11:23:20.151Z"
   },
   {
    "duration": 14,
    "start_time": "2023-07-27T11:23:20.198Z"
   },
   {
    "duration": 14,
    "start_time": "2023-07-27T11:23:20.215Z"
   },
   {
    "duration": 38,
    "start_time": "2023-07-27T11:23:20.230Z"
   },
   {
    "duration": 448,
    "start_time": "2023-07-27T11:23:20.270Z"
   },
   {
    "duration": 119,
    "start_time": "2023-07-27T11:23:20.720Z"
   },
   {
    "duration": 27,
    "start_time": "2023-07-27T11:23:20.841Z"
   },
   {
    "duration": 25,
    "start_time": "2023-07-27T11:23:20.877Z"
   },
   {
    "duration": 15,
    "start_time": "2023-07-27T11:23:20.903Z"
   },
   {
    "duration": 178,
    "start_time": "2023-07-27T11:23:20.919Z"
   },
   {
    "duration": 21,
    "start_time": "2023-07-27T11:23:21.099Z"
   },
   {
    "duration": 270,
    "start_time": "2023-07-27T11:23:21.122Z"
   },
   {
    "duration": 144,
    "start_time": "2023-07-27T11:23:21.394Z"
   },
   {
    "duration": 199,
    "start_time": "2023-07-27T11:23:21.539Z"
   },
   {
    "duration": 30,
    "start_time": "2023-07-27T11:23:21.739Z"
   },
   {
    "duration": 389,
    "start_time": "2023-07-27T11:23:21.771Z"
   },
   {
    "duration": 28,
    "start_time": "2023-07-27T11:23:22.163Z"
   },
   {
    "duration": 6,
    "start_time": "2023-07-27T11:23:22.193Z"
   },
   {
    "duration": 33,
    "start_time": "2023-07-27T11:23:22.200Z"
   },
   {
    "duration": 574,
    "start_time": "2023-07-27T11:23:22.235Z"
   },
   {
    "duration": 9,
    "start_time": "2023-07-27T11:23:22.811Z"
   },
   {
    "duration": 299,
    "start_time": "2023-07-27T11:23:22.822Z"
   },
   {
    "duration": 7,
    "start_time": "2023-07-27T11:23:23.123Z"
   },
   {
    "duration": 39,
    "start_time": "2023-07-27T11:23:23.132Z"
   },
   {
    "duration": 30,
    "start_time": "2023-07-27T11:23:23.173Z"
   },
   {
    "duration": 37,
    "start_time": "2023-07-27T11:23:23.206Z"
   },
   {
    "duration": 197,
    "start_time": "2023-07-27T11:23:23.245Z"
   },
   {
    "duration": 14434,
    "start_time": "2023-07-27T11:23:23.444Z"
   },
   {
    "duration": 1000,
    "start_time": "2023-07-27T11:23:37.880Z"
   },
   {
    "duration": 9,
    "start_time": "2023-07-27T11:23:38.885Z"
   },
   {
    "duration": 837,
    "start_time": "2023-07-27T11:23:38.896Z"
   },
   {
    "duration": 96,
    "start_time": "2023-07-27T11:23:39.734Z"
   },
   {
    "duration": 27,
    "start_time": "2023-07-27T11:23:39.832Z"
   },
   {
    "duration": 25,
    "start_time": "2023-07-27T11:23:39.861Z"
   },
   {
    "duration": 1803,
    "start_time": "2023-07-27T11:23:39.888Z"
   },
   {
    "duration": 128,
    "start_time": "2023-07-27T11:23:41.693Z"
   },
   {
    "duration": 9,
    "start_time": "2023-07-27T11:23:41.823Z"
   },
   {
    "duration": 12,
    "start_time": "2023-07-27T11:23:41.861Z"
   },
   {
    "duration": 8,
    "start_time": "2023-07-27T11:23:41.875Z"
   },
   {
    "duration": 7,
    "start_time": "2023-07-27T11:23:41.885Z"
   },
   {
    "duration": 133,
    "start_time": "2023-07-27T11:23:41.893Z"
   },
   {
    "duration": 120,
    "start_time": "2023-07-27T11:23:42.028Z"
   },
   {
    "duration": 23,
    "start_time": "2023-07-27T11:23:42.150Z"
   },
   {
    "duration": 137,
    "start_time": "2023-07-27T11:23:42.175Z"
   },
   {
    "duration": 1771,
    "start_time": "2023-07-27T19:08:05.462Z"
   },
   {
    "duration": 3,
    "start_time": "2023-07-27T19:08:07.239Z"
   },
   {
    "duration": 149,
    "start_time": "2023-07-27T19:08:07.243Z"
   },
   {
    "duration": 30,
    "start_time": "2023-07-27T19:08:07.394Z"
   },
   {
    "duration": 123,
    "start_time": "2023-07-27T19:08:07.426Z"
   },
   {
    "duration": 7,
    "start_time": "2023-07-27T19:08:07.552Z"
   },
   {
    "duration": 31,
    "start_time": "2023-07-27T19:08:07.561Z"
   },
   {
    "duration": 649,
    "start_time": "2023-07-27T19:08:07.594Z"
   },
   {
    "duration": 10,
    "start_time": "2023-07-27T19:08:08.246Z"
   },
   {
    "duration": 14,
    "start_time": "2023-07-27T19:08:08.258Z"
   },
   {
    "duration": 17,
    "start_time": "2023-07-27T19:08:08.273Z"
   },
   {
    "duration": 52,
    "start_time": "2023-07-27T19:08:08.291Z"
   },
   {
    "duration": 138,
    "start_time": "2023-07-27T19:08:08.344Z"
   },
   {
    "duration": 0,
    "start_time": "2023-07-27T19:08:08.485Z"
   },
   {
    "duration": 0,
    "start_time": "2023-07-27T19:08:08.486Z"
   },
   {
    "duration": 0,
    "start_time": "2023-07-27T19:08:08.487Z"
   },
   {
    "duration": 0,
    "start_time": "2023-07-27T19:08:08.487Z"
   },
   {
    "duration": 0,
    "start_time": "2023-07-27T19:08:08.488Z"
   },
   {
    "duration": 0,
    "start_time": "2023-07-27T19:08:08.489Z"
   },
   {
    "duration": 0,
    "start_time": "2023-07-27T19:08:08.505Z"
   },
   {
    "duration": 0,
    "start_time": "2023-07-27T19:08:08.506Z"
   },
   {
    "duration": 0,
    "start_time": "2023-07-27T19:08:08.507Z"
   },
   {
    "duration": 0,
    "start_time": "2023-07-27T19:08:08.507Z"
   },
   {
    "duration": 0,
    "start_time": "2023-07-27T19:08:08.508Z"
   },
   {
    "duration": 0,
    "start_time": "2023-07-27T19:08:08.509Z"
   },
   {
    "duration": 0,
    "start_time": "2023-07-27T19:08:08.510Z"
   },
   {
    "duration": 0,
    "start_time": "2023-07-27T19:08:08.510Z"
   },
   {
    "duration": 0,
    "start_time": "2023-07-27T19:08:08.511Z"
   },
   {
    "duration": 0,
    "start_time": "2023-07-27T19:08:08.512Z"
   },
   {
    "duration": 0,
    "start_time": "2023-07-27T19:08:08.512Z"
   },
   {
    "duration": 0,
    "start_time": "2023-07-27T19:08:08.514Z"
   },
   {
    "duration": 0,
    "start_time": "2023-07-27T19:08:08.515Z"
   },
   {
    "duration": 0,
    "start_time": "2023-07-27T19:08:08.516Z"
   },
   {
    "duration": 0,
    "start_time": "2023-07-27T19:08:08.517Z"
   },
   {
    "duration": 0,
    "start_time": "2023-07-27T19:08:08.518Z"
   },
   {
    "duration": 0,
    "start_time": "2023-07-27T19:08:08.519Z"
   },
   {
    "duration": 0,
    "start_time": "2023-07-27T19:08:08.520Z"
   },
   {
    "duration": 0,
    "start_time": "2023-07-27T19:08:08.521Z"
   },
   {
    "duration": 0,
    "start_time": "2023-07-27T19:08:08.522Z"
   },
   {
    "duration": 0,
    "start_time": "2023-07-27T19:08:08.523Z"
   },
   {
    "duration": 0,
    "start_time": "2023-07-27T19:08:08.524Z"
   },
   {
    "duration": 0,
    "start_time": "2023-07-27T19:08:08.529Z"
   },
   {
    "duration": 0,
    "start_time": "2023-07-27T19:08:08.530Z"
   },
   {
    "duration": 0,
    "start_time": "2023-07-27T19:08:08.531Z"
   },
   {
    "duration": 0,
    "start_time": "2023-07-27T19:08:08.532Z"
   },
   {
    "duration": 0,
    "start_time": "2023-07-27T19:08:08.533Z"
   },
   {
    "duration": 0,
    "start_time": "2023-07-27T19:08:08.534Z"
   },
   {
    "duration": 0,
    "start_time": "2023-07-27T19:08:08.535Z"
   },
   {
    "duration": 0,
    "start_time": "2023-07-27T19:08:08.536Z"
   },
   {
    "duration": 0,
    "start_time": "2023-07-27T19:08:08.537Z"
   },
   {
    "duration": 0,
    "start_time": "2023-07-27T19:08:08.538Z"
   },
   {
    "duration": 0,
    "start_time": "2023-07-27T19:08:08.540Z"
   },
   {
    "duration": 0,
    "start_time": "2023-07-27T19:08:08.541Z"
   },
   {
    "duration": 0,
    "start_time": "2023-07-27T19:08:08.542Z"
   },
   {
    "duration": 7,
    "start_time": "2023-07-27T19:15:04.291Z"
   },
   {
    "duration": 15,
    "start_time": "2023-07-27T19:22:27.491Z"
   },
   {
    "duration": 161,
    "start_time": "2023-07-27T19:22:54.982Z"
   },
   {
    "duration": 9,
    "start_time": "2023-07-27T19:24:04.958Z"
   },
   {
    "duration": 4,
    "start_time": "2023-07-27T19:24:08.771Z"
   },
   {
    "duration": 9,
    "start_time": "2023-07-27T19:25:23.826Z"
   },
   {
    "duration": 19,
    "start_time": "2023-07-27T19:25:39.631Z"
   },
   {
    "duration": 13,
    "start_time": "2023-07-27T19:27:39.060Z"
   },
   {
    "duration": 10,
    "start_time": "2023-07-27T19:28:18.341Z"
   },
   {
    "duration": 18,
    "start_time": "2023-07-27T19:28:32.159Z"
   },
   {
    "duration": 7,
    "start_time": "2023-07-27T19:28:40.956Z"
   },
   {
    "duration": 287,
    "start_time": "2023-07-27T19:29:33.900Z"
   },
   {
    "duration": 374,
    "start_time": "2023-07-27T19:29:40.372Z"
   },
   {
    "duration": 6,
    "start_time": "2023-07-27T19:29:42.992Z"
   },
   {
    "duration": 44,
    "start_time": "2023-07-27T19:30:53.476Z"
   },
   {
    "duration": 34,
    "start_time": "2023-07-27T19:34:04.724Z"
   },
   {
    "duration": 33,
    "start_time": "2023-07-27T19:34:26.893Z"
   },
   {
    "duration": 179,
    "start_time": "2023-07-27T19:34:53.504Z"
   },
   {
    "duration": 248,
    "start_time": "2023-07-27T19:34:56.718Z"
   },
   {
    "duration": 42,
    "start_time": "2023-07-27T19:35:04.818Z"
   },
   {
    "duration": 22,
    "start_time": "2023-07-27T19:35:30.431Z"
   },
   {
    "duration": 11,
    "start_time": "2023-07-27T19:35:38.030Z"
   },
   {
    "duration": 97,
    "start_time": "2023-07-27T19:36:03.453Z"
   },
   {
    "duration": 21,
    "start_time": "2023-07-27T19:36:14.972Z"
   },
   {
    "duration": 7,
    "start_time": "2023-07-27T19:36:22.980Z"
   },
   {
    "duration": 35,
    "start_time": "2023-07-27T19:39:12.034Z"
   },
   {
    "duration": 17,
    "start_time": "2023-07-27T19:39:39.561Z"
   },
   {
    "duration": 5827,
    "start_time": "2023-07-27T19:39:46.145Z"
   },
   {
    "duration": 22,
    "start_time": "2023-07-27T19:40:33.966Z"
   },
   {
    "duration": 16,
    "start_time": "2023-07-27T19:40:57.351Z"
   },
   {
    "duration": 13,
    "start_time": "2023-07-27T19:41:10.629Z"
   },
   {
    "duration": 41,
    "start_time": "2023-07-27T19:41:19.138Z"
   },
   {
    "duration": 24,
    "start_time": "2023-07-27T19:42:25.222Z"
   },
   {
    "duration": 117,
    "start_time": "2023-07-27T19:43:06.453Z"
   },
   {
    "duration": 26,
    "start_time": "2023-07-27T19:43:09.930Z"
   },
   {
    "duration": 7,
    "start_time": "2023-07-27T19:46:09.317Z"
   },
   {
    "duration": 41,
    "start_time": "2023-07-27T19:46:26.882Z"
   },
   {
    "duration": 7,
    "start_time": "2023-07-27T19:48:50.553Z"
   },
   {
    "duration": 8,
    "start_time": "2023-07-27T19:49:04.600Z"
   },
   {
    "duration": 13,
    "start_time": "2023-07-27T19:49:23.146Z"
   },
   {
    "duration": 242,
    "start_time": "2023-07-27T19:50:21.227Z"
   },
   {
    "duration": 8,
    "start_time": "2023-07-27T19:50:24.952Z"
   },
   {
    "duration": 42,
    "start_time": "2023-07-27T19:50:56.598Z"
   },
   {
    "duration": 6,
    "start_time": "2023-07-27T19:52:49.459Z"
   },
   {
    "duration": 25,
    "start_time": "2023-07-27T19:52:56.227Z"
   },
   {
    "duration": 1503,
    "start_time": "2023-07-27T19:56:01.445Z"
   },
   {
    "duration": 3,
    "start_time": "2023-07-27T19:56:02.952Z"
   },
   {
    "duration": 90,
    "start_time": "2023-07-27T19:56:02.957Z"
   },
   {
    "duration": 29,
    "start_time": "2023-07-27T19:56:03.050Z"
   },
   {
    "duration": 47,
    "start_time": "2023-07-27T19:56:03.081Z"
   },
   {
    "duration": 17,
    "start_time": "2023-07-27T19:56:03.129Z"
   },
   {
    "duration": 24,
    "start_time": "2023-07-27T19:56:03.148Z"
   },
   {
    "duration": 690,
    "start_time": "2023-07-27T19:56:03.174Z"
   },
   {
    "duration": 7,
    "start_time": "2023-07-27T19:56:03.866Z"
   },
   {
    "duration": 37,
    "start_time": "2023-07-27T19:56:03.875Z"
   },
   {
    "duration": 29,
    "start_time": "2023-07-27T19:56:03.914Z"
   },
   {
    "duration": 33,
    "start_time": "2023-07-27T19:56:03.945Z"
   },
   {
    "duration": 5,
    "start_time": "2023-07-27T19:56:03.980Z"
   },
   {
    "duration": 53,
    "start_time": "2023-07-27T19:56:03.989Z"
   },
   {
    "duration": 34,
    "start_time": "2023-07-27T19:56:04.044Z"
   },
   {
    "duration": 377,
    "start_time": "2023-07-27T19:56:04.079Z"
   },
   {
    "duration": 0,
    "start_time": "2023-07-27T19:56:04.459Z"
   },
   {
    "duration": 0,
    "start_time": "2023-07-27T19:56:04.461Z"
   },
   {
    "duration": 0,
    "start_time": "2023-07-27T19:56:04.462Z"
   },
   {
    "duration": 0,
    "start_time": "2023-07-27T19:56:04.463Z"
   },
   {
    "duration": 0,
    "start_time": "2023-07-27T19:56:04.464Z"
   },
   {
    "duration": 0,
    "start_time": "2023-07-27T19:56:04.466Z"
   },
   {
    "duration": 0,
    "start_time": "2023-07-27T19:56:04.467Z"
   },
   {
    "duration": 0,
    "start_time": "2023-07-27T19:56:04.468Z"
   },
   {
    "duration": 0,
    "start_time": "2023-07-27T19:56:04.469Z"
   },
   {
    "duration": 0,
    "start_time": "2023-07-27T19:56:04.470Z"
   },
   {
    "duration": 0,
    "start_time": "2023-07-27T19:56:04.472Z"
   },
   {
    "duration": 0,
    "start_time": "2023-07-27T19:56:04.473Z"
   },
   {
    "duration": 0,
    "start_time": "2023-07-27T19:56:04.474Z"
   },
   {
    "duration": 0,
    "start_time": "2023-07-27T19:56:04.509Z"
   },
   {
    "duration": 0,
    "start_time": "2023-07-27T19:56:04.510Z"
   },
   {
    "duration": 0,
    "start_time": "2023-07-27T19:56:04.510Z"
   },
   {
    "duration": 0,
    "start_time": "2023-07-27T19:56:04.511Z"
   },
   {
    "duration": 0,
    "start_time": "2023-07-27T19:56:04.511Z"
   },
   {
    "duration": 0,
    "start_time": "2023-07-27T19:56:04.512Z"
   },
   {
    "duration": 0,
    "start_time": "2023-07-27T19:56:04.512Z"
   },
   {
    "duration": 0,
    "start_time": "2023-07-27T19:56:04.515Z"
   },
   {
    "duration": 0,
    "start_time": "2023-07-27T19:56:04.516Z"
   },
   {
    "duration": 0,
    "start_time": "2023-07-27T19:56:04.517Z"
   },
   {
    "duration": 0,
    "start_time": "2023-07-27T19:56:04.529Z"
   },
   {
    "duration": 0,
    "start_time": "2023-07-27T19:56:04.530Z"
   },
   {
    "duration": 0,
    "start_time": "2023-07-27T19:56:04.531Z"
   },
   {
    "duration": 0,
    "start_time": "2023-07-27T19:56:04.531Z"
   },
   {
    "duration": 0,
    "start_time": "2023-07-27T19:56:04.532Z"
   },
   {
    "duration": 0,
    "start_time": "2023-07-27T19:56:04.533Z"
   },
   {
    "duration": 0,
    "start_time": "2023-07-27T19:56:04.533Z"
   },
   {
    "duration": 0,
    "start_time": "2023-07-27T19:56:04.534Z"
   },
   {
    "duration": 0,
    "start_time": "2023-07-27T19:56:04.535Z"
   },
   {
    "duration": 0,
    "start_time": "2023-07-27T19:56:04.535Z"
   },
   {
    "duration": 0,
    "start_time": "2023-07-27T19:56:04.536Z"
   },
   {
    "duration": 0,
    "start_time": "2023-07-27T19:56:04.537Z"
   },
   {
    "duration": 0,
    "start_time": "2023-07-27T19:56:04.538Z"
   },
   {
    "duration": 0,
    "start_time": "2023-07-27T19:56:04.538Z"
   },
   {
    "duration": 0,
    "start_time": "2023-07-27T19:56:04.539Z"
   },
   {
    "duration": 0,
    "start_time": "2023-07-27T19:56:04.539Z"
   },
   {
    "duration": 0,
    "start_time": "2023-07-27T19:56:04.540Z"
   },
   {
    "duration": 0,
    "start_time": "2023-07-27T19:56:04.541Z"
   },
   {
    "duration": 0,
    "start_time": "2023-07-27T19:56:04.542Z"
   },
   {
    "duration": 184,
    "start_time": "2023-07-27T19:56:39.934Z"
   },
   {
    "duration": 4,
    "start_time": "2023-07-27T19:57:42.652Z"
   },
   {
    "duration": 12,
    "start_time": "2023-07-27T19:57:49.752Z"
   },
   {
    "duration": 12,
    "start_time": "2023-07-27T19:57:57.260Z"
   },
   {
    "duration": 29,
    "start_time": "2023-07-27T19:58:08.457Z"
   },
   {
    "duration": 5,
    "start_time": "2023-07-27T19:58:15.497Z"
   },
   {
    "duration": 1131,
    "start_time": "2023-07-27T19:59:15.350Z"
   },
   {
    "duration": 287,
    "start_time": "2023-07-27T19:59:56.154Z"
   },
   {
    "duration": 1678,
    "start_time": "2023-07-27T20:00:17.254Z"
   },
   {
    "duration": 5,
    "start_time": "2023-07-27T20:00:18.938Z"
   },
   {
    "duration": 101,
    "start_time": "2023-07-27T20:00:18.944Z"
   },
   {
    "duration": 24,
    "start_time": "2023-07-27T20:00:19.047Z"
   },
   {
    "duration": 60,
    "start_time": "2023-07-27T20:00:19.073Z"
   },
   {
    "duration": 10,
    "start_time": "2023-07-27T20:00:19.134Z"
   },
   {
    "duration": 25,
    "start_time": "2023-07-27T20:00:19.146Z"
   },
   {
    "duration": 713,
    "start_time": "2023-07-27T20:00:19.172Z"
   },
   {
    "duration": 8,
    "start_time": "2023-07-27T20:00:19.887Z"
   },
   {
    "duration": 28,
    "start_time": "2023-07-27T20:00:19.901Z"
   },
   {
    "duration": 37,
    "start_time": "2023-07-27T20:00:19.930Z"
   },
   {
    "duration": 64,
    "start_time": "2023-07-27T20:00:19.969Z"
   },
   {
    "duration": 47,
    "start_time": "2023-07-27T20:00:20.035Z"
   },
   {
    "duration": 74,
    "start_time": "2023-07-27T20:00:20.086Z"
   },
   {
    "duration": 71,
    "start_time": "2023-07-27T20:00:20.162Z"
   },
   {
    "duration": 291,
    "start_time": "2023-07-27T20:00:20.240Z"
   },
   {
    "duration": 27,
    "start_time": "2023-07-27T20:00:20.537Z"
   },
   {
    "duration": 29,
    "start_time": "2023-07-27T20:00:20.566Z"
   },
   {
    "duration": 94,
    "start_time": "2023-07-27T20:00:20.597Z"
   },
   {
    "duration": 20,
    "start_time": "2023-07-27T20:00:20.693Z"
   },
   {
    "duration": 48,
    "start_time": "2023-07-27T20:00:20.714Z"
   },
   {
    "duration": 44,
    "start_time": "2023-07-27T20:00:20.764Z"
   },
   {
    "duration": 19,
    "start_time": "2023-07-27T20:00:20.810Z"
   },
   {
    "duration": 26,
    "start_time": "2023-07-27T20:00:20.832Z"
   },
   {
    "duration": 180,
    "start_time": "2023-07-27T20:00:20.859Z"
   },
   {
    "duration": 15,
    "start_time": "2023-07-27T20:00:21.043Z"
   },
   {
    "duration": 558,
    "start_time": "2023-07-27T20:00:21.060Z"
   },
   {
    "duration": 175,
    "start_time": "2023-07-27T20:00:21.619Z"
   },
   {
    "duration": 249,
    "start_time": "2023-07-27T20:00:21.803Z"
   },
   {
    "duration": 8,
    "start_time": "2023-07-27T20:00:22.054Z"
   },
   {
    "duration": 386,
    "start_time": "2023-07-27T20:00:22.064Z"
   },
   {
    "duration": 43,
    "start_time": "2023-07-27T20:00:22.462Z"
   },
   {
    "duration": 7,
    "start_time": "2023-07-27T20:00:22.507Z"
   },
   {
    "duration": 65,
    "start_time": "2023-07-27T20:00:22.516Z"
   },
   {
    "duration": 596,
    "start_time": "2023-07-27T20:00:22.583Z"
   },
   {
    "duration": 11,
    "start_time": "2023-07-27T20:00:23.181Z"
   },
   {
    "duration": 279,
    "start_time": "2023-07-27T20:00:23.194Z"
   },
   {
    "duration": 19,
    "start_time": "2023-07-27T20:00:23.475Z"
   },
   {
    "duration": 81,
    "start_time": "2023-07-27T20:00:23.496Z"
   },
   {
    "duration": 29,
    "start_time": "2023-07-27T20:00:23.579Z"
   },
   {
    "duration": 186,
    "start_time": "2023-07-27T20:00:23.613Z"
   },
   {
    "duration": 160,
    "start_time": "2023-07-27T20:00:23.801Z"
   },
   {
    "duration": 13613,
    "start_time": "2023-07-27T20:00:23.963Z"
   },
   {
    "duration": 935,
    "start_time": "2023-07-27T20:00:37.578Z"
   },
   {
    "duration": 15,
    "start_time": "2023-07-27T20:00:38.514Z"
   },
   {
    "duration": 807,
    "start_time": "2023-07-27T20:00:38.537Z"
   },
   {
    "duration": 133,
    "start_time": "2023-07-27T20:00:39.346Z"
   },
   {
    "duration": 28,
    "start_time": "2023-07-27T20:00:39.481Z"
   },
   {
    "duration": 35,
    "start_time": "2023-07-27T20:00:39.518Z"
   },
   {
    "duration": 2195,
    "start_time": "2023-07-27T20:00:39.555Z"
   },
   {
    "duration": 141,
    "start_time": "2023-07-27T20:00:41.753Z"
   },
   {
    "duration": 27,
    "start_time": "2023-07-27T20:00:41.895Z"
   },
   {
    "duration": 21,
    "start_time": "2023-07-27T20:00:41.934Z"
   },
   {
    "duration": 11,
    "start_time": "2023-07-27T20:00:41.956Z"
   },
   {
    "duration": 10,
    "start_time": "2023-07-27T20:00:41.969Z"
   },
   {
    "duration": 186,
    "start_time": "2023-07-27T20:00:41.981Z"
   },
   {
    "duration": 118,
    "start_time": "2023-07-27T20:00:42.169Z"
   },
   {
    "duration": 42,
    "start_time": "2023-07-27T20:00:42.289Z"
   },
   {
    "duration": 333,
    "start_time": "2023-07-27T20:01:39.966Z"
   },
   {
    "duration": 233,
    "start_time": "2023-07-27T20:03:29.739Z"
   },
   {
    "duration": 20,
    "start_time": "2023-07-27T20:07:04.709Z"
   },
   {
    "duration": 245,
    "start_time": "2023-07-27T20:07:08.303Z"
   },
   {
    "duration": 175,
    "start_time": "2023-07-27T20:07:28.221Z"
   },
   {
    "duration": 128,
    "start_time": "2023-07-27T20:11:20.456Z"
   },
   {
    "duration": 547,
    "start_time": "2023-07-27T20:12:07.048Z"
   },
   {
    "duration": 495,
    "start_time": "2023-07-27T20:12:34.738Z"
   },
   {
    "duration": 158,
    "start_time": "2023-07-27T20:16:39.215Z"
   },
   {
    "duration": 5,
    "start_time": "2023-07-27T20:17:18.367Z"
   },
   {
    "duration": 291,
    "start_time": "2023-07-27T20:17:59.826Z"
   },
   {
    "duration": 225,
    "start_time": "2023-07-27T20:18:05.625Z"
   },
   {
    "duration": 218,
    "start_time": "2023-07-27T20:18:13.876Z"
   },
   {
    "duration": 233,
    "start_time": "2023-07-27T20:18:41.346Z"
   },
   {
    "duration": 231,
    "start_time": "2023-07-27T20:19:22.749Z"
   },
   {
    "duration": 139,
    "start_time": "2023-07-27T20:20:11.918Z"
   },
   {
    "duration": 275,
    "start_time": "2023-07-27T20:20:26.867Z"
   },
   {
    "duration": 285,
    "start_time": "2023-07-27T20:20:31.855Z"
   },
   {
    "duration": 314,
    "start_time": "2023-07-27T20:21:55.640Z"
   },
   {
    "duration": 383,
    "start_time": "2023-07-27T20:22:08.122Z"
   },
   {
    "duration": 320,
    "start_time": "2023-07-27T20:22:17.595Z"
   },
   {
    "duration": 227,
    "start_time": "2023-07-27T20:22:27.548Z"
   },
   {
    "duration": 217,
    "start_time": "2023-07-27T20:22:33.995Z"
   },
   {
    "duration": 238,
    "start_time": "2023-07-27T20:22:42.419Z"
   },
   {
    "duration": 212,
    "start_time": "2023-07-27T20:23:18.565Z"
   },
   {
    "duration": 465,
    "start_time": "2023-07-27T20:23:33.063Z"
   },
   {
    "duration": 194,
    "start_time": "2023-07-27T20:23:47.542Z"
   },
   {
    "duration": 14,
    "start_time": "2023-07-27T20:24:06.315Z"
   },
   {
    "duration": 1442,
    "start_time": "2023-07-27T20:24:11.353Z"
   },
   {
    "duration": 221,
    "start_time": "2023-07-27T20:24:13.796Z"
   },
   {
    "duration": 166,
    "start_time": "2023-07-27T20:27:09.476Z"
   },
   {
    "duration": 5,
    "start_time": "2023-07-27T20:27:23.447Z"
   },
   {
    "duration": 4,
    "start_time": "2023-07-27T20:27:27.891Z"
   },
   {
    "duration": 164,
    "start_time": "2023-07-27T20:31:16.753Z"
   },
   {
    "duration": 153,
    "start_time": "2023-07-27T20:31:21.123Z"
   },
   {
    "duration": 151,
    "start_time": "2023-07-27T20:31:24.923Z"
   },
   {
    "duration": 151,
    "start_time": "2023-07-27T20:31:33.013Z"
   },
   {
    "duration": 253,
    "start_time": "2023-07-27T20:40:46.414Z"
   },
   {
    "duration": 269,
    "start_time": "2023-07-27T20:40:52.667Z"
   },
   {
    "duration": 1363,
    "start_time": "2023-07-27T20:49:04.161Z"
   },
   {
    "duration": 3,
    "start_time": "2023-07-27T20:49:05.526Z"
   },
   {
    "duration": 100,
    "start_time": "2023-07-27T20:49:05.530Z"
   },
   {
    "duration": 22,
    "start_time": "2023-07-27T20:49:05.631Z"
   },
   {
    "duration": 45,
    "start_time": "2023-07-27T20:49:05.655Z"
   },
   {
    "duration": 8,
    "start_time": "2023-07-27T20:49:05.701Z"
   },
   {
    "duration": 11,
    "start_time": "2023-07-27T20:49:05.718Z"
   },
   {
    "duration": 555,
    "start_time": "2023-07-27T20:49:05.730Z"
   },
   {
    "duration": 14,
    "start_time": "2023-07-27T20:49:06.287Z"
   },
   {
    "duration": 11,
    "start_time": "2023-07-27T20:49:06.310Z"
   },
   {
    "duration": 6,
    "start_time": "2023-07-27T20:49:06.322Z"
   },
   {
    "duration": 23,
    "start_time": "2023-07-27T20:49:06.330Z"
   },
   {
    "duration": 3,
    "start_time": "2023-07-27T20:49:06.355Z"
   },
   {
    "duration": 32,
    "start_time": "2023-07-27T20:49:06.361Z"
   },
   {
    "duration": 40,
    "start_time": "2023-07-27T20:49:06.394Z"
   },
   {
    "duration": 162,
    "start_time": "2023-07-27T20:49:06.435Z"
   },
   {
    "duration": 23,
    "start_time": "2023-07-27T20:49:06.601Z"
   },
   {
    "duration": 19,
    "start_time": "2023-07-27T20:49:06.625Z"
   },
   {
    "duration": 19,
    "start_time": "2023-07-27T20:49:06.645Z"
   },
   {
    "duration": 5,
    "start_time": "2023-07-27T20:49:06.666Z"
   },
   {
    "duration": 14,
    "start_time": "2023-07-27T20:49:06.673Z"
   },
   {
    "duration": 54,
    "start_time": "2023-07-27T20:49:06.688Z"
   },
   {
    "duration": 14,
    "start_time": "2023-07-27T20:49:06.744Z"
   },
   {
    "duration": 25,
    "start_time": "2023-07-27T20:49:06.759Z"
   },
   {
    "duration": 179,
    "start_time": "2023-07-27T20:49:06.786Z"
   },
   {
    "duration": 11,
    "start_time": "2023-07-27T20:49:06.967Z"
   },
   {
    "duration": 238,
    "start_time": "2023-07-27T20:49:06.979Z"
   },
   {
    "duration": 125,
    "start_time": "2023-07-27T20:49:07.219Z"
   },
   {
    "duration": 189,
    "start_time": "2023-07-27T20:49:07.346Z"
   },
   {
    "duration": 6,
    "start_time": "2023-07-27T20:49:07.538Z"
   },
   {
    "duration": 343,
    "start_time": "2023-07-27T20:49:07.546Z"
   },
   {
    "duration": 35,
    "start_time": "2023-07-27T20:49:07.891Z"
   },
   {
    "duration": 22,
    "start_time": "2023-07-27T20:49:07.928Z"
   },
   {
    "duration": 10,
    "start_time": "2023-07-27T20:49:07.951Z"
   },
   {
    "duration": 488,
    "start_time": "2023-07-27T20:49:07.962Z"
   },
   {
    "duration": 114,
    "start_time": "2023-07-27T20:49:08.452Z"
   },
   {
    "duration": 0,
    "start_time": "2023-07-27T20:49:08.568Z"
   },
   {
    "duration": 0,
    "start_time": "2023-07-27T20:49:08.569Z"
   },
   {
    "duration": 0,
    "start_time": "2023-07-27T20:49:08.570Z"
   },
   {
    "duration": 0,
    "start_time": "2023-07-27T20:49:08.571Z"
   },
   {
    "duration": 0,
    "start_time": "2023-07-27T20:49:08.572Z"
   },
   {
    "duration": 0,
    "start_time": "2023-07-27T20:49:08.573Z"
   },
   {
    "duration": 0,
    "start_time": "2023-07-27T20:49:08.574Z"
   },
   {
    "duration": 0,
    "start_time": "2023-07-27T20:49:08.575Z"
   },
   {
    "duration": 0,
    "start_time": "2023-07-27T20:49:08.577Z"
   },
   {
    "duration": 0,
    "start_time": "2023-07-27T20:49:08.578Z"
   },
   {
    "duration": 0,
    "start_time": "2023-07-27T20:49:08.579Z"
   },
   {
    "duration": 0,
    "start_time": "2023-07-27T20:49:08.579Z"
   },
   {
    "duration": 0,
    "start_time": "2023-07-27T20:49:08.609Z"
   },
   {
    "duration": 0,
    "start_time": "2023-07-27T20:49:08.614Z"
   },
   {
    "duration": 0,
    "start_time": "2023-07-27T20:49:08.616Z"
   },
   {
    "duration": 0,
    "start_time": "2023-07-27T20:49:08.617Z"
   },
   {
    "duration": 0,
    "start_time": "2023-07-27T20:49:08.618Z"
   },
   {
    "duration": 0,
    "start_time": "2023-07-27T20:49:08.619Z"
   },
   {
    "duration": 0,
    "start_time": "2023-07-27T20:49:08.620Z"
   },
   {
    "duration": 0,
    "start_time": "2023-07-27T20:49:08.622Z"
   },
   {
    "duration": 0,
    "start_time": "2023-07-27T20:49:08.623Z"
   },
   {
    "duration": 0,
    "start_time": "2023-07-27T20:49:08.624Z"
   },
   {
    "duration": 0,
    "start_time": "2023-07-27T20:49:08.625Z"
   },
   {
    "duration": 0,
    "start_time": "2023-07-27T20:49:08.626Z"
   },
   {
    "duration": 1527,
    "start_time": "2023-07-27T20:50:04.490Z"
   },
   {
    "duration": 4,
    "start_time": "2023-07-27T20:50:06.020Z"
   },
   {
    "duration": 94,
    "start_time": "2023-07-27T20:50:06.025Z"
   },
   {
    "duration": 30,
    "start_time": "2023-07-27T20:50:06.121Z"
   },
   {
    "duration": 64,
    "start_time": "2023-07-27T20:50:06.154Z"
   },
   {
    "duration": 7,
    "start_time": "2023-07-27T20:50:06.219Z"
   },
   {
    "duration": 12,
    "start_time": "2023-07-27T20:50:06.227Z"
   },
   {
    "duration": 583,
    "start_time": "2023-07-27T20:50:06.240Z"
   },
   {
    "duration": 7,
    "start_time": "2023-07-27T20:50:06.824Z"
   },
   {
    "duration": 17,
    "start_time": "2023-07-27T20:50:06.832Z"
   },
   {
    "duration": 11,
    "start_time": "2023-07-27T20:50:06.850Z"
   },
   {
    "duration": 22,
    "start_time": "2023-07-27T20:50:06.863Z"
   },
   {
    "duration": 31,
    "start_time": "2023-07-27T20:50:06.886Z"
   },
   {
    "duration": 9,
    "start_time": "2023-07-27T20:50:06.920Z"
   },
   {
    "duration": 19,
    "start_time": "2023-07-27T20:50:06.930Z"
   },
   {
    "duration": 174,
    "start_time": "2023-07-27T20:50:06.951Z"
   },
   {
    "duration": 16,
    "start_time": "2023-07-27T20:50:07.126Z"
   },
   {
    "duration": 13,
    "start_time": "2023-07-27T20:50:07.144Z"
   },
   {
    "duration": 17,
    "start_time": "2023-07-27T20:50:07.159Z"
   },
   {
    "duration": 33,
    "start_time": "2023-07-27T20:50:07.177Z"
   },
   {
    "duration": 12,
    "start_time": "2023-07-27T20:50:07.212Z"
   },
   {
    "duration": 28,
    "start_time": "2023-07-27T20:50:07.226Z"
   },
   {
    "duration": 11,
    "start_time": "2023-07-27T20:50:07.255Z"
   },
   {
    "duration": 7,
    "start_time": "2023-07-27T20:50:07.268Z"
   },
   {
    "duration": 185,
    "start_time": "2023-07-27T20:50:07.277Z"
   },
   {
    "duration": 11,
    "start_time": "2023-07-27T20:50:07.464Z"
   },
   {
    "duration": 271,
    "start_time": "2023-07-27T20:50:07.477Z"
   },
   {
    "duration": 131,
    "start_time": "2023-07-27T20:50:07.749Z"
   },
   {
    "duration": 190,
    "start_time": "2023-07-27T20:50:07.882Z"
   },
   {
    "duration": 6,
    "start_time": "2023-07-27T20:50:08.074Z"
   },
   {
    "duration": 351,
    "start_time": "2023-07-27T20:50:08.081Z"
   },
   {
    "duration": 23,
    "start_time": "2023-07-27T20:50:08.433Z"
   },
   {
    "duration": 6,
    "start_time": "2023-07-27T20:50:08.458Z"
   },
   {
    "duration": 10,
    "start_time": "2023-07-27T20:50:08.465Z"
   },
   {
    "duration": 542,
    "start_time": "2023-07-27T20:50:08.476Z"
   },
   {
    "duration": 298,
    "start_time": "2023-07-27T20:50:09.020Z"
   },
   {
    "duration": 6,
    "start_time": "2023-07-27T20:50:09.319Z"
   },
   {
    "duration": 40,
    "start_time": "2023-07-27T20:50:09.326Z"
   },
   {
    "duration": 12,
    "start_time": "2023-07-27T20:50:09.367Z"
   },
   {
    "duration": 47,
    "start_time": "2023-07-27T20:50:09.381Z"
   },
   {
    "duration": 117,
    "start_time": "2023-07-27T20:50:09.432Z"
   },
   {
    "duration": 12039,
    "start_time": "2023-07-27T20:50:09.551Z"
   },
   {
    "duration": 649,
    "start_time": "2023-07-27T20:50:21.591Z"
   },
   {
    "duration": 7,
    "start_time": "2023-07-27T20:50:22.241Z"
   },
   {
    "duration": 635,
    "start_time": "2023-07-27T20:50:22.249Z"
   },
   {
    "duration": 93,
    "start_time": "2023-07-27T20:50:22.886Z"
   },
   {
    "duration": 33,
    "start_time": "2023-07-27T20:50:22.980Z"
   },
   {
    "duration": 39,
    "start_time": "2023-07-27T20:50:23.015Z"
   },
   {
    "duration": 1636,
    "start_time": "2023-07-27T20:50:23.056Z"
   },
   {
    "duration": 253,
    "start_time": "2023-07-27T20:50:24.694Z"
   },
   {
    "duration": 84,
    "start_time": "2023-07-27T20:50:24.948Z"
   },
   {
    "duration": 7,
    "start_time": "2023-07-27T20:50:25.034Z"
   },
   {
    "duration": 25,
    "start_time": "2023-07-27T20:50:25.042Z"
   },
   {
    "duration": 14,
    "start_time": "2023-07-27T20:50:25.068Z"
   },
   {
    "duration": 44,
    "start_time": "2023-07-27T20:50:25.084Z"
   },
   {
    "duration": 106,
    "start_time": "2023-07-27T20:50:25.129Z"
   },
   {
    "duration": 105,
    "start_time": "2023-07-27T20:50:25.236Z"
   },
   {
    "duration": 4,
    "start_time": "2023-07-27T20:50:25.344Z"
   },
   {
    "duration": 14,
    "start_time": "2023-07-27T20:50:25.350Z"
   },
   {
    "duration": 1622,
    "start_time": "2023-07-27T21:14:34.397Z"
   },
   {
    "duration": 4,
    "start_time": "2023-07-27T21:14:36.022Z"
   },
   {
    "duration": 102,
    "start_time": "2023-07-27T21:14:36.028Z"
   },
   {
    "duration": 31,
    "start_time": "2023-07-27T21:14:36.132Z"
   },
   {
    "duration": 57,
    "start_time": "2023-07-27T21:14:36.171Z"
   },
   {
    "duration": 9,
    "start_time": "2023-07-27T21:14:36.231Z"
   },
   {
    "duration": 42,
    "start_time": "2023-07-27T21:14:36.241Z"
   },
   {
    "duration": 748,
    "start_time": "2023-07-27T21:14:36.285Z"
   },
   {
    "duration": 9,
    "start_time": "2023-07-27T21:14:37.035Z"
   },
   {
    "duration": 27,
    "start_time": "2023-07-27T21:14:37.046Z"
   },
   {
    "duration": 12,
    "start_time": "2023-07-27T21:14:37.078Z"
   },
   {
    "duration": 39,
    "start_time": "2023-07-27T21:14:37.092Z"
   },
   {
    "duration": 6,
    "start_time": "2023-07-27T21:14:37.133Z"
   },
   {
    "duration": 58,
    "start_time": "2023-07-27T21:14:37.144Z"
   },
   {
    "duration": 22,
    "start_time": "2023-07-27T21:14:37.203Z"
   },
   {
    "duration": 234,
    "start_time": "2023-07-27T21:14:37.227Z"
   },
   {
    "duration": 29,
    "start_time": "2023-07-27T21:14:37.466Z"
   },
   {
    "duration": 16,
    "start_time": "2023-07-27T21:14:37.498Z"
   },
   {
    "duration": 57,
    "start_time": "2023-07-27T21:14:37.517Z"
   },
   {
    "duration": 12,
    "start_time": "2023-07-27T21:14:37.580Z"
   },
   {
    "duration": 15,
    "start_time": "2023-07-27T21:14:37.595Z"
   },
   {
    "duration": 60,
    "start_time": "2023-07-27T21:14:37.613Z"
   },
   {
    "duration": 18,
    "start_time": "2023-07-27T21:14:37.675Z"
   },
   {
    "duration": 26,
    "start_time": "2023-07-27T21:14:37.695Z"
   },
   {
    "duration": 228,
    "start_time": "2023-07-27T21:14:37.724Z"
   },
   {
    "duration": 19,
    "start_time": "2023-07-27T21:14:37.954Z"
   },
   {
    "duration": 335,
    "start_time": "2023-07-27T21:14:37.975Z"
   },
   {
    "duration": 230,
    "start_time": "2023-07-27T21:14:38.312Z"
   },
   {
    "duration": 247,
    "start_time": "2023-07-27T21:14:38.544Z"
   },
   {
    "duration": 10,
    "start_time": "2023-07-27T21:14:38.793Z"
   },
   {
    "duration": 419,
    "start_time": "2023-07-27T21:14:38.806Z"
   },
   {
    "duration": 47,
    "start_time": "2023-07-27T21:14:39.227Z"
   },
   {
    "duration": 14,
    "start_time": "2023-07-27T21:14:39.279Z"
   },
   {
    "duration": 13,
    "start_time": "2023-07-27T21:14:39.295Z"
   },
   {
    "duration": 682,
    "start_time": "2023-07-27T21:14:39.310Z"
   },
   {
    "duration": 364,
    "start_time": "2023-07-27T21:14:39.995Z"
   },
   {
    "duration": 15,
    "start_time": "2023-07-27T21:14:40.361Z"
   },
   {
    "duration": 31,
    "start_time": "2023-07-27T21:14:40.378Z"
   },
   {
    "duration": 19,
    "start_time": "2023-07-27T21:14:40.411Z"
   },
   {
    "duration": 148,
    "start_time": "2023-07-27T21:14:40.431Z"
   },
   {
    "duration": 132,
    "start_time": "2023-07-27T21:14:40.587Z"
   },
   {
    "duration": 16328,
    "start_time": "2023-07-27T21:14:40.722Z"
   },
   {
    "duration": 1068,
    "start_time": "2023-07-27T21:14:57.052Z"
   },
   {
    "duration": 10,
    "start_time": "2023-07-27T21:14:58.124Z"
   },
   {
    "duration": 1156,
    "start_time": "2023-07-27T21:14:58.136Z"
   },
   {
    "duration": 122,
    "start_time": "2023-07-27T21:14:59.294Z"
   },
   {
    "duration": 8,
    "start_time": "2023-07-27T21:14:59.418Z"
   },
   {
    "duration": 13,
    "start_time": "2023-07-27T21:14:59.428Z"
   },
   {
    "duration": 2251,
    "start_time": "2023-07-27T21:14:59.477Z"
   },
   {
    "duration": 306,
    "start_time": "2023-07-27T21:15:01.731Z"
   },
   {
    "duration": 102,
    "start_time": "2023-07-27T21:15:02.040Z"
   },
   {
    "duration": 24,
    "start_time": "2023-07-27T21:15:02.144Z"
   },
   {
    "duration": 63,
    "start_time": "2023-07-27T21:15:02.182Z"
   },
   {
    "duration": 108,
    "start_time": "2023-07-27T21:15:02.248Z"
   },
   {
    "duration": 100,
    "start_time": "2023-07-27T21:15:02.358Z"
   },
   {
    "duration": 174,
    "start_time": "2023-07-27T21:15:02.460Z"
   },
   {
    "duration": 147,
    "start_time": "2023-07-27T21:15:02.637Z"
   },
   {
    "duration": 5,
    "start_time": "2023-07-27T21:15:02.786Z"
   },
   {
    "duration": 44,
    "start_time": "2023-07-27T21:15:02.792Z"
   },
   {
    "duration": 425,
    "start_time": "2023-07-28T07:06:40.170Z"
   },
   {
    "duration": 46,
    "start_time": "2023-07-28T07:06:44.669Z"
   },
   {
    "duration": 1759,
    "start_time": "2023-07-28T07:06:51.445Z"
   },
   {
    "duration": 3,
    "start_time": "2023-07-28T07:06:53.206Z"
   },
   {
    "duration": 258,
    "start_time": "2023-07-28T07:06:53.211Z"
   },
   {
    "duration": 29,
    "start_time": "2023-07-28T07:06:53.472Z"
   },
   {
    "duration": 49,
    "start_time": "2023-07-28T07:06:53.503Z"
   },
   {
    "duration": 7,
    "start_time": "2023-07-28T07:06:53.559Z"
   },
   {
    "duration": 14,
    "start_time": "2023-07-28T07:06:53.567Z"
   },
   {
    "duration": 792,
    "start_time": "2023-07-28T07:06:53.583Z"
   },
   {
    "duration": 8,
    "start_time": "2023-07-28T07:06:54.377Z"
   },
   {
    "duration": 14,
    "start_time": "2023-07-28T07:06:54.387Z"
   },
   {
    "duration": 6,
    "start_time": "2023-07-28T07:06:54.403Z"
   },
   {
    "duration": 30,
    "start_time": "2023-07-28T07:06:54.410Z"
   },
   {
    "duration": 20,
    "start_time": "2023-07-28T07:06:54.442Z"
   },
   {
    "duration": 11,
    "start_time": "2023-07-28T07:06:54.464Z"
   },
   {
    "duration": 32,
    "start_time": "2023-07-28T07:06:54.477Z"
   },
   {
    "duration": 177,
    "start_time": "2023-07-28T07:06:54.510Z"
   },
   {
    "duration": 18,
    "start_time": "2023-07-28T07:06:54.688Z"
   },
   {
    "duration": 15,
    "start_time": "2023-07-28T07:06:54.708Z"
   },
   {
    "duration": 42,
    "start_time": "2023-07-28T07:06:54.725Z"
   },
   {
    "duration": 7,
    "start_time": "2023-07-28T07:06:54.769Z"
   },
   {
    "duration": 17,
    "start_time": "2023-07-28T07:06:54.778Z"
   },
   {
    "duration": 7,
    "start_time": "2023-07-28T07:06:54.796Z"
   },
   {
    "duration": 179,
    "start_time": "2023-07-28T07:06:54.804Z"
   },
   {
    "duration": 14,
    "start_time": "2023-07-28T07:06:54.984Z"
   },
   {
    "duration": 266,
    "start_time": "2023-07-28T07:06:55.000Z"
   },
   {
    "duration": 167,
    "start_time": "2023-07-28T07:06:55.268Z"
   },
   {
    "duration": 200,
    "start_time": "2023-07-28T07:06:55.437Z"
   },
   {
    "duration": 8,
    "start_time": "2023-07-28T07:06:55.640Z"
   },
   {
    "duration": 397,
    "start_time": "2023-07-28T07:06:55.649Z"
   },
   {
    "duration": 36,
    "start_time": "2023-07-28T07:06:56.048Z"
   },
   {
    "duration": 6,
    "start_time": "2023-07-28T07:06:56.086Z"
   },
   {
    "duration": 15,
    "start_time": "2023-07-28T07:06:56.094Z"
   },
   {
    "duration": 514,
    "start_time": "2023-07-28T07:06:56.111Z"
   },
   {
    "duration": 293,
    "start_time": "2023-07-28T07:06:56.627Z"
   },
   {
    "duration": 6,
    "start_time": "2023-07-28T07:06:56.921Z"
   },
   {
    "duration": 37,
    "start_time": "2023-07-28T07:06:56.929Z"
   },
   {
    "duration": 21,
    "start_time": "2023-07-28T07:06:56.968Z"
   },
   {
    "duration": 121,
    "start_time": "2023-07-28T07:06:56.991Z"
   },
   {
    "duration": 97,
    "start_time": "2023-07-28T07:06:57.114Z"
   },
   {
    "duration": 14765,
    "start_time": "2023-07-28T07:06:57.213Z"
   },
   {
    "duration": 806,
    "start_time": "2023-07-28T07:07:11.981Z"
   },
   {
    "duration": 9,
    "start_time": "2023-07-28T07:07:12.789Z"
   },
   {
    "duration": 1013,
    "start_time": "2023-07-28T07:07:12.799Z"
   },
   {
    "duration": 102,
    "start_time": "2023-07-28T07:07:13.815Z"
   },
   {
    "duration": 19,
    "start_time": "2023-07-28T07:07:13.919Z"
   },
   {
    "duration": 18,
    "start_time": "2023-07-28T07:07:13.941Z"
   },
   {
    "duration": 1903,
    "start_time": "2023-07-28T07:07:13.961Z"
   },
   {
    "duration": 258,
    "start_time": "2023-07-28T07:07:15.865Z"
   },
   {
    "duration": 88,
    "start_time": "2023-07-28T07:07:16.124Z"
   },
   {
    "duration": 7,
    "start_time": "2023-07-28T07:07:16.214Z"
   },
   {
    "duration": 15,
    "start_time": "2023-07-28T07:07:16.223Z"
   },
   {
    "duration": 24,
    "start_time": "2023-07-28T07:07:16.240Z"
   },
   {
    "duration": 7,
    "start_time": "2023-07-28T07:07:16.265Z"
   },
   {
    "duration": 130,
    "start_time": "2023-07-28T07:07:16.274Z"
   },
   {
    "duration": 137,
    "start_time": "2023-07-28T07:07:16.406Z"
   },
   {
    "duration": 13,
    "start_time": "2023-07-28T07:07:16.546Z"
   },
   {
    "duration": 15,
    "start_time": "2023-07-28T07:07:16.561Z"
   },
   {
    "duration": 10,
    "start_time": "2023-07-28T07:07:37.039Z"
   },
   {
    "duration": 27,
    "start_time": "2023-07-28T07:10:00.695Z"
   },
   {
    "duration": 7,
    "start_time": "2023-07-28T07:10:12.912Z"
   },
   {
    "duration": 9,
    "start_time": "2023-07-28T07:10:55.246Z"
   },
   {
    "duration": 115,
    "start_time": "2023-07-28T07:14:13.754Z"
   },
   {
    "duration": 32,
    "start_time": "2023-07-28T07:14:19.325Z"
   },
   {
    "duration": 9,
    "start_time": "2023-07-28T07:17:06.053Z"
   },
   {
    "duration": 10,
    "start_time": "2023-07-28T07:17:15.986Z"
   },
   {
    "duration": 8,
    "start_time": "2023-07-28T07:25:08.396Z"
   },
   {
    "duration": 7,
    "start_time": "2023-07-28T07:25:19.086Z"
   },
   {
    "duration": 8,
    "start_time": "2023-07-28T07:25:25.206Z"
   },
   {
    "duration": 47,
    "start_time": "2023-07-28T07:25:36.702Z"
   },
   {
    "duration": 4,
    "start_time": "2023-07-28T07:26:12.351Z"
   },
   {
    "duration": 9,
    "start_time": "2023-07-28T07:28:07.614Z"
   },
   {
    "duration": 8,
    "start_time": "2023-07-28T07:29:09.687Z"
   },
   {
    "duration": 8,
    "start_time": "2023-07-28T07:29:19.511Z"
   },
   {
    "duration": 40,
    "start_time": "2023-07-28T07:29:31.656Z"
   },
   {
    "duration": 5,
    "start_time": "2023-07-28T07:30:02.652Z"
   },
   {
    "duration": 5,
    "start_time": "2023-07-28T07:30:27.355Z"
   },
   {
    "duration": 10,
    "start_time": "2023-07-28T07:30:33.673Z"
   },
   {
    "duration": 9,
    "start_time": "2023-07-28T07:30:54.452Z"
   },
   {
    "duration": 12,
    "start_time": "2023-07-28T07:31:00.867Z"
   },
   {
    "duration": 4,
    "start_time": "2023-07-28T07:32:14.367Z"
   },
   {
    "duration": 118,
    "start_time": "2023-07-28T08:15:59.052Z"
   },
   {
    "duration": 106,
    "start_time": "2023-07-28T08:18:30.936Z"
   },
   {
    "duration": 1449,
    "start_time": "2023-07-28T08:27:54.404Z"
   },
   {
    "duration": 4,
    "start_time": "2023-07-28T08:27:55.855Z"
   },
   {
    "duration": 79,
    "start_time": "2023-07-28T08:27:55.860Z"
   },
   {
    "duration": 27,
    "start_time": "2023-07-28T08:27:55.941Z"
   },
   {
    "duration": 41,
    "start_time": "2023-07-28T08:27:55.970Z"
   },
   {
    "duration": 6,
    "start_time": "2023-07-28T08:27:56.013Z"
   },
   {
    "duration": 11,
    "start_time": "2023-07-28T08:27:56.020Z"
   },
   {
    "duration": 650,
    "start_time": "2023-07-28T08:27:56.033Z"
   },
   {
    "duration": 8,
    "start_time": "2023-07-28T08:27:56.685Z"
   },
   {
    "duration": 9,
    "start_time": "2023-07-28T08:27:56.695Z"
   },
   {
    "duration": 8,
    "start_time": "2023-07-28T08:27:56.706Z"
   },
   {
    "duration": 53,
    "start_time": "2023-07-28T08:27:56.716Z"
   },
   {
    "duration": 5,
    "start_time": "2023-07-28T08:27:56.771Z"
   },
   {
    "duration": 16,
    "start_time": "2023-07-28T08:27:56.777Z"
   },
   {
    "duration": 38,
    "start_time": "2023-07-28T08:27:56.795Z"
   },
   {
    "duration": 178,
    "start_time": "2023-07-28T08:27:56.835Z"
   },
   {
    "duration": 16,
    "start_time": "2023-07-28T08:27:57.014Z"
   },
   {
    "duration": 12,
    "start_time": "2023-07-28T08:27:57.032Z"
   },
   {
    "duration": 29,
    "start_time": "2023-07-28T08:27:57.046Z"
   },
   {
    "duration": 7,
    "start_time": "2023-07-28T08:27:57.077Z"
   },
   {
    "duration": 13,
    "start_time": "2023-07-28T08:27:57.085Z"
   },
   {
    "duration": 14,
    "start_time": "2023-07-28T08:27:57.100Z"
   },
   {
    "duration": 11,
    "start_time": "2023-07-28T08:27:57.115Z"
   },
   {
    "duration": 33,
    "start_time": "2023-07-28T08:27:57.127Z"
   },
   {
    "duration": 175,
    "start_time": "2023-07-28T08:27:57.162Z"
   },
   {
    "duration": 22,
    "start_time": "2023-07-28T08:27:57.338Z"
   },
   {
    "duration": 263,
    "start_time": "2023-07-28T08:27:57.362Z"
   },
   {
    "duration": 140,
    "start_time": "2023-07-28T08:27:57.631Z"
   },
   {
    "duration": 177,
    "start_time": "2023-07-28T08:27:57.772Z"
   },
   {
    "duration": 11,
    "start_time": "2023-07-28T08:27:57.951Z"
   },
   {
    "duration": 378,
    "start_time": "2023-07-28T08:27:57.964Z"
   },
   {
    "duration": 33,
    "start_time": "2023-07-28T08:27:58.344Z"
   },
   {
    "duration": 6,
    "start_time": "2023-07-28T08:27:58.378Z"
   },
   {
    "duration": 8,
    "start_time": "2023-07-28T08:27:58.386Z"
   },
   {
    "duration": 529,
    "start_time": "2023-07-28T08:27:58.396Z"
   },
   {
    "duration": 294,
    "start_time": "2023-07-28T08:27:58.926Z"
   },
   {
    "duration": 5,
    "start_time": "2023-07-28T08:27:59.222Z"
   },
   {
    "duration": 12,
    "start_time": "2023-07-28T08:27:59.229Z"
   },
   {
    "duration": 25,
    "start_time": "2023-07-28T08:27:59.242Z"
   },
   {
    "duration": 33,
    "start_time": "2023-07-28T08:27:59.269Z"
   },
   {
    "duration": 87,
    "start_time": "2023-07-28T08:27:59.304Z"
   },
   {
    "duration": 13903,
    "start_time": "2023-07-28T08:27:59.393Z"
   },
   {
    "duration": 766,
    "start_time": "2023-07-28T08:28:13.298Z"
   },
   {
    "duration": 10,
    "start_time": "2023-07-28T08:28:14.066Z"
   },
   {
    "duration": 1082,
    "start_time": "2023-07-28T08:28:14.079Z"
   },
   {
    "duration": 102,
    "start_time": "2023-07-28T08:28:15.163Z"
   },
   {
    "duration": 7,
    "start_time": "2023-07-28T08:28:15.267Z"
   },
   {
    "duration": 11,
    "start_time": "2023-07-28T08:28:15.276Z"
   },
   {
    "duration": 1670,
    "start_time": "2023-07-28T08:28:15.289Z"
   },
   {
    "duration": 272,
    "start_time": "2023-07-28T08:28:16.962Z"
   },
   {
    "duration": 93,
    "start_time": "2023-07-28T08:28:17.236Z"
   },
   {
    "duration": 28,
    "start_time": "2023-07-28T08:28:17.331Z"
   },
   {
    "duration": 34,
    "start_time": "2023-07-28T08:28:17.361Z"
   },
   {
    "duration": 31,
    "start_time": "2023-07-28T08:28:17.398Z"
   },
   {
    "duration": 10,
    "start_time": "2023-07-28T08:28:17.431Z"
   },
   {
    "duration": 19,
    "start_time": "2023-07-28T08:28:17.443Z"
   },
   {
    "duration": 144,
    "start_time": "2023-07-28T08:28:17.464Z"
   },
   {
    "duration": 123,
    "start_time": "2023-07-28T08:28:17.609Z"
   },
   {
    "duration": 5,
    "start_time": "2023-07-28T08:28:17.734Z"
   },
   {
    "duration": 39,
    "start_time": "2023-07-28T08:28:17.740Z"
   },
   {
    "duration": 1661,
    "start_time": "2023-07-28T10:04:50.382Z"
   },
   {
    "duration": 12,
    "start_time": "2023-07-28T10:04:52.045Z"
   },
   {
    "duration": 358,
    "start_time": "2023-07-28T10:04:52.060Z"
   },
   {
    "duration": 58,
    "start_time": "2023-07-28T10:04:52.421Z"
   },
   {
    "duration": 53,
    "start_time": "2023-07-28T10:04:52.483Z"
   },
   {
    "duration": 6,
    "start_time": "2023-07-28T10:04:52.538Z"
   },
   {
    "duration": 31,
    "start_time": "2023-07-28T10:04:52.545Z"
   },
   {
    "duration": 665,
    "start_time": "2023-07-28T10:04:52.580Z"
   },
   {
    "duration": 25,
    "start_time": "2023-07-28T10:04:53.246Z"
   },
   {
    "duration": 15,
    "start_time": "2023-07-28T10:04:53.281Z"
   },
   {
    "duration": 37,
    "start_time": "2023-07-28T10:04:53.298Z"
   },
   {
    "duration": 69,
    "start_time": "2023-07-28T10:04:53.338Z"
   },
   {
    "duration": 6,
    "start_time": "2023-07-28T10:04:53.410Z"
   },
   {
    "duration": 13,
    "start_time": "2023-07-28T10:04:53.419Z"
   },
   {
    "duration": 52,
    "start_time": "2023-07-28T10:04:53.435Z"
   },
   {
    "duration": 275,
    "start_time": "2023-07-28T10:04:53.490Z"
   },
   {
    "duration": 22,
    "start_time": "2023-07-28T10:04:53.772Z"
   },
   {
    "duration": 38,
    "start_time": "2023-07-28T10:04:53.797Z"
   },
   {
    "duration": 63,
    "start_time": "2023-07-28T10:04:53.837Z"
   },
   {
    "duration": 10,
    "start_time": "2023-07-28T10:04:53.902Z"
   },
   {
    "duration": 28,
    "start_time": "2023-07-28T10:04:53.914Z"
   },
   {
    "duration": 31,
    "start_time": "2023-07-28T10:04:53.944Z"
   },
   {
    "duration": 17,
    "start_time": "2023-07-28T10:04:53.978Z"
   },
   {
    "duration": 10,
    "start_time": "2023-07-28T10:04:53.997Z"
   },
   {
    "duration": 232,
    "start_time": "2023-07-28T10:04:54.009Z"
   },
   {
    "duration": 30,
    "start_time": "2023-07-28T10:04:54.245Z"
   },
   {
    "duration": 364,
    "start_time": "2023-07-28T10:04:54.285Z"
   },
   {
    "duration": 233,
    "start_time": "2023-07-28T10:04:54.651Z"
   },
   {
    "duration": 251,
    "start_time": "2023-07-28T10:04:54.886Z"
   },
   {
    "duration": 31,
    "start_time": "2023-07-28T10:04:55.140Z"
   },
   {
    "duration": 421,
    "start_time": "2023-07-28T10:04:55.179Z"
   },
   {
    "duration": 28,
    "start_time": "2023-07-28T10:04:55.602Z"
   },
   {
    "duration": 11,
    "start_time": "2023-07-28T10:04:55.632Z"
   },
   {
    "duration": 39,
    "start_time": "2023-07-28T10:04:55.645Z"
   },
   {
    "duration": 548,
    "start_time": "2023-07-28T10:04:55.686Z"
   },
   {
    "duration": 335,
    "start_time": "2023-07-28T10:04:56.236Z"
   },
   {
    "duration": 8,
    "start_time": "2023-07-28T10:04:56.573Z"
   },
   {
    "duration": 35,
    "start_time": "2023-07-28T10:04:56.582Z"
   },
   {
    "duration": 17,
    "start_time": "2023-07-28T10:04:56.619Z"
   },
   {
    "duration": 147,
    "start_time": "2023-07-28T10:04:56.638Z"
   },
   {
    "duration": 150,
    "start_time": "2023-07-28T10:04:56.790Z"
   },
   {
    "duration": 15603,
    "start_time": "2023-07-28T10:04:56.942Z"
   },
   {
    "duration": 980,
    "start_time": "2023-07-28T10:05:12.547Z"
   },
   {
    "duration": 9,
    "start_time": "2023-07-28T10:05:13.529Z"
   },
   {
    "duration": 1110,
    "start_time": "2023-07-28T10:05:13.540Z"
   },
   {
    "duration": 127,
    "start_time": "2023-07-28T10:05:14.656Z"
   },
   {
    "duration": 8,
    "start_time": "2023-07-28T10:05:14.786Z"
   },
   {
    "duration": 15,
    "start_time": "2023-07-28T10:05:14.796Z"
   },
   {
    "duration": 1937,
    "start_time": "2023-07-28T10:05:14.813Z"
   },
   {
    "duration": 278,
    "start_time": "2023-07-28T10:05:16.752Z"
   },
   {
    "duration": 106,
    "start_time": "2023-07-28T10:05:17.032Z"
   },
   {
    "duration": 30,
    "start_time": "2023-07-28T10:05:17.140Z"
   },
   {
    "duration": 9,
    "start_time": "2023-07-28T10:05:17.174Z"
   },
   {
    "duration": 16,
    "start_time": "2023-07-28T10:05:17.185Z"
   },
   {
    "duration": 10,
    "start_time": "2023-07-28T10:05:17.203Z"
   },
   {
    "duration": 49,
    "start_time": "2023-07-28T10:05:17.215Z"
   },
   {
    "duration": 179,
    "start_time": "2023-07-28T10:05:17.270Z"
   },
   {
    "duration": 153,
    "start_time": "2023-07-28T10:05:17.452Z"
   },
   {
    "duration": 6,
    "start_time": "2023-07-28T10:05:17.607Z"
   },
   {
    "duration": 19,
    "start_time": "2023-07-28T10:05:17.615Z"
   }
  ],
  "kernelspec": {
   "display_name": "Python 3 (ipykernel)",
   "language": "python",
   "name": "python3"
  },
  "language_info": {
   "codemirror_mode": {
    "name": "ipython",
    "version": 3
   },
   "file_extension": ".py",
   "mimetype": "text/x-python",
   "name": "python",
   "nbconvert_exporter": "python",
   "pygments_lexer": "ipython3",
   "version": "3.9.5"
  },
  "toc": {
   "base_numbering": 1,
   "nav_menu": {
    "height": "516px",
    "width": "956px"
   },
   "number_sections": true,
   "sideBar": true,
   "skip_h1_title": true,
   "title_cell": "Table of Contents",
   "title_sidebar": "Contents",
   "toc_cell": false,
   "toc_position": {
    "height": "calc(100% - 180px)",
    "left": "10px",
    "top": "150px",
    "width": "165px"
   },
   "toc_section_display": true,
   "toc_window_display": true
  }
 },
 "nbformat": 4,
 "nbformat_minor": 2
}
